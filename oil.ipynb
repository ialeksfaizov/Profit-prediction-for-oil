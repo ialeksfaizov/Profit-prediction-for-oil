{
 "cells": [
  {
   "cell_type": "markdown",
   "metadata": {},
   "source": [
    "# Прогназ прибыли для нефтяных скважин"
   ]
  },
  {
   "cell_type": "markdown",
   "metadata": {},
   "source": [
    "В условной нефтедобывающей компании необходимо решить, где бурить новую скважину. В распоряжении данные проб нефти в трёх регионах. Необходимо построить модель для определения региона, где добыча принесёт наибольшую прибыль.\n",
    "\n",
    "Шаги для выбора локации:\n",
    "\n",
    "- В избранном регионе ищут месторождения, для каждого определяют значения признаков;\n",
    "- Строят модель и оценивают объём запасов;\n",
    "- Выбирают месторождения с самым высокими оценками значений. Количество месторождений зависит от бюджета компании и стоимости разработки одной скважины;\n",
    "- Прибыль равна суммарной прибыли отобранных месторождений."
   ]
  },
  {
   "cell_type": "code",
   "execution_count": 1,
   "metadata": {},
   "outputs": [],
   "source": [
    "import pandas as pd\n",
    "import numpy as np\n",
    "import matplotlib.pyplot as plt\n",
    "from tqdm import tqdm\n",
    "import matplotlib.pyplot as plt\n",
    "import seaborn as sns\n",
    "from sklearn.linear_model import LinearRegression\n",
    "from sklearn.model_selection import train_test_split\n",
    "from sklearn.metrics import mean_squared_error\n",
    "from sklearn.model_selection import cross_val_score\n",
    "pd.options.mode.chained_assignment = None"
   ]
  },
  {
   "cell_type": "code",
   "execution_count": 2,
   "metadata": {},
   "outputs": [],
   "source": [
    "def review(df): \n",
    "    \"\"\"функция для отображения общей информации\"\"\"\n",
    "    info = display(df.head(10)), df.info(), display(df.describe(), df.corr())"
   ]
  },
  {
   "cell_type": "code",
   "execution_count": 3,
   "metadata": {},
   "outputs": [],
   "source": [
    "def boxplot(df):\n",
    "    \"\"\"функция для построения коробок с усами\"\"\"\n",
    "    sns.boxplot(x = df)  \n",
    "    sns.set_style('darkgrid')\n",
    "    plt.show()"
   ]
  },
  {
   "cell_type": "code",
   "execution_count": 4,
   "metadata": {},
   "outputs": [],
   "source": [
    "def split_data(features, target):\n",
    "    \"\"\"функция для формирования обучающей и валидационной выборок\"\"\"\n",
    "    (features_train, features_valid, target_train, target_valid) = train_test_split(features, target, test_size = 0.25, random_state=12345)\n",
    "    return (features_train, features_valid, target_train, target_valid)"
   ]
  },
  {
   "cell_type": "code",
   "execution_count": 5,
   "metadata": {},
   "outputs": [],
   "source": [
    "try:\n",
    "    df_0 = pd.read_csv('/datasets/geo_data_0.csv')\n",
    "except:\n",
    "    df_0 = pd.read_csv('geo_data_0.csv')"
   ]
  },
  {
   "cell_type": "code",
   "execution_count": 6,
   "metadata": {},
   "outputs": [],
   "source": [
    "try:\n",
    "    df_1 = pd.read_csv('/datasets/geo_data_1.csv')\n",
    "except:\n",
    "    df_1 = pd.read_csv('geo_data_1.csv')"
   ]
  },
  {
   "cell_type": "code",
   "execution_count": 7,
   "metadata": {},
   "outputs": [],
   "source": [
    "try:\n",
    "    df_2 = pd.read_csv('/datasets/geo_data_2.csv')\n",
    "except:\n",
    "    df_2 = pd.read_csv('geo_data_2.csv')"
   ]
  },
  {
   "cell_type": "markdown",
   "metadata": {},
   "source": [
    "## Загрузка и подготовка данных"
   ]
  },
  {
   "cell_type": "code",
   "execution_count": 8,
   "metadata": {},
   "outputs": [
    {
     "data": {
      "text/html": [
       "<div>\n",
       "<style scoped>\n",
       "    .dataframe tbody tr th:only-of-type {\n",
       "        vertical-align: middle;\n",
       "    }\n",
       "\n",
       "    .dataframe tbody tr th {\n",
       "        vertical-align: top;\n",
       "    }\n",
       "\n",
       "    .dataframe thead th {\n",
       "        text-align: right;\n",
       "    }\n",
       "</style>\n",
       "<table border=\"1\" class=\"dataframe\">\n",
       "  <thead>\n",
       "    <tr style=\"text-align: right;\">\n",
       "      <th></th>\n",
       "      <th>id</th>\n",
       "      <th>f0</th>\n",
       "      <th>f1</th>\n",
       "      <th>f2</th>\n",
       "      <th>product</th>\n",
       "    </tr>\n",
       "  </thead>\n",
       "  <tbody>\n",
       "    <tr>\n",
       "      <th>0</th>\n",
       "      <td>txEyH</td>\n",
       "      <td>0.705745</td>\n",
       "      <td>-0.497823</td>\n",
       "      <td>1.221170</td>\n",
       "      <td>105.280062</td>\n",
       "    </tr>\n",
       "    <tr>\n",
       "      <th>1</th>\n",
       "      <td>2acmU</td>\n",
       "      <td>1.334711</td>\n",
       "      <td>-0.340164</td>\n",
       "      <td>4.365080</td>\n",
       "      <td>73.037750</td>\n",
       "    </tr>\n",
       "    <tr>\n",
       "      <th>2</th>\n",
       "      <td>409Wp</td>\n",
       "      <td>1.022732</td>\n",
       "      <td>0.151990</td>\n",
       "      <td>1.419926</td>\n",
       "      <td>85.265647</td>\n",
       "    </tr>\n",
       "    <tr>\n",
       "      <th>3</th>\n",
       "      <td>iJLyR</td>\n",
       "      <td>-0.032172</td>\n",
       "      <td>0.139033</td>\n",
       "      <td>2.978566</td>\n",
       "      <td>168.620776</td>\n",
       "    </tr>\n",
       "    <tr>\n",
       "      <th>4</th>\n",
       "      <td>Xdl7t</td>\n",
       "      <td>1.988431</td>\n",
       "      <td>0.155413</td>\n",
       "      <td>4.751769</td>\n",
       "      <td>154.036647</td>\n",
       "    </tr>\n",
       "    <tr>\n",
       "      <th>5</th>\n",
       "      <td>wX4Hy</td>\n",
       "      <td>0.969570</td>\n",
       "      <td>0.489775</td>\n",
       "      <td>-0.735383</td>\n",
       "      <td>64.741541</td>\n",
       "    </tr>\n",
       "    <tr>\n",
       "      <th>6</th>\n",
       "      <td>tL6pL</td>\n",
       "      <td>0.645075</td>\n",
       "      <td>0.530656</td>\n",
       "      <td>1.780266</td>\n",
       "      <td>49.055285</td>\n",
       "    </tr>\n",
       "    <tr>\n",
       "      <th>7</th>\n",
       "      <td>BYPU6</td>\n",
       "      <td>-0.400648</td>\n",
       "      <td>0.808337</td>\n",
       "      <td>-5.624670</td>\n",
       "      <td>72.943292</td>\n",
       "    </tr>\n",
       "    <tr>\n",
       "      <th>8</th>\n",
       "      <td>j9Oui</td>\n",
       "      <td>0.643105</td>\n",
       "      <td>-0.551583</td>\n",
       "      <td>2.372141</td>\n",
       "      <td>113.356160</td>\n",
       "    </tr>\n",
       "    <tr>\n",
       "      <th>9</th>\n",
       "      <td>OLuZU</td>\n",
       "      <td>2.173381</td>\n",
       "      <td>0.563698</td>\n",
       "      <td>9.441852</td>\n",
       "      <td>127.910945</td>\n",
       "    </tr>\n",
       "  </tbody>\n",
       "</table>\n",
       "</div>"
      ],
      "text/plain": [
       "      id        f0        f1        f2     product\n",
       "0  txEyH  0.705745 -0.497823  1.221170  105.280062\n",
       "1  2acmU  1.334711 -0.340164  4.365080   73.037750\n",
       "2  409Wp  1.022732  0.151990  1.419926   85.265647\n",
       "3  iJLyR -0.032172  0.139033  2.978566  168.620776\n",
       "4  Xdl7t  1.988431  0.155413  4.751769  154.036647\n",
       "5  wX4Hy  0.969570  0.489775 -0.735383   64.741541\n",
       "6  tL6pL  0.645075  0.530656  1.780266   49.055285\n",
       "7  BYPU6 -0.400648  0.808337 -5.624670   72.943292\n",
       "8  j9Oui  0.643105 -0.551583  2.372141  113.356160\n",
       "9  OLuZU  2.173381  0.563698  9.441852  127.910945"
      ]
     },
     "metadata": {},
     "output_type": "display_data"
    },
    {
     "name": "stdout",
     "output_type": "stream",
     "text": [
      "<class 'pandas.core.frame.DataFrame'>\n",
      "RangeIndex: 100000 entries, 0 to 99999\n",
      "Data columns (total 5 columns):\n",
      " #   Column   Non-Null Count   Dtype  \n",
      "---  ------   --------------   -----  \n",
      " 0   id       100000 non-null  object \n",
      " 1   f0       100000 non-null  float64\n",
      " 2   f1       100000 non-null  float64\n",
      " 3   f2       100000 non-null  float64\n",
      " 4   product  100000 non-null  float64\n",
      "dtypes: float64(4), object(1)\n",
      "memory usage: 3.8+ MB\n"
     ]
    },
    {
     "data": {
      "text/html": [
       "<div>\n",
       "<style scoped>\n",
       "    .dataframe tbody tr th:only-of-type {\n",
       "        vertical-align: middle;\n",
       "    }\n",
       "\n",
       "    .dataframe tbody tr th {\n",
       "        vertical-align: top;\n",
       "    }\n",
       "\n",
       "    .dataframe thead th {\n",
       "        text-align: right;\n",
       "    }\n",
       "</style>\n",
       "<table border=\"1\" class=\"dataframe\">\n",
       "  <thead>\n",
       "    <tr style=\"text-align: right;\">\n",
       "      <th></th>\n",
       "      <th>f0</th>\n",
       "      <th>f1</th>\n",
       "      <th>f2</th>\n",
       "      <th>product</th>\n",
       "    </tr>\n",
       "  </thead>\n",
       "  <tbody>\n",
       "    <tr>\n",
       "      <th>count</th>\n",
       "      <td>100000.000000</td>\n",
       "      <td>100000.000000</td>\n",
       "      <td>100000.000000</td>\n",
       "      <td>100000.000000</td>\n",
       "    </tr>\n",
       "    <tr>\n",
       "      <th>mean</th>\n",
       "      <td>0.500419</td>\n",
       "      <td>0.250143</td>\n",
       "      <td>2.502647</td>\n",
       "      <td>92.500000</td>\n",
       "    </tr>\n",
       "    <tr>\n",
       "      <th>std</th>\n",
       "      <td>0.871832</td>\n",
       "      <td>0.504433</td>\n",
       "      <td>3.248248</td>\n",
       "      <td>44.288691</td>\n",
       "    </tr>\n",
       "    <tr>\n",
       "      <th>min</th>\n",
       "      <td>-1.408605</td>\n",
       "      <td>-0.848218</td>\n",
       "      <td>-12.088328</td>\n",
       "      <td>0.000000</td>\n",
       "    </tr>\n",
       "    <tr>\n",
       "      <th>25%</th>\n",
       "      <td>-0.072580</td>\n",
       "      <td>-0.200881</td>\n",
       "      <td>0.287748</td>\n",
       "      <td>56.497507</td>\n",
       "    </tr>\n",
       "    <tr>\n",
       "      <th>50%</th>\n",
       "      <td>0.502360</td>\n",
       "      <td>0.250252</td>\n",
       "      <td>2.515969</td>\n",
       "      <td>91.849972</td>\n",
       "    </tr>\n",
       "    <tr>\n",
       "      <th>75%</th>\n",
       "      <td>1.073581</td>\n",
       "      <td>0.700646</td>\n",
       "      <td>4.715088</td>\n",
       "      <td>128.564089</td>\n",
       "    </tr>\n",
       "    <tr>\n",
       "      <th>max</th>\n",
       "      <td>2.362331</td>\n",
       "      <td>1.343769</td>\n",
       "      <td>16.003790</td>\n",
       "      <td>185.364347</td>\n",
       "    </tr>\n",
       "  </tbody>\n",
       "</table>\n",
       "</div>"
      ],
      "text/plain": [
       "                  f0             f1             f2        product\n",
       "count  100000.000000  100000.000000  100000.000000  100000.000000\n",
       "mean        0.500419       0.250143       2.502647      92.500000\n",
       "std         0.871832       0.504433       3.248248      44.288691\n",
       "min        -1.408605      -0.848218     -12.088328       0.000000\n",
       "25%        -0.072580      -0.200881       0.287748      56.497507\n",
       "50%         0.502360       0.250252       2.515969      91.849972\n",
       "75%         1.073581       0.700646       4.715088     128.564089\n",
       "max         2.362331       1.343769      16.003790     185.364347"
      ]
     },
     "metadata": {},
     "output_type": "display_data"
    },
    {
     "data": {
      "text/html": [
       "<div>\n",
       "<style scoped>\n",
       "    .dataframe tbody tr th:only-of-type {\n",
       "        vertical-align: middle;\n",
       "    }\n",
       "\n",
       "    .dataframe tbody tr th {\n",
       "        vertical-align: top;\n",
       "    }\n",
       "\n",
       "    .dataframe thead th {\n",
       "        text-align: right;\n",
       "    }\n",
       "</style>\n",
       "<table border=\"1\" class=\"dataframe\">\n",
       "  <thead>\n",
       "    <tr style=\"text-align: right;\">\n",
       "      <th></th>\n",
       "      <th>f0</th>\n",
       "      <th>f1</th>\n",
       "      <th>f2</th>\n",
       "      <th>product</th>\n",
       "    </tr>\n",
       "  </thead>\n",
       "  <tbody>\n",
       "    <tr>\n",
       "      <th>f0</th>\n",
       "      <td>1.000000</td>\n",
       "      <td>-0.440723</td>\n",
       "      <td>-0.003153</td>\n",
       "      <td>0.143536</td>\n",
       "    </tr>\n",
       "    <tr>\n",
       "      <th>f1</th>\n",
       "      <td>-0.440723</td>\n",
       "      <td>1.000000</td>\n",
       "      <td>0.001724</td>\n",
       "      <td>-0.192356</td>\n",
       "    </tr>\n",
       "    <tr>\n",
       "      <th>f2</th>\n",
       "      <td>-0.003153</td>\n",
       "      <td>0.001724</td>\n",
       "      <td>1.000000</td>\n",
       "      <td>0.483663</td>\n",
       "    </tr>\n",
       "    <tr>\n",
       "      <th>product</th>\n",
       "      <td>0.143536</td>\n",
       "      <td>-0.192356</td>\n",
       "      <td>0.483663</td>\n",
       "      <td>1.000000</td>\n",
       "    </tr>\n",
       "  </tbody>\n",
       "</table>\n",
       "</div>"
      ],
      "text/plain": [
       "               f0        f1        f2   product\n",
       "f0       1.000000 -0.440723 -0.003153  0.143536\n",
       "f1      -0.440723  1.000000  0.001724 -0.192356\n",
       "f2      -0.003153  0.001724  1.000000  0.483663\n",
       "product  0.143536 -0.192356  0.483663  1.000000"
      ]
     },
     "metadata": {},
     "output_type": "display_data"
    }
   ],
   "source": [
    "review(df_0)"
   ]
  },
  {
   "cell_type": "code",
   "execution_count": 9,
   "metadata": {},
   "outputs": [
    {
     "data": {
      "image/png": "[encoded data removed]",
      "text/plain": [
       "<Figure size 1080x360 with 1 Axes>"
      ]
     },
     "metadata": {
      "needs_background": "light"
     },
     "output_type": "display_data"
    },
    {
     "data": {
      "image/png": "[encoded data removed]",
      "text/plain": [
       "<Figure size 432x288 with 1 Axes>"
      ]
     },
     "metadata": {},
     "output_type": "display_data"
    },
    {
     "data": {
      "image/png": "[encoded data removed]",
      "text/plain": [
       "<Figure size 432x288 with 1 Axes>"
      ]
     },
     "metadata": {},
     "output_type": "display_data"
    },
    {
     "data": {
      "image/png": "[encoded data removed]",
      "text/plain": [
       "<Figure size 432x288 with 1 Axes>"
      ]
     },
     "metadata": {},
     "output_type": "display_data"
    }
   ],
   "source": [
    "fig, ax = plt.subplots(figsize =(15,5))\n",
    "boxplot(df_0['f0'])\n",
    "boxplot(df_0['f1'])\n",
    "boxplot(df_0['f2'])\n",
    "boxplot(df_0['product'])\n",
    "plt.show()"
   ]
  },
  {
   "cell_type": "markdown",
   "metadata": {},
   "source": [
    "df_0, f2"
   ]
  },
  {
   "cell_type": "code",
   "execution_count": 10,
   "metadata": {},
   "outputs": [
    {
     "data": {
      "text/html": [
       "<div>\n",
       "<style scoped>\n",
       "    .dataframe tbody tr th:only-of-type {\n",
       "        vertical-align: middle;\n",
       "    }\n",
       "\n",
       "    .dataframe tbody tr th {\n",
       "        vertical-align: top;\n",
       "    }\n",
       "\n",
       "    .dataframe thead th {\n",
       "        text-align: right;\n",
       "    }\n",
       "</style>\n",
       "<table border=\"1\" class=\"dataframe\">\n",
       "  <thead>\n",
       "    <tr style=\"text-align: right;\">\n",
       "      <th></th>\n",
       "      <th>id</th>\n",
       "      <th>f0</th>\n",
       "      <th>f1</th>\n",
       "      <th>f2</th>\n",
       "      <th>product</th>\n",
       "    </tr>\n",
       "  </thead>\n",
       "  <tbody>\n",
       "    <tr>\n",
       "      <th>0</th>\n",
       "      <td>kBEdx</td>\n",
       "      <td>-15.001348</td>\n",
       "      <td>-8.276000</td>\n",
       "      <td>-0.005876</td>\n",
       "      <td>3.179103</td>\n",
       "    </tr>\n",
       "    <tr>\n",
       "      <th>1</th>\n",
       "      <td>62mP7</td>\n",
       "      <td>14.272088</td>\n",
       "      <td>-3.475083</td>\n",
       "      <td>0.999183</td>\n",
       "      <td>26.953261</td>\n",
       "    </tr>\n",
       "    <tr>\n",
       "      <th>2</th>\n",
       "      <td>vyE1P</td>\n",
       "      <td>6.263187</td>\n",
       "      <td>-5.948386</td>\n",
       "      <td>5.001160</td>\n",
       "      <td>134.766305</td>\n",
       "    </tr>\n",
       "    <tr>\n",
       "      <th>3</th>\n",
       "      <td>KcrkZ</td>\n",
       "      <td>-13.081196</td>\n",
       "      <td>-11.506057</td>\n",
       "      <td>4.999415</td>\n",
       "      <td>137.945408</td>\n",
       "    </tr>\n",
       "    <tr>\n",
       "      <th>4</th>\n",
       "      <td>AHL4O</td>\n",
       "      <td>12.702195</td>\n",
       "      <td>-8.147433</td>\n",
       "      <td>5.004363</td>\n",
       "      <td>134.766305</td>\n",
       "    </tr>\n",
       "    <tr>\n",
       "      <th>5</th>\n",
       "      <td>HHckp</td>\n",
       "      <td>-3.327590</td>\n",
       "      <td>-2.205276</td>\n",
       "      <td>3.003647</td>\n",
       "      <td>84.038886</td>\n",
       "    </tr>\n",
       "    <tr>\n",
       "      <th>6</th>\n",
       "      <td>h5Ujo</td>\n",
       "      <td>-11.142655</td>\n",
       "      <td>-10.133399</td>\n",
       "      <td>4.002382</td>\n",
       "      <td>110.992147</td>\n",
       "    </tr>\n",
       "    <tr>\n",
       "      <th>7</th>\n",
       "      <td>muH9x</td>\n",
       "      <td>4.234715</td>\n",
       "      <td>-0.001354</td>\n",
       "      <td>2.004588</td>\n",
       "      <td>53.906522</td>\n",
       "    </tr>\n",
       "    <tr>\n",
       "      <th>8</th>\n",
       "      <td>YiRkx</td>\n",
       "      <td>13.355129</td>\n",
       "      <td>-0.332068</td>\n",
       "      <td>4.998647</td>\n",
       "      <td>134.766305</td>\n",
       "    </tr>\n",
       "    <tr>\n",
       "      <th>9</th>\n",
       "      <td>jG6Gi</td>\n",
       "      <td>1.069227</td>\n",
       "      <td>-11.025667</td>\n",
       "      <td>4.997844</td>\n",
       "      <td>137.945408</td>\n",
       "    </tr>\n",
       "  </tbody>\n",
       "</table>\n",
       "</div>"
      ],
      "text/plain": [
       "      id         f0         f1        f2     product\n",
       "0  kBEdx -15.001348  -8.276000 -0.005876    3.179103\n",
       "1  62mP7  14.272088  -3.475083  0.999183   26.953261\n",
       "2  vyE1P   6.263187  -5.948386  5.001160  134.766305\n",
       "3  KcrkZ -13.081196 -11.506057  4.999415  137.945408\n",
       "4  AHL4O  12.702195  -8.147433  5.004363  134.766305\n",
       "5  HHckp  -3.327590  -2.205276  3.003647   84.038886\n",
       "6  h5Ujo -11.142655 -10.133399  4.002382  110.992147\n",
       "7  muH9x   4.234715  -0.001354  2.004588   53.906522\n",
       "8  YiRkx  13.355129  -0.332068  4.998647  134.766305\n",
       "9  jG6Gi   1.069227 -11.025667  4.997844  137.945408"
      ]
     },
     "metadata": {},
     "output_type": "display_data"
    },
    {
     "name": "stdout",
     "output_type": "stream",
     "text": [
      "<class 'pandas.core.frame.DataFrame'>\n",
      "RangeIndex: 100000 entries, 0 to 99999\n",
      "Data columns (total 5 columns):\n",
      " #   Column   Non-Null Count   Dtype  \n",
      "---  ------   --------------   -----  \n",
      " 0   id       100000 non-null  object \n",
      " 1   f0       100000 non-null  float64\n",
      " 2   f1       100000 non-null  float64\n",
      " 3   f2       100000 non-null  float64\n",
      " 4   product  100000 non-null  float64\n",
      "dtypes: float64(4), object(1)\n",
      "memory usage: 3.8+ MB\n"
     ]
    },
    {
     "data": {
      "text/html": [
       "<div>\n",
       "<style scoped>\n",
       "    .dataframe tbody tr th:only-of-type {\n",
       "        vertical-align: middle;\n",
       "    }\n",
       "\n",
       "    .dataframe tbody tr th {\n",
       "        vertical-align: top;\n",
       "    }\n",
       "\n",
       "    .dataframe thead th {\n",
       "        text-align: right;\n",
       "    }\n",
       "</style>\n",
       "<table border=\"1\" class=\"dataframe\">\n",
       "  <thead>\n",
       "    <tr style=\"text-align: right;\">\n",
       "      <th></th>\n",
       "      <th>f0</th>\n",
       "      <th>f1</th>\n",
       "      <th>f2</th>\n",
       "      <th>product</th>\n",
       "    </tr>\n",
       "  </thead>\n",
       "  <tbody>\n",
       "    <tr>\n",
       "      <th>count</th>\n",
       "      <td>100000.000000</td>\n",
       "      <td>100000.000000</td>\n",
       "      <td>100000.000000</td>\n",
       "      <td>100000.000000</td>\n",
       "    </tr>\n",
       "    <tr>\n",
       "      <th>mean</th>\n",
       "      <td>1.141296</td>\n",
       "      <td>-4.796579</td>\n",
       "      <td>2.494541</td>\n",
       "      <td>68.825000</td>\n",
       "    </tr>\n",
       "    <tr>\n",
       "      <th>std</th>\n",
       "      <td>8.965932</td>\n",
       "      <td>5.119872</td>\n",
       "      <td>1.703572</td>\n",
       "      <td>45.944423</td>\n",
       "    </tr>\n",
       "    <tr>\n",
       "      <th>min</th>\n",
       "      <td>-31.609576</td>\n",
       "      <td>-26.358598</td>\n",
       "      <td>-0.018144</td>\n",
       "      <td>0.000000</td>\n",
       "    </tr>\n",
       "    <tr>\n",
       "      <th>25%</th>\n",
       "      <td>-6.298551</td>\n",
       "      <td>-8.267985</td>\n",
       "      <td>1.000021</td>\n",
       "      <td>26.953261</td>\n",
       "    </tr>\n",
       "    <tr>\n",
       "      <th>50%</th>\n",
       "      <td>1.153055</td>\n",
       "      <td>-4.813172</td>\n",
       "      <td>2.011479</td>\n",
       "      <td>57.085625</td>\n",
       "    </tr>\n",
       "    <tr>\n",
       "      <th>75%</th>\n",
       "      <td>8.621015</td>\n",
       "      <td>-1.332816</td>\n",
       "      <td>3.999904</td>\n",
       "      <td>107.813044</td>\n",
       "    </tr>\n",
       "    <tr>\n",
       "      <th>max</th>\n",
       "      <td>29.421755</td>\n",
       "      <td>18.734063</td>\n",
       "      <td>5.019721</td>\n",
       "      <td>137.945408</td>\n",
       "    </tr>\n",
       "  </tbody>\n",
       "</table>\n",
       "</div>"
      ],
      "text/plain": [
       "                  f0             f1             f2        product\n",
       "count  100000.000000  100000.000000  100000.000000  100000.000000\n",
       "mean        1.141296      -4.796579       2.494541      68.825000\n",
       "std         8.965932       5.119872       1.703572      45.944423\n",
       "min       -31.609576     -26.358598      -0.018144       0.000000\n",
       "25%        -6.298551      -8.267985       1.000021      26.953261\n",
       "50%         1.153055      -4.813172       2.011479      57.085625\n",
       "75%         8.621015      -1.332816       3.999904     107.813044\n",
       "max        29.421755      18.734063       5.019721     137.945408"
      ]
     },
     "metadata": {},
     "output_type": "display_data"
    },
    {
     "data": {
      "text/html": [
       "<div>\n",
       "<style scoped>\n",
       "    .dataframe tbody tr th:only-of-type {\n",
       "        vertical-align: middle;\n",
       "    }\n",
       "\n",
       "    .dataframe tbody tr th {\n",
       "        vertical-align: top;\n",
       "    }\n",
       "\n",
       "    .dataframe thead th {\n",
       "        text-align: right;\n",
       "    }\n",
       "</style>\n",
       "<table border=\"1\" class=\"dataframe\">\n",
       "  <thead>\n",
       "    <tr style=\"text-align: right;\">\n",
       "      <th></th>\n",
       "      <th>f0</th>\n",
       "      <th>f1</th>\n",
       "      <th>f2</th>\n",
       "      <th>product</th>\n",
       "    </tr>\n",
       "  </thead>\n",
       "  <tbody>\n",
       "    <tr>\n",
       "      <th>f0</th>\n",
       "      <td>1.000000</td>\n",
       "      <td>0.182287</td>\n",
       "      <td>-0.001777</td>\n",
       "      <td>-0.030491</td>\n",
       "    </tr>\n",
       "    <tr>\n",
       "      <th>f1</th>\n",
       "      <td>0.182287</td>\n",
       "      <td>1.000000</td>\n",
       "      <td>-0.002595</td>\n",
       "      <td>-0.010155</td>\n",
       "    </tr>\n",
       "    <tr>\n",
       "      <th>f2</th>\n",
       "      <td>-0.001777</td>\n",
       "      <td>-0.002595</td>\n",
       "      <td>1.000000</td>\n",
       "      <td>0.999397</td>\n",
       "    </tr>\n",
       "    <tr>\n",
       "      <th>product</th>\n",
       "      <td>-0.030491</td>\n",
       "      <td>-0.010155</td>\n",
       "      <td>0.999397</td>\n",
       "      <td>1.000000</td>\n",
       "    </tr>\n",
       "  </tbody>\n",
       "</table>\n",
       "</div>"
      ],
      "text/plain": [
       "               f0        f1        f2   product\n",
       "f0       1.000000  0.182287 -0.001777 -0.030491\n",
       "f1       0.182287  1.000000 -0.002595 -0.010155\n",
       "f2      -0.001777 -0.002595  1.000000  0.999397\n",
       "product -0.030491 -0.010155  0.999397  1.000000"
      ]
     },
     "metadata": {},
     "output_type": "display_data"
    }
   ],
   "source": [
    "review(df_1)"
   ]
  },
  {
   "cell_type": "code",
   "execution_count": 11,
   "metadata": {},
   "outputs": [
    {
     "data": {
      "image/png": "[encoded data removed]",
      "text/plain": [
       "<Figure size 1080x360 with 1 Axes>"
      ]
     },
     "metadata": {},
     "output_type": "display_data"
    },
    {
     "data": {
      "image/png": "[encoded data removed]",
      "text/plain": [
       "<Figure size 432x288 with 1 Axes>"
      ]
     },
     "metadata": {},
     "output_type": "display_data"
    },
    {
     "data": {
      "image/png": "[encoded data removed]",
      "text/plain": [
       "<Figure size 432x288 with 1 Axes>"
      ]
     },
     "metadata": {},
     "output_type": "display_data"
    },
    {
     "data": {
      "image/png": "[encoded data removed]",
      "text/plain": [
       "<Figure size 432x288 with 1 Axes>"
      ]
     },
     "metadata": {},
     "output_type": "display_data"
    }
   ],
   "source": [
    "fig, ax = plt.subplots(figsize =(15,5))\n",
    "boxplot(df_1['f0'])\n",
    "boxplot(df_1['f1'])\n",
    "boxplot(df_1['f2'])\n",
    "boxplot(df_1['product'])\n",
    "plt.show()"
   ]
  },
  {
   "cell_type": "code",
   "execution_count": 12,
   "metadata": {},
   "outputs": [
    {
     "data": {
      "text/html": [
       "<div>\n",
       "<style scoped>\n",
       "    .dataframe tbody tr th:only-of-type {\n",
       "        vertical-align: middle;\n",
       "    }\n",
       "\n",
       "    .dataframe tbody tr th {\n",
       "        vertical-align: top;\n",
       "    }\n",
       "\n",
       "    .dataframe thead th {\n",
       "        text-align: right;\n",
       "    }\n",
       "</style>\n",
       "<table border=\"1\" class=\"dataframe\">\n",
       "  <thead>\n",
       "    <tr style=\"text-align: right;\">\n",
       "      <th></th>\n",
       "      <th>id</th>\n",
       "      <th>f0</th>\n",
       "      <th>f1</th>\n",
       "      <th>f2</th>\n",
       "      <th>product</th>\n",
       "    </tr>\n",
       "  </thead>\n",
       "  <tbody>\n",
       "    <tr>\n",
       "      <th>0</th>\n",
       "      <td>fwXo0</td>\n",
       "      <td>-1.146987</td>\n",
       "      <td>0.963328</td>\n",
       "      <td>-0.828965</td>\n",
       "      <td>27.758673</td>\n",
       "    </tr>\n",
       "    <tr>\n",
       "      <th>1</th>\n",
       "      <td>WJtFt</td>\n",
       "      <td>0.262778</td>\n",
       "      <td>0.269839</td>\n",
       "      <td>-2.530187</td>\n",
       "      <td>56.069697</td>\n",
       "    </tr>\n",
       "    <tr>\n",
       "      <th>2</th>\n",
       "      <td>ovLUW</td>\n",
       "      <td>0.194587</td>\n",
       "      <td>0.289035</td>\n",
       "      <td>-5.586433</td>\n",
       "      <td>62.871910</td>\n",
       "    </tr>\n",
       "    <tr>\n",
       "      <th>3</th>\n",
       "      <td>q6cA6</td>\n",
       "      <td>2.236060</td>\n",
       "      <td>-0.553760</td>\n",
       "      <td>0.930038</td>\n",
       "      <td>114.572842</td>\n",
       "    </tr>\n",
       "    <tr>\n",
       "      <th>4</th>\n",
       "      <td>WPMUX</td>\n",
       "      <td>-0.515993</td>\n",
       "      <td>1.716266</td>\n",
       "      <td>5.899011</td>\n",
       "      <td>149.600746</td>\n",
       "    </tr>\n",
       "    <tr>\n",
       "      <th>5</th>\n",
       "      <td>LzZXx</td>\n",
       "      <td>-0.758092</td>\n",
       "      <td>0.710691</td>\n",
       "      <td>2.585887</td>\n",
       "      <td>90.222465</td>\n",
       "    </tr>\n",
       "    <tr>\n",
       "      <th>6</th>\n",
       "      <td>WBHRv</td>\n",
       "      <td>-0.574891</td>\n",
       "      <td>0.317727</td>\n",
       "      <td>1.773745</td>\n",
       "      <td>45.641478</td>\n",
       "    </tr>\n",
       "    <tr>\n",
       "      <th>7</th>\n",
       "      <td>XO8fn</td>\n",
       "      <td>-1.906649</td>\n",
       "      <td>-2.458350</td>\n",
       "      <td>-0.177097</td>\n",
       "      <td>72.480640</td>\n",
       "    </tr>\n",
       "    <tr>\n",
       "      <th>8</th>\n",
       "      <td>ybmQ5</td>\n",
       "      <td>1.776292</td>\n",
       "      <td>-0.279356</td>\n",
       "      <td>3.004156</td>\n",
       "      <td>106.616832</td>\n",
       "    </tr>\n",
       "    <tr>\n",
       "      <th>9</th>\n",
       "      <td>OilcN</td>\n",
       "      <td>-1.214452</td>\n",
       "      <td>-0.439314</td>\n",
       "      <td>5.922514</td>\n",
       "      <td>52.954532</td>\n",
       "    </tr>\n",
       "  </tbody>\n",
       "</table>\n",
       "</div>"
      ],
      "text/plain": [
       "      id        f0        f1        f2     product\n",
       "0  fwXo0 -1.146987  0.963328 -0.828965   27.758673\n",
       "1  WJtFt  0.262778  0.269839 -2.530187   56.069697\n",
       "2  ovLUW  0.194587  0.289035 -5.586433   62.871910\n",
       "3  q6cA6  2.236060 -0.553760  0.930038  114.572842\n",
       "4  WPMUX -0.515993  1.716266  5.899011  149.600746\n",
       "5  LzZXx -0.758092  0.710691  2.585887   90.222465\n",
       "6  WBHRv -0.574891  0.317727  1.773745   45.641478\n",
       "7  XO8fn -1.906649 -2.458350 -0.177097   72.480640\n",
       "8  ybmQ5  1.776292 -0.279356  3.004156  106.616832\n",
       "9  OilcN -1.214452 -0.439314  5.922514   52.954532"
      ]
     },
     "metadata": {},
     "output_type": "display_data"
    },
    {
     "name": "stdout",
     "output_type": "stream",
     "text": [
      "<class 'pandas.core.frame.DataFrame'>\n",
      "RangeIndex: 100000 entries, 0 to 99999\n",
      "Data columns (total 5 columns):\n",
      " #   Column   Non-Null Count   Dtype  \n",
      "---  ------   --------------   -----  \n",
      " 0   id       100000 non-null  object \n",
      " 1   f0       100000 non-null  float64\n",
      " 2   f1       100000 non-null  float64\n",
      " 3   f2       100000 non-null  float64\n",
      " 4   product  100000 non-null  float64\n",
      "dtypes: float64(4), object(1)\n",
      "memory usage: 3.8+ MB\n"
     ]
    },
    {
     "data": {
      "text/html": [
       "<div>\n",
       "<style scoped>\n",
       "    .dataframe tbody tr th:only-of-type {\n",
       "        vertical-align: middle;\n",
       "    }\n",
       "\n",
       "    .dataframe tbody tr th {\n",
       "        vertical-align: top;\n",
       "    }\n",
       "\n",
       "    .dataframe thead th {\n",
       "        text-align: right;\n",
       "    }\n",
       "</style>\n",
       "<table border=\"1\" class=\"dataframe\">\n",
       "  <thead>\n",
       "    <tr style=\"text-align: right;\">\n",
       "      <th></th>\n",
       "      <th>f0</th>\n",
       "      <th>f1</th>\n",
       "      <th>f2</th>\n",
       "      <th>product</th>\n",
       "    </tr>\n",
       "  </thead>\n",
       "  <tbody>\n",
       "    <tr>\n",
       "      <th>count</th>\n",
       "      <td>100000.000000</td>\n",
       "      <td>100000.000000</td>\n",
       "      <td>100000.000000</td>\n",
       "      <td>100000.000000</td>\n",
       "    </tr>\n",
       "    <tr>\n",
       "      <th>mean</th>\n",
       "      <td>0.002023</td>\n",
       "      <td>-0.002081</td>\n",
       "      <td>2.495128</td>\n",
       "      <td>95.000000</td>\n",
       "    </tr>\n",
       "    <tr>\n",
       "      <th>std</th>\n",
       "      <td>1.732045</td>\n",
       "      <td>1.730417</td>\n",
       "      <td>3.473445</td>\n",
       "      <td>44.749921</td>\n",
       "    </tr>\n",
       "    <tr>\n",
       "      <th>min</th>\n",
       "      <td>-8.760004</td>\n",
       "      <td>-7.084020</td>\n",
       "      <td>-11.970335</td>\n",
       "      <td>0.000000</td>\n",
       "    </tr>\n",
       "    <tr>\n",
       "      <th>25%</th>\n",
       "      <td>-1.162288</td>\n",
       "      <td>-1.174820</td>\n",
       "      <td>0.130359</td>\n",
       "      <td>59.450441</td>\n",
       "    </tr>\n",
       "    <tr>\n",
       "      <th>50%</th>\n",
       "      <td>0.009424</td>\n",
       "      <td>-0.009482</td>\n",
       "      <td>2.484236</td>\n",
       "      <td>94.925613</td>\n",
       "    </tr>\n",
       "    <tr>\n",
       "      <th>75%</th>\n",
       "      <td>1.158535</td>\n",
       "      <td>1.163678</td>\n",
       "      <td>4.858794</td>\n",
       "      <td>130.595027</td>\n",
       "    </tr>\n",
       "    <tr>\n",
       "      <th>max</th>\n",
       "      <td>7.238262</td>\n",
       "      <td>7.844801</td>\n",
       "      <td>16.739402</td>\n",
       "      <td>190.029838</td>\n",
       "    </tr>\n",
       "  </tbody>\n",
       "</table>\n",
       "</div>"
      ],
      "text/plain": [
       "                  f0             f1             f2        product\n",
       "count  100000.000000  100000.000000  100000.000000  100000.000000\n",
       "mean        0.002023      -0.002081       2.495128      95.000000\n",
       "std         1.732045       1.730417       3.473445      44.749921\n",
       "min        -8.760004      -7.084020     -11.970335       0.000000\n",
       "25%        -1.162288      -1.174820       0.130359      59.450441\n",
       "50%         0.009424      -0.009482       2.484236      94.925613\n",
       "75%         1.158535       1.163678       4.858794     130.595027\n",
       "max         7.238262       7.844801      16.739402     190.029838"
      ]
     },
     "metadata": {},
     "output_type": "display_data"
    },
    {
     "data": {
      "text/html": [
       "<div>\n",
       "<style scoped>\n",
       "    .dataframe tbody tr th:only-of-type {\n",
       "        vertical-align: middle;\n",
       "    }\n",
       "\n",
       "    .dataframe tbody tr th {\n",
       "        vertical-align: top;\n",
       "    }\n",
       "\n",
       "    .dataframe thead th {\n",
       "        text-align: right;\n",
       "    }\n",
       "</style>\n",
       "<table border=\"1\" class=\"dataframe\">\n",
       "  <thead>\n",
       "    <tr style=\"text-align: right;\">\n",
       "      <th></th>\n",
       "      <th>f0</th>\n",
       "      <th>f1</th>\n",
       "      <th>f2</th>\n",
       "      <th>product</th>\n",
       "    </tr>\n",
       "  </thead>\n",
       "  <tbody>\n",
       "    <tr>\n",
       "      <th>f0</th>\n",
       "      <td>1.000000</td>\n",
       "      <td>0.000528</td>\n",
       "      <td>-0.000448</td>\n",
       "      <td>-0.001987</td>\n",
       "    </tr>\n",
       "    <tr>\n",
       "      <th>f1</th>\n",
       "      <td>0.000528</td>\n",
       "      <td>1.000000</td>\n",
       "      <td>0.000779</td>\n",
       "      <td>-0.001012</td>\n",
       "    </tr>\n",
       "    <tr>\n",
       "      <th>f2</th>\n",
       "      <td>-0.000448</td>\n",
       "      <td>0.000779</td>\n",
       "      <td>1.000000</td>\n",
       "      <td>0.445871</td>\n",
       "    </tr>\n",
       "    <tr>\n",
       "      <th>product</th>\n",
       "      <td>-0.001987</td>\n",
       "      <td>-0.001012</td>\n",
       "      <td>0.445871</td>\n",
       "      <td>1.000000</td>\n",
       "    </tr>\n",
       "  </tbody>\n",
       "</table>\n",
       "</div>"
      ],
      "text/plain": [
       "               f0        f1        f2   product\n",
       "f0       1.000000  0.000528 -0.000448 -0.001987\n",
       "f1       0.000528  1.000000  0.000779 -0.001012\n",
       "f2      -0.000448  0.000779  1.000000  0.445871\n",
       "product -0.001987 -0.001012  0.445871  1.000000"
      ]
     },
     "metadata": {},
     "output_type": "display_data"
    }
   ],
   "source": [
    "review(df_2)"
   ]
  },
  {
   "cell_type": "code",
   "execution_count": 13,
   "metadata": {
    "scrolled": false
   },
   "outputs": [
    {
     "data": {
      "image/png": "[encoded data removed]",
      "text/plain": [
       "<Figure size 1080x360 with 1 Axes>"
      ]
     },
     "metadata": {},
     "output_type": "display_data"
    },
    {
     "data": {
      "image/png": "[encoded data removed]",
      "text/plain": [
       "<Figure size 432x288 with 1 Axes>"
      ]
     },
     "metadata": {},
     "output_type": "display_data"
    },
    {
     "data": {
      "image/png": "[encoded data removed]",
      "text/plain": [
       "<Figure size 432x288 with 1 Axes>"
      ]
     },
     "metadata": {},
     "output_type": "display_data"
    },
    {
     "data": {
      "image/png": "[encoded data removed]",
      "text/plain": [
       "<Figure size 432x288 with 1 Axes>"
      ]
     },
     "metadata": {},
     "output_type": "display_data"
    }
   ],
   "source": [
    "fig, ax = plt.subplots(figsize =(15,5))\n",
    "boxplot(df_2['f0'])\n",
    "boxplot(df_2['f1'])\n",
    "boxplot(df_2['f2'])\n",
    "boxplot(df_2['product'])\n",
    "plt.show()"
   ]
  },
  {
   "cell_type": "code",
   "execution_count": 14,
   "metadata": {},
   "outputs": [],
   "source": [
    "def remove_ouliers(df,column):\n",
    "    \"\"\"функция для удаления выбросов\"\"\"\n",
    "    q25=np.array(df[column].quantile(0.25))\n",
    "    q75=np.array(df[column].quantile(0.75))\n",
    "    min = q25-1.5*(q75-q25)\n",
    "    max = q75+1.5*(q75-q25)\n",
    "    del_index = []\n",
    "    for index_value, value in zip(df[column].index,df[column]):\n",
    "        if max <= value or value <= min:\n",
    "            del_index.append(index_value)\n",
    "    print('Количество удаленных строк: ',len(del_index))\n",
    "    return del_index"
   ]
  },
  {
   "cell_type": "code",
   "execution_count": 15,
   "metadata": {},
   "outputs": [
    {
     "name": "stdout",
     "output_type": "stream",
     "text": [
      "Количество удаленных строк:  506\n",
      "Количество удаленных строк:  636\n",
      "Количество удаленных строк:  733\n",
      "Количество удаленных строк:  682\n",
      "Количество удаленных строк:  582\n"
     ]
    }
   ],
   "source": [
    "noise_df = [(df_0,'f2'),\n",
    "            (df_1, 'f1'),\n",
    "            (df_2, 'f0'),\n",
    "            (df_2, 'f1'),\n",
    "            (df_2, 'f2')\n",
    "             ]\n",
    "\n",
    "for frame,column in noise_df:\n",
    "    indexes = remove_ouliers(frame,column)\n",
    "    frame.drop(indexes,axis = 0,inplace = True)"
   ]
  },
  {
   "cell_type": "markdown",
   "metadata": {},
   "source": [
    "## Обучение и проверка модели"
   ]
  },
  {
   "cell_type": "code",
   "execution_count": 16,
   "metadata": {},
   "outputs": [],
   "source": [
    "(features_train_df_0, \n",
    " features_valid_df_0, \n",
    " target_train_df_0, \n",
    " target_valid_df_0) = split_data(df_0.drop(['id', 'product'],\n",
    "                                 axis = 1),\n",
    "                                 df_0['product']\n",
    "                                )\n",
    "(features_train_df_1, \n",
    " features_valid_df_1, \n",
    " target_train_df_1, \n",
    " target_valid_df_1) = split_data(df_1.drop(['id', 'product'],\n",
    "                                 axis = 1),\n",
    "                                 df_1['product']\n",
    "                                )\n",
    "(features_train_df_2, \n",
    " features_valid_df_2, \n",
    " target_train_df_2, \n",
    " target_valid_df_2) = split_data(df_2.drop(['id', 'product'],\n",
    "                                 axis = 1),\n",
    "                                 df_2['product']\n",
    "                                )"
   ]
  },
  {
   "cell_type": "code",
   "execution_count": 17,
   "metadata": {},
   "outputs": [
    {
     "name": "stdout",
     "output_type": "stream",
     "text": [
      "Cредний запас предсказанного сырья по региону df_0 равен 92.72476770114888 тыс. баррелей\n",
      "RMSE модели линейной регрессии на валидационной выборке по региону df_0 равна 37.92293089053146\n"
     ]
    }
   ],
   "source": [
    "model = LinearRegression() \n",
    "model.fit(features_train_df_0, target_train_df_0)\n",
    "predictions_valid_df_0 = model.predict(features_valid_df_0) \n",
    "result_df_0 = mean_squared_error(target_valid_df_0, predictions_valid_df_0)**0.5\n",
    "print('Cредний запас предсказанного сырья по региону df_0 равен {} тыс. баррелей'.format(predictions_valid_df_0.mean()))\n",
    "print('RMSE модели линейной регрессии на валидационной выборке по региону df_0 равна {}'.format(result_df_0))"
   ]
  },
  {
   "cell_type": "code",
   "execution_count": 18,
   "metadata": {},
   "outputs": [
    {
     "name": "stdout",
     "output_type": "stream",
     "text": [
      "Cредний запас предсказанного сырья по региону df_1 равен 68.59166978153502 тыс. баррелей\n",
      "RMSE модели линейной регрессии на валидационной выборке по региону df_1 равна 0.8894478146401599\n"
     ]
    }
   ],
   "source": [
    "model = LinearRegression() \n",
    "model.fit(features_train_df_1, target_train_df_1)\n",
    "predictions_valid_df_1 = model.predict(features_valid_df_1) \n",
    "result_df_1 = mean_squared_error(target_valid_df_1, predictions_valid_df_1)**0.5\n",
    "print('Cредний запас предсказанного сырья по региону df_1 равен {} тыс. баррелей'.format(predictions_valid_df_1.mean()))\n",
    "print('RMSE модели линейной регрессии на валидационной выборке по региону df_1 равна {}'.format(result_df_1))"
   ]
  },
  {
   "cell_type": "code",
   "execution_count": 19,
   "metadata": {},
   "outputs": [
    {
     "name": "stdout",
     "output_type": "stream",
     "text": [
      "Cредний запас предсказанного сырья по региону df_2 равен 94.67716913212332 тыс. баррелей\n",
      "RMSE модели линейной регрессии на валидационной выборке по региону df_2 равна 40.17679711012713\n"
     ]
    }
   ],
   "source": [
    "model = LinearRegression() \n",
    "model.fit(features_train_df_2, target_train_df_2)\n",
    "predictions_valid_df_2 = model.predict(features_valid_df_2) \n",
    "result_df_2 = mean_squared_error(target_valid_df_2, predictions_valid_df_2)**0.5\n",
    "print('Cредний запас предсказанного сырья по региону df_2 равен {} тыс. баррелей'.format(predictions_valid_df_2.mean()))\n",
    "print('RMSE модели линейной регрессии на валидационной выборке по региону df_2 равна {}'.format(result_df_2))"
   ]
  },
  {
   "cell_type": "markdown",
   "metadata": {},
   "source": [
    "## Подготовка к расчёту прибыли"
   ]
  },
  {
   "cell_type": "code",
   "execution_count": null,
   "metadata": {},
   "outputs": [],
   "source": []
  },
  {
   "cell_type": "markdown",
   "metadata": {},
   "source": [
    "## Расчёт прибыли и рисков "
   ]
  },
  {
   "cell_type": "code",
   "execution_count": null,
   "metadata": {},
   "outputs": [],
   "source": []
  }
 ],
 "metadata": {
  "ExecuteTimeLog": [
   {
    "duration": 1754,
    "start_time": "2022-03-22T12:13:57.135Z"
   },
   {
    "duration": 5,
    "start_time": "2022-03-22T12:13:58.891Z"
   },
   {
    "duration": 128,
    "start_time": "2022-03-22T12:13:59.060Z"
   },
   {
    "duration": 126,
    "start_time": "2022-03-22T12:13:59.285Z"
   },
   {
    "duration": 132,
    "start_time": "2022-03-22T12:13:59.465Z"
   },
   {
    "duration": 125,
    "start_time": "2022-03-22T12:14:32.270Z"
   },
   {
    "duration": 108,
    "start_time": "2022-03-22T12:14:37.047Z"
   },
   {
    "duration": 132,
    "start_time": "2022-03-22T12:14:39.869Z"
   },
   {
    "duration": 127,
    "start_time": "2022-03-22T12:14:40.066Z"
   },
   {
    "duration": 127,
    "start_time": "2022-03-22T12:14:40.221Z"
   },
   {
    "duration": 128,
    "start_time": "2022-03-22T12:14:40.730Z"
   },
   {
    "duration": 125,
    "start_time": "2022-03-22T12:14:49.169Z"
   },
   {
    "duration": 121,
    "start_time": "2022-03-22T12:14:55.715Z"
   },
   {
    "duration": 4,
    "start_time": "2022-03-22T12:15:46.317Z"
   },
   {
    "duration": 158,
    "start_time": "2022-03-22T12:15:46.757Z"
   },
   {
    "duration": 142,
    "start_time": "2022-03-22T12:15:46.929Z"
   },
   {
    "duration": 143,
    "start_time": "2022-03-22T12:15:47.093Z"
   },
   {
    "duration": 53,
    "start_time": "2022-03-22T12:15:47.460Z"
   },
   {
    "duration": 61,
    "start_time": "2022-03-22T12:15:47.620Z"
   },
   {
    "duration": 62,
    "start_time": "2022-03-22T12:15:47.793Z"
   },
   {
    "duration": 3,
    "start_time": "2022-03-22T12:23:19.409Z"
   },
   {
    "duration": 16,
    "start_time": "2022-03-22T12:28:42.001Z"
   },
   {
    "duration": 3,
    "start_time": "2022-03-22T12:29:18.481Z"
   },
   {
    "duration": 66,
    "start_time": "2022-03-22T12:29:20.753Z"
   },
   {
    "duration": 67,
    "start_time": "2022-03-22T12:29:22.850Z"
   },
   {
    "duration": 66,
    "start_time": "2022-03-22T12:29:23.395Z"
   },
   {
    "duration": 5,
    "start_time": "2022-03-22T12:31:48.576Z"
   },
   {
    "duration": 4,
    "start_time": "2022-03-22T12:31:56.771Z"
   },
   {
    "duration": 12,
    "start_time": "2022-03-22T12:32:33.482Z"
   },
   {
    "duration": 20,
    "start_time": "2022-03-22T12:32:53.109Z"
   },
   {
    "duration": 14,
    "start_time": "2022-03-22T12:33:20.929Z"
   },
   {
    "duration": 6,
    "start_time": "2022-03-22T12:39:42.435Z"
   },
   {
    "duration": 69,
    "start_time": "2022-03-22T12:39:53.142Z"
   },
   {
    "duration": 56,
    "start_time": "2022-03-22T12:40:05.252Z"
   },
   {
    "duration": 7,
    "start_time": "2022-03-22T12:40:29.812Z"
   },
   {
    "duration": 143,
    "start_time": "2022-03-22T12:42:23.082Z"
   },
   {
    "duration": 63,
    "start_time": "2022-03-22T12:42:39.379Z"
   },
   {
    "duration": 149,
    "start_time": "2022-03-22T12:42:43.050Z"
   },
   {
    "duration": 1643,
    "start_time": "2022-03-22T12:43:31.091Z"
   },
   {
    "duration": 4,
    "start_time": "2022-03-22T12:43:32.736Z"
   },
   {
    "duration": 153,
    "start_time": "2022-03-22T12:43:32.741Z"
   },
   {
    "duration": 128,
    "start_time": "2022-03-22T12:43:32.896Z"
   },
   {
    "duration": 133,
    "start_time": "2022-03-22T12:43:33.026Z"
   },
   {
    "duration": 84,
    "start_time": "2022-03-22T12:43:33.160Z"
   },
   {
    "duration": 1588,
    "start_time": "2022-03-22T12:45:33.816Z"
   },
   {
    "duration": 3,
    "start_time": "2022-03-22T12:45:35.406Z"
   },
   {
    "duration": 138,
    "start_time": "2022-03-22T12:45:35.410Z"
   },
   {
    "duration": 124,
    "start_time": "2022-03-22T12:45:35.549Z"
   },
   {
    "duration": 135,
    "start_time": "2022-03-22T12:45:36.569Z"
   },
   {
    "duration": 74,
    "start_time": "2022-03-22T12:45:38.521Z"
   },
   {
    "duration": 231,
    "start_time": "2022-03-22T12:45:42.241Z"
   },
   {
    "duration": 247,
    "start_time": "2022-03-22T12:45:48.308Z"
   },
   {
    "duration": 1627,
    "start_time": "2022-03-22T12:46:12.428Z"
   },
   {
    "duration": 3,
    "start_time": "2022-03-22T12:46:14.057Z"
   },
   {
    "duration": 144,
    "start_time": "2022-03-22T12:46:14.062Z"
   },
   {
    "duration": 129,
    "start_time": "2022-03-22T12:46:14.208Z"
   },
   {
    "duration": 131,
    "start_time": "2022-03-22T12:46:14.339Z"
   },
   {
    "duration": 80,
    "start_time": "2022-03-22T12:46:14.472Z"
   },
   {
    "duration": 1923,
    "start_time": "2022-03-22T12:48:06.816Z"
   },
   {
    "duration": 4,
    "start_time": "2022-03-22T12:48:08.741Z"
   },
   {
    "duration": 134,
    "start_time": "2022-03-22T12:48:08.746Z"
   },
   {
    "duration": 121,
    "start_time": "2022-03-22T12:48:08.882Z"
   },
   {
    "duration": 125,
    "start_time": "2022-03-22T12:48:09.005Z"
   },
   {
    "duration": 72,
    "start_time": "2022-03-22T12:48:09.132Z"
   },
   {
    "duration": 1624,
    "start_time": "2022-03-22T12:48:21.874Z"
   },
   {
    "duration": 3,
    "start_time": "2022-03-22T12:48:23.500Z"
   },
   {
    "duration": 133,
    "start_time": "2022-03-22T12:48:23.505Z"
   },
   {
    "duration": 126,
    "start_time": "2022-03-22T12:48:23.640Z"
   },
   {
    "duration": 131,
    "start_time": "2022-03-22T12:48:23.768Z"
   },
   {
    "duration": 75,
    "start_time": "2022-03-22T12:48:23.901Z"
   },
   {
    "duration": 60,
    "start_time": "2022-03-22T12:50:03.735Z"
   },
   {
    "duration": 1848,
    "start_time": "2022-03-22T12:50:06.261Z"
   },
   {
    "duration": 3,
    "start_time": "2022-03-22T12:50:08.111Z"
   },
   {
    "duration": 165,
    "start_time": "2022-03-22T12:50:08.116Z"
   },
   {
    "duration": 138,
    "start_time": "2022-03-22T12:50:08.283Z"
   },
   {
    "duration": 131,
    "start_time": "2022-03-22T12:50:08.423Z"
   },
   {
    "duration": 93,
    "start_time": "2022-03-22T12:50:08.557Z"
   },
   {
    "duration": 161,
    "start_time": "2022-03-22T12:50:08.652Z"
   },
   {
    "duration": 159,
    "start_time": "2022-03-22T12:50:23.512Z"
   },
   {
    "duration": 165,
    "start_time": "2022-03-22T12:50:29.993Z"
   },
   {
    "duration": 4211,
    "start_time": "2022-03-22T12:51:04.422Z"
   },
   {
    "duration": 180,
    "start_time": "2022-03-22T12:51:11.923Z"
   },
   {
    "duration": 213,
    "start_time": "2022-03-22T12:52:20.119Z"
   },
   {
    "duration": 188,
    "start_time": "2022-03-22T12:52:29.561Z"
   },
   {
    "duration": 347,
    "start_time": "2022-03-22T12:52:39.296Z"
   },
   {
    "duration": 188,
    "start_time": "2022-03-22T12:52:48.151Z"
   },
   {
    "duration": 4,
    "start_time": "2022-03-22T12:52:56.598Z"
   },
   {
    "duration": 2,
    "start_time": "2022-03-22T12:53:08.505Z"
   },
   {
    "duration": 4,
    "start_time": "2022-03-22T12:53:08.704Z"
   },
   {
    "duration": 247,
    "start_time": "2022-03-22T12:53:20.566Z"
   },
   {
    "duration": 3,
    "start_time": "2022-03-22T12:53:38.171Z"
   },
   {
    "duration": 172,
    "start_time": "2022-03-22T12:53:55.946Z"
   },
   {
    "duration": 146,
    "start_time": "2022-03-22T12:54:11.144Z"
   },
   {
    "duration": 162,
    "start_time": "2022-03-22T12:54:17.835Z"
   },
   {
    "duration": 5,
    "start_time": "2022-03-22T12:56:39.103Z"
   },
   {
    "duration": 4,
    "start_time": "2022-03-22T12:57:06.631Z"
   },
   {
    "duration": 174,
    "start_time": "2022-03-22T12:57:10.806Z"
   },
   {
    "duration": 4,
    "start_time": "2022-03-22T12:57:27.785Z"
   },
   {
    "duration": 205,
    "start_time": "2022-03-22T12:57:31.167Z"
   },
   {
    "duration": 418,
    "start_time": "2022-03-22T12:57:48.447Z"
   },
   {
    "duration": 4,
    "start_time": "2022-03-22T12:57:52.998Z"
   },
   {
    "duration": 185,
    "start_time": "2022-03-22T12:57:55.516Z"
   },
   {
    "duration": 179,
    "start_time": "2022-03-22T12:58:09.414Z"
   },
   {
    "duration": 186,
    "start_time": "2022-03-22T12:58:15.722Z"
   },
   {
    "duration": 183,
    "start_time": "2022-03-22T12:58:22.207Z"
   },
   {
    "duration": 3,
    "start_time": "2022-03-22T12:58:26.367Z"
   },
   {
    "duration": 3,
    "start_time": "2022-03-22T12:58:32.533Z"
   },
   {
    "duration": 176,
    "start_time": "2022-03-22T12:58:35.601Z"
   },
   {
    "duration": 3,
    "start_time": "2022-03-22T12:58:51.399Z"
   },
   {
    "duration": 187,
    "start_time": "2022-03-22T12:58:54.365Z"
   },
   {
    "duration": 4,
    "start_time": "2022-03-22T12:59:12.725Z"
   },
   {
    "duration": 180,
    "start_time": "2022-03-22T12:59:15.111Z"
   },
   {
    "duration": 170,
    "start_time": "2022-03-22T13:03:08.440Z"
   },
   {
    "duration": 4,
    "start_time": "2022-03-22T13:03:38.561Z"
   },
   {
    "duration": 174,
    "start_time": "2022-03-22T13:03:41.894Z"
   },
   {
    "duration": 171,
    "start_time": "2022-03-22T13:04:40.288Z"
   },
   {
    "duration": 175,
    "start_time": "2022-03-22T13:05:19.247Z"
   },
   {
    "duration": 217,
    "start_time": "2022-03-22T13:06:45.336Z"
   },
   {
    "duration": 224,
    "start_time": "2022-03-22T13:06:54.806Z"
   },
   {
    "duration": 244,
    "start_time": "2022-03-22T13:06:59.159Z"
   },
   {
    "duration": 4,
    "start_time": "2022-03-22T13:07:04.846Z"
   },
   {
    "duration": 176,
    "start_time": "2022-03-22T13:07:49.354Z"
   },
   {
    "duration": 141,
    "start_time": "2022-03-22T13:07:50.519Z"
   },
   {
    "duration": 171,
    "start_time": "2022-03-22T13:07:51.646Z"
   },
   {
    "duration": 151,
    "start_time": "2022-03-22T13:07:56.126Z"
   },
   {
    "duration": 68,
    "start_time": "2022-03-22T13:08:34.246Z"
   },
   {
    "duration": 6,
    "start_time": "2022-03-22T13:08:36.122Z"
   },
   {
    "duration": 69,
    "start_time": "2022-03-22T13:08:36.776Z"
   },
   {
    "duration": 169,
    "start_time": "2022-03-22T13:09:52.956Z"
   },
   {
    "duration": 4,
    "start_time": "2022-03-22T13:10:46.257Z"
   },
   {
    "duration": 4,
    "start_time": "2022-03-22T13:10:46.440Z"
   },
   {
    "duration": 132,
    "start_time": "2022-03-22T13:10:49.646Z"
   },
   {
    "duration": 140,
    "start_time": "2022-03-22T13:10:49.846Z"
   },
   {
    "duration": 136,
    "start_time": "2022-03-22T13:10:49.988Z"
   },
   {
    "duration": 84,
    "start_time": "2022-03-22T13:10:51.165Z"
   },
   {
    "duration": 178,
    "start_time": "2022-03-22T13:10:51.319Z"
   },
   {
    "duration": 159,
    "start_time": "2022-03-22T13:10:51.499Z"
   },
   {
    "duration": 162,
    "start_time": "2022-03-22T13:10:51.886Z"
   },
   {
    "duration": 189,
    "start_time": "2022-03-22T13:10:52.086Z"
   },
   {
    "duration": 84,
    "start_time": "2022-03-22T13:10:52.277Z"
   },
   {
    "duration": 11,
    "start_time": "2022-03-22T13:10:52.413Z"
   },
   {
    "duration": 68,
    "start_time": "2022-03-22T13:10:52.556Z"
   },
   {
    "duration": 4,
    "start_time": "2022-03-22T13:11:50.257Z"
   },
   {
    "duration": 176,
    "start_time": "2022-03-22T13:11:52.366Z"
   },
   {
    "duration": 148,
    "start_time": "2022-03-22T13:11:54.186Z"
   },
   {
    "duration": 6,
    "start_time": "2022-03-22T13:12:02.294Z"
   },
   {
    "duration": 202,
    "start_time": "2022-03-22T13:12:07.239Z"
   },
   {
    "duration": 261,
    "start_time": "2022-03-22T13:12:10.876Z"
   },
   {
    "duration": 211,
    "start_time": "2022-03-22T13:14:30.495Z"
   },
   {
    "duration": 4,
    "start_time": "2022-03-22T13:15:49.354Z"
   },
   {
    "duration": 185,
    "start_time": "2022-03-22T13:15:58.824Z"
   },
   {
    "duration": 229,
    "start_time": "2022-03-22T13:16:15.059Z"
   },
   {
    "duration": 9,
    "start_time": "2022-03-22T13:16:27.216Z"
   },
   {
    "duration": 186,
    "start_time": "2022-03-22T13:16:43.959Z"
   },
   {
    "duration": 3,
    "start_time": "2022-03-22T13:16:48.053Z"
   },
   {
    "duration": 217,
    "start_time": "2022-03-22T13:16:51.816Z"
   },
   {
    "duration": 202,
    "start_time": "2022-03-22T13:16:55.347Z"
   },
   {
    "duration": 3,
    "start_time": "2022-03-22T13:17:07.026Z"
   },
   {
    "duration": 184,
    "start_time": "2022-03-22T13:17:09.549Z"
   },
   {
    "duration": 3538,
    "start_time": "2022-03-22T13:17:24.460Z"
   },
   {
    "duration": 4,
    "start_time": "2022-03-22T13:17:28.000Z"
   },
   {
    "duration": 3,
    "start_time": "2022-03-22T13:17:28.931Z"
   },
   {
    "duration": 3,
    "start_time": "2022-03-22T13:17:29.271Z"
   },
   {
    "duration": 4,
    "start_time": "2022-03-22T13:17:29.484Z"
   },
   {
    "duration": 141,
    "start_time": "2022-03-22T13:17:29.652Z"
   },
   {
    "duration": 129,
    "start_time": "2022-03-22T13:17:29.843Z"
   },
   {
    "duration": 132,
    "start_time": "2022-03-22T13:17:30.044Z"
   },
   {
    "duration": 79,
    "start_time": "2022-03-22T13:17:30.373Z"
   },
   {
    "duration": 263,
    "start_time": "2022-03-22T13:17:30.543Z"
   },
   {
    "duration": 0,
    "start_time": "2022-03-22T13:17:30.808Z"
   },
   {
    "duration": 166,
    "start_time": "2022-03-22T13:17:31.637Z"
   },
   {
    "duration": 4,
    "start_time": "2022-03-22T13:17:51.574Z"
   },
   {
    "duration": 214,
    "start_time": "2022-03-22T13:17:54.463Z"
   },
   {
    "duration": 4,
    "start_time": "2022-03-22T13:18:26.079Z"
   },
   {
    "duration": 185,
    "start_time": "2022-03-22T13:18:28.347Z"
   },
   {
    "duration": 160,
    "start_time": "2022-03-22T13:18:29.521Z"
   },
   {
    "duration": 249,
    "start_time": "2022-03-22T13:18:29.979Z"
   },
   {
    "duration": 4,
    "start_time": "2022-03-22T13:18:45.317Z"
   },
   {
    "duration": 185,
    "start_time": "2022-03-22T13:18:47.193Z"
   },
   {
    "duration": 182,
    "start_time": "2022-03-22T13:18:59.423Z"
   },
   {
    "duration": 196,
    "start_time": "2022-03-22T13:19:16.554Z"
   },
   {
    "duration": 211,
    "start_time": "2022-03-22T13:19:44.233Z"
   },
   {
    "duration": 182,
    "start_time": "2022-03-22T13:19:54.903Z"
   },
   {
    "duration": 196,
    "start_time": "2022-03-22T13:19:57.863Z"
   },
   {
    "duration": 3,
    "start_time": "2022-03-22T13:20:05.477Z"
   },
   {
    "duration": 323,
    "start_time": "2022-03-22T13:20:07.532Z"
   },
   {
    "duration": 325,
    "start_time": "2022-03-22T13:20:19.716Z"
   },
   {
    "duration": 4,
    "start_time": "2022-03-22T13:20:30.204Z"
   },
   {
    "duration": 3,
    "start_time": "2022-03-22T13:20:39.893Z"
   },
   {
    "duration": 168,
    "start_time": "2022-03-22T13:20:42.071Z"
   },
   {
    "duration": 142,
    "start_time": "2022-03-22T13:20:46.653Z"
   },
   {
    "duration": 253,
    "start_time": "2022-03-22T13:20:51.414Z"
   },
   {
    "duration": 170,
    "start_time": "2022-03-22T13:20:58.481Z"
   },
   {
    "duration": 162,
    "start_time": "2022-03-22T13:22:37.884Z"
   },
   {
    "duration": 157,
    "start_time": "2022-03-22T13:24:10.659Z"
   },
   {
    "duration": 4,
    "start_time": "2022-03-22T13:26:19.247Z"
   },
   {
    "duration": 5,
    "start_time": "2022-03-22T13:26:19.253Z"
   },
   {
    "duration": 143,
    "start_time": "2022-03-22T13:26:19.260Z"
   },
   {
    "duration": 127,
    "start_time": "2022-03-22T13:26:19.405Z"
   },
   {
    "duration": 132,
    "start_time": "2022-03-22T13:26:19.534Z"
   },
   {
    "duration": 81,
    "start_time": "2022-03-22T13:26:19.669Z"
   },
   {
    "duration": 4,
    "start_time": "2022-03-22T13:26:19.752Z"
   },
   {
    "duration": 2123,
    "start_time": "2022-03-22T13:28:14.840Z"
   },
   {
    "duration": 121,
    "start_time": "2022-03-22T13:31:49.464Z"
   },
   {
    "duration": 4,
    "start_time": "2022-03-22T13:31:57.008Z"
   },
   {
    "duration": 4,
    "start_time": "2022-03-22T13:31:57.263Z"
   },
   {
    "duration": 130,
    "start_time": "2022-03-22T13:31:57.526Z"
   },
   {
    "duration": 123,
    "start_time": "2022-03-22T13:31:57.720Z"
   },
   {
    "duration": 127,
    "start_time": "2022-03-22T13:31:57.900Z"
   },
   {
    "duration": 83,
    "start_time": "2022-03-22T13:31:58.447Z"
   },
   {
    "duration": 3,
    "start_time": "2022-03-22T13:31:58.847Z"
   },
   {
    "duration": 10,
    "start_time": "2022-03-22T13:31:59.127Z"
   },
   {
    "duration": 1557,
    "start_time": "2022-03-22T13:31:59.327Z"
   },
   {
    "duration": 2048,
    "start_time": "2022-03-22T13:32:37.084Z"
   },
   {
    "duration": 1237,
    "start_time": "2022-03-22T13:33:16.227Z"
   },
   {
    "duration": 1186,
    "start_time": "2022-03-22T13:33:35.865Z"
   },
   {
    "duration": 1617,
    "start_time": "2022-03-22T13:33:49.703Z"
   },
   {
    "duration": 40,
    "start_time": "2022-03-22T13:34:14.806Z"
   },
   {
    "duration": 1563,
    "start_time": "2022-03-22T13:34:22.207Z"
   },
   {
    "duration": 3,
    "start_time": "2022-03-22T13:37:49.973Z"
   },
   {
    "duration": 9,
    "start_time": "2022-03-22T13:38:09.131Z"
   },
   {
    "duration": 26,
    "start_time": "2022-03-22T13:38:14.327Z"
   },
   {
    "duration": 3,
    "start_time": "2022-03-22T13:38:21.815Z"
   },
   {
    "duration": 3,
    "start_time": "2022-03-22T13:38:21.986Z"
   },
   {
    "duration": 136,
    "start_time": "2022-03-22T13:38:22.147Z"
   },
   {
    "duration": 126,
    "start_time": "2022-03-22T13:38:22.337Z"
   },
   {
    "duration": 137,
    "start_time": "2022-03-22T13:38:22.667Z"
   },
   {
    "duration": 68,
    "start_time": "2022-03-22T13:38:23.453Z"
   },
   {
    "duration": 3,
    "start_time": "2022-03-22T13:38:24.317Z"
   },
   {
    "duration": 20,
    "start_time": "2022-03-22T13:38:24.866Z"
   },
   {
    "duration": 4,
    "start_time": "2022-03-22T13:38:34.325Z"
   },
   {
    "duration": 409,
    "start_time": "2022-03-22T13:38:34.847Z"
   },
   {
    "duration": 4,
    "start_time": "2022-03-22T13:40:18.268Z"
   },
   {
    "duration": 148,
    "start_time": "2022-03-22T13:40:30.948Z"
   },
   {
    "duration": 2328,
    "start_time": "2022-03-22T13:40:43.137Z"
   },
   {
    "duration": 4,
    "start_time": "2022-03-22T13:40:45.467Z"
   },
   {
    "duration": 11,
    "start_time": "2022-03-22T13:40:45.473Z"
   },
   {
    "duration": 3,
    "start_time": "2022-03-22T13:40:56.786Z"
   },
   {
    "duration": 138,
    "start_time": "2022-03-22T13:40:57.304Z"
   },
   {
    "duration": 125,
    "start_time": "2022-03-22T13:40:57.488Z"
   },
   {
    "duration": 129,
    "start_time": "2022-03-22T13:40:57.660Z"
   },
   {
    "duration": 78,
    "start_time": "2022-03-22T13:40:58.005Z"
   },
   {
    "duration": 241,
    "start_time": "2022-03-22T13:40:58.566Z"
   },
   {
    "duration": 65,
    "start_time": "2022-03-22T13:41:17.878Z"
   },
   {
    "duration": 3,
    "start_time": "2022-03-22T13:41:23.213Z"
   },
   {
    "duration": 135,
    "start_time": "2022-03-22T13:41:25.364Z"
   },
   {
    "duration": 144,
    "start_time": "2022-03-22T13:41:43.136Z"
   },
   {
    "duration": 154,
    "start_time": "2022-03-22T13:41:47.834Z"
   },
   {
    "duration": 6209,
    "start_time": "2022-03-22T13:41:58.245Z"
   },
   {
    "duration": 167,
    "start_time": "2022-03-22T13:42:05.188Z"
   },
   {
    "duration": 3,
    "start_time": "2022-03-22T13:42:55.206Z"
   },
   {
    "duration": 271,
    "start_time": "2022-03-22T13:42:58.134Z"
   },
   {
    "duration": 3,
    "start_time": "2022-03-22T13:43:08.395Z"
   },
   {
    "duration": 167,
    "start_time": "2022-03-22T13:43:10.575Z"
   },
   {
    "duration": 3,
    "start_time": "2022-03-22T13:43:37.575Z"
   },
   {
    "duration": 171,
    "start_time": "2022-03-22T13:43:39.825Z"
   },
   {
    "duration": 163,
    "start_time": "2022-03-22T13:43:42.705Z"
   },
   {
    "duration": 1513,
    "start_time": "2022-03-22T13:43:48.974Z"
   },
   {
    "duration": 4,
    "start_time": "2022-03-22T13:43:50.489Z"
   },
   {
    "duration": 7,
    "start_time": "2022-03-22T13:43:50.494Z"
   },
   {
    "duration": 132,
    "start_time": "2022-03-22T13:43:50.503Z"
   },
   {
    "duration": 122,
    "start_time": "2022-03-22T13:43:50.637Z"
   },
   {
    "duration": 123,
    "start_time": "2022-03-22T13:43:50.761Z"
   },
   {
    "duration": 81,
    "start_time": "2022-03-22T13:43:50.886Z"
   },
   {
    "duration": 152,
    "start_time": "2022-03-22T13:43:50.968Z"
   },
   {
    "duration": 176,
    "start_time": "2022-03-22T13:43:54.655Z"
   },
   {
    "duration": 140,
    "start_time": "2022-03-22T13:43:56.284Z"
   },
   {
    "duration": 153,
    "start_time": "2022-03-22T13:43:57.624Z"
   },
   {
    "duration": 156,
    "start_time": "2022-03-22T13:43:59.237Z"
   },
   {
    "duration": 6,
    "start_time": "2022-03-22T13:43:59.815Z"
   },
   {
    "duration": 3,
    "start_time": "2022-03-22T13:44:25.405Z"
   },
   {
    "duration": 242,
    "start_time": "2022-03-22T13:44:36.145Z"
   },
   {
    "duration": 168,
    "start_time": "2022-03-22T13:45:04.256Z"
   },
   {
    "duration": 140,
    "start_time": "2022-03-22T13:45:06.004Z"
   },
   {
    "duration": 4,
    "start_time": "2022-03-22T13:45:13.298Z"
   },
   {
    "duration": 171,
    "start_time": "2022-03-22T13:45:16.964Z"
   },
   {
    "duration": 8,
    "start_time": "2022-03-22T13:45:27.592Z"
   },
   {
    "duration": 45,
    "start_time": "2022-03-22T13:45:30.278Z"
   },
   {
    "duration": 1662,
    "start_time": "2022-03-22T13:45:37.852Z"
   },
   {
    "duration": 3,
    "start_time": "2022-03-22T13:45:39.516Z"
   },
   {
    "duration": 7,
    "start_time": "2022-03-22T13:45:39.520Z"
   },
   {
    "duration": 132,
    "start_time": "2022-03-22T13:45:39.529Z"
   },
   {
    "duration": 124,
    "start_time": "2022-03-22T13:45:39.663Z"
   },
   {
    "duration": 124,
    "start_time": "2022-03-22T13:45:39.789Z"
   },
   {
    "duration": 78,
    "start_time": "2022-03-22T13:45:39.915Z"
   },
   {
    "duration": 157,
    "start_time": "2022-03-22T13:45:39.995Z"
   },
   {
    "duration": 142,
    "start_time": "2022-03-22T13:45:40.154Z"
   },
   {
    "duration": 161,
    "start_time": "2022-03-22T13:45:40.300Z"
   },
   {
    "duration": 173,
    "start_time": "2022-03-22T13:45:40.463Z"
   },
   {
    "duration": 163,
    "start_time": "2022-03-22T13:45:48.202Z"
   },
   {
    "duration": 68,
    "start_time": "2022-03-22T13:46:19.133Z"
   },
   {
    "duration": 65,
    "start_time": "2022-03-22T13:46:24.117Z"
   },
   {
    "duration": 5,
    "start_time": "2022-03-22T13:46:24.345Z"
   },
   {
    "duration": 3,
    "start_time": "2022-03-22T13:47:00.087Z"
   },
   {
    "duration": 79,
    "start_time": "2022-03-22T13:47:03.106Z"
   },
   {
    "duration": 3,
    "start_time": "2022-03-22T13:47:11.045Z"
   },
   {
    "duration": 219,
    "start_time": "2022-03-22T13:47:15.719Z"
   },
   {
    "duration": 569,
    "start_time": "2022-03-22T13:47:45.534Z"
   },
   {
    "duration": 3,
    "start_time": "2022-03-22T13:48:21.415Z"
   },
   {
    "duration": 170,
    "start_time": "2022-03-22T13:48:23.845Z"
   },
   {
    "duration": 3,
    "start_time": "2022-03-22T13:48:46.073Z"
   },
   {
    "duration": 587,
    "start_time": "2022-03-22T13:48:48.765Z"
   },
   {
    "duration": 3,
    "start_time": "2022-03-22T13:51:19.545Z"
   },
   {
    "duration": 182,
    "start_time": "2022-03-22T13:51:22.244Z"
   },
   {
    "duration": 3,
    "start_time": "2022-03-22T13:51:32.865Z"
   },
   {
    "duration": 640,
    "start_time": "2022-03-22T13:51:35.434Z"
   },
   {
    "duration": 3,
    "start_time": "2022-03-22T13:52:00.876Z"
   },
   {
    "duration": 400,
    "start_time": "2022-03-22T13:52:03.426Z"
   },
   {
    "duration": 3,
    "start_time": "2022-03-22T13:52:20.003Z"
   },
   {
    "duration": 537,
    "start_time": "2022-03-22T13:52:21.865Z"
   },
   {
    "duration": 316,
    "start_time": "2022-03-22T13:56:05.719Z"
   },
   {
    "duration": 164,
    "start_time": "2022-03-22T13:56:32.678Z"
   },
   {
    "duration": 3,
    "start_time": "2022-03-22T13:56:36.449Z"
   },
   {
    "duration": 3,
    "start_time": "2022-03-22T13:56:36.600Z"
   },
   {
    "duration": 3,
    "start_time": "2022-03-22T13:56:36.767Z"
   },
   {
    "duration": 1855,
    "start_time": "2022-03-22T13:56:38.106Z"
   },
   {
    "duration": 346,
    "start_time": "2022-03-22T13:56:39.963Z"
   },
   {
    "duration": 975,
    "start_time": "2022-03-22T13:56:40.310Z"
   },
   {
    "duration": 73,
    "start_time": "2022-03-22T13:56:41.287Z"
   },
   {
    "duration": 642,
    "start_time": "2022-03-22T13:56:41.361Z"
   },
   {
    "duration": 3,
    "start_time": "2022-03-22T13:56:53.491Z"
   },
   {
    "duration": 4,
    "start_time": "2022-03-22T13:57:01.546Z"
   },
   {
    "duration": 546,
    "start_time": "2022-03-22T13:57:03.617Z"
   },
   {
    "duration": 542,
    "start_time": "2022-03-22T13:57:22.385Z"
   },
   {
    "duration": 651,
    "start_time": "2022-03-22T13:57:40.986Z"
   },
   {
    "duration": 3,
    "start_time": "2022-03-22T14:05:05.296Z"
   },
   {
    "duration": 4,
    "start_time": "2022-03-22T14:09:02.184Z"
   },
   {
    "duration": 12,
    "start_time": "2022-03-22T14:10:24.018Z"
   },
   {
    "duration": 4,
    "start_time": "2022-03-22T14:10:50.384Z"
   },
   {
    "duration": 46,
    "start_time": "2022-03-22T14:10:57.432Z"
   },
   {
    "duration": 42,
    "start_time": "2022-03-22T14:11:37.080Z"
   },
   {
    "duration": 14,
    "start_time": "2022-03-22T14:13:02.304Z"
   },
   {
    "duration": 12,
    "start_time": "2022-03-22T14:13:08.704Z"
   },
   {
    "duration": 12,
    "start_time": "2022-03-22T14:13:17.727Z"
   },
   {
    "duration": 22,
    "start_time": "2022-03-22T14:13:29.106Z"
   },
   {
    "duration": 4,
    "start_time": "2022-03-22T14:13:39.569Z"
   },
   {
    "duration": 49,
    "start_time": "2022-03-22T14:13:50.327Z"
   },
   {
    "duration": 2046,
    "start_time": "2022-03-22T14:14:00.837Z"
   },
   {
    "duration": 4,
    "start_time": "2022-03-22T14:14:02.885Z"
   },
   {
    "duration": 16,
    "start_time": "2022-03-22T14:14:02.891Z"
   },
   {
    "duration": 9,
    "start_time": "2022-03-22T14:14:02.910Z"
   },
   {
    "duration": 153,
    "start_time": "2022-03-22T14:14:02.920Z"
   },
   {
    "duration": 1827,
    "start_time": "2022-03-22T14:14:03.074Z"
   },
   {
    "duration": 347,
    "start_time": "2022-03-22T14:14:04.903Z"
   },
   {
    "duration": 87,
    "start_time": "2022-03-22T14:14:05.252Z"
   },
   {
    "duration": 541,
    "start_time": "2022-03-22T14:14:05.341Z"
   },
   {
    "duration": 57,
    "start_time": "2022-03-22T14:14:05.884Z"
   },
   {
    "duration": 642,
    "start_time": "2022-03-22T14:16:42.254Z"
   },
   {
    "duration": 511,
    "start_time": "2022-03-22T14:16:48.256Z"
   },
   {
    "duration": 543,
    "start_time": "2022-03-22T14:16:51.558Z"
   },
   {
    "duration": 221,
    "start_time": "2022-03-22T14:19:11.973Z"
   },
   {
    "duration": 1757,
    "start_time": "2022-03-22T14:19:23.438Z"
   },
   {
    "duration": 3,
    "start_time": "2022-03-22T14:19:25.198Z"
   },
   {
    "duration": 6,
    "start_time": "2022-03-22T14:19:25.203Z"
   },
   {
    "duration": 6,
    "start_time": "2022-03-22T14:19:25.211Z"
   },
   {
    "duration": 163,
    "start_time": "2022-03-22T14:19:25.219Z"
   },
   {
    "duration": 133,
    "start_time": "2022-03-22T14:19:25.384Z"
   },
   {
    "duration": 130,
    "start_time": "2022-03-22T14:19:25.519Z"
   },
   {
    "duration": 85,
    "start_time": "2022-03-22T14:19:25.651Z"
   },
   {
    "duration": 529,
    "start_time": "2022-03-22T14:19:25.737Z"
   },
   {
    "duration": 77,
    "start_time": "2022-03-22T14:19:26.268Z"
   },
   {
    "duration": 652,
    "start_time": "2022-03-22T14:19:26.347Z"
   },
   {
    "duration": 77,
    "start_time": "2022-03-22T14:19:27.001Z"
   },
   {
    "duration": 576,
    "start_time": "2022-03-22T14:19:27.080Z"
   },
   {
    "duration": 223,
    "start_time": "2022-03-22T14:19:27.658Z"
   },
   {
    "duration": 5,
    "start_time": "2022-03-22T14:20:45.013Z"
   },
   {
    "duration": 12,
    "start_time": "2022-03-22T14:20:45.372Z"
   },
   {
    "duration": 17,
    "start_time": "2022-03-22T14:20:46.285Z"
   },
   {
    "duration": 5,
    "start_time": "2022-03-22T14:21:13.120Z"
   },
   {
    "duration": 1631,
    "start_time": "2022-03-22T14:21:14.313Z"
   },
   {
    "duration": 132,
    "start_time": "2022-03-22T14:21:15.947Z"
   },
   {
    "duration": 138,
    "start_time": "2022-03-22T14:21:16.081Z"
   },
   {
    "duration": 74,
    "start_time": "2022-03-22T14:21:16.221Z"
   },
   {
    "duration": 600,
    "start_time": "2022-03-22T14:21:16.297Z"
   },
   {
    "duration": 96,
    "start_time": "2022-03-22T14:21:16.899Z"
   },
   {
    "duration": 640,
    "start_time": "2022-03-22T14:21:16.997Z"
   },
   {
    "duration": 70,
    "start_time": "2022-03-22T14:21:17.639Z"
   },
   {
    "duration": 642,
    "start_time": "2022-03-22T14:21:17.711Z"
   },
   {
    "duration": 214,
    "start_time": "2022-03-22T14:21:18.356Z"
   },
   {
    "duration": 5,
    "start_time": "2022-03-22T14:21:18.572Z"
   },
   {
    "duration": 19,
    "start_time": "2022-03-22T14:21:18.578Z"
   },
   {
    "duration": 39,
    "start_time": "2022-03-22T14:21:18.599Z"
   },
   {
    "duration": 258,
    "start_time": "2022-03-22T14:21:18.641Z"
   },
   {
    "duration": 4,
    "start_time": "2022-03-22T14:21:41.761Z"
   },
   {
    "duration": 127,
    "start_time": "2022-03-22T14:21:43.565Z"
   },
   {
    "duration": 127,
    "start_time": "2022-03-22T14:21:43.748Z"
   },
   {
    "duration": 124,
    "start_time": "2022-03-22T14:21:43.914Z"
   },
   {
    "duration": 72,
    "start_time": "2022-03-22T14:21:44.229Z"
   },
   {
    "duration": 572,
    "start_time": "2022-03-22T14:21:44.365Z"
   },
   {
    "duration": 71,
    "start_time": "2022-03-22T14:21:44.938Z"
   },
   {
    "duration": 593,
    "start_time": "2022-03-22T14:21:45.012Z"
   },
   {
    "duration": 80,
    "start_time": "2022-03-22T14:21:45.607Z"
   },
   {
    "duration": 721,
    "start_time": "2022-03-22T14:21:45.688Z"
   },
   {
    "duration": 239,
    "start_time": "2022-03-22T14:21:46.411Z"
   },
   {
    "duration": 5,
    "start_time": "2022-03-22T14:21:48.902Z"
   },
   {
    "duration": 13,
    "start_time": "2022-03-22T14:21:49.245Z"
   },
   {
    "duration": 32,
    "start_time": "2022-03-22T14:21:49.501Z"
   },
   {
    "duration": 4,
    "start_time": "2022-03-22T14:23:20.328Z"
   },
   {
    "duration": 4,
    "start_time": "2022-03-22T14:23:30.033Z"
   },
   {
    "duration": 3,
    "start_time": "2022-03-22T14:23:40.811Z"
   },
   {
    "duration": 12,
    "start_time": "2022-03-22T14:27:06.927Z"
   },
   {
    "duration": 24,
    "start_time": "2022-03-22T14:27:13.263Z"
   },
   {
    "duration": 3,
    "start_time": "2022-03-22T14:27:37.575Z"
   },
   {
    "duration": 14,
    "start_time": "2022-03-22T14:27:49.782Z"
   },
   {
    "duration": 21,
    "start_time": "2022-03-22T14:28:26.047Z"
   },
   {
    "duration": 15,
    "start_time": "2022-03-22T14:29:05.421Z"
   },
   {
    "duration": 10,
    "start_time": "2022-03-22T14:29:47.087Z"
   },
   {
    "duration": 22,
    "start_time": "2022-03-22T14:29:51.852Z"
   },
   {
    "duration": 120,
    "start_time": "2022-03-22T14:29:52.215Z"
   },
   {
    "duration": 15,
    "start_time": "2022-03-22T14:30:18.902Z"
   },
   {
    "duration": 20,
    "start_time": "2022-03-22T14:30:35.842Z"
   },
   {
    "duration": 15,
    "start_time": "2022-03-22T14:30:37.771Z"
   },
   {
    "duration": 21,
    "start_time": "2022-03-22T14:30:38.094Z"
   },
   {
    "duration": 37,
    "start_time": "2022-03-22T14:30:45.096Z"
   },
   {
    "duration": 9,
    "start_time": "2022-03-22T14:31:22.323Z"
   },
   {
    "duration": 15,
    "start_time": "2022-03-22T14:31:24.401Z"
   },
   {
    "duration": 19,
    "start_time": "2022-03-22T14:31:24.982Z"
   },
   {
    "duration": 15,
    "start_time": "2022-03-22T14:31:30.223Z"
   },
   {
    "duration": 15,
    "start_time": "2022-03-22T14:31:35.222Z"
   },
   {
    "duration": 15,
    "start_time": "2022-03-22T14:34:26.331Z"
   },
   {
    "duration": 15,
    "start_time": "2022-03-22T14:35:15.862Z"
   },
   {
    "duration": 21,
    "start_time": "2022-03-22T14:35:52.337Z"
   },
   {
    "duration": 91,
    "start_time": "2022-03-22T14:36:20.943Z"
   },
   {
    "duration": 16,
    "start_time": "2022-03-22T14:36:25.604Z"
   },
   {
    "duration": 37,
    "start_time": "2022-03-22T14:36:53.143Z"
   },
   {
    "duration": 17,
    "start_time": "2022-03-22T14:37:03.328Z"
   },
   {
    "duration": 16,
    "start_time": "2022-03-22T14:37:03.541Z"
   },
   {
    "duration": 16,
    "start_time": "2022-03-22T14:37:03.764Z"
   },
   {
    "duration": 16,
    "start_time": "2022-03-22T14:40:26.664Z"
   },
   {
    "duration": 15,
    "start_time": "2022-03-22T14:40:28.257Z"
   },
   {
    "duration": 48,
    "start_time": "2022-03-22T14:40:29.683Z"
   },
   {
    "duration": 16,
    "start_time": "2022-03-22T14:40:30.414Z"
   },
   {
    "duration": 5,
    "start_time": "2022-03-22T14:42:41.873Z"
   },
   {
    "duration": 258,
    "start_time": "2022-03-22T14:42:42.332Z"
   },
   {
    "duration": 8,
    "start_time": "2022-03-22T14:42:57.032Z"
   },
   {
    "duration": 1695,
    "start_time": "2022-03-22T14:42:58.709Z"
   },
   {
    "duration": 3,
    "start_time": "2022-03-22T14:43:00.405Z"
   },
   {
    "duration": 13,
    "start_time": "2022-03-22T14:43:00.410Z"
   },
   {
    "duration": 11,
    "start_time": "2022-03-22T14:43:00.426Z"
   },
   {
    "duration": 155,
    "start_time": "2022-03-22T14:43:00.439Z"
   },
   {
    "duration": 128,
    "start_time": "2022-03-22T14:43:00.596Z"
   },
   {
    "duration": 130,
    "start_time": "2022-03-22T14:43:00.731Z"
   },
   {
    "duration": 85,
    "start_time": "2022-03-22T14:43:00.863Z"
   },
   {
    "duration": 575,
    "start_time": "2022-03-22T14:43:00.949Z"
   },
   {
    "duration": 77,
    "start_time": "2022-03-22T14:43:01.531Z"
   },
   {
    "duration": 708,
    "start_time": "2022-03-22T14:43:01.610Z"
   },
   {
    "duration": 78,
    "start_time": "2022-03-22T14:43:02.320Z"
   },
   {
    "duration": 637,
    "start_time": "2022-03-22T14:43:02.400Z"
   },
   {
    "duration": 5,
    "start_time": "2022-03-22T14:43:03.039Z"
   },
   {
    "duration": 244,
    "start_time": "2022-03-22T14:43:03.046Z"
   },
   {
    "duration": 51,
    "start_time": "2022-03-22T14:43:03.292Z"
   },
   {
    "duration": 17,
    "start_time": "2022-03-22T14:43:03.344Z"
   },
   {
    "duration": 108,
    "start_time": "2022-03-22T14:43:03.432Z"
   },
   {
    "duration": 192,
    "start_time": "2022-03-22T14:43:03.543Z"
   },
   {
    "duration": 565,
    "start_time": "2022-03-22T14:43:18.815Z"
   },
   {
    "duration": 222,
    "start_time": "2022-03-22T14:45:17.291Z"
   },
   {
    "duration": 1721,
    "start_time": "2022-03-22T14:45:27.118Z"
   },
   {
    "duration": 4,
    "start_time": "2022-03-22T14:45:28.842Z"
   },
   {
    "duration": 6,
    "start_time": "2022-03-22T14:45:28.848Z"
   },
   {
    "duration": 4,
    "start_time": "2022-03-22T14:45:28.857Z"
   },
   {
    "duration": 145,
    "start_time": "2022-03-22T14:45:28.863Z"
   },
   {
    "duration": 129,
    "start_time": "2022-03-22T14:45:29.010Z"
   },
   {
    "duration": 126,
    "start_time": "2022-03-22T14:45:29.141Z"
   },
   {
    "duration": 88,
    "start_time": "2022-03-22T14:45:29.269Z"
   },
   {
    "duration": 533,
    "start_time": "2022-03-22T14:45:29.359Z"
   },
   {
    "duration": 83,
    "start_time": "2022-03-22T14:45:29.894Z"
   },
   {
    "duration": 633,
    "start_time": "2022-03-22T14:45:29.978Z"
   },
   {
    "duration": 82,
    "start_time": "2022-03-22T14:45:30.613Z"
   },
   {
    "duration": 615,
    "start_time": "2022-03-22T14:45:30.697Z"
   },
   {
    "duration": 4,
    "start_time": "2022-03-22T14:45:31.314Z"
   },
   {
    "duration": 243,
    "start_time": "2022-03-22T14:45:31.320Z"
   },
   {
    "duration": 40,
    "start_time": "2022-03-22T14:45:31.566Z"
   },
   {
    "duration": 32,
    "start_time": "2022-03-22T14:45:31.608Z"
   },
   {
    "duration": 196,
    "start_time": "2022-03-22T14:45:31.642Z"
   },
   {
    "duration": 209,
    "start_time": "2022-03-22T14:45:31.841Z"
   },
   {
    "duration": 2271,
    "start_time": "2022-03-22T17:43:48.060Z"
   },
   {
    "duration": 5,
    "start_time": "2022-03-22T17:43:50.333Z"
   },
   {
    "duration": 18,
    "start_time": "2022-03-22T17:43:50.340Z"
   },
   {
    "duration": 22,
    "start_time": "2022-03-22T17:43:50.361Z"
   },
   {
    "duration": 165,
    "start_time": "2022-03-22T17:43:50.385Z"
   },
   {
    "duration": 175,
    "start_time": "2022-03-22T17:43:50.553Z"
   },
   {
    "duration": 161,
    "start_time": "2022-03-22T17:43:50.730Z"
   },
   {
    "duration": 115,
    "start_time": "2022-03-22T17:43:50.895Z"
   },
   {
    "duration": 863,
    "start_time": "2022-03-22T17:43:51.071Z"
   },
   {
    "duration": 104,
    "start_time": "2022-03-22T17:43:51.937Z"
   },
   {
    "duration": 1024,
    "start_time": "2022-03-22T17:43:52.044Z"
   },
   {
    "duration": 112,
    "start_time": "2022-03-22T17:43:53.073Z"
   },
   {
    "duration": 909,
    "start_time": "2022-03-22T17:43:53.188Z"
   },
   {
    "duration": 6,
    "start_time": "2022-03-22T17:43:54.100Z"
   },
   {
    "duration": 585,
    "start_time": "2022-03-22T17:43:54.108Z"
   },
   {
    "duration": 57,
    "start_time": "2022-03-22T17:43:54.698Z"
   },
   {
    "duration": 118,
    "start_time": "2022-03-22T17:43:54.757Z"
   },
   {
    "duration": 107,
    "start_time": "2022-03-22T17:43:54.879Z"
   },
   {
    "duration": 99,
    "start_time": "2022-03-22T17:43:54.990Z"
   }
  ],
  "kernelspec": {
   "display_name": "Python 3 (ipykernel)",
   "language": "python",
   "name": "python3"
  },
  "language_info": {
   "codemirror_mode": {
    "name": "ipython",
    "version": 3
   },
   "file_extension": ".py",
   "mimetype": "text/x-python",
   "name": "python",
   "nbconvert_exporter": "python",
   "pygments_lexer": "ipython3",
   "version": "3.8.12"
  },
  "toc": {
   "base_numbering": 1,
   "nav_menu": {},
   "number_sections": true,
   "sideBar": true,
   "skip_h1_title": true,
   "title_cell": "Table of Contents",
   "title_sidebar": "Contents",
   "toc_cell": false,
   "toc_position": {},
   "toc_section_display": true,
   "toc_window_display": true
  }
 },
 "nbformat": 4,
 "nbformat_minor": 2
}
