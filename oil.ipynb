{
 "cells": [
  {
   "cell_type": "markdown",
   "metadata": {},
   "source": [
    "# Прогноз прибыли для нефтяных скважин"
   ]
  },
  {
   "cell_type": "markdown",
   "metadata": {},
   "source": [
    "В условной нефтедобывающей компании необходимо решить, где бурить новую скважину. В распоряжении данные проб нефти в трёх регионах. Необходимо построить модель для определения региона, где добыча принесёт наибольшую прибыль.\n",
    "\n",
    "Шаги для выбора локации:\n",
    "\n",
    "- В избранном регионе ищут месторождения, для каждого определяют значения признаков;\n",
    "- Строят модель и оценивают объём запасов;\n",
    "- Выбирают месторождения с самым высокими оценками значений. Количество месторождений зависит от бюджета компании и стоимости разработки одной скважины;\n",
    "- Прибыль равна суммарной прибыли отобранных месторождений."
   ]
  },
  {
   "cell_type": "code",
   "execution_count": 1,
   "metadata": {},
   "outputs": [],
   "source": [
    "import pandas as pd\n",
    "import numpy as np\n",
    "import scipy.stats as st\n",
    "import matplotlib.pyplot as plt\n",
    "import seaborn as sns\n",
    "from sklearn.linear_model import LinearRegression\n",
    "from sklearn.model_selection import train_test_split\n",
    "from sklearn.model_selection import cross_val_score\n",
    "from sklearn.metrics import mean_squared_error\n",
    "from numpy.random import RandomState\n",
    "state = np.random.RandomState(12345) "
   ]
  },
  {
   "cell_type": "markdown",
   "metadata": {},
   "source": [
    "## Загрузка и подготовка данных"
   ]
  },
  {
   "cell_type": "code",
   "execution_count": 2,
   "metadata": {},
   "outputs": [],
   "source": [
    "try:\n",
    "    df_0 = pd.read_csv('/datasets/geo_data_0.csv')\n",
    "except:\n",
    "    df_0 = pd.read_csv('geo_data_0.csv')"
   ]
  },
  {
   "cell_type": "code",
   "execution_count": 3,
   "metadata": {},
   "outputs": [],
   "source": [
    "try:\n",
    "    df_1 = pd.read_csv('/datasets/geo_data_1.csv')\n",
    "except:\n",
    "    df_1 = pd.read_csv('geo_data_1.csv')"
   ]
  },
  {
   "cell_type": "code",
   "execution_count": 4,
   "metadata": {},
   "outputs": [],
   "source": [
    "try:\n",
    "    df_2 = pd.read_csv('/datasets/geo_data_2.csv')\n",
    "except:\n",
    "    df_2 = pd.read_csv('geo_data_2.csv')"
   ]
  },
  {
   "cell_type": "code",
   "execution_count": 5,
   "metadata": {},
   "outputs": [],
   "source": [
    "def review(df): \n",
    "    \"\"\"функция для отображения общей информации\"\"\"\n",
    "    info = display(df.head(10)), df.info(), display(df.describe(), df.corr()) "
   ]
  },
  {
   "cell_type": "code",
   "execution_count": 6,
   "metadata": {},
   "outputs": [],
   "source": [
    "def dupl(df):\n",
    "    \"\"\"функция для подсчета дубликатов\"\"\"\n",
    "    if df_0.duplicated().sum() == 0:\n",
    "        print('Дубликатов не обнаружено')\n",
    "    else:\n",
    "        print('Дубликатов найдено: {}'.format(df_0.duplicated().sum()))"
   ]
  },
  {
   "cell_type": "code",
   "execution_count": 7,
   "metadata": {},
   "outputs": [],
   "source": [
    "def boxplot(df):\n",
    "    \"\"\"функция для построения коробок с усами\"\"\"\n",
    "    sns.boxplot(x = df)  \n",
    "    sns.set_style('darkgrid')\n",
    "    plt.show()"
   ]
  },
  {
   "cell_type": "markdown",
   "metadata": {},
   "source": [
    "### Проверяем регион df_0"
   ]
  },
  {
   "cell_type": "code",
   "execution_count": 8,
   "metadata": {},
   "outputs": [
    {
     "data": {
      "text/html": [
       "<div>\n",
       "<style scoped>\n",
       "    .dataframe tbody tr th:only-of-type {\n",
       "        vertical-align: middle;\n",
       "    }\n",
       "\n",
       "    .dataframe tbody tr th {\n",
       "        vertical-align: top;\n",
       "    }\n",
       "\n",
       "    .dataframe thead th {\n",
       "        text-align: right;\n",
       "    }\n",
       "</style>\n",
       "<table border=\"1\" class=\"dataframe\">\n",
       "  <thead>\n",
       "    <tr style=\"text-align: right;\">\n",
       "      <th></th>\n",
       "      <th>id</th>\n",
       "      <th>f0</th>\n",
       "      <th>f1</th>\n",
       "      <th>f2</th>\n",
       "      <th>product</th>\n",
       "    </tr>\n",
       "  </thead>\n",
       "  <tbody>\n",
       "    <tr>\n",
       "      <th>0</th>\n",
       "      <td>txEyH</td>\n",
       "      <td>0.705745</td>\n",
       "      <td>-0.497823</td>\n",
       "      <td>1.221170</td>\n",
       "      <td>105.280062</td>\n",
       "    </tr>\n",
       "    <tr>\n",
       "      <th>1</th>\n",
       "      <td>2acmU</td>\n",
       "      <td>1.334711</td>\n",
       "      <td>-0.340164</td>\n",
       "      <td>4.365080</td>\n",
       "      <td>73.037750</td>\n",
       "    </tr>\n",
       "    <tr>\n",
       "      <th>2</th>\n",
       "      <td>409Wp</td>\n",
       "      <td>1.022732</td>\n",
       "      <td>0.151990</td>\n",
       "      <td>1.419926</td>\n",
       "      <td>85.265647</td>\n",
       "    </tr>\n",
       "    <tr>\n",
       "      <th>3</th>\n",
       "      <td>iJLyR</td>\n",
       "      <td>-0.032172</td>\n",
       "      <td>0.139033</td>\n",
       "      <td>2.978566</td>\n",
       "      <td>168.620776</td>\n",
       "    </tr>\n",
       "    <tr>\n",
       "      <th>4</th>\n",
       "      <td>Xdl7t</td>\n",
       "      <td>1.988431</td>\n",
       "      <td>0.155413</td>\n",
       "      <td>4.751769</td>\n",
       "      <td>154.036647</td>\n",
       "    </tr>\n",
       "    <tr>\n",
       "      <th>5</th>\n",
       "      <td>wX4Hy</td>\n",
       "      <td>0.969570</td>\n",
       "      <td>0.489775</td>\n",
       "      <td>-0.735383</td>\n",
       "      <td>64.741541</td>\n",
       "    </tr>\n",
       "    <tr>\n",
       "      <th>6</th>\n",
       "      <td>tL6pL</td>\n",
       "      <td>0.645075</td>\n",
       "      <td>0.530656</td>\n",
       "      <td>1.780266</td>\n",
       "      <td>49.055285</td>\n",
       "    </tr>\n",
       "    <tr>\n",
       "      <th>7</th>\n",
       "      <td>BYPU6</td>\n",
       "      <td>-0.400648</td>\n",
       "      <td>0.808337</td>\n",
       "      <td>-5.624670</td>\n",
       "      <td>72.943292</td>\n",
       "    </tr>\n",
       "    <tr>\n",
       "      <th>8</th>\n",
       "      <td>j9Oui</td>\n",
       "      <td>0.643105</td>\n",
       "      <td>-0.551583</td>\n",
       "      <td>2.372141</td>\n",
       "      <td>113.356160</td>\n",
       "    </tr>\n",
       "    <tr>\n",
       "      <th>9</th>\n",
       "      <td>OLuZU</td>\n",
       "      <td>2.173381</td>\n",
       "      <td>0.563698</td>\n",
       "      <td>9.441852</td>\n",
       "      <td>127.910945</td>\n",
       "    </tr>\n",
       "  </tbody>\n",
       "</table>\n",
       "</div>"
      ],
      "text/plain": [
       "      id        f0        f1        f2     product\n",
       "0  txEyH  0.705745 -0.497823  1.221170  105.280062\n",
       "1  2acmU  1.334711 -0.340164  4.365080   73.037750\n",
       "2  409Wp  1.022732  0.151990  1.419926   85.265647\n",
       "3  iJLyR -0.032172  0.139033  2.978566  168.620776\n",
       "4  Xdl7t  1.988431  0.155413  4.751769  154.036647\n",
       "5  wX4Hy  0.969570  0.489775 -0.735383   64.741541\n",
       "6  tL6pL  0.645075  0.530656  1.780266   49.055285\n",
       "7  BYPU6 -0.400648  0.808337 -5.624670   72.943292\n",
       "8  j9Oui  0.643105 -0.551583  2.372141  113.356160\n",
       "9  OLuZU  2.173381  0.563698  9.441852  127.910945"
      ]
     },
     "metadata": {},
     "output_type": "display_data"
    },
    {
     "name": "stdout",
     "output_type": "stream",
     "text": [
      "<class 'pandas.core.frame.DataFrame'>\n",
      "RangeIndex: 100000 entries, 0 to 99999\n",
      "Data columns (total 5 columns):\n",
      " #   Column   Non-Null Count   Dtype  \n",
      "---  ------   --------------   -----  \n",
      " 0   id       100000 non-null  object \n",
      " 1   f0       100000 non-null  float64\n",
      " 2   f1       100000 non-null  float64\n",
      " 3   f2       100000 non-null  float64\n",
      " 4   product  100000 non-null  float64\n",
      "dtypes: float64(4), object(1)\n",
      "memory usage: 3.8+ MB\n"
     ]
    },
    {
     "data": {
      "text/html": [
       "<div>\n",
       "<style scoped>\n",
       "    .dataframe tbody tr th:only-of-type {\n",
       "        vertical-align: middle;\n",
       "    }\n",
       "\n",
       "    .dataframe tbody tr th {\n",
       "        vertical-align: top;\n",
       "    }\n",
       "\n",
       "    .dataframe thead th {\n",
       "        text-align: right;\n",
       "    }\n",
       "</style>\n",
       "<table border=\"1\" class=\"dataframe\">\n",
       "  <thead>\n",
       "    <tr style=\"text-align: right;\">\n",
       "      <th></th>\n",
       "      <th>f0</th>\n",
       "      <th>f1</th>\n",
       "      <th>f2</th>\n",
       "      <th>product</th>\n",
       "    </tr>\n",
       "  </thead>\n",
       "  <tbody>\n",
       "    <tr>\n",
       "      <th>count</th>\n",
       "      <td>100000.000000</td>\n",
       "      <td>100000.000000</td>\n",
       "      <td>100000.000000</td>\n",
       "      <td>100000.000000</td>\n",
       "    </tr>\n",
       "    <tr>\n",
       "      <th>mean</th>\n",
       "      <td>0.500419</td>\n",
       "      <td>0.250143</td>\n",
       "      <td>2.502647</td>\n",
       "      <td>92.500000</td>\n",
       "    </tr>\n",
       "    <tr>\n",
       "      <th>std</th>\n",
       "      <td>0.871832</td>\n",
       "      <td>0.504433</td>\n",
       "      <td>3.248248</td>\n",
       "      <td>44.288691</td>\n",
       "    </tr>\n",
       "    <tr>\n",
       "      <th>min</th>\n",
       "      <td>-1.408605</td>\n",
       "      <td>-0.848218</td>\n",
       "      <td>-12.088328</td>\n",
       "      <td>0.000000</td>\n",
       "    </tr>\n",
       "    <tr>\n",
       "      <th>25%</th>\n",
       "      <td>-0.072580</td>\n",
       "      <td>-0.200881</td>\n",
       "      <td>0.287748</td>\n",
       "      <td>56.497507</td>\n",
       "    </tr>\n",
       "    <tr>\n",
       "      <th>50%</th>\n",
       "      <td>0.502360</td>\n",
       "      <td>0.250252</td>\n",
       "      <td>2.515969</td>\n",
       "      <td>91.849972</td>\n",
       "    </tr>\n",
       "    <tr>\n",
       "      <th>75%</th>\n",
       "      <td>1.073581</td>\n",
       "      <td>0.700646</td>\n",
       "      <td>4.715088</td>\n",
       "      <td>128.564089</td>\n",
       "    </tr>\n",
       "    <tr>\n",
       "      <th>max</th>\n",
       "      <td>2.362331</td>\n",
       "      <td>1.343769</td>\n",
       "      <td>16.003790</td>\n",
       "      <td>185.364347</td>\n",
       "    </tr>\n",
       "  </tbody>\n",
       "</table>\n",
       "</div>"
      ],
      "text/plain": [
       "                  f0             f1             f2        product\n",
       "count  100000.000000  100000.000000  100000.000000  100000.000000\n",
       "mean        0.500419       0.250143       2.502647      92.500000\n",
       "std         0.871832       0.504433       3.248248      44.288691\n",
       "min        -1.408605      -0.848218     -12.088328       0.000000\n",
       "25%        -0.072580      -0.200881       0.287748      56.497507\n",
       "50%         0.502360       0.250252       2.515969      91.849972\n",
       "75%         1.073581       0.700646       4.715088     128.564089\n",
       "max         2.362331       1.343769      16.003790     185.364347"
      ]
     },
     "metadata": {},
     "output_type": "display_data"
    },
    {
     "data": {
      "text/html": [
       "<div>\n",
       "<style scoped>\n",
       "    .dataframe tbody tr th:only-of-type {\n",
       "        vertical-align: middle;\n",
       "    }\n",
       "\n",
       "    .dataframe tbody tr th {\n",
       "        vertical-align: top;\n",
       "    }\n",
       "\n",
       "    .dataframe thead th {\n",
       "        text-align: right;\n",
       "    }\n",
       "</style>\n",
       "<table border=\"1\" class=\"dataframe\">\n",
       "  <thead>\n",
       "    <tr style=\"text-align: right;\">\n",
       "      <th></th>\n",
       "      <th>f0</th>\n",
       "      <th>f1</th>\n",
       "      <th>f2</th>\n",
       "      <th>product</th>\n",
       "    </tr>\n",
       "  </thead>\n",
       "  <tbody>\n",
       "    <tr>\n",
       "      <th>f0</th>\n",
       "      <td>1.000000</td>\n",
       "      <td>-0.440723</td>\n",
       "      <td>-0.003153</td>\n",
       "      <td>0.143536</td>\n",
       "    </tr>\n",
       "    <tr>\n",
       "      <th>f1</th>\n",
       "      <td>-0.440723</td>\n",
       "      <td>1.000000</td>\n",
       "      <td>0.001724</td>\n",
       "      <td>-0.192356</td>\n",
       "    </tr>\n",
       "    <tr>\n",
       "      <th>f2</th>\n",
       "      <td>-0.003153</td>\n",
       "      <td>0.001724</td>\n",
       "      <td>1.000000</td>\n",
       "      <td>0.483663</td>\n",
       "    </tr>\n",
       "    <tr>\n",
       "      <th>product</th>\n",
       "      <td>0.143536</td>\n",
       "      <td>-0.192356</td>\n",
       "      <td>0.483663</td>\n",
       "      <td>1.000000</td>\n",
       "    </tr>\n",
       "  </tbody>\n",
       "</table>\n",
       "</div>"
      ],
      "text/plain": [
       "               f0        f1        f2   product\n",
       "f0       1.000000 -0.440723 -0.003153  0.143536\n",
       "f1      -0.440723  1.000000  0.001724 -0.192356\n",
       "f2      -0.003153  0.001724  1.000000  0.483663\n",
       "product  0.143536 -0.192356  0.483663  1.000000"
      ]
     },
     "metadata": {},
     "output_type": "display_data"
    }
   ],
   "source": [
    "review(df_0)"
   ]
  },
  {
   "cell_type": "code",
   "execution_count": 9,
   "metadata": {},
   "outputs": [
    {
     "name": "stdout",
     "output_type": "stream",
     "text": [
      "Дубликатов не обнаружено\n"
     ]
    }
   ],
   "source": [
    "dupl(df_0)"
   ]
  },
  {
   "cell_type": "markdown",
   "metadata": {},
   "source": [
    "- данные практически без мусора;\n",
    "- в столбце `f2` видны выбросы;\n",
    "- корреляция между столбцами отсутсвует."
   ]
  },
  {
   "cell_type": "markdown",
   "metadata": {},
   "source": [
    "Посмотрим на боксплоты."
   ]
  },
  {
   "cell_type": "code",
   "execution_count": 10,
   "metadata": {},
   "outputs": [
    {
     "data": {
      "image/png": "[encoded data removed]",
      "text/plain": [
       "<Figure size 1080x360 with 1 Axes>"
      ]
     },
     "metadata": {
      "needs_background": "light"
     },
     "output_type": "display_data"
    },
    {
     "data": {
      "image/png": "[encoded data removed]",
      "text/plain": [
       "<Figure size 432x288 with 1 Axes>"
      ]
     },
     "metadata": {},
     "output_type": "display_data"
    },
    {
     "data": {
      "image/png": "[encoded data removed]",
      "text/plain": [
       "<Figure size 432x288 with 1 Axes>"
      ]
     },
     "metadata": {},
     "output_type": "display_data"
    },
    {
     "data": {
      "image/png": "[encoded data removed]",
      "text/plain": [
       "<Figure size 432x288 with 1 Axes>"
      ]
     },
     "metadata": {},
     "output_type": "display_data"
    }
   ],
   "source": [
    "fig, ax = plt.subplots(figsize =(15,5))\n",
    "boxplot(df_0['f0'])\n",
    "boxplot(df_0['f1'])\n",
    "boxplot(df_0['f2'])\n",
    "boxplot(df_0['product'])"
   ]
  },
  {
   "cell_type": "markdown",
   "metadata": {},
   "source": [
    "Видим много выбросов в столбце `f2`."
   ]
  },
  {
   "cell_type": "markdown",
   "metadata": {},
   "source": [
    "### Проверяем регион df_1"
   ]
  },
  {
   "cell_type": "code",
   "execution_count": 11,
   "metadata": {},
   "outputs": [
    {
     "data": {
      "text/html": [
       "<div>\n",
       "<style scoped>\n",
       "    .dataframe tbody tr th:only-of-type {\n",
       "        vertical-align: middle;\n",
       "    }\n",
       "\n",
       "    .dataframe tbody tr th {\n",
       "        vertical-align: top;\n",
       "    }\n",
       "\n",
       "    .dataframe thead th {\n",
       "        text-align: right;\n",
       "    }\n",
       "</style>\n",
       "<table border=\"1\" class=\"dataframe\">\n",
       "  <thead>\n",
       "    <tr style=\"text-align: right;\">\n",
       "      <th></th>\n",
       "      <th>id</th>\n",
       "      <th>f0</th>\n",
       "      <th>f1</th>\n",
       "      <th>f2</th>\n",
       "      <th>product</th>\n",
       "    </tr>\n",
       "  </thead>\n",
       "  <tbody>\n",
       "    <tr>\n",
       "      <th>0</th>\n",
       "      <td>kBEdx</td>\n",
       "      <td>-15.001348</td>\n",
       "      <td>-8.276000</td>\n",
       "      <td>-0.005876</td>\n",
       "      <td>3.179103</td>\n",
       "    </tr>\n",
       "    <tr>\n",
       "      <th>1</th>\n",
       "      <td>62mP7</td>\n",
       "      <td>14.272088</td>\n",
       "      <td>-3.475083</td>\n",
       "      <td>0.999183</td>\n",
       "      <td>26.953261</td>\n",
       "    </tr>\n",
       "    <tr>\n",
       "      <th>2</th>\n",
       "      <td>vyE1P</td>\n",
       "      <td>6.263187</td>\n",
       "      <td>-5.948386</td>\n",
       "      <td>5.001160</td>\n",
       "      <td>134.766305</td>\n",
       "    </tr>\n",
       "    <tr>\n",
       "      <th>3</th>\n",
       "      <td>KcrkZ</td>\n",
       "      <td>-13.081196</td>\n",
       "      <td>-11.506057</td>\n",
       "      <td>4.999415</td>\n",
       "      <td>137.945408</td>\n",
       "    </tr>\n",
       "    <tr>\n",
       "      <th>4</th>\n",
       "      <td>AHL4O</td>\n",
       "      <td>12.702195</td>\n",
       "      <td>-8.147433</td>\n",
       "      <td>5.004363</td>\n",
       "      <td>134.766305</td>\n",
       "    </tr>\n",
       "    <tr>\n",
       "      <th>5</th>\n",
       "      <td>HHckp</td>\n",
       "      <td>-3.327590</td>\n",
       "      <td>-2.205276</td>\n",
       "      <td>3.003647</td>\n",
       "      <td>84.038886</td>\n",
       "    </tr>\n",
       "    <tr>\n",
       "      <th>6</th>\n",
       "      <td>h5Ujo</td>\n",
       "      <td>-11.142655</td>\n",
       "      <td>-10.133399</td>\n",
       "      <td>4.002382</td>\n",
       "      <td>110.992147</td>\n",
       "    </tr>\n",
       "    <tr>\n",
       "      <th>7</th>\n",
       "      <td>muH9x</td>\n",
       "      <td>4.234715</td>\n",
       "      <td>-0.001354</td>\n",
       "      <td>2.004588</td>\n",
       "      <td>53.906522</td>\n",
       "    </tr>\n",
       "    <tr>\n",
       "      <th>8</th>\n",
       "      <td>YiRkx</td>\n",
       "      <td>13.355129</td>\n",
       "      <td>-0.332068</td>\n",
       "      <td>4.998647</td>\n",
       "      <td>134.766305</td>\n",
       "    </tr>\n",
       "    <tr>\n",
       "      <th>9</th>\n",
       "      <td>jG6Gi</td>\n",
       "      <td>1.069227</td>\n",
       "      <td>-11.025667</td>\n",
       "      <td>4.997844</td>\n",
       "      <td>137.945408</td>\n",
       "    </tr>\n",
       "  </tbody>\n",
       "</table>\n",
       "</div>"
      ],
      "text/plain": [
       "      id         f0         f1        f2     product\n",
       "0  kBEdx -15.001348  -8.276000 -0.005876    3.179103\n",
       "1  62mP7  14.272088  -3.475083  0.999183   26.953261\n",
       "2  vyE1P   6.263187  -5.948386  5.001160  134.766305\n",
       "3  KcrkZ -13.081196 -11.506057  4.999415  137.945408\n",
       "4  AHL4O  12.702195  -8.147433  5.004363  134.766305\n",
       "5  HHckp  -3.327590  -2.205276  3.003647   84.038886\n",
       "6  h5Ujo -11.142655 -10.133399  4.002382  110.992147\n",
       "7  muH9x   4.234715  -0.001354  2.004588   53.906522\n",
       "8  YiRkx  13.355129  -0.332068  4.998647  134.766305\n",
       "9  jG6Gi   1.069227 -11.025667  4.997844  137.945408"
      ]
     },
     "metadata": {},
     "output_type": "display_data"
    },
    {
     "name": "stdout",
     "output_type": "stream",
     "text": [
      "<class 'pandas.core.frame.DataFrame'>\n",
      "RangeIndex: 100000 entries, 0 to 99999\n",
      "Data columns (total 5 columns):\n",
      " #   Column   Non-Null Count   Dtype  \n",
      "---  ------   --------------   -----  \n",
      " 0   id       100000 non-null  object \n",
      " 1   f0       100000 non-null  float64\n",
      " 2   f1       100000 non-null  float64\n",
      " 3   f2       100000 non-null  float64\n",
      " 4   product  100000 non-null  float64\n",
      "dtypes: float64(4), object(1)\n",
      "memory usage: 3.8+ MB\n"
     ]
    },
    {
     "data": {
      "text/html": [
       "<div>\n",
       "<style scoped>\n",
       "    .dataframe tbody tr th:only-of-type {\n",
       "        vertical-align: middle;\n",
       "    }\n",
       "\n",
       "    .dataframe tbody tr th {\n",
       "        vertical-align: top;\n",
       "    }\n",
       "\n",
       "    .dataframe thead th {\n",
       "        text-align: right;\n",
       "    }\n",
       "</style>\n",
       "<table border=\"1\" class=\"dataframe\">\n",
       "  <thead>\n",
       "    <tr style=\"text-align: right;\">\n",
       "      <th></th>\n",
       "      <th>f0</th>\n",
       "      <th>f1</th>\n",
       "      <th>f2</th>\n",
       "      <th>product</th>\n",
       "    </tr>\n",
       "  </thead>\n",
       "  <tbody>\n",
       "    <tr>\n",
       "      <th>count</th>\n",
       "      <td>100000.000000</td>\n",
       "      <td>100000.000000</td>\n",
       "      <td>100000.000000</td>\n",
       "      <td>100000.000000</td>\n",
       "    </tr>\n",
       "    <tr>\n",
       "      <th>mean</th>\n",
       "      <td>1.141296</td>\n",
       "      <td>-4.796579</td>\n",
       "      <td>2.494541</td>\n",
       "      <td>68.825000</td>\n",
       "    </tr>\n",
       "    <tr>\n",
       "      <th>std</th>\n",
       "      <td>8.965932</td>\n",
       "      <td>5.119872</td>\n",
       "      <td>1.703572</td>\n",
       "      <td>45.944423</td>\n",
       "    </tr>\n",
       "    <tr>\n",
       "      <th>min</th>\n",
       "      <td>-31.609576</td>\n",
       "      <td>-26.358598</td>\n",
       "      <td>-0.018144</td>\n",
       "      <td>0.000000</td>\n",
       "    </tr>\n",
       "    <tr>\n",
       "      <th>25%</th>\n",
       "      <td>-6.298551</td>\n",
       "      <td>-8.267985</td>\n",
       "      <td>1.000021</td>\n",
       "      <td>26.953261</td>\n",
       "    </tr>\n",
       "    <tr>\n",
       "      <th>50%</th>\n",
       "      <td>1.153055</td>\n",
       "      <td>-4.813172</td>\n",
       "      <td>2.011479</td>\n",
       "      <td>57.085625</td>\n",
       "    </tr>\n",
       "    <tr>\n",
       "      <th>75%</th>\n",
       "      <td>8.621015</td>\n",
       "      <td>-1.332816</td>\n",
       "      <td>3.999904</td>\n",
       "      <td>107.813044</td>\n",
       "    </tr>\n",
       "    <tr>\n",
       "      <th>max</th>\n",
       "      <td>29.421755</td>\n",
       "      <td>18.734063</td>\n",
       "      <td>5.019721</td>\n",
       "      <td>137.945408</td>\n",
       "    </tr>\n",
       "  </tbody>\n",
       "</table>\n",
       "</div>"
      ],
      "text/plain": [
       "                  f0             f1             f2        product\n",
       "count  100000.000000  100000.000000  100000.000000  100000.000000\n",
       "mean        1.141296      -4.796579       2.494541      68.825000\n",
       "std         8.965932       5.119872       1.703572      45.944423\n",
       "min       -31.609576     -26.358598      -0.018144       0.000000\n",
       "25%        -6.298551      -8.267985       1.000021      26.953261\n",
       "50%         1.153055      -4.813172       2.011479      57.085625\n",
       "75%         8.621015      -1.332816       3.999904     107.813044\n",
       "max        29.421755      18.734063       5.019721     137.945408"
      ]
     },
     "metadata": {},
     "output_type": "display_data"
    },
    {
     "data": {
      "text/html": [
       "<div>\n",
       "<style scoped>\n",
       "    .dataframe tbody tr th:only-of-type {\n",
       "        vertical-align: middle;\n",
       "    }\n",
       "\n",
       "    .dataframe tbody tr th {\n",
       "        vertical-align: top;\n",
       "    }\n",
       "\n",
       "    .dataframe thead th {\n",
       "        text-align: right;\n",
       "    }\n",
       "</style>\n",
       "<table border=\"1\" class=\"dataframe\">\n",
       "  <thead>\n",
       "    <tr style=\"text-align: right;\">\n",
       "      <th></th>\n",
       "      <th>f0</th>\n",
       "      <th>f1</th>\n",
       "      <th>f2</th>\n",
       "      <th>product</th>\n",
       "    </tr>\n",
       "  </thead>\n",
       "  <tbody>\n",
       "    <tr>\n",
       "      <th>f0</th>\n",
       "      <td>1.000000</td>\n",
       "      <td>0.182287</td>\n",
       "      <td>-0.001777</td>\n",
       "      <td>-0.030491</td>\n",
       "    </tr>\n",
       "    <tr>\n",
       "      <th>f1</th>\n",
       "      <td>0.182287</td>\n",
       "      <td>1.000000</td>\n",
       "      <td>-0.002595</td>\n",
       "      <td>-0.010155</td>\n",
       "    </tr>\n",
       "    <tr>\n",
       "      <th>f2</th>\n",
       "      <td>-0.001777</td>\n",
       "      <td>-0.002595</td>\n",
       "      <td>1.000000</td>\n",
       "      <td>0.999397</td>\n",
       "    </tr>\n",
       "    <tr>\n",
       "      <th>product</th>\n",
       "      <td>-0.030491</td>\n",
       "      <td>-0.010155</td>\n",
       "      <td>0.999397</td>\n",
       "      <td>1.000000</td>\n",
       "    </tr>\n",
       "  </tbody>\n",
       "</table>\n",
       "</div>"
      ],
      "text/plain": [
       "               f0        f1        f2   product\n",
       "f0       1.000000  0.182287 -0.001777 -0.030491\n",
       "f1       0.182287  1.000000 -0.002595 -0.010155\n",
       "f2      -0.001777 -0.002595  1.000000  0.999397\n",
       "product -0.030491 -0.010155  0.999397  1.000000"
      ]
     },
     "metadata": {},
     "output_type": "display_data"
    }
   ],
   "source": [
    "review(df_1)"
   ]
  },
  {
   "cell_type": "code",
   "execution_count": 12,
   "metadata": {},
   "outputs": [
    {
     "name": "stdout",
     "output_type": "stream",
     "text": [
      "Дубликатов не обнаружено\n"
     ]
    }
   ],
   "source": [
    "dupl(df_1)"
   ]
  },
  {
   "cell_type": "markdown",
   "metadata": {},
   "source": [
    "- данные практически без мусора;\n",
    "- в столбце `f1` видны выбросы;\n",
    "- обнаружена положильная корреляция между столбцами `f2` и `product`"
   ]
  },
  {
   "cell_type": "markdown",
   "metadata": {},
   "source": [
    "Посмотрим на боксплоты."
   ]
  },
  {
   "cell_type": "code",
   "execution_count": 13,
   "metadata": {},
   "outputs": [
    {
     "data": {
      "image/png": "[encoded data removed]",
      "text/plain": [
       "<Figure size 1080x360 with 1 Axes>"
      ]
     },
     "metadata": {},
     "output_type": "display_data"
    },
    {
     "data": {
      "image/png": "[encoded data removed]",
      "text/plain": [
       "<Figure size 432x288 with 1 Axes>"
      ]
     },
     "metadata": {},
     "output_type": "display_data"
    },
    {
     "data": {
      "image/png": "[encoded data removed]",
      "text/plain": [
       "<Figure size 432x288 with 1 Axes>"
      ]
     },
     "metadata": {},
     "output_type": "display_data"
    },
    {
     "data": {
      "image/png": "[encoded data removed]",
      "text/plain": [
       "<Figure size 432x288 with 1 Axes>"
      ]
     },
     "metadata": {},
     "output_type": "display_data"
    }
   ],
   "source": [
    "fig, ax = plt.subplots(figsize =(15,5))\n",
    "boxplot(df_1['f0'])\n",
    "boxplot(df_1['f1'])\n",
    "boxplot(df_1['f2'])\n",
    "boxplot(df_1['product'])"
   ]
  },
  {
   "cell_type": "markdown",
   "metadata": {},
   "source": [
    "Видим много выбросов в столбце `f1`."
   ]
  },
  {
   "cell_type": "markdown",
   "metadata": {},
   "source": [
    "### Проверяем регион df_2"
   ]
  },
  {
   "cell_type": "code",
   "execution_count": 14,
   "metadata": {},
   "outputs": [
    {
     "data": {
      "text/html": [
       "<div>\n",
       "<style scoped>\n",
       "    .dataframe tbody tr th:only-of-type {\n",
       "        vertical-align: middle;\n",
       "    }\n",
       "\n",
       "    .dataframe tbody tr th {\n",
       "        vertical-align: top;\n",
       "    }\n",
       "\n",
       "    .dataframe thead th {\n",
       "        text-align: right;\n",
       "    }\n",
       "</style>\n",
       "<table border=\"1\" class=\"dataframe\">\n",
       "  <thead>\n",
       "    <tr style=\"text-align: right;\">\n",
       "      <th></th>\n",
       "      <th>id</th>\n",
       "      <th>f0</th>\n",
       "      <th>f1</th>\n",
       "      <th>f2</th>\n",
       "      <th>product</th>\n",
       "    </tr>\n",
       "  </thead>\n",
       "  <tbody>\n",
       "    <tr>\n",
       "      <th>0</th>\n",
       "      <td>fwXo0</td>\n",
       "      <td>-1.146987</td>\n",
       "      <td>0.963328</td>\n",
       "      <td>-0.828965</td>\n",
       "      <td>27.758673</td>\n",
       "    </tr>\n",
       "    <tr>\n",
       "      <th>1</th>\n",
       "      <td>WJtFt</td>\n",
       "      <td>0.262778</td>\n",
       "      <td>0.269839</td>\n",
       "      <td>-2.530187</td>\n",
       "      <td>56.069697</td>\n",
       "    </tr>\n",
       "    <tr>\n",
       "      <th>2</th>\n",
       "      <td>ovLUW</td>\n",
       "      <td>0.194587</td>\n",
       "      <td>0.289035</td>\n",
       "      <td>-5.586433</td>\n",
       "      <td>62.871910</td>\n",
       "    </tr>\n",
       "    <tr>\n",
       "      <th>3</th>\n",
       "      <td>q6cA6</td>\n",
       "      <td>2.236060</td>\n",
       "      <td>-0.553760</td>\n",
       "      <td>0.930038</td>\n",
       "      <td>114.572842</td>\n",
       "    </tr>\n",
       "    <tr>\n",
       "      <th>4</th>\n",
       "      <td>WPMUX</td>\n",
       "      <td>-0.515993</td>\n",
       "      <td>1.716266</td>\n",
       "      <td>5.899011</td>\n",
       "      <td>149.600746</td>\n",
       "    </tr>\n",
       "    <tr>\n",
       "      <th>5</th>\n",
       "      <td>LzZXx</td>\n",
       "      <td>-0.758092</td>\n",
       "      <td>0.710691</td>\n",
       "      <td>2.585887</td>\n",
       "      <td>90.222465</td>\n",
       "    </tr>\n",
       "    <tr>\n",
       "      <th>6</th>\n",
       "      <td>WBHRv</td>\n",
       "      <td>-0.574891</td>\n",
       "      <td>0.317727</td>\n",
       "      <td>1.773745</td>\n",
       "      <td>45.641478</td>\n",
       "    </tr>\n",
       "    <tr>\n",
       "      <th>7</th>\n",
       "      <td>XO8fn</td>\n",
       "      <td>-1.906649</td>\n",
       "      <td>-2.458350</td>\n",
       "      <td>-0.177097</td>\n",
       "      <td>72.480640</td>\n",
       "    </tr>\n",
       "    <tr>\n",
       "      <th>8</th>\n",
       "      <td>ybmQ5</td>\n",
       "      <td>1.776292</td>\n",
       "      <td>-0.279356</td>\n",
       "      <td>3.004156</td>\n",
       "      <td>106.616832</td>\n",
       "    </tr>\n",
       "    <tr>\n",
       "      <th>9</th>\n",
       "      <td>OilcN</td>\n",
       "      <td>-1.214452</td>\n",
       "      <td>-0.439314</td>\n",
       "      <td>5.922514</td>\n",
       "      <td>52.954532</td>\n",
       "    </tr>\n",
       "  </tbody>\n",
       "</table>\n",
       "</div>"
      ],
      "text/plain": [
       "      id        f0        f1        f2     product\n",
       "0  fwXo0 -1.146987  0.963328 -0.828965   27.758673\n",
       "1  WJtFt  0.262778  0.269839 -2.530187   56.069697\n",
       "2  ovLUW  0.194587  0.289035 -5.586433   62.871910\n",
       "3  q6cA6  2.236060 -0.553760  0.930038  114.572842\n",
       "4  WPMUX -0.515993  1.716266  5.899011  149.600746\n",
       "5  LzZXx -0.758092  0.710691  2.585887   90.222465\n",
       "6  WBHRv -0.574891  0.317727  1.773745   45.641478\n",
       "7  XO8fn -1.906649 -2.458350 -0.177097   72.480640\n",
       "8  ybmQ5  1.776292 -0.279356  3.004156  106.616832\n",
       "9  OilcN -1.214452 -0.439314  5.922514   52.954532"
      ]
     },
     "metadata": {},
     "output_type": "display_data"
    },
    {
     "name": "stdout",
     "output_type": "stream",
     "text": [
      "<class 'pandas.core.frame.DataFrame'>\n",
      "RangeIndex: 100000 entries, 0 to 99999\n",
      "Data columns (total 5 columns):\n",
      " #   Column   Non-Null Count   Dtype  \n",
      "---  ------   --------------   -----  \n",
      " 0   id       100000 non-null  object \n",
      " 1   f0       100000 non-null  float64\n",
      " 2   f1       100000 non-null  float64\n",
      " 3   f2       100000 non-null  float64\n",
      " 4   product  100000 non-null  float64\n",
      "dtypes: float64(4), object(1)\n",
      "memory usage: 3.8+ MB\n"
     ]
    },
    {
     "data": {
      "text/html": [
       "<div>\n",
       "<style scoped>\n",
       "    .dataframe tbody tr th:only-of-type {\n",
       "        vertical-align: middle;\n",
       "    }\n",
       "\n",
       "    .dataframe tbody tr th {\n",
       "        vertical-align: top;\n",
       "    }\n",
       "\n",
       "    .dataframe thead th {\n",
       "        text-align: right;\n",
       "    }\n",
       "</style>\n",
       "<table border=\"1\" class=\"dataframe\">\n",
       "  <thead>\n",
       "    <tr style=\"text-align: right;\">\n",
       "      <th></th>\n",
       "      <th>f0</th>\n",
       "      <th>f1</th>\n",
       "      <th>f2</th>\n",
       "      <th>product</th>\n",
       "    </tr>\n",
       "  </thead>\n",
       "  <tbody>\n",
       "    <tr>\n",
       "      <th>count</th>\n",
       "      <td>100000.000000</td>\n",
       "      <td>100000.000000</td>\n",
       "      <td>100000.000000</td>\n",
       "      <td>100000.000000</td>\n",
       "    </tr>\n",
       "    <tr>\n",
       "      <th>mean</th>\n",
       "      <td>0.002023</td>\n",
       "      <td>-0.002081</td>\n",
       "      <td>2.495128</td>\n",
       "      <td>95.000000</td>\n",
       "    </tr>\n",
       "    <tr>\n",
       "      <th>std</th>\n",
       "      <td>1.732045</td>\n",
       "      <td>1.730417</td>\n",
       "      <td>3.473445</td>\n",
       "      <td>44.749921</td>\n",
       "    </tr>\n",
       "    <tr>\n",
       "      <th>min</th>\n",
       "      <td>-8.760004</td>\n",
       "      <td>-7.084020</td>\n",
       "      <td>-11.970335</td>\n",
       "      <td>0.000000</td>\n",
       "    </tr>\n",
       "    <tr>\n",
       "      <th>25%</th>\n",
       "      <td>-1.162288</td>\n",
       "      <td>-1.174820</td>\n",
       "      <td>0.130359</td>\n",
       "      <td>59.450441</td>\n",
       "    </tr>\n",
       "    <tr>\n",
       "      <th>50%</th>\n",
       "      <td>0.009424</td>\n",
       "      <td>-0.009482</td>\n",
       "      <td>2.484236</td>\n",
       "      <td>94.925613</td>\n",
       "    </tr>\n",
       "    <tr>\n",
       "      <th>75%</th>\n",
       "      <td>1.158535</td>\n",
       "      <td>1.163678</td>\n",
       "      <td>4.858794</td>\n",
       "      <td>130.595027</td>\n",
       "    </tr>\n",
       "    <tr>\n",
       "      <th>max</th>\n",
       "      <td>7.238262</td>\n",
       "      <td>7.844801</td>\n",
       "      <td>16.739402</td>\n",
       "      <td>190.029838</td>\n",
       "    </tr>\n",
       "  </tbody>\n",
       "</table>\n",
       "</div>"
      ],
      "text/plain": [
       "                  f0             f1             f2        product\n",
       "count  100000.000000  100000.000000  100000.000000  100000.000000\n",
       "mean        0.002023      -0.002081       2.495128      95.000000\n",
       "std         1.732045       1.730417       3.473445      44.749921\n",
       "min        -8.760004      -7.084020     -11.970335       0.000000\n",
       "25%        -1.162288      -1.174820       0.130359      59.450441\n",
       "50%         0.009424      -0.009482       2.484236      94.925613\n",
       "75%         1.158535       1.163678       4.858794     130.595027\n",
       "max         7.238262       7.844801      16.739402     190.029838"
      ]
     },
     "metadata": {},
     "output_type": "display_data"
    },
    {
     "data": {
      "text/html": [
       "<div>\n",
       "<style scoped>\n",
       "    .dataframe tbody tr th:only-of-type {\n",
       "        vertical-align: middle;\n",
       "    }\n",
       "\n",
       "    .dataframe tbody tr th {\n",
       "        vertical-align: top;\n",
       "    }\n",
       "\n",
       "    .dataframe thead th {\n",
       "        text-align: right;\n",
       "    }\n",
       "</style>\n",
       "<table border=\"1\" class=\"dataframe\">\n",
       "  <thead>\n",
       "    <tr style=\"text-align: right;\">\n",
       "      <th></th>\n",
       "      <th>f0</th>\n",
       "      <th>f1</th>\n",
       "      <th>f2</th>\n",
       "      <th>product</th>\n",
       "    </tr>\n",
       "  </thead>\n",
       "  <tbody>\n",
       "    <tr>\n",
       "      <th>f0</th>\n",
       "      <td>1.000000</td>\n",
       "      <td>0.000528</td>\n",
       "      <td>-0.000448</td>\n",
       "      <td>-0.001987</td>\n",
       "    </tr>\n",
       "    <tr>\n",
       "      <th>f1</th>\n",
       "      <td>0.000528</td>\n",
       "      <td>1.000000</td>\n",
       "      <td>0.000779</td>\n",
       "      <td>-0.001012</td>\n",
       "    </tr>\n",
       "    <tr>\n",
       "      <th>f2</th>\n",
       "      <td>-0.000448</td>\n",
       "      <td>0.000779</td>\n",
       "      <td>1.000000</td>\n",
       "      <td>0.445871</td>\n",
       "    </tr>\n",
       "    <tr>\n",
       "      <th>product</th>\n",
       "      <td>-0.001987</td>\n",
       "      <td>-0.001012</td>\n",
       "      <td>0.445871</td>\n",
       "      <td>1.000000</td>\n",
       "    </tr>\n",
       "  </tbody>\n",
       "</table>\n",
       "</div>"
      ],
      "text/plain": [
       "               f0        f1        f2   product\n",
       "f0       1.000000  0.000528 -0.000448 -0.001987\n",
       "f1       0.000528  1.000000  0.000779 -0.001012\n",
       "f2      -0.000448  0.000779  1.000000  0.445871\n",
       "product -0.001987 -0.001012  0.445871  1.000000"
      ]
     },
     "metadata": {},
     "output_type": "display_data"
    }
   ],
   "source": [
    "review(df_2)"
   ]
  },
  {
   "cell_type": "code",
   "execution_count": 15,
   "metadata": {},
   "outputs": [
    {
     "name": "stdout",
     "output_type": "stream",
     "text": [
      "Дубликатов не обнаружено\n"
     ]
    }
   ],
   "source": [
    "dupl(df_2)"
   ]
  },
  {
   "cell_type": "markdown",
   "metadata": {},
   "source": [
    "- данные практически без мусора;\n",
    "- в столбце `f0`, `f1`, `f2`, видны выбросы;\n",
    "- корреляция между столбцами отсутсвует."
   ]
  },
  {
   "cell_type": "markdown",
   "metadata": {},
   "source": [
    "Посмотрим на боксплоты."
   ]
  },
  {
   "cell_type": "code",
   "execution_count": 16,
   "metadata": {
    "scrolled": false
   },
   "outputs": [
    {
     "data": {
      "image/png": "[encoded data removed]",
      "text/plain": [
       "<Figure size 1080x360 with 1 Axes>"
      ]
     },
     "metadata": {},
     "output_type": "display_data"
    },
    {
     "data": {
      "image/png": "[encoded data removed]",
      "text/plain": [
       "<Figure size 432x288 with 1 Axes>"
      ]
     },
     "metadata": {},
     "output_type": "display_data"
    },
    {
     "data": {
      "image/png": "[encoded data removed]",
      "text/plain": [
       "<Figure size 432x288 with 1 Axes>"
      ]
     },
     "metadata": {},
     "output_type": "display_data"
    },
    {
     "data": {
      "image/png": "[encoded data removed]",
      "text/plain": [
       "<Figure size 432x288 with 1 Axes>"
      ]
     },
     "metadata": {},
     "output_type": "display_data"
    }
   ],
   "source": [
    "fig, ax = plt.subplots(figsize =(15,5))\n",
    "boxplot(df_2['f0'])\n",
    "boxplot(df_2['f1'])\n",
    "boxplot(df_2['f2'])\n",
    "boxplot(df_2['product'])"
   ]
  },
  {
   "cell_type": "markdown",
   "metadata": {},
   "source": [
    "Видим много выбросов в столбце `f0`, `f1`, `f2`."
   ]
  },
  {
   "cell_type": "markdown",
   "metadata": {},
   "source": [
    "### Вывод"
   ]
  },
  {
   "cell_type": "markdown",
   "metadata": {},
   "source": [
    "- данные получены практически без мусора;\n",
    "- обнаружены выбросы во всех датафреймах;\n",
    "- обнаружена зависимость данных в столбце `f2` на данные в столбце `product`."
   ]
  },
  {
   "cell_type": "markdown",
   "metadata": {},
   "source": [
    "## Обучение и проверка модели"
   ]
  },
  {
   "cell_type": "code",
   "execution_count": 17,
   "metadata": {},
   "outputs": [],
   "source": [
    "def split_data(features, target):\n",
    "    \"\"\"функция для формирования обучающей и валидационной выборок\"\"\"\n",
    "    (features_train, \n",
    "     features_valid, \n",
    "     target_train, \n",
    "     target_valid\n",
    "    ) = train_test_split(features, \n",
    "                         target, \n",
    "                         test_size = 0.25, \n",
    "                         random_state=12345\n",
    "                        )\n",
    "    return (features_train, \n",
    "            features_valid, \n",
    "            target_train, \n",
    "            target_valid\n",
    "           )"
   ]
  },
  {
   "cell_type": "code",
   "execution_count": 18,
   "metadata": {},
   "outputs": [],
   "source": [
    "def model_training(features_train, features_valid, target_train, target_valid):\n",
    "    \"\"\"функция для обучения и проверки модели\"\"\"\n",
    "    model = LinearRegression() \n",
    "    model.fit(features_train, target_train)\n",
    "    predictions_valid = model.predict(features_valid) \n",
    "    predictions_valid = pd.Series(predictions_valid)\n",
    "    result = mean_squared_error(target_valid_df_0, predictions_valid)**0.5\n",
    "    scores = cross_val_score(model, features_valid, target_valid, cv=5)\n",
    "    final_score = sum(scores) / len(scores)\n",
    "    print('RMSE модели линейной регрессии на валидационной выборке по региону равна {}'.format(result))\n",
    "    print('Cредний запас предсказанного сырья по региону равен {} тыс. баррелей'.format(predictions_valid.mean()))\n",
    "    print('Усредненный R2 score модели по региону равен {}'.format(final_score))"
   ]
  },
  {
   "cell_type": "code",
   "execution_count": 19,
   "metadata": {},
   "outputs": [],
   "source": [
    "def predict(features_train, features_valid, target_train, target_valid):\n",
    "    \"\"\"функция для сохранения предсказаний\"\"\"\n",
    "    model = LinearRegression() \n",
    "    model.fit(features_train, target_train)\n",
    "    predictions_valid = model.predict(features_valid) \n",
    "    predictions_valid = pd.Series(predictions_valid)\n",
    "    return predictions_valid"
   ]
  },
  {
   "cell_type": "markdown",
   "metadata": {},
   "source": [
    "Разобьем данные на обучающую и валидационную выборки в соотношении 75:25."
   ]
  },
  {
   "cell_type": "code",
   "execution_count": 20,
   "metadata": {},
   "outputs": [],
   "source": [
    "(features_train_df_0, \n",
    " features_valid_df_0, \n",
    " target_train_df_0, \n",
    " target_valid_df_0) = split_data(df_0.drop(['id', 'product'],\n",
    "                                 axis = 1),\n",
    "                                 df_0['product']\n",
    "                                )\n",
    "(features_train_df_1, \n",
    " features_valid_df_1, \n",
    " target_train_df_1, \n",
    " target_valid_df_1) = split_data(df_1.drop(['id', 'product'],\n",
    "                                 axis = 1),\n",
    "                                 df_1['product']\n",
    "                                )\n",
    "(features_train_df_2, \n",
    " features_valid_df_2, \n",
    " target_train_df_2, \n",
    " target_valid_df_2) = split_data(df_2.drop(['id', 'product'],\n",
    "                                 axis = 1),\n",
    "                                 df_2['product']\n",
    "                                )"
   ]
  },
  {
   "cell_type": "markdown",
   "metadata": {},
   "source": [
    "Обучим модель и сделаем предсказания на валидационной выборке. Полученные предсказания и правильные ответы на валидационной выборке сохраним в переменных `target_valid_df_#` и `predictions_valid_df_#`"
   ]
  },
  {
   "cell_type": "code",
   "execution_count": 21,
   "metadata": {},
   "outputs": [
    {
     "name": "stdout",
     "output_type": "stream",
     "text": [
      "RMSE модели линейной регрессии на валидационной выборке по региону равна 37.5794217150813\n",
      "Cредний запас предсказанного сырья по региону равен 92.59256778438008 тыс. баррелей\n",
      "Усредненный R2 score модели по региону равен 0.27984439304162734\n"
     ]
    }
   ],
   "source": [
    "model_training(features_train_df_0, features_valid_df_0, target_train_df_0, target_valid_df_0)"
   ]
  },
  {
   "cell_type": "code",
   "execution_count": 22,
   "metadata": {},
   "outputs": [
    {
     "name": "stdout",
     "output_type": "stream",
     "text": [
      "RMSE модели линейной регрессии на валидационной выборке по региону равна 67.91430915635509\n",
      "Cредний запас предсказанного сырья по региону равен 68.7285468954458 тыс. баррелей\n",
      "Усредненный R2 score модели по региону равен 0.9996232414326588\n"
     ]
    }
   ],
   "source": [
    "model_training(features_train_df_1, features_valid_df_1, target_train_df_1, target_valid_df_1)"
   ]
  },
  {
   "cell_type": "code",
   "execution_count": 23,
   "metadata": {},
   "outputs": [
    {
     "name": "stdout",
     "output_type": "stream",
     "text": [
      "RMSE модели линейной регрессии на валидационной выборке по региону равна 48.671457760870574\n",
      "Cредний запас предсказанного сырья по региону равен 94.96504596800506 тыс. баррелей\n",
      "Усредненный R2 score модели по региону равен 0.20506479121660134\n"
     ]
    }
   ],
   "source": [
    "model_training(features_train_df_2, features_valid_df_2, target_train_df_2, target_valid_df_2)"
   ]
  },
  {
   "cell_type": "markdown",
   "metadata": {},
   "source": [
    "Сохраните предсказания."
   ]
  },
  {
   "cell_type": "code",
   "execution_count": 24,
   "metadata": {},
   "outputs": [],
   "source": [
    "predict_df_0 = predict(features_train_df_0, features_valid_df_0, target_train_df_0, target_valid_df_0)"
   ]
  },
  {
   "cell_type": "code",
   "execution_count": 25,
   "metadata": {},
   "outputs": [],
   "source": [
    "predict_df_1 = predict(features_train_df_1, features_valid_df_1, target_train_df_1, target_valid_df_1)"
   ]
  },
  {
   "cell_type": "code",
   "execution_count": 26,
   "metadata": {},
   "outputs": [],
   "source": [
    "predict_df_2 = predict(features_train_df_2, features_valid_df_2, target_train_df_2, target_valid_df_2)"
   ]
  },
  {
   "cell_type": "markdown",
   "metadata": {},
   "source": [
    "### Вывод"
   ]
  },
  {
   "cell_type": "markdown",
   "metadata": {},
   "source": [
    "- наибольший средний запас предсказанного сырья у региона `df_2` - `94.96504596800489` тыс. баррелей;\n",
    "- наименьшая среднеквадратичная ошибка у региона `df_0` - `37.5794217150813`;\n",
    "- наибольшая оценка качества же у региона `df_1` - `0.9996232414326588`, при этом по остальным показателям данный регион показал сравнительно худшие результаты."
   ]
  },
  {
   "cell_type": "markdown",
   "metadata": {},
   "source": [
    "## Подготовка к расчёту прибыли"
   ]
  },
  {
   "cell_type": "markdown",
   "metadata": {},
   "source": [
    "Все ключевые значения для расчётов сохраним в отдельных переменных."
   ]
  },
  {
   "cell_type": "markdown",
   "metadata": {},
   "source": [
    "- `COMPANY_TURNOVER` - бюджет на разработку скважин в регионе, руб.;\n",
    "- `SAMPLE` - выборка точек при разведке региона;\n",
    "- `BEST_SAMPLE` - выборка наилучших точек, выбранных при помощи машинного обучения;\n",
    "- `UNIT_INCOME` - доход с каждой единицы продукта, руб."
   ]
  },
  {
   "cell_type": "markdown",
   "metadata": {},
   "source": [
    "*Примечание:*\n",
    "\n",
    "*Вероятность убытков должна составлять меньше 2.5%*"
   ]
  },
  {
   "cell_type": "code",
   "execution_count": 27,
   "metadata": {},
   "outputs": [],
   "source": [
    "COMPANY_TURNOVER = 10 * (10 ** 9)\n",
    "SAMPLE = 500\n",
    "BEST_SAMPLE = 200\n",
    "UNIT_INCOME = 450000"
   ]
  },
  {
   "cell_type": "markdown",
   "metadata": {},
   "source": [
    "Рассчитаем достаточный объём сырья для безубыточной разработки новой скважины."
   ]
  },
  {
   "cell_type": "code",
   "execution_count": 28,
   "metadata": {},
   "outputs": [],
   "source": [
    "breakeven = (COMPANY_TURNOVER / UNIT_INCOME) / BEST_SAMPLE"
   ]
  },
  {
   "cell_type": "code",
   "execution_count": 29,
   "metadata": {},
   "outputs": [
    {
     "name": "stdout",
     "output_type": "stream",
     "text": [
      "Достаточный объём добываемого сырья для безубыточной разработки новой скважины равен 111.11 тыс. баррелей\n"
     ]
    }
   ],
   "source": [
    "print('Достаточный объём добываемого сырья для безубыточной разработки новой скважины равен {} тыс. баррелей'.format(round(breakeven, 2)))"
   ]
  },
  {
   "cell_type": "markdown",
   "metadata": {},
   "source": [
    "Сравним полученный объём сырья со средним запасом предсказанного сырья в каждом регионе."
   ]
  },
  {
   "cell_type": "code",
   "execution_count": 30,
   "metadata": {},
   "outputs": [
    {
     "data": {
      "text/html": [
       "<div>\n",
       "<style scoped>\n",
       "    .dataframe tbody tr th:only-of-type {\n",
       "        vertical-align: middle;\n",
       "    }\n",
       "\n",
       "    .dataframe tbody tr th {\n",
       "        vertical-align: top;\n",
       "    }\n",
       "\n",
       "    .dataframe thead th {\n",
       "        text-align: right;\n",
       "    }\n",
       "</style>\n",
       "<table border=\"1\" class=\"dataframe\">\n",
       "  <thead>\n",
       "    <tr style=\"text-align: right;\">\n",
       "      <th></th>\n",
       "      <th>df_0</th>\n",
       "      <th>df_1</th>\n",
       "      <th>df_2</th>\n",
       "      <th>breakeven</th>\n",
       "    </tr>\n",
       "  </thead>\n",
       "  <tbody>\n",
       "    <tr>\n",
       "      <th>0</th>\n",
       "      <td>92.592568</td>\n",
       "      <td>68.728547</td>\n",
       "      <td>94.965046</td>\n",
       "      <td>111.111111</td>\n",
       "    </tr>\n",
       "  </tbody>\n",
       "</table>\n",
       "</div>"
      ],
      "text/plain": [
       "        df_0       df_1       df_2   breakeven\n",
       "0  92.592568  68.728547  94.965046  111.111111"
      ]
     },
     "metadata": {},
     "output_type": "display_data"
    }
   ],
   "source": [
    "mean = {\"df_0\":pd.Series([predict_df_0.mean()]), \n",
    "        \"df_1\":pd.Series([predict_df_1.mean()]),\n",
    "        \"df_2\":pd.Series([predict_df_2.mean()]),\n",
    "        \"breakeven\":pd.Series([breakeven])\n",
    "       }\n",
    "mean_df = pd.DataFrame(mean)\n",
    "display(mean_df)"
   ]
  },
  {
   "cell_type": "markdown",
   "metadata": {},
   "source": [
    "### Вывод"
   ]
  },
  {
   "cell_type": "markdown",
   "metadata": {},
   "source": [
    "Средний запас сырья в регионах меньше чем безубыточный объем.\n",
    "- наибольшее запас у региона `df_2`;\n",
    "- наименьший запас у региона `df_1`."
   ]
  },
  {
   "cell_type": "markdown",
   "metadata": {},
   "source": [
    "## Расчёт прибыли и рисков "
   ]
  },
  {
   "cell_type": "markdown",
   "metadata": {},
   "source": [
    "Рассчитаем прибыль для 200 скважин с максимальными значениями запаса сырья и предсказаниям модели."
   ]
  },
  {
   "cell_type": "code",
   "execution_count": 31,
   "metadata": {},
   "outputs": [],
   "source": [
    "def profit(target_valid, predictions_valid):\n",
    "    \"\"\"функция для подсчета прибыли\"\"\"\n",
    "    sort_series = pd.Series(predictions_valid).sort_values(ascending=False)[:BEST_SAMPLE]\n",
    "    target_valid_sort = (target_valid.reset_index(drop = True)[sort_series.index])\n",
    "    sum_true = target_valid_sort.sum()\n",
    "    return ((sum_true * UNIT_INCOME) - COMPANY_TURNOVER).round(2)"
   ]
  },
  {
   "cell_type": "markdown",
   "metadata": {},
   "source": [
    "### Прибыль по выбранным скважинам региона `df_0`"
   ]
  },
  {
   "cell_type": "code",
   "execution_count": 32,
   "metadata": {},
   "outputs": [
    {
     "name": "stdout",
     "output_type": "stream",
     "text": [
      "Прибыль для региона равна 3320826043.14 руб.\n"
     ]
    }
   ],
   "source": [
    "print('Прибыль для региона равна {} руб.'.format(profit(target_valid_df_0, predict_df_0)))"
   ]
  },
  {
   "cell_type": "markdown",
   "metadata": {},
   "source": [
    "### Прибыль по выбранным скважинам региона  `df_1`"
   ]
  },
  {
   "cell_type": "code",
   "execution_count": 33,
   "metadata": {},
   "outputs": [
    {
     "name": "stdout",
     "output_type": "stream",
     "text": [
      "Прибыль для региона равна 2415086696.68 руб.\n"
     ]
    }
   ],
   "source": [
    "print('Прибыль для региона равна {} руб.'.format(profit(target_valid_df_1, predict_df_1)))"
   ]
  },
  {
   "cell_type": "markdown",
   "metadata": {},
   "source": [
    "### Прибыль по выбранным скважинам региона  `df_2"
   ]
  },
  {
   "cell_type": "code",
   "execution_count": 34,
   "metadata": {},
   "outputs": [
    {
     "name": "stdout",
     "output_type": "stream",
     "text": [
      "Прибыль для региона равна 2710349963.6 руб.\n"
     ]
    }
   ],
   "source": [
    "print('Прибыль для региона равна {} руб.'.format(profit(target_valid_df_2, predict_df_2)))"
   ]
  },
  {
   "cell_type": "markdown",
   "metadata": {},
   "source": [
    "### Вывод"
   ]
  },
  {
   "cell_type": "markdown",
   "metadata": {},
   "source": [
    "- наибольшая прибыль у региона `df_0`;\n",
    "- наименьшая прибыль у региона `df_1`."
   ]
  },
  {
   "cell_type": "markdown",
   "metadata": {},
   "source": [
    "## Посчитайте риски и прибыль для каждого региона"
   ]
  },
  {
   "cell_type": "markdown",
   "metadata": {},
   "source": [
    "Применим технику `Bootstrap` с 1000 выборок, чтобы найти распределение прибыли."
   ]
  },
  {
   "cell_type": "code",
   "execution_count": 35,
   "metadata": {},
   "outputs": [],
   "source": [
    "def confidence_intervals(target_valid, predictions_valid):\n",
    "    \"\"\"функция для подсчета средней выручки, доверительного интервала и рисков\"\"\"\n",
    "    state = np.random.RandomState(12345)\n",
    "    values = []\n",
    "    for i in range(1000):\n",
    "        sort_series = pd.Series(predictions_valid)\n",
    "        value = sort_series.sample(n = SAMPLE, replace=True, random_state=state)\n",
    "        values.append(profit(target_valid, value))\n",
    "    values = pd.Series(values)\n",
    "    mean = values.mean()\n",
    "    print('Средняя прибыль для региона равна {}'.format(mean))\n",
    "    lower = values.quantile(0.025)\n",
    "    upper = values.quantile(0.975)\n",
    "    print('95%-й доверительный интервал равен от {} до {}'.format(round(lower,2), round(upper,2)))\n",
    "    loss_probability = st.percentileofscore(values, 0)\n",
    "    print('Вероятность убытков для региона равна {}%'.format(round(loss_probability,2)))"
   ]
  },
  {
   "cell_type": "markdown",
   "metadata": {},
   "source": [
    "### Расчет для региона `df_0`"
   ]
  },
  {
   "cell_type": "code",
   "execution_count": 36,
   "metadata": {},
   "outputs": [
    {
     "name": "stdout",
     "output_type": "stream",
     "text": [
      "Средняя прибыль для региона равна 396164984.80227965\n",
      "95%-й доверительный интервал равен от -111215545.89 до 909766941.55\n",
      "Вероятность убытков для региона равна 6.9%\n"
     ]
    }
   ],
   "source": [
    "confidence_intervals(target_valid_df_0, predict_df_0)"
   ]
  },
  {
   "cell_type": "markdown",
   "metadata": {},
   "source": [
    "### Расчет для региона `df_1`"
   ]
  },
  {
   "cell_type": "code",
   "execution_count": 37,
   "metadata": {},
   "outputs": [
    {
     "name": "stdout",
     "output_type": "stream",
     "text": [
      "Средняя прибыль для региона равна 456045105.78666013\n",
      "95%-й доверительный интервал равен от 33820509.4 до 852289453.86\n",
      "Вероятность убытков для региона равна 1.5%\n"
     ]
    }
   ],
   "source": [
    "confidence_intervals(target_valid_df_1, predict_df_1)"
   ]
  },
  {
   "cell_type": "markdown",
   "metadata": {},
   "source": [
    "### Расчет для региона `df_2`"
   ]
  },
  {
   "cell_type": "code",
   "execution_count": 38,
   "metadata": {},
   "outputs": [
    {
     "name": "stdout",
     "output_type": "stream",
     "text": [
      "Средняя прибыль для региона равна 404403866.5683801\n",
      "95%-й доверительный интервал равен от -163350413.39 до 950359574.93\n",
      "Вероятность убытков для региона равна 7.6%\n"
     ]
    }
   ],
   "source": [
    "confidence_intervals(target_valid_df_2, predict_df_2)"
   ]
  },
  {
   "cell_type": "markdown",
   "metadata": {},
   "source": [
    "### Вывод"
   ]
  },
  {
   "cell_type": "markdown",
   "metadata": {},
   "source": [
    "Только один регион проходит по условию - вероятность убытков должна составлять меньше 2.5% \n",
    "- `df_1` с вероятностью убытков в 1,5% и средней прибылью для региона в `456045105.78665996` руб.\n",
    "- у регионов `df_0` и `df_2` вероятность убытков от 6,9% до 7,6%.\n"
   ]
  },
  {
   "cell_type": "markdown",
   "metadata": {},
   "source": [
    "## Вывод"
   ]
  },
  {
   "cell_type": "markdown",
   "metadata": {},
   "source": [
    "1. Изначально данный поступают в чистом виде, без артефактов и мусора.\n",
    "2. Необходимо запросить информацию у дата инженеров по поводу выбросов в некоторых столбцах и сообщить том, что в регионе `df_1` между столбцом `f2` и `product` замечена высокая положительная коррекляция.\n",
    "3. Для обучения использовалась модель линейной регрессии `LinearRegression`:\n",
    "- наибольший средний запас предсказанного сырья у региона `df_2` - `94.96504596800489` тыс. баррелей;\n",
    "- наименьшая среднеквадратичная ошибка у региона `df_0` - `37.5794217150813`;\n",
    "- наибольшая оценка качества же у региона `df_1` - `0.9996232414326588`, при этом по остальным показателям данный регион показал сравнительно худшие результаты.\n",
    "4. Средний запас сырья в регионах меньше чем безубыточный объем:\n",
    "- наибольшее запас у региона `df_2`;\n",
    "- наименьший запас у региона `df_1`.\n",
    "5. Только один регион проходит по условию - вероятность убытков должна составлять меньше 2.5% - `df_1`:\n",
    "- `df_1` с вероятностью убытков в 1,5% и средней прибылью для региона в `456045105.78665996` руб.\n",
    "- у регионов `df_0` и `df_2` вероятность убытков от 6,9% до 7,6%."
   ]
  }
 ],
 "metadata": {
  "ExecuteTimeLog": [
   {
    "duration": 1754,
    "start_time": "2022-03-22T12:13:57.135Z"
   },
   {
    "duration": 5,
    "start_time": "2022-03-22T12:13:58.891Z"
   },
   {
    "duration": 128,
    "start_time": "2022-03-22T12:13:59.060Z"
   },
   {
    "duration": 126,
    "start_time": "2022-03-22T12:13:59.285Z"
   },
   {
    "duration": 132,
    "start_time": "2022-03-22T12:13:59.465Z"
   },
   {
    "duration": 125,
    "start_time": "2022-03-22T12:14:32.270Z"
   },
   {
    "duration": 108,
    "start_time": "2022-03-22T12:14:37.047Z"
   },
   {
    "duration": 132,
    "start_time": "2022-03-22T12:14:39.869Z"
   },
   {
    "duration": 127,
    "start_time": "2022-03-22T12:14:40.066Z"
   },
   {
    "duration": 127,
    "start_time": "2022-03-22T12:14:40.221Z"
   },
   {
    "duration": 128,
    "start_time": "2022-03-22T12:14:40.730Z"
   },
   {
    "duration": 125,
    "start_time": "2022-03-22T12:14:49.169Z"
   },
   {
    "duration": 121,
    "start_time": "2022-03-22T12:14:55.715Z"
   },
   {
    "duration": 4,
    "start_time": "2022-03-22T12:15:46.317Z"
   },
   {
    "duration": 158,
    "start_time": "2022-03-22T12:15:46.757Z"
   },
   {
    "duration": 142,
    "start_time": "2022-03-22T12:15:46.929Z"
   },
   {
    "duration": 143,
    "start_time": "2022-03-22T12:15:47.093Z"
   },
   {
    "duration": 53,
    "start_time": "2022-03-22T12:15:47.460Z"
   },
   {
    "duration": 61,
    "start_time": "2022-03-22T12:15:47.620Z"
   },
   {
    "duration": 62,
    "start_time": "2022-03-22T12:15:47.793Z"
   },
   {
    "duration": 3,
    "start_time": "2022-03-22T12:23:19.409Z"
   },
   {
    "duration": 16,
    "start_time": "2022-03-22T12:28:42.001Z"
   },
   {
    "duration": 3,
    "start_time": "2022-03-22T12:29:18.481Z"
   },
   {
    "duration": 66,
    "start_time": "2022-03-22T12:29:20.753Z"
   },
   {
    "duration": 67,
    "start_time": "2022-03-22T12:29:22.850Z"
   },
   {
    "duration": 66,
    "start_time": "2022-03-22T12:29:23.395Z"
   },
   {
    "duration": 5,
    "start_time": "2022-03-22T12:31:48.576Z"
   },
   {
    "duration": 4,
    "start_time": "2022-03-22T12:31:56.771Z"
   },
   {
    "duration": 12,
    "start_time": "2022-03-22T12:32:33.482Z"
   },
   {
    "duration": 20,
    "start_time": "2022-03-22T12:32:53.109Z"
   },
   {
    "duration": 14,
    "start_time": "2022-03-22T12:33:20.929Z"
   },
   {
    "duration": 6,
    "start_time": "2022-03-22T12:39:42.435Z"
   },
   {
    "duration": 69,
    "start_time": "2022-03-22T12:39:53.142Z"
   },
   {
    "duration": 56,
    "start_time": "2022-03-22T12:40:05.252Z"
   },
   {
    "duration": 7,
    "start_time": "2022-03-22T12:40:29.812Z"
   },
   {
    "duration": 143,
    "start_time": "2022-03-22T12:42:23.082Z"
   },
   {
    "duration": 63,
    "start_time": "2022-03-22T12:42:39.379Z"
   },
   {
    "duration": 149,
    "start_time": "2022-03-22T12:42:43.050Z"
   },
   {
    "duration": 1643,
    "start_time": "2022-03-22T12:43:31.091Z"
   },
   {
    "duration": 4,
    "start_time": "2022-03-22T12:43:32.736Z"
   },
   {
    "duration": 153,
    "start_time": "2022-03-22T12:43:32.741Z"
   },
   {
    "duration": 128,
    "start_time": "2022-03-22T12:43:32.896Z"
   },
   {
    "duration": 133,
    "start_time": "2022-03-22T12:43:33.026Z"
   },
   {
    "duration": 84,
    "start_time": "2022-03-22T12:43:33.160Z"
   },
   {
    "duration": 1588,
    "start_time": "2022-03-22T12:45:33.816Z"
   },
   {
    "duration": 3,
    "start_time": "2022-03-22T12:45:35.406Z"
   },
   {
    "duration": 138,
    "start_time": "2022-03-22T12:45:35.410Z"
   },
   {
    "duration": 124,
    "start_time": "2022-03-22T12:45:35.549Z"
   },
   {
    "duration": 135,
    "start_time": "2022-03-22T12:45:36.569Z"
   },
   {
    "duration": 74,
    "start_time": "2022-03-22T12:45:38.521Z"
   },
   {
    "duration": 231,
    "start_time": "2022-03-22T12:45:42.241Z"
   },
   {
    "duration": 247,
    "start_time": "2022-03-22T12:45:48.308Z"
   },
   {
    "duration": 1627,
    "start_time": "2022-03-22T12:46:12.428Z"
   },
   {
    "duration": 3,
    "start_time": "2022-03-22T12:46:14.057Z"
   },
   {
    "duration": 144,
    "start_time": "2022-03-22T12:46:14.062Z"
   },
   {
    "duration": 129,
    "start_time": "2022-03-22T12:46:14.208Z"
   },
   {
    "duration": 131,
    "start_time": "2022-03-22T12:46:14.339Z"
   },
   {
    "duration": 80,
    "start_time": "2022-03-22T12:46:14.472Z"
   },
   {
    "duration": 1923,
    "start_time": "2022-03-22T12:48:06.816Z"
   },
   {
    "duration": 4,
    "start_time": "2022-03-22T12:48:08.741Z"
   },
   {
    "duration": 134,
    "start_time": "2022-03-22T12:48:08.746Z"
   },
   {
    "duration": 121,
    "start_time": "2022-03-22T12:48:08.882Z"
   },
   {
    "duration": 125,
    "start_time": "2022-03-22T12:48:09.005Z"
   },
   {
    "duration": 72,
    "start_time": "2022-03-22T12:48:09.132Z"
   },
   {
    "duration": 1624,
    "start_time": "2022-03-22T12:48:21.874Z"
   },
   {
    "duration": 3,
    "start_time": "2022-03-22T12:48:23.500Z"
   },
   {
    "duration": 133,
    "start_time": "2022-03-22T12:48:23.505Z"
   },
   {
    "duration": 126,
    "start_time": "2022-03-22T12:48:23.640Z"
   },
   {
    "duration": 131,
    "start_time": "2022-03-22T12:48:23.768Z"
   },
   {
    "duration": 75,
    "start_time": "2022-03-22T12:48:23.901Z"
   },
   {
    "duration": 60,
    "start_time": "2022-03-22T12:50:03.735Z"
   },
   {
    "duration": 1848,
    "start_time": "2022-03-22T12:50:06.261Z"
   },
   {
    "duration": 3,
    "start_time": "2022-03-22T12:50:08.111Z"
   },
   {
    "duration": 165,
    "start_time": "2022-03-22T12:50:08.116Z"
   },
   {
    "duration": 138,
    "start_time": "2022-03-22T12:50:08.283Z"
   },
   {
    "duration": 131,
    "start_time": "2022-03-22T12:50:08.423Z"
   },
   {
    "duration": 93,
    "start_time": "2022-03-22T12:50:08.557Z"
   },
   {
    "duration": 161,
    "start_time": "2022-03-22T12:50:08.652Z"
   },
   {
    "duration": 159,
    "start_time": "2022-03-22T12:50:23.512Z"
   },
   {
    "duration": 165,
    "start_time": "2022-03-22T12:50:29.993Z"
   },
   {
    "duration": 4211,
    "start_time": "2022-03-22T12:51:04.422Z"
   },
   {
    "duration": 180,
    "start_time": "2022-03-22T12:51:11.923Z"
   },
   {
    "duration": 213,
    "start_time": "2022-03-22T12:52:20.119Z"
   },
   {
    "duration": 188,
    "start_time": "2022-03-22T12:52:29.561Z"
   },
   {
    "duration": 347,
    "start_time": "2022-03-22T12:52:39.296Z"
   },
   {
    "duration": 188,
    "start_time": "2022-03-22T12:52:48.151Z"
   },
   {
    "duration": 4,
    "start_time": "2022-03-22T12:52:56.598Z"
   },
   {
    "duration": 2,
    "start_time": "2022-03-22T12:53:08.505Z"
   },
   {
    "duration": 4,
    "start_time": "2022-03-22T12:53:08.704Z"
   },
   {
    "duration": 247,
    "start_time": "2022-03-22T12:53:20.566Z"
   },
   {
    "duration": 3,
    "start_time": "2022-03-22T12:53:38.171Z"
   },
   {
    "duration": 172,
    "start_time": "2022-03-22T12:53:55.946Z"
   },
   {
    "duration": 146,
    "start_time": "2022-03-22T12:54:11.144Z"
   },
   {
    "duration": 162,
    "start_time": "2022-03-22T12:54:17.835Z"
   },
   {
    "duration": 5,
    "start_time": "2022-03-22T12:56:39.103Z"
   },
   {
    "duration": 4,
    "start_time": "2022-03-22T12:57:06.631Z"
   },
   {
    "duration": 174,
    "start_time": "2022-03-22T12:57:10.806Z"
   },
   {
    "duration": 4,
    "start_time": "2022-03-22T12:57:27.785Z"
   },
   {
    "duration": 205,
    "start_time": "2022-03-22T12:57:31.167Z"
   },
   {
    "duration": 418,
    "start_time": "2022-03-22T12:57:48.447Z"
   },
   {
    "duration": 4,
    "start_time": "2022-03-22T12:57:52.998Z"
   },
   {
    "duration": 185,
    "start_time": "2022-03-22T12:57:55.516Z"
   },
   {
    "duration": 179,
    "start_time": "2022-03-22T12:58:09.414Z"
   },
   {
    "duration": 186,
    "start_time": "2022-03-22T12:58:15.722Z"
   },
   {
    "duration": 183,
    "start_time": "2022-03-22T12:58:22.207Z"
   },
   {
    "duration": 3,
    "start_time": "2022-03-22T12:58:26.367Z"
   },
   {
    "duration": 3,
    "start_time": "2022-03-22T12:58:32.533Z"
   },
   {
    "duration": 176,
    "start_time": "2022-03-22T12:58:35.601Z"
   },
   {
    "duration": 3,
    "start_time": "2022-03-22T12:58:51.399Z"
   },
   {
    "duration": 187,
    "start_time": "2022-03-22T12:58:54.365Z"
   },
   {
    "duration": 4,
    "start_time": "2022-03-22T12:59:12.725Z"
   },
   {
    "duration": 180,
    "start_time": "2022-03-22T12:59:15.111Z"
   },
   {
    "duration": 170,
    "start_time": "2022-03-22T13:03:08.440Z"
   },
   {
    "duration": 4,
    "start_time": "2022-03-22T13:03:38.561Z"
   },
   {
    "duration": 174,
    "start_time": "2022-03-22T13:03:41.894Z"
   },
   {
    "duration": 171,
    "start_time": "2022-03-22T13:04:40.288Z"
   },
   {
    "duration": 175,
    "start_time": "2022-03-22T13:05:19.247Z"
   },
   {
    "duration": 217,
    "start_time": "2022-03-22T13:06:45.336Z"
   },
   {
    "duration": 224,
    "start_time": "2022-03-22T13:06:54.806Z"
   },
   {
    "duration": 244,
    "start_time": "2022-03-22T13:06:59.159Z"
   },
   {
    "duration": 4,
    "start_time": "2022-03-22T13:07:04.846Z"
   },
   {
    "duration": 176,
    "start_time": "2022-03-22T13:07:49.354Z"
   },
   {
    "duration": 141,
    "start_time": "2022-03-22T13:07:50.519Z"
   },
   {
    "duration": 171,
    "start_time": "2022-03-22T13:07:51.646Z"
   },
   {
    "duration": 151,
    "start_time": "2022-03-22T13:07:56.126Z"
   },
   {
    "duration": 68,
    "start_time": "2022-03-22T13:08:34.246Z"
   },
   {
    "duration": 6,
    "start_time": "2022-03-22T13:08:36.122Z"
   },
   {
    "duration": 69,
    "start_time": "2022-03-22T13:08:36.776Z"
   },
   {
    "duration": 169,
    "start_time": "2022-03-22T13:09:52.956Z"
   },
   {
    "duration": 4,
    "start_time": "2022-03-22T13:10:46.257Z"
   },
   {
    "duration": 4,
    "start_time": "2022-03-22T13:10:46.440Z"
   },
   {
    "duration": 132,
    "start_time": "2022-03-22T13:10:49.646Z"
   },
   {
    "duration": 140,
    "start_time": "2022-03-22T13:10:49.846Z"
   },
   {
    "duration": 136,
    "start_time": "2022-03-22T13:10:49.988Z"
   },
   {
    "duration": 84,
    "start_time": "2022-03-22T13:10:51.165Z"
   },
   {
    "duration": 178,
    "start_time": "2022-03-22T13:10:51.319Z"
   },
   {
    "duration": 159,
    "start_time": "2022-03-22T13:10:51.499Z"
   },
   {
    "duration": 162,
    "start_time": "2022-03-22T13:10:51.886Z"
   },
   {
    "duration": 189,
    "start_time": "2022-03-22T13:10:52.086Z"
   },
   {
    "duration": 84,
    "start_time": "2022-03-22T13:10:52.277Z"
   },
   {
    "duration": 11,
    "start_time": "2022-03-22T13:10:52.413Z"
   },
   {
    "duration": 68,
    "start_time": "2022-03-22T13:10:52.556Z"
   },
   {
    "duration": 4,
    "start_time": "2022-03-22T13:11:50.257Z"
   },
   {
    "duration": 176,
    "start_time": "2022-03-22T13:11:52.366Z"
   },
   {
    "duration": 148,
    "start_time": "2022-03-22T13:11:54.186Z"
   },
   {
    "duration": 6,
    "start_time": "2022-03-22T13:12:02.294Z"
   },
   {
    "duration": 202,
    "start_time": "2022-03-22T13:12:07.239Z"
   },
   {
    "duration": 261,
    "start_time": "2022-03-22T13:12:10.876Z"
   },
   {
    "duration": 211,
    "start_time": "2022-03-22T13:14:30.495Z"
   },
   {
    "duration": 4,
    "start_time": "2022-03-22T13:15:49.354Z"
   },
   {
    "duration": 185,
    "start_time": "2022-03-22T13:15:58.824Z"
   },
   {
    "duration": 229,
    "start_time": "2022-03-22T13:16:15.059Z"
   },
   {
    "duration": 9,
    "start_time": "2022-03-22T13:16:27.216Z"
   },
   {
    "duration": 186,
    "start_time": "2022-03-22T13:16:43.959Z"
   },
   {
    "duration": 3,
    "start_time": "2022-03-22T13:16:48.053Z"
   },
   {
    "duration": 217,
    "start_time": "2022-03-22T13:16:51.816Z"
   },
   {
    "duration": 202,
    "start_time": "2022-03-22T13:16:55.347Z"
   },
   {
    "duration": 3,
    "start_time": "2022-03-22T13:17:07.026Z"
   },
   {
    "duration": 184,
    "start_time": "2022-03-22T13:17:09.549Z"
   },
   {
    "duration": 3538,
    "start_time": "2022-03-22T13:17:24.460Z"
   },
   {
    "duration": 4,
    "start_time": "2022-03-22T13:17:28.000Z"
   },
   {
    "duration": 3,
    "start_time": "2022-03-22T13:17:28.931Z"
   },
   {
    "duration": 3,
    "start_time": "2022-03-22T13:17:29.271Z"
   },
   {
    "duration": 4,
    "start_time": "2022-03-22T13:17:29.484Z"
   },
   {
    "duration": 141,
    "start_time": "2022-03-22T13:17:29.652Z"
   },
   {
    "duration": 129,
    "start_time": "2022-03-22T13:17:29.843Z"
   },
   {
    "duration": 132,
    "start_time": "2022-03-22T13:17:30.044Z"
   },
   {
    "duration": 79,
    "start_time": "2022-03-22T13:17:30.373Z"
   },
   {
    "duration": 263,
    "start_time": "2022-03-22T13:17:30.543Z"
   },
   {
    "duration": 0,
    "start_time": "2022-03-22T13:17:30.808Z"
   },
   {
    "duration": 166,
    "start_time": "2022-03-22T13:17:31.637Z"
   },
   {
    "duration": 4,
    "start_time": "2022-03-22T13:17:51.574Z"
   },
   {
    "duration": 214,
    "start_time": "2022-03-22T13:17:54.463Z"
   },
   {
    "duration": 4,
    "start_time": "2022-03-22T13:18:26.079Z"
   },
   {
    "duration": 185,
    "start_time": "2022-03-22T13:18:28.347Z"
   },
   {
    "duration": 160,
    "start_time": "2022-03-22T13:18:29.521Z"
   },
   {
    "duration": 249,
    "start_time": "2022-03-22T13:18:29.979Z"
   },
   {
    "duration": 4,
    "start_time": "2022-03-22T13:18:45.317Z"
   },
   {
    "duration": 185,
    "start_time": "2022-03-22T13:18:47.193Z"
   },
   {
    "duration": 182,
    "start_time": "2022-03-22T13:18:59.423Z"
   },
   {
    "duration": 196,
    "start_time": "2022-03-22T13:19:16.554Z"
   },
   {
    "duration": 211,
    "start_time": "2022-03-22T13:19:44.233Z"
   },
   {
    "duration": 182,
    "start_time": "2022-03-22T13:19:54.903Z"
   },
   {
    "duration": 196,
    "start_time": "2022-03-22T13:19:57.863Z"
   },
   {
    "duration": 3,
    "start_time": "2022-03-22T13:20:05.477Z"
   },
   {
    "duration": 323,
    "start_time": "2022-03-22T13:20:07.532Z"
   },
   {
    "duration": 325,
    "start_time": "2022-03-22T13:20:19.716Z"
   },
   {
    "duration": 4,
    "start_time": "2022-03-22T13:20:30.204Z"
   },
   {
    "duration": 3,
    "start_time": "2022-03-22T13:20:39.893Z"
   },
   {
    "duration": 168,
    "start_time": "2022-03-22T13:20:42.071Z"
   },
   {
    "duration": 142,
    "start_time": "2022-03-22T13:20:46.653Z"
   },
   {
    "duration": 253,
    "start_time": "2022-03-22T13:20:51.414Z"
   },
   {
    "duration": 170,
    "start_time": "2022-03-22T13:20:58.481Z"
   },
   {
    "duration": 162,
    "start_time": "2022-03-22T13:22:37.884Z"
   },
   {
    "duration": 157,
    "start_time": "2022-03-22T13:24:10.659Z"
   },
   {
    "duration": 4,
    "start_time": "2022-03-22T13:26:19.247Z"
   },
   {
    "duration": 5,
    "start_time": "2022-03-22T13:26:19.253Z"
   },
   {
    "duration": 143,
    "start_time": "2022-03-22T13:26:19.260Z"
   },
   {
    "duration": 127,
    "start_time": "2022-03-22T13:26:19.405Z"
   },
   {
    "duration": 132,
    "start_time": "2022-03-22T13:26:19.534Z"
   },
   {
    "duration": 81,
    "start_time": "2022-03-22T13:26:19.669Z"
   },
   {
    "duration": 4,
    "start_time": "2022-03-22T13:26:19.752Z"
   },
   {
    "duration": 2123,
    "start_time": "2022-03-22T13:28:14.840Z"
   },
   {
    "duration": 121,
    "start_time": "2022-03-22T13:31:49.464Z"
   },
   {
    "duration": 4,
    "start_time": "2022-03-22T13:31:57.008Z"
   },
   {
    "duration": 4,
    "start_time": "2022-03-22T13:31:57.263Z"
   },
   {
    "duration": 130,
    "start_time": "2022-03-22T13:31:57.526Z"
   },
   {
    "duration": 123,
    "start_time": "2022-03-22T13:31:57.720Z"
   },
   {
    "duration": 127,
    "start_time": "2022-03-22T13:31:57.900Z"
   },
   {
    "duration": 83,
    "start_time": "2022-03-22T13:31:58.447Z"
   },
   {
    "duration": 3,
    "start_time": "2022-03-22T13:31:58.847Z"
   },
   {
    "duration": 10,
    "start_time": "2022-03-22T13:31:59.127Z"
   },
   {
    "duration": 1557,
    "start_time": "2022-03-22T13:31:59.327Z"
   },
   {
    "duration": 2048,
    "start_time": "2022-03-22T13:32:37.084Z"
   },
   {
    "duration": 1237,
    "start_time": "2022-03-22T13:33:16.227Z"
   },
   {
    "duration": 1186,
    "start_time": "2022-03-22T13:33:35.865Z"
   },
   {
    "duration": 1617,
    "start_time": "2022-03-22T13:33:49.703Z"
   },
   {
    "duration": 40,
    "start_time": "2022-03-22T13:34:14.806Z"
   },
   {
    "duration": 1563,
    "start_time": "2022-03-22T13:34:22.207Z"
   },
   {
    "duration": 3,
    "start_time": "2022-03-22T13:37:49.973Z"
   },
   {
    "duration": 9,
    "start_time": "2022-03-22T13:38:09.131Z"
   },
   {
    "duration": 26,
    "start_time": "2022-03-22T13:38:14.327Z"
   },
   {
    "duration": 3,
    "start_time": "2022-03-22T13:38:21.815Z"
   },
   {
    "duration": 3,
    "start_time": "2022-03-22T13:38:21.986Z"
   },
   {
    "duration": 136,
    "start_time": "2022-03-22T13:38:22.147Z"
   },
   {
    "duration": 126,
    "start_time": "2022-03-22T13:38:22.337Z"
   },
   {
    "duration": 137,
    "start_time": "2022-03-22T13:38:22.667Z"
   },
   {
    "duration": 68,
    "start_time": "2022-03-22T13:38:23.453Z"
   },
   {
    "duration": 3,
    "start_time": "2022-03-22T13:38:24.317Z"
   },
   {
    "duration": 20,
    "start_time": "2022-03-22T13:38:24.866Z"
   },
   {
    "duration": 4,
    "start_time": "2022-03-22T13:38:34.325Z"
   },
   {
    "duration": 409,
    "start_time": "2022-03-22T13:38:34.847Z"
   },
   {
    "duration": 4,
    "start_time": "2022-03-22T13:40:18.268Z"
   },
   {
    "duration": 148,
    "start_time": "2022-03-22T13:40:30.948Z"
   },
   {
    "duration": 2328,
    "start_time": "2022-03-22T13:40:43.137Z"
   },
   {
    "duration": 4,
    "start_time": "2022-03-22T13:40:45.467Z"
   },
   {
    "duration": 11,
    "start_time": "2022-03-22T13:40:45.473Z"
   },
   {
    "duration": 3,
    "start_time": "2022-03-22T13:40:56.786Z"
   },
   {
    "duration": 138,
    "start_time": "2022-03-22T13:40:57.304Z"
   },
   {
    "duration": 125,
    "start_time": "2022-03-22T13:40:57.488Z"
   },
   {
    "duration": 129,
    "start_time": "2022-03-22T13:40:57.660Z"
   },
   {
    "duration": 78,
    "start_time": "2022-03-22T13:40:58.005Z"
   },
   {
    "duration": 241,
    "start_time": "2022-03-22T13:40:58.566Z"
   },
   {
    "duration": 65,
    "start_time": "2022-03-22T13:41:17.878Z"
   },
   {
    "duration": 3,
    "start_time": "2022-03-22T13:41:23.213Z"
   },
   {
    "duration": 135,
    "start_time": "2022-03-22T13:41:25.364Z"
   },
   {
    "duration": 144,
    "start_time": "2022-03-22T13:41:43.136Z"
   },
   {
    "duration": 154,
    "start_time": "2022-03-22T13:41:47.834Z"
   },
   {
    "duration": 6209,
    "start_time": "2022-03-22T13:41:58.245Z"
   },
   {
    "duration": 167,
    "start_time": "2022-03-22T13:42:05.188Z"
   },
   {
    "duration": 3,
    "start_time": "2022-03-22T13:42:55.206Z"
   },
   {
    "duration": 271,
    "start_time": "2022-03-22T13:42:58.134Z"
   },
   {
    "duration": 3,
    "start_time": "2022-03-22T13:43:08.395Z"
   },
   {
    "duration": 167,
    "start_time": "2022-03-22T13:43:10.575Z"
   },
   {
    "duration": 3,
    "start_time": "2022-03-22T13:43:37.575Z"
   },
   {
    "duration": 171,
    "start_time": "2022-03-22T13:43:39.825Z"
   },
   {
    "duration": 163,
    "start_time": "2022-03-22T13:43:42.705Z"
   },
   {
    "duration": 1513,
    "start_time": "2022-03-22T13:43:48.974Z"
   },
   {
    "duration": 4,
    "start_time": "2022-03-22T13:43:50.489Z"
   },
   {
    "duration": 7,
    "start_time": "2022-03-22T13:43:50.494Z"
   },
   {
    "duration": 132,
    "start_time": "2022-03-22T13:43:50.503Z"
   },
   {
    "duration": 122,
    "start_time": "2022-03-22T13:43:50.637Z"
   },
   {
    "duration": 123,
    "start_time": "2022-03-22T13:43:50.761Z"
   },
   {
    "duration": 81,
    "start_time": "2022-03-22T13:43:50.886Z"
   },
   {
    "duration": 152,
    "start_time": "2022-03-22T13:43:50.968Z"
   },
   {
    "duration": 176,
    "start_time": "2022-03-22T13:43:54.655Z"
   },
   {
    "duration": 140,
    "start_time": "2022-03-22T13:43:56.284Z"
   },
   {
    "duration": 153,
    "start_time": "2022-03-22T13:43:57.624Z"
   },
   {
    "duration": 156,
    "start_time": "2022-03-22T13:43:59.237Z"
   },
   {
    "duration": 6,
    "start_time": "2022-03-22T13:43:59.815Z"
   },
   {
    "duration": 3,
    "start_time": "2022-03-22T13:44:25.405Z"
   },
   {
    "duration": 242,
    "start_time": "2022-03-22T13:44:36.145Z"
   },
   {
    "duration": 168,
    "start_time": "2022-03-22T13:45:04.256Z"
   },
   {
    "duration": 140,
    "start_time": "2022-03-22T13:45:06.004Z"
   },
   {
    "duration": 4,
    "start_time": "2022-03-22T13:45:13.298Z"
   },
   {
    "duration": 171,
    "start_time": "2022-03-22T13:45:16.964Z"
   },
   {
    "duration": 8,
    "start_time": "2022-03-22T13:45:27.592Z"
   },
   {
    "duration": 45,
    "start_time": "2022-03-22T13:45:30.278Z"
   },
   {
    "duration": 1662,
    "start_time": "2022-03-22T13:45:37.852Z"
   },
   {
    "duration": 3,
    "start_time": "2022-03-22T13:45:39.516Z"
   },
   {
    "duration": 7,
    "start_time": "2022-03-22T13:45:39.520Z"
   },
   {
    "duration": 132,
    "start_time": "2022-03-22T13:45:39.529Z"
   },
   {
    "duration": 124,
    "start_time": "2022-03-22T13:45:39.663Z"
   },
   {
    "duration": 124,
    "start_time": "2022-03-22T13:45:39.789Z"
   },
   {
    "duration": 78,
    "start_time": "2022-03-22T13:45:39.915Z"
   },
   {
    "duration": 157,
    "start_time": "2022-03-22T13:45:39.995Z"
   },
   {
    "duration": 142,
    "start_time": "2022-03-22T13:45:40.154Z"
   },
   {
    "duration": 161,
    "start_time": "2022-03-22T13:45:40.300Z"
   },
   {
    "duration": 173,
    "start_time": "2022-03-22T13:45:40.463Z"
   },
   {
    "duration": 163,
    "start_time": "2022-03-22T13:45:48.202Z"
   },
   {
    "duration": 68,
    "start_time": "2022-03-22T13:46:19.133Z"
   },
   {
    "duration": 65,
    "start_time": "2022-03-22T13:46:24.117Z"
   },
   {
    "duration": 5,
    "start_time": "2022-03-22T13:46:24.345Z"
   },
   {
    "duration": 3,
    "start_time": "2022-03-22T13:47:00.087Z"
   },
   {
    "duration": 79,
    "start_time": "2022-03-22T13:47:03.106Z"
   },
   {
    "duration": 3,
    "start_time": "2022-03-22T13:47:11.045Z"
   },
   {
    "duration": 219,
    "start_time": "2022-03-22T13:47:15.719Z"
   },
   {
    "duration": 569,
    "start_time": "2022-03-22T13:47:45.534Z"
   },
   {
    "duration": 3,
    "start_time": "2022-03-22T13:48:21.415Z"
   },
   {
    "duration": 170,
    "start_time": "2022-03-22T13:48:23.845Z"
   },
   {
    "duration": 3,
    "start_time": "2022-03-22T13:48:46.073Z"
   },
   {
    "duration": 587,
    "start_time": "2022-03-22T13:48:48.765Z"
   },
   {
    "duration": 3,
    "start_time": "2022-03-22T13:51:19.545Z"
   },
   {
    "duration": 182,
    "start_time": "2022-03-22T13:51:22.244Z"
   },
   {
    "duration": 3,
    "start_time": "2022-03-22T13:51:32.865Z"
   },
   {
    "duration": 640,
    "start_time": "2022-03-22T13:51:35.434Z"
   },
   {
    "duration": 3,
    "start_time": "2022-03-22T13:52:00.876Z"
   },
   {
    "duration": 400,
    "start_time": "2022-03-22T13:52:03.426Z"
   },
   {
    "duration": 3,
    "start_time": "2022-03-22T13:52:20.003Z"
   },
   {
    "duration": 537,
    "start_time": "2022-03-22T13:52:21.865Z"
   },
   {
    "duration": 316,
    "start_time": "2022-03-22T13:56:05.719Z"
   },
   {
    "duration": 164,
    "start_time": "2022-03-22T13:56:32.678Z"
   },
   {
    "duration": 3,
    "start_time": "2022-03-22T13:56:36.449Z"
   },
   {
    "duration": 3,
    "start_time": "2022-03-22T13:56:36.600Z"
   },
   {
    "duration": 3,
    "start_time": "2022-03-22T13:56:36.767Z"
   },
   {
    "duration": 1855,
    "start_time": "2022-03-22T13:56:38.106Z"
   },
   {
    "duration": 346,
    "start_time": "2022-03-22T13:56:39.963Z"
   },
   {
    "duration": 975,
    "start_time": "2022-03-22T13:56:40.310Z"
   },
   {
    "duration": 73,
    "start_time": "2022-03-22T13:56:41.287Z"
   },
   {
    "duration": 642,
    "start_time": "2022-03-22T13:56:41.361Z"
   },
   {
    "duration": 3,
    "start_time": "2022-03-22T13:56:53.491Z"
   },
   {
    "duration": 4,
    "start_time": "2022-03-22T13:57:01.546Z"
   },
   {
    "duration": 546,
    "start_time": "2022-03-22T13:57:03.617Z"
   },
   {
    "duration": 542,
    "start_time": "2022-03-22T13:57:22.385Z"
   },
   {
    "duration": 651,
    "start_time": "2022-03-22T13:57:40.986Z"
   },
   {
    "duration": 3,
    "start_time": "2022-03-22T14:05:05.296Z"
   },
   {
    "duration": 4,
    "start_time": "2022-03-22T14:09:02.184Z"
   },
   {
    "duration": 12,
    "start_time": "2022-03-22T14:10:24.018Z"
   },
   {
    "duration": 4,
    "start_time": "2022-03-22T14:10:50.384Z"
   },
   {
    "duration": 46,
    "start_time": "2022-03-22T14:10:57.432Z"
   },
   {
    "duration": 42,
    "start_time": "2022-03-22T14:11:37.080Z"
   },
   {
    "duration": 14,
    "start_time": "2022-03-22T14:13:02.304Z"
   },
   {
    "duration": 12,
    "start_time": "2022-03-22T14:13:08.704Z"
   },
   {
    "duration": 12,
    "start_time": "2022-03-22T14:13:17.727Z"
   },
   {
    "duration": 22,
    "start_time": "2022-03-22T14:13:29.106Z"
   },
   {
    "duration": 4,
    "start_time": "2022-03-22T14:13:39.569Z"
   },
   {
    "duration": 49,
    "start_time": "2022-03-22T14:13:50.327Z"
   },
   {
    "duration": 2046,
    "start_time": "2022-03-22T14:14:00.837Z"
   },
   {
    "duration": 4,
    "start_time": "2022-03-22T14:14:02.885Z"
   },
   {
    "duration": 16,
    "start_time": "2022-03-22T14:14:02.891Z"
   },
   {
    "duration": 9,
    "start_time": "2022-03-22T14:14:02.910Z"
   },
   {
    "duration": 153,
    "start_time": "2022-03-22T14:14:02.920Z"
   },
   {
    "duration": 1827,
    "start_time": "2022-03-22T14:14:03.074Z"
   },
   {
    "duration": 347,
    "start_time": "2022-03-22T14:14:04.903Z"
   },
   {
    "duration": 87,
    "start_time": "2022-03-22T14:14:05.252Z"
   },
   {
    "duration": 541,
    "start_time": "2022-03-22T14:14:05.341Z"
   },
   {
    "duration": 57,
    "start_time": "2022-03-22T14:14:05.884Z"
   },
   {
    "duration": 642,
    "start_time": "2022-03-22T14:16:42.254Z"
   },
   {
    "duration": 511,
    "start_time": "2022-03-22T14:16:48.256Z"
   },
   {
    "duration": 543,
    "start_time": "2022-03-22T14:16:51.558Z"
   },
   {
    "duration": 221,
    "start_time": "2022-03-22T14:19:11.973Z"
   },
   {
    "duration": 1757,
    "start_time": "2022-03-22T14:19:23.438Z"
   },
   {
    "duration": 3,
    "start_time": "2022-03-22T14:19:25.198Z"
   },
   {
    "duration": 6,
    "start_time": "2022-03-22T14:19:25.203Z"
   },
   {
    "duration": 6,
    "start_time": "2022-03-22T14:19:25.211Z"
   },
   {
    "duration": 163,
    "start_time": "2022-03-22T14:19:25.219Z"
   },
   {
    "duration": 133,
    "start_time": "2022-03-22T14:19:25.384Z"
   },
   {
    "duration": 130,
    "start_time": "2022-03-22T14:19:25.519Z"
   },
   {
    "duration": 85,
    "start_time": "2022-03-22T14:19:25.651Z"
   },
   {
    "duration": 529,
    "start_time": "2022-03-22T14:19:25.737Z"
   },
   {
    "duration": 77,
    "start_time": "2022-03-22T14:19:26.268Z"
   },
   {
    "duration": 652,
    "start_time": "2022-03-22T14:19:26.347Z"
   },
   {
    "duration": 77,
    "start_time": "2022-03-22T14:19:27.001Z"
   },
   {
    "duration": 576,
    "start_time": "2022-03-22T14:19:27.080Z"
   },
   {
    "duration": 223,
    "start_time": "2022-03-22T14:19:27.658Z"
   },
   {
    "duration": 5,
    "start_time": "2022-03-22T14:20:45.013Z"
   },
   {
    "duration": 12,
    "start_time": "2022-03-22T14:20:45.372Z"
   },
   {
    "duration": 17,
    "start_time": "2022-03-22T14:20:46.285Z"
   },
   {
    "duration": 5,
    "start_time": "2022-03-22T14:21:13.120Z"
   },
   {
    "duration": 1631,
    "start_time": "2022-03-22T14:21:14.313Z"
   },
   {
    "duration": 132,
    "start_time": "2022-03-22T14:21:15.947Z"
   },
   {
    "duration": 138,
    "start_time": "2022-03-22T14:21:16.081Z"
   },
   {
    "duration": 74,
    "start_time": "2022-03-22T14:21:16.221Z"
   },
   {
    "duration": 600,
    "start_time": "2022-03-22T14:21:16.297Z"
   },
   {
    "duration": 96,
    "start_time": "2022-03-22T14:21:16.899Z"
   },
   {
    "duration": 640,
    "start_time": "2022-03-22T14:21:16.997Z"
   },
   {
    "duration": 70,
    "start_time": "2022-03-22T14:21:17.639Z"
   },
   {
    "duration": 642,
    "start_time": "2022-03-22T14:21:17.711Z"
   },
   {
    "duration": 214,
    "start_time": "2022-03-22T14:21:18.356Z"
   },
   {
    "duration": 5,
    "start_time": "2022-03-22T14:21:18.572Z"
   },
   {
    "duration": 19,
    "start_time": "2022-03-22T14:21:18.578Z"
   },
   {
    "duration": 39,
    "start_time": "2022-03-22T14:21:18.599Z"
   },
   {
    "duration": 258,
    "start_time": "2022-03-22T14:21:18.641Z"
   },
   {
    "duration": 4,
    "start_time": "2022-03-22T14:21:41.761Z"
   },
   {
    "duration": 127,
    "start_time": "2022-03-22T14:21:43.565Z"
   },
   {
    "duration": 127,
    "start_time": "2022-03-22T14:21:43.748Z"
   },
   {
    "duration": 124,
    "start_time": "2022-03-22T14:21:43.914Z"
   },
   {
    "duration": 72,
    "start_time": "2022-03-22T14:21:44.229Z"
   },
   {
    "duration": 572,
    "start_time": "2022-03-22T14:21:44.365Z"
   },
   {
    "duration": 71,
    "start_time": "2022-03-22T14:21:44.938Z"
   },
   {
    "duration": 593,
    "start_time": "2022-03-22T14:21:45.012Z"
   },
   {
    "duration": 80,
    "start_time": "2022-03-22T14:21:45.607Z"
   },
   {
    "duration": 721,
    "start_time": "2022-03-22T14:21:45.688Z"
   },
   {
    "duration": 239,
    "start_time": "2022-03-22T14:21:46.411Z"
   },
   {
    "duration": 5,
    "start_time": "2022-03-22T14:21:48.902Z"
   },
   {
    "duration": 13,
    "start_time": "2022-03-22T14:21:49.245Z"
   },
   {
    "duration": 32,
    "start_time": "2022-03-22T14:21:49.501Z"
   },
   {
    "duration": 4,
    "start_time": "2022-03-22T14:23:20.328Z"
   },
   {
    "duration": 4,
    "start_time": "2022-03-22T14:23:30.033Z"
   },
   {
    "duration": 3,
    "start_time": "2022-03-22T14:23:40.811Z"
   },
   {
    "duration": 12,
    "start_time": "2022-03-22T14:27:06.927Z"
   },
   {
    "duration": 24,
    "start_time": "2022-03-22T14:27:13.263Z"
   },
   {
    "duration": 3,
    "start_time": "2022-03-22T14:27:37.575Z"
   },
   {
    "duration": 14,
    "start_time": "2022-03-22T14:27:49.782Z"
   },
   {
    "duration": 21,
    "start_time": "2022-03-22T14:28:26.047Z"
   },
   {
    "duration": 15,
    "start_time": "2022-03-22T14:29:05.421Z"
   },
   {
    "duration": 10,
    "start_time": "2022-03-22T14:29:47.087Z"
   },
   {
    "duration": 22,
    "start_time": "2022-03-22T14:29:51.852Z"
   },
   {
    "duration": 120,
    "start_time": "2022-03-22T14:29:52.215Z"
   },
   {
    "duration": 15,
    "start_time": "2022-03-22T14:30:18.902Z"
   },
   {
    "duration": 20,
    "start_time": "2022-03-22T14:30:35.842Z"
   },
   {
    "duration": 15,
    "start_time": "2022-03-22T14:30:37.771Z"
   },
   {
    "duration": 21,
    "start_time": "2022-03-22T14:30:38.094Z"
   },
   {
    "duration": 37,
    "start_time": "2022-03-22T14:30:45.096Z"
   },
   {
    "duration": 9,
    "start_time": "2022-03-22T14:31:22.323Z"
   },
   {
    "duration": 15,
    "start_time": "2022-03-22T14:31:24.401Z"
   },
   {
    "duration": 19,
    "start_time": "2022-03-22T14:31:24.982Z"
   },
   {
    "duration": 15,
    "start_time": "2022-03-22T14:31:30.223Z"
   },
   {
    "duration": 15,
    "start_time": "2022-03-22T14:31:35.222Z"
   },
   {
    "duration": 15,
    "start_time": "2022-03-22T14:34:26.331Z"
   },
   {
    "duration": 15,
    "start_time": "2022-03-22T14:35:15.862Z"
   },
   {
    "duration": 21,
    "start_time": "2022-03-22T14:35:52.337Z"
   },
   {
    "duration": 91,
    "start_time": "2022-03-22T14:36:20.943Z"
   },
   {
    "duration": 16,
    "start_time": "2022-03-22T14:36:25.604Z"
   },
   {
    "duration": 37,
    "start_time": "2022-03-22T14:36:53.143Z"
   },
   {
    "duration": 17,
    "start_time": "2022-03-22T14:37:03.328Z"
   },
   {
    "duration": 16,
    "start_time": "2022-03-22T14:37:03.541Z"
   },
   {
    "duration": 16,
    "start_time": "2022-03-22T14:37:03.764Z"
   },
   {
    "duration": 16,
    "start_time": "2022-03-22T14:40:26.664Z"
   },
   {
    "duration": 15,
    "start_time": "2022-03-22T14:40:28.257Z"
   },
   {
    "duration": 48,
    "start_time": "2022-03-22T14:40:29.683Z"
   },
   {
    "duration": 16,
    "start_time": "2022-03-22T14:40:30.414Z"
   },
   {
    "duration": 5,
    "start_time": "2022-03-22T14:42:41.873Z"
   },
   {
    "duration": 258,
    "start_time": "2022-03-22T14:42:42.332Z"
   },
   {
    "duration": 8,
    "start_time": "2022-03-22T14:42:57.032Z"
   },
   {
    "duration": 1695,
    "start_time": "2022-03-22T14:42:58.709Z"
   },
   {
    "duration": 3,
    "start_time": "2022-03-22T14:43:00.405Z"
   },
   {
    "duration": 13,
    "start_time": "2022-03-22T14:43:00.410Z"
   },
   {
    "duration": 11,
    "start_time": "2022-03-22T14:43:00.426Z"
   },
   {
    "duration": 155,
    "start_time": "2022-03-22T14:43:00.439Z"
   },
   {
    "duration": 128,
    "start_time": "2022-03-22T14:43:00.596Z"
   },
   {
    "duration": 130,
    "start_time": "2022-03-22T14:43:00.731Z"
   },
   {
    "duration": 85,
    "start_time": "2022-03-22T14:43:00.863Z"
   },
   {
    "duration": 575,
    "start_time": "2022-03-22T14:43:00.949Z"
   },
   {
    "duration": 77,
    "start_time": "2022-03-22T14:43:01.531Z"
   },
   {
    "duration": 708,
    "start_time": "2022-03-22T14:43:01.610Z"
   },
   {
    "duration": 78,
    "start_time": "2022-03-22T14:43:02.320Z"
   },
   {
    "duration": 637,
    "start_time": "2022-03-22T14:43:02.400Z"
   },
   {
    "duration": 5,
    "start_time": "2022-03-22T14:43:03.039Z"
   },
   {
    "duration": 244,
    "start_time": "2022-03-22T14:43:03.046Z"
   },
   {
    "duration": 51,
    "start_time": "2022-03-22T14:43:03.292Z"
   },
   {
    "duration": 17,
    "start_time": "2022-03-22T14:43:03.344Z"
   },
   {
    "duration": 108,
    "start_time": "2022-03-22T14:43:03.432Z"
   },
   {
    "duration": 192,
    "start_time": "2022-03-22T14:43:03.543Z"
   },
   {
    "duration": 565,
    "start_time": "2022-03-22T14:43:18.815Z"
   },
   {
    "duration": 222,
    "start_time": "2022-03-22T14:45:17.291Z"
   },
   {
    "duration": 1721,
    "start_time": "2022-03-22T14:45:27.118Z"
   },
   {
    "duration": 4,
    "start_time": "2022-03-22T14:45:28.842Z"
   },
   {
    "duration": 6,
    "start_time": "2022-03-22T14:45:28.848Z"
   },
   {
    "duration": 4,
    "start_time": "2022-03-22T14:45:28.857Z"
   },
   {
    "duration": 145,
    "start_time": "2022-03-22T14:45:28.863Z"
   },
   {
    "duration": 129,
    "start_time": "2022-03-22T14:45:29.010Z"
   },
   {
    "duration": 126,
    "start_time": "2022-03-22T14:45:29.141Z"
   },
   {
    "duration": 88,
    "start_time": "2022-03-22T14:45:29.269Z"
   },
   {
    "duration": 533,
    "start_time": "2022-03-22T14:45:29.359Z"
   },
   {
    "duration": 83,
    "start_time": "2022-03-22T14:45:29.894Z"
   },
   {
    "duration": 633,
    "start_time": "2022-03-22T14:45:29.978Z"
   },
   {
    "duration": 82,
    "start_time": "2022-03-22T14:45:30.613Z"
   },
   {
    "duration": 615,
    "start_time": "2022-03-22T14:45:30.697Z"
   },
   {
    "duration": 4,
    "start_time": "2022-03-22T14:45:31.314Z"
   },
   {
    "duration": 243,
    "start_time": "2022-03-22T14:45:31.320Z"
   },
   {
    "duration": 40,
    "start_time": "2022-03-22T14:45:31.566Z"
   },
   {
    "duration": 32,
    "start_time": "2022-03-22T14:45:31.608Z"
   },
   {
    "duration": 196,
    "start_time": "2022-03-22T14:45:31.642Z"
   },
   {
    "duration": 209,
    "start_time": "2022-03-22T14:45:31.841Z"
   },
   {
    "duration": 2271,
    "start_time": "2022-03-22T17:43:48.060Z"
   },
   {
    "duration": 5,
    "start_time": "2022-03-22T17:43:50.333Z"
   },
   {
    "duration": 18,
    "start_time": "2022-03-22T17:43:50.340Z"
   },
   {
    "duration": 22,
    "start_time": "2022-03-22T17:43:50.361Z"
   },
   {
    "duration": 165,
    "start_time": "2022-03-22T17:43:50.385Z"
   },
   {
    "duration": 175,
    "start_time": "2022-03-22T17:43:50.553Z"
   },
   {
    "duration": 161,
    "start_time": "2022-03-22T17:43:50.730Z"
   },
   {
    "duration": 115,
    "start_time": "2022-03-22T17:43:50.895Z"
   },
   {
    "duration": 863,
    "start_time": "2022-03-22T17:43:51.071Z"
   },
   {
    "duration": 104,
    "start_time": "2022-03-22T17:43:51.937Z"
   },
   {
    "duration": 1024,
    "start_time": "2022-03-22T17:43:52.044Z"
   },
   {
    "duration": 112,
    "start_time": "2022-03-22T17:43:53.073Z"
   },
   {
    "duration": 909,
    "start_time": "2022-03-22T17:43:53.188Z"
   },
   {
    "duration": 6,
    "start_time": "2022-03-22T17:43:54.100Z"
   },
   {
    "duration": 585,
    "start_time": "2022-03-22T17:43:54.108Z"
   },
   {
    "duration": 57,
    "start_time": "2022-03-22T17:43:54.698Z"
   },
   {
    "duration": 118,
    "start_time": "2022-03-22T17:43:54.757Z"
   },
   {
    "duration": 107,
    "start_time": "2022-03-22T17:43:54.879Z"
   },
   {
    "duration": 99,
    "start_time": "2022-03-22T17:43:54.990Z"
   },
   {
    "duration": 1760,
    "start_time": "2022-03-23T09:22:30.451Z"
   },
   {
    "duration": 3,
    "start_time": "2022-03-23T09:22:32.213Z"
   },
   {
    "duration": 20,
    "start_time": "2022-03-23T09:22:32.218Z"
   },
   {
    "duration": 10,
    "start_time": "2022-03-23T09:22:32.240Z"
   },
   {
    "duration": 129,
    "start_time": "2022-03-23T09:22:32.251Z"
   },
   {
    "duration": 107,
    "start_time": "2022-03-23T09:22:32.382Z"
   },
   {
    "duration": 117,
    "start_time": "2022-03-23T09:22:32.491Z"
   },
   {
    "duration": 84,
    "start_time": "2022-03-23T09:22:32.610Z"
   },
   {
    "duration": 526,
    "start_time": "2022-03-23T09:22:32.695Z"
   },
   {
    "duration": 65,
    "start_time": "2022-03-23T09:22:35.252Z"
   },
   {
    "duration": 543,
    "start_time": "2022-03-23T09:22:35.890Z"
   },
   {
    "duration": 67,
    "start_time": "2022-03-23T09:22:37.886Z"
   },
   {
    "duration": 624,
    "start_time": "2022-03-23T09:22:38.213Z"
   },
   {
    "duration": 7,
    "start_time": "2022-03-23T09:22:38.841Z"
   },
   {
    "duration": 409,
    "start_time": "2022-03-23T09:22:38.851Z"
   },
   {
    "duration": 45,
    "start_time": "2022-03-23T09:22:42.679Z"
   },
   {
    "duration": 17,
    "start_time": "2022-03-23T09:22:42.869Z"
   },
   {
    "duration": 15,
    "start_time": "2022-03-23T09:22:43.070Z"
   },
   {
    "duration": 14,
    "start_time": "2022-03-23T09:22:43.280Z"
   },
   {
    "duration": 14,
    "start_time": "2022-03-23T09:23:04.020Z"
   },
   {
    "duration": 13,
    "start_time": "2022-03-23T09:23:20.271Z"
   },
   {
    "duration": 14,
    "start_time": "2022-03-23T09:23:23.480Z"
   },
   {
    "duration": 15,
    "start_time": "2022-03-23T09:35:49.746Z"
   },
   {
    "duration": 13,
    "start_time": "2022-03-23T09:35:50.191Z"
   },
   {
    "duration": 15,
    "start_time": "2022-03-23T09:35:50.545Z"
   },
   {
    "duration": 15,
    "start_time": "2022-03-23T09:49:07.115Z"
   },
   {
    "duration": 15,
    "start_time": "2022-03-23T09:49:07.589Z"
   },
   {
    "duration": 16,
    "start_time": "2022-03-23T09:49:09.267Z"
   },
   {
    "duration": 24,
    "start_time": "2022-03-23T09:53:43.758Z"
   },
   {
    "duration": 16,
    "start_time": "2022-03-23T09:53:49.179Z"
   },
   {
    "duration": 14,
    "start_time": "2022-03-23T09:53:56.399Z"
   },
   {
    "duration": 21,
    "start_time": "2022-03-23T09:54:00.526Z"
   },
   {
    "duration": 13,
    "start_time": "2022-03-23T09:54:03.618Z"
   },
   {
    "duration": 14,
    "start_time": "2022-03-23T09:54:08.898Z"
   },
   {
    "duration": 13,
    "start_time": "2022-03-23T09:54:15.989Z"
   },
   {
    "duration": 14,
    "start_time": "2022-03-23T09:54:20.698Z"
   },
   {
    "duration": 19,
    "start_time": "2022-03-23T09:54:22.039Z"
   },
   {
    "duration": 61,
    "start_time": "2022-03-23T09:54:46.630Z"
   },
   {
    "duration": 481,
    "start_time": "2022-03-23T09:54:47.131Z"
   },
   {
    "duration": 67,
    "start_time": "2022-03-23T09:54:49.289Z"
   },
   {
    "duration": 59,
    "start_time": "2022-03-23T09:54:54.060Z"
   },
   {
    "duration": 528,
    "start_time": "2022-03-23T09:54:54.300Z"
   },
   {
    "duration": 59,
    "start_time": "2022-03-23T09:54:56.239Z"
   },
   {
    "duration": 446,
    "start_time": "2022-03-23T09:54:56.460Z"
   },
   {
    "duration": 4,
    "start_time": "2022-03-23T09:55:00.279Z"
   },
   {
    "duration": 223,
    "start_time": "2022-03-23T09:55:00.538Z"
   },
   {
    "duration": 1452,
    "start_time": "2022-03-23T09:55:09.894Z"
   },
   {
    "duration": 3,
    "start_time": "2022-03-23T09:55:11.348Z"
   },
   {
    "duration": 5,
    "start_time": "2022-03-23T09:55:11.352Z"
   },
   {
    "duration": 6,
    "start_time": "2022-03-23T09:55:11.359Z"
   },
   {
    "duration": 125,
    "start_time": "2022-03-23T09:55:11.367Z"
   },
   {
    "duration": 109,
    "start_time": "2022-03-23T09:55:11.493Z"
   },
   {
    "duration": 116,
    "start_time": "2022-03-23T09:55:11.604Z"
   },
   {
    "duration": 77,
    "start_time": "2022-03-23T09:55:11.722Z"
   },
   {
    "duration": 438,
    "start_time": "2022-03-23T09:55:11.801Z"
   },
   {
    "duration": 61,
    "start_time": "2022-03-23T09:55:12.241Z"
   },
   {
    "duration": 536,
    "start_time": "2022-03-23T09:55:12.303Z"
   },
   {
    "duration": 59,
    "start_time": "2022-03-23T09:55:12.840Z"
   },
   {
    "duration": 492,
    "start_time": "2022-03-23T09:55:12.900Z"
   },
   {
    "duration": 4,
    "start_time": "2022-03-23T09:55:13.394Z"
   },
   {
    "duration": 227,
    "start_time": "2022-03-23T09:55:13.400Z"
   },
   {
    "duration": 14,
    "start_time": "2022-03-23T09:56:40.587Z"
   },
   {
    "duration": 15,
    "start_time": "2022-03-23T09:56:48.816Z"
   },
   {
    "duration": 456,
    "start_time": "2022-03-23T09:56:50.947Z"
   },
   {
    "duration": 7,
    "start_time": "2022-03-23T09:57:03.717Z"
   },
   {
    "duration": 2278,
    "start_time": "2022-03-23T09:57:04.587Z"
   },
   {
    "duration": 455,
    "start_time": "2022-03-23T09:57:09.997Z"
   },
   {
    "duration": 1482,
    "start_time": "2022-03-23T09:57:37.541Z"
   },
   {
    "duration": 4,
    "start_time": "2022-03-23T09:57:39.026Z"
   },
   {
    "duration": 5,
    "start_time": "2022-03-23T09:57:39.032Z"
   },
   {
    "duration": 5,
    "start_time": "2022-03-23T09:57:39.038Z"
   },
   {
    "duration": 4,
    "start_time": "2022-03-23T09:57:40.834Z"
   },
   {
    "duration": 3,
    "start_time": "2022-03-23T09:57:41.096Z"
   },
   {
    "duration": 3,
    "start_time": "2022-03-23T09:57:41.316Z"
   },
   {
    "duration": 4,
    "start_time": "2022-03-23T09:57:41.504Z"
   },
   {
    "duration": 137,
    "start_time": "2022-03-23T09:57:41.704Z"
   },
   {
    "duration": 119,
    "start_time": "2022-03-23T09:57:41.856Z"
   },
   {
    "duration": 174,
    "start_time": "2022-03-23T09:57:42.023Z"
   },
   {
    "duration": 70,
    "start_time": "2022-03-23T09:57:42.406Z"
   },
   {
    "duration": 437,
    "start_time": "2022-03-23T09:57:42.580Z"
   },
   {
    "duration": 67,
    "start_time": "2022-03-23T09:57:43.077Z"
   },
   {
    "duration": 7,
    "start_time": "2022-03-23T09:57:43.306Z"
   },
   {
    "duration": 423,
    "start_time": "2022-03-23T09:57:43.496Z"
   },
   {
    "duration": 66,
    "start_time": "2022-03-23T09:57:43.921Z"
   },
   {
    "duration": 512,
    "start_time": "2022-03-23T09:57:43.988Z"
   },
   {
    "duration": 4,
    "start_time": "2022-03-23T09:57:44.502Z"
   },
   {
    "duration": 209,
    "start_time": "2022-03-23T09:57:44.665Z"
   },
   {
    "duration": 32,
    "start_time": "2022-03-23T09:57:55.712Z"
   },
   {
    "duration": 22,
    "start_time": "2022-03-23T09:57:56.954Z"
   },
   {
    "duration": 13,
    "start_time": "2022-03-23T09:57:59.733Z"
   },
   {
    "duration": 16,
    "start_time": "2022-03-23T09:58:02.195Z"
   },
   {
    "duration": 234,
    "start_time": "2022-03-23T10:00:06.245Z"
   },
   {
    "duration": 105,
    "start_time": "2022-03-23T10:00:06.516Z"
   },
   {
    "duration": 8,
    "start_time": "2022-03-23T10:00:12.837Z"
   },
   {
    "duration": 3,
    "start_time": "2022-03-23T10:00:15.344Z"
   },
   {
    "duration": 3,
    "start_time": "2022-03-23T10:00:15.706Z"
   },
   {
    "duration": 4,
    "start_time": "2022-03-23T10:00:16.736Z"
   },
   {
    "duration": 3,
    "start_time": "2022-03-23T10:01:00.846Z"
   },
   {
    "duration": 4,
    "start_time": "2022-03-23T10:01:01.107Z"
   },
   {
    "duration": 3,
    "start_time": "2022-03-23T10:01:19.058Z"
   },
   {
    "duration": 4,
    "start_time": "2022-03-23T10:01:19.940Z"
   },
   {
    "duration": 3,
    "start_time": "2022-03-23T10:01:28.706Z"
   },
   {
    "duration": 4,
    "start_time": "2022-03-23T10:01:28.934Z"
   },
   {
    "duration": 3,
    "start_time": "2022-03-23T10:02:02.779Z"
   },
   {
    "duration": 3,
    "start_time": "2022-03-23T10:02:03.137Z"
   },
   {
    "duration": 3,
    "start_time": "2022-03-23T10:02:03.908Z"
   },
   {
    "duration": 3,
    "start_time": "2022-03-23T10:02:19.127Z"
   },
   {
    "duration": 4,
    "start_time": "2022-03-23T10:02:19.307Z"
   },
   {
    "duration": 4,
    "start_time": "2022-03-23T10:02:36.314Z"
   },
   {
    "duration": 4,
    "start_time": "2022-03-23T10:02:36.686Z"
   },
   {
    "duration": 4,
    "start_time": "2022-03-23T10:02:42.696Z"
   },
   {
    "duration": 2,
    "start_time": "2022-03-23T10:04:23.784Z"
   },
   {
    "duration": 3,
    "start_time": "2022-03-23T10:04:24.157Z"
   },
   {
    "duration": 4,
    "start_time": "2022-03-23T10:04:24.906Z"
   },
   {
    "duration": 3,
    "start_time": "2022-03-23T10:04:53.315Z"
   },
   {
    "duration": 4,
    "start_time": "2022-03-23T10:04:59.076Z"
   },
   {
    "duration": 3,
    "start_time": "2022-03-23T10:05:45.175Z"
   },
   {
    "duration": 4,
    "start_time": "2022-03-23T10:05:46.276Z"
   },
   {
    "duration": 3,
    "start_time": "2022-03-23T10:05:46.517Z"
   },
   {
    "duration": 4,
    "start_time": "2022-03-23T10:05:52.436Z"
   },
   {
    "duration": 4,
    "start_time": "2022-03-23T10:06:27.344Z"
   },
   {
    "duration": 4,
    "start_time": "2022-03-23T10:06:27.726Z"
   },
   {
    "duration": 4,
    "start_time": "2022-03-23T10:06:27.966Z"
   },
   {
    "duration": 4,
    "start_time": "2022-03-23T10:06:29.050Z"
   },
   {
    "duration": 4,
    "start_time": "2022-03-23T10:06:29.806Z"
   },
   {
    "duration": 4,
    "start_time": "2022-03-23T10:07:01.486Z"
   },
   {
    "duration": 4,
    "start_time": "2022-03-23T10:07:02.156Z"
   },
   {
    "duration": 4,
    "start_time": "2022-03-23T10:07:02.336Z"
   },
   {
    "duration": 4,
    "start_time": "2022-03-23T10:07:02.576Z"
   },
   {
    "duration": 5,
    "start_time": "2022-03-23T10:07:02.956Z"
   },
   {
    "duration": 5,
    "start_time": "2022-03-23T10:07:08.006Z"
   },
   {
    "duration": 4,
    "start_time": "2022-03-23T10:07:27.675Z"
   },
   {
    "duration": 4,
    "start_time": "2022-03-23T10:07:28.306Z"
   },
   {
    "duration": 4,
    "start_time": "2022-03-23T10:07:28.944Z"
   },
   {
    "duration": 4,
    "start_time": "2022-03-23T10:07:29.556Z"
   },
   {
    "duration": 4,
    "start_time": "2022-03-23T10:07:30.076Z"
   },
   {
    "duration": 4,
    "start_time": "2022-03-23T10:07:30.706Z"
   },
   {
    "duration": 2,
    "start_time": "2022-03-23T10:08:43.236Z"
   },
   {
    "duration": 4,
    "start_time": "2022-03-23T10:08:48.396Z"
   },
   {
    "duration": 3,
    "start_time": "2022-03-23T10:12:24.296Z"
   },
   {
    "duration": 4,
    "start_time": "2022-03-23T10:12:29.436Z"
   },
   {
    "duration": 2,
    "start_time": "2022-03-23T10:13:13.325Z"
   },
   {
    "duration": 4,
    "start_time": "2022-03-23T10:13:17.445Z"
   },
   {
    "duration": 3,
    "start_time": "2022-03-23T10:13:26.002Z"
   },
   {
    "duration": 4,
    "start_time": "2022-03-23T10:13:26.506Z"
   },
   {
    "duration": 3,
    "start_time": "2022-03-23T10:13:31.346Z"
   },
   {
    "duration": 4,
    "start_time": "2022-03-23T10:13:31.586Z"
   },
   {
    "duration": 2,
    "start_time": "2022-03-23T10:13:44.236Z"
   },
   {
    "duration": 4,
    "start_time": "2022-03-23T10:13:44.426Z"
   },
   {
    "duration": 3,
    "start_time": "2022-03-23T10:13:56.974Z"
   },
   {
    "duration": 4,
    "start_time": "2022-03-23T10:13:57.946Z"
   },
   {
    "duration": 4,
    "start_time": "2022-03-23T10:14:09.356Z"
   },
   {
    "duration": 4,
    "start_time": "2022-03-23T10:14:09.716Z"
   },
   {
    "duration": 10,
    "start_time": "2022-03-23T10:14:25.356Z"
   },
   {
    "duration": 4,
    "start_time": "2022-03-23T10:14:25.596Z"
   },
   {
    "duration": 119,
    "start_time": "2022-03-23T10:14:30.656Z"
   },
   {
    "duration": 2,
    "start_time": "2022-03-23T10:14:33.896Z"
   },
   {
    "duration": 10,
    "start_time": "2022-03-23T10:14:36.156Z"
   },
   {
    "duration": 9,
    "start_time": "2022-03-23T10:14:41.134Z"
   },
   {
    "duration": 10,
    "start_time": "2022-03-23T10:14:43.796Z"
   },
   {
    "duration": 5,
    "start_time": "2022-03-23T10:14:46.657Z"
   },
   {
    "duration": 3,
    "start_time": "2022-03-23T10:14:51.896Z"
   },
   {
    "duration": 4,
    "start_time": "2022-03-23T10:14:52.826Z"
   },
   {
    "duration": 2,
    "start_time": "2022-03-23T10:15:06.947Z"
   },
   {
    "duration": 4,
    "start_time": "2022-03-23T10:15:19.618Z"
   },
   {
    "duration": 4,
    "start_time": "2022-03-23T10:15:50.956Z"
   },
   {
    "duration": 4,
    "start_time": "2022-03-23T10:15:55.436Z"
   },
   {
    "duration": 6,
    "start_time": "2022-03-23T10:16:02.826Z"
   },
   {
    "duration": 6,
    "start_time": "2022-03-23T10:16:06.116Z"
   },
   {
    "duration": 5,
    "start_time": "2022-03-23T10:16:08.695Z"
   },
   {
    "duration": 4,
    "start_time": "2022-03-23T10:17:37.884Z"
   },
   {
    "duration": 4,
    "start_time": "2022-03-23T10:17:38.226Z"
   },
   {
    "duration": 3,
    "start_time": "2022-03-23T10:17:41.115Z"
   },
   {
    "duration": 4,
    "start_time": "2022-03-23T10:17:44.785Z"
   },
   {
    "duration": 4,
    "start_time": "2022-03-23T10:17:59.114Z"
   },
   {
    "duration": 4,
    "start_time": "2022-03-23T10:18:04.097Z"
   },
   {
    "duration": 6,
    "start_time": "2022-03-23T10:19:08.821Z"
   },
   {
    "duration": 5,
    "start_time": "2022-03-23T10:19:11.276Z"
   },
   {
    "duration": 4,
    "start_time": "2022-03-23T10:19:43.023Z"
   },
   {
    "duration": 4,
    "start_time": "2022-03-23T10:19:43.275Z"
   },
   {
    "duration": 4,
    "start_time": "2022-03-23T10:19:44.675Z"
   },
   {
    "duration": 4,
    "start_time": "2022-03-23T10:19:45.424Z"
   },
   {
    "duration": 4,
    "start_time": "2022-03-23T10:19:45.836Z"
   },
   {
    "duration": 4,
    "start_time": "2022-03-23T10:19:47.726Z"
   },
   {
    "duration": 3,
    "start_time": "2022-03-23T10:19:58.114Z"
   },
   {
    "duration": 3,
    "start_time": "2022-03-23T10:19:58.564Z"
   },
   {
    "duration": 3,
    "start_time": "2022-03-23T10:19:59.176Z"
   },
   {
    "duration": 3,
    "start_time": "2022-03-23T10:51:46.640Z"
   },
   {
    "duration": 4,
    "start_time": "2022-03-23T10:51:47.098Z"
   },
   {
    "duration": 11,
    "start_time": "2022-03-23T10:55:51.400Z"
   },
   {
    "duration": 10,
    "start_time": "2022-03-23T10:55:59.771Z"
   },
   {
    "duration": 4,
    "start_time": "2022-03-23T10:56:20.749Z"
   },
   {
    "duration": 4,
    "start_time": "2022-03-23T10:56:25.911Z"
   },
   {
    "duration": 3,
    "start_time": "2022-03-23T10:59:24.801Z"
   },
   {
    "duration": 4,
    "start_time": "2022-03-23T10:59:25.150Z"
   },
   {
    "duration": 3,
    "start_time": "2022-03-23T10:59:58.646Z"
   },
   {
    "duration": 4,
    "start_time": "2022-03-23T10:59:59.076Z"
   },
   {
    "duration": 9,
    "start_time": "2022-03-23T11:03:22.561Z"
   },
   {
    "duration": 9,
    "start_time": "2022-03-23T11:03:25.601Z"
   },
   {
    "duration": 5,
    "start_time": "2022-03-23T11:03:28.650Z"
   },
   {
    "duration": 9,
    "start_time": "2022-03-23T11:03:28.870Z"
   },
   {
    "duration": 9,
    "start_time": "2022-03-23T11:03:33.921Z"
   },
   {
    "duration": 9,
    "start_time": "2022-03-23T11:03:43.875Z"
   },
   {
    "duration": 9,
    "start_time": "2022-03-23T11:03:46.781Z"
   },
   {
    "duration": 3,
    "start_time": "2022-03-23T11:03:50.841Z"
   },
   {
    "duration": 3,
    "start_time": "2022-03-23T11:04:04.828Z"
   },
   {
    "duration": 3,
    "start_time": "2022-03-23T11:04:05.057Z"
   },
   {
    "duration": 12,
    "start_time": "2022-03-23T11:05:30.130Z"
   },
   {
    "duration": 3,
    "start_time": "2022-03-23T11:05:34.121Z"
   },
   {
    "duration": 3,
    "start_time": "2022-03-23T11:07:42.669Z"
   },
   {
    "duration": 5,
    "start_time": "2022-03-23T11:07:43.230Z"
   },
   {
    "duration": 12,
    "start_time": "2022-03-23T11:09:23.409Z"
   },
   {
    "duration": 3,
    "start_time": "2022-03-23T11:15:20.690Z"
   },
   {
    "duration": 4,
    "start_time": "2022-03-23T11:15:23.890Z"
   },
   {
    "duration": 4,
    "start_time": "2022-03-23T11:18:45.011Z"
   },
   {
    "duration": 4,
    "start_time": "2022-03-23T11:19:11.428Z"
   },
   {
    "duration": 3,
    "start_time": "2022-03-23T11:23:09.341Z"
   },
   {
    "duration": 3,
    "start_time": "2022-03-23T11:23:11.961Z"
   },
   {
    "duration": 3,
    "start_time": "2022-03-23T11:23:14.601Z"
   },
   {
    "duration": 4,
    "start_time": "2022-03-23T11:23:17.110Z"
   },
   {
    "duration": 4,
    "start_time": "2022-03-23T11:23:21.180Z"
   },
   {
    "duration": 4,
    "start_time": "2022-03-23T11:23:23.830Z"
   },
   {
    "duration": 4,
    "start_time": "2022-03-23T11:23:26.000Z"
   },
   {
    "duration": 4,
    "start_time": "2022-03-23T11:23:28.400Z"
   },
   {
    "duration": 4,
    "start_time": "2022-03-23T11:23:34.620Z"
   },
   {
    "duration": 4,
    "start_time": "2022-03-23T11:23:38.589Z"
   },
   {
    "duration": 3,
    "start_time": "2022-03-23T11:23:41.561Z"
   },
   {
    "duration": 4,
    "start_time": "2022-03-23T11:23:45.180Z"
   },
   {
    "duration": 4,
    "start_time": "2022-03-23T11:23:49.400Z"
   },
   {
    "duration": 5,
    "start_time": "2022-03-23T11:23:52.048Z"
   },
   {
    "duration": 5,
    "start_time": "2022-03-23T11:23:55.868Z"
   },
   {
    "duration": 4,
    "start_time": "2022-03-23T11:24:13.920Z"
   },
   {
    "duration": 4,
    "start_time": "2022-03-23T11:24:34.211Z"
   },
   {
    "duration": 5,
    "start_time": "2022-03-23T11:24:51.880Z"
   },
   {
    "duration": 4,
    "start_time": "2022-03-23T11:24:56.731Z"
   },
   {
    "duration": 4,
    "start_time": "2022-03-23T11:25:06.397Z"
   },
   {
    "duration": 4,
    "start_time": "2022-03-23T11:25:33.767Z"
   },
   {
    "duration": 3,
    "start_time": "2022-03-23T11:25:42.237Z"
   },
   {
    "duration": 124,
    "start_time": "2022-03-23T11:26:25.121Z"
   },
   {
    "duration": 123,
    "start_time": "2022-03-23T11:26:42.448Z"
   },
   {
    "duration": 129,
    "start_time": "2022-03-23T11:26:48.049Z"
   },
   {
    "duration": 125,
    "start_time": "2022-03-23T11:26:49.986Z"
   },
   {
    "duration": 151,
    "start_time": "2022-03-23T11:28:03.197Z"
   },
   {
    "duration": 139,
    "start_time": "2022-03-23T11:28:17.251Z"
   },
   {
    "duration": 3,
    "start_time": "2022-03-23T11:28:36.669Z"
   },
   {
    "duration": 4,
    "start_time": "2022-03-23T11:28:57.750Z"
   },
   {
    "duration": 4,
    "start_time": "2022-03-23T11:29:13.369Z"
   },
   {
    "duration": 3,
    "start_time": "2022-03-23T11:29:29.968Z"
   },
   {
    "duration": 5,
    "start_time": "2022-03-23T12:21:38.168Z"
   },
   {
    "duration": 4,
    "start_time": "2022-03-23T12:21:48.008Z"
   },
   {
    "duration": 4,
    "start_time": "2022-03-23T12:21:55.840Z"
   },
   {
    "duration": 5,
    "start_time": "2022-03-23T12:23:42.347Z"
   },
   {
    "duration": 10,
    "start_time": "2022-03-23T12:23:51.718Z"
   },
   {
    "duration": 10,
    "start_time": "2022-03-23T12:37:30.316Z"
   },
   {
    "duration": 11,
    "start_time": "2022-03-23T12:37:36.727Z"
   },
   {
    "duration": 10,
    "start_time": "2022-03-23T12:37:40.569Z"
   },
   {
    "duration": 3,
    "start_time": "2022-03-23T12:41:31.406Z"
   },
   {
    "duration": 7,
    "start_time": "2022-03-23T12:41:49.546Z"
   },
   {
    "duration": 4,
    "start_time": "2022-03-23T12:42:24.806Z"
   },
   {
    "duration": 8,
    "start_time": "2022-03-23T12:42:25.808Z"
   },
   {
    "duration": 22,
    "start_time": "2022-03-23T12:42:45.908Z"
   },
   {
    "duration": 1439,
    "start_time": "2022-03-23T12:43:01.976Z"
   },
   {
    "duration": 3,
    "start_time": "2022-03-23T12:43:03.417Z"
   },
   {
    "duration": 8,
    "start_time": "2022-03-23T12:43:03.422Z"
   },
   {
    "duration": 7,
    "start_time": "2022-03-23T12:43:03.432Z"
   },
   {
    "duration": 134,
    "start_time": "2022-03-23T12:43:03.441Z"
   },
   {
    "duration": 120,
    "start_time": "2022-03-23T12:43:03.576Z"
   },
   {
    "duration": 197,
    "start_time": "2022-03-23T12:43:03.698Z"
   },
   {
    "duration": 126,
    "start_time": "2022-03-23T12:43:03.897Z"
   },
   {
    "duration": 448,
    "start_time": "2022-03-23T12:43:04.034Z"
   },
   {
    "duration": 77,
    "start_time": "2022-03-23T12:43:04.485Z"
   },
   {
    "duration": 7,
    "start_time": "2022-03-23T12:43:04.563Z"
   },
   {
    "duration": 463,
    "start_time": "2022-03-23T12:43:04.572Z"
   },
   {
    "duration": 65,
    "start_time": "2022-03-23T12:43:05.037Z"
   },
   {
    "duration": 489,
    "start_time": "2022-03-23T12:43:05.104Z"
   },
   {
    "duration": 4,
    "start_time": "2022-03-23T12:43:05.595Z"
   },
   {
    "duration": 368,
    "start_time": "2022-03-23T12:43:05.601Z"
   },
   {
    "duration": 49,
    "start_time": "2022-03-23T12:43:05.971Z"
   },
   {
    "duration": 29,
    "start_time": "2022-03-23T12:43:06.033Z"
   },
   {
    "duration": 107,
    "start_time": "2022-03-23T12:43:06.136Z"
   },
   {
    "duration": 96,
    "start_time": "2022-03-23T12:43:06.247Z"
   },
   {
    "duration": 189,
    "start_time": "2022-03-23T12:43:06.345Z"
   },
   {
    "duration": 6,
    "start_time": "2022-03-23T12:43:06.536Z"
   },
   {
    "duration": 8,
    "start_time": "2022-03-23T12:43:06.543Z"
   },
   {
    "duration": 6,
    "start_time": "2022-03-23T12:43:06.552Z"
   },
   {
    "duration": 135,
    "start_time": "2022-03-23T12:43:06.559Z"
   },
   {
    "duration": 0,
    "start_time": "2022-03-23T12:43:06.695Z"
   },
   {
    "duration": 0,
    "start_time": "2022-03-23T12:43:06.697Z"
   },
   {
    "duration": 3,
    "start_time": "2022-03-23T12:43:46.266Z"
   },
   {
    "duration": 8,
    "start_time": "2022-03-23T12:43:46.832Z"
   },
   {
    "duration": 8,
    "start_time": "2022-03-23T12:43:47.998Z"
   },
   {
    "duration": 8,
    "start_time": "2022-03-23T12:43:56.288Z"
   },
   {
    "duration": 12,
    "start_time": "2022-03-23T12:48:13.714Z"
   },
   {
    "duration": 21,
    "start_time": "2022-03-23T12:48:38.745Z"
   },
   {
    "duration": 12,
    "start_time": "2022-03-23T12:53:57.133Z"
   },
   {
    "duration": 14,
    "start_time": "2022-03-23T12:55:18.805Z"
   },
   {
    "duration": 12,
    "start_time": "2022-03-23T12:56:39.401Z"
   },
   {
    "duration": 2920,
    "start_time": "2022-03-23T12:56:53.993Z"
   },
   {
    "duration": 4,
    "start_time": "2022-03-23T12:57:17.566Z"
   },
   {
    "duration": 3017,
    "start_time": "2022-03-23T12:57:28.365Z"
   },
   {
    "duration": 6,
    "start_time": "2022-03-23T12:58:22.485Z"
   },
   {
    "duration": 4,
    "start_time": "2022-03-23T12:58:27.154Z"
   },
   {
    "duration": 15,
    "start_time": "2022-03-23T12:58:40.396Z"
   },
   {
    "duration": 4,
    "start_time": "2022-03-23T12:58:57.846Z"
   },
   {
    "duration": 2798,
    "start_time": "2022-03-23T12:58:58.186Z"
   },
   {
    "duration": 2829,
    "start_time": "2022-03-23T12:59:10.847Z"
   },
   {
    "duration": 2793,
    "start_time": "2022-03-23T12:59:16.519Z"
   },
   {
    "duration": 4,
    "start_time": "2022-03-23T13:02:16.387Z"
   },
   {
    "duration": 4,
    "start_time": "2022-03-23T13:17:51.325Z"
   },
   {
    "duration": 2817,
    "start_time": "2022-03-23T13:17:51.597Z"
   },
   {
    "duration": 4,
    "start_time": "2022-03-23T13:18:02.165Z"
   },
   {
    "duration": 2870,
    "start_time": "2022-03-23T13:18:03.236Z"
   },
   {
    "duration": 4,
    "start_time": "2022-03-23T13:20:14.284Z"
   },
   {
    "duration": 2826,
    "start_time": "2022-03-23T13:20:19.256Z"
   },
   {
    "duration": 4,
    "start_time": "2022-03-23T13:23:03.354Z"
   },
   {
    "duration": 5188,
    "start_time": "2022-03-23T13:23:03.766Z"
   },
   {
    "duration": 4,
    "start_time": "2022-03-23T13:23:25.974Z"
   },
   {
    "duration": 5208,
    "start_time": "2022-03-23T13:23:27.235Z"
   },
   {
    "duration": 4,
    "start_time": "2022-03-23T13:24:04.734Z"
   },
   {
    "duration": 5317,
    "start_time": "2022-03-23T13:24:05.116Z"
   },
   {
    "duration": 4,
    "start_time": "2022-03-23T13:24:17.434Z"
   },
   {
    "duration": 5276,
    "start_time": "2022-03-23T13:24:18.765Z"
   },
   {
    "duration": 4,
    "start_time": "2022-03-23T13:25:11.342Z"
   },
   {
    "duration": 5762,
    "start_time": "2022-03-23T13:25:11.836Z"
   },
   {
    "duration": 6,
    "start_time": "2022-03-23T13:27:00.255Z"
   },
   {
    "duration": 11,
    "start_time": "2022-03-23T13:27:00.637Z"
   },
   {
    "duration": 32,
    "start_time": "2022-03-23T13:27:20.957Z"
   },
   {
    "duration": 3,
    "start_time": "2022-03-23T13:29:24.849Z"
   },
   {
    "duration": 8,
    "start_time": "2022-03-23T13:29:30.876Z"
   },
   {
    "duration": 7,
    "start_time": "2022-03-23T13:29:51.636Z"
   },
   {
    "duration": 8,
    "start_time": "2022-03-23T13:29:52.067Z"
   },
   {
    "duration": 4,
    "start_time": "2022-03-23T13:30:27.654Z"
   },
   {
    "duration": 3742,
    "start_time": "2022-03-23T13:30:28.303Z"
   },
   {
    "duration": 3643,
    "start_time": "2022-03-23T13:30:50.604Z"
   },
   {
    "duration": 3653,
    "start_time": "2022-03-23T13:30:58.794Z"
   },
   {
    "duration": 3,
    "start_time": "2022-03-23T13:40:38.556Z"
   },
   {
    "duration": 3,
    "start_time": "2022-03-23T13:40:52.953Z"
   },
   {
    "duration": 3,
    "start_time": "2022-03-23T13:40:53.285Z"
   },
   {
    "duration": 3,
    "start_time": "2022-03-23T13:40:54.083Z"
   },
   {
    "duration": 4,
    "start_time": "2022-03-23T13:41:01.883Z"
   },
   {
    "duration": 9,
    "start_time": "2022-03-23T13:41:02.314Z"
   },
   {
    "duration": 9,
    "start_time": "2022-03-23T13:41:03.235Z"
   },
   {
    "duration": 7,
    "start_time": "2022-03-23T13:41:03.676Z"
   },
   {
    "duration": 5,
    "start_time": "2022-03-23T13:41:04.543Z"
   },
   {
    "duration": 3734,
    "start_time": "2022-03-23T13:41:05.423Z"
   },
   {
    "duration": 3707,
    "start_time": "2022-03-23T13:41:14.295Z"
   },
   {
    "duration": 3699,
    "start_time": "2022-03-23T13:41:18.004Z"
   },
   {
    "duration": 6,
    "start_time": "2022-03-23T13:42:15.605Z"
   },
   {
    "duration": 3718,
    "start_time": "2022-03-23T13:42:16.123Z"
   },
   {
    "duration": 3874,
    "start_time": "2022-03-23T13:42:19.843Z"
   },
   {
    "duration": 3680,
    "start_time": "2022-03-23T13:42:23.719Z"
   },
   {
    "duration": 5,
    "start_time": "2022-03-23T13:42:27.401Z"
   },
   {
    "duration": 3819,
    "start_time": "2022-03-23T13:42:27.408Z"
   },
   {
    "duration": 3762,
    "start_time": "2022-03-23T13:42:31.233Z"
   },
   {
    "duration": 3626,
    "start_time": "2022-03-23T13:42:34.996Z"
   },
   {
    "duration": 4,
    "start_time": "2022-03-23T13:51:33.672Z"
   },
   {
    "duration": 9,
    "start_time": "2022-03-23T13:51:33.875Z"
   },
   {
    "duration": 7,
    "start_time": "2022-03-23T13:51:34.044Z"
   },
   {
    "duration": 8,
    "start_time": "2022-03-23T13:51:34.215Z"
   },
   {
    "duration": 4,
    "start_time": "2022-03-23T13:58:07.626Z"
   },
   {
    "duration": 13,
    "start_time": "2022-03-23T13:58:08.114Z"
   },
   {
    "duration": 4,
    "start_time": "2022-03-23T13:58:13.271Z"
   },
   {
    "duration": 17,
    "start_time": "2022-03-23T13:58:13.694Z"
   },
   {
    "duration": 5,
    "start_time": "2022-03-23T14:11:09.831Z"
   },
   {
    "duration": 3026,
    "start_time": "2022-03-23T14:11:10.633Z"
   },
   {
    "duration": 5,
    "start_time": "2022-03-23T14:11:56.223Z"
   },
   {
    "duration": 3002,
    "start_time": "2022-03-23T14:11:56.643Z"
   },
   {
    "duration": 6,
    "start_time": "2022-03-23T14:12:32.072Z"
   },
   {
    "duration": 3765,
    "start_time": "2022-03-23T14:12:32.531Z"
   },
   {
    "duration": 5,
    "start_time": "2022-03-23T14:13:05.751Z"
   },
   {
    "duration": 4288,
    "start_time": "2022-03-23T14:13:06.465Z"
   },
   {
    "duration": 4,
    "start_time": "2022-03-23T14:14:49.002Z"
   },
   {
    "duration": 14,
    "start_time": "2022-03-23T14:14:49.723Z"
   },
   {
    "duration": 4,
    "start_time": "2022-03-23T14:15:38.152Z"
   },
   {
    "duration": 14,
    "start_time": "2022-03-23T14:15:38.603Z"
   },
   {
    "duration": 4,
    "start_time": "2022-03-23T14:15:55.522Z"
   },
   {
    "duration": 2945,
    "start_time": "2022-03-23T14:15:56.053Z"
   },
   {
    "duration": 3153,
    "start_time": "2022-03-23T14:16:07.823Z"
   },
   {
    "duration": 3401,
    "start_time": "2022-03-23T14:16:10.979Z"
   },
   {
    "duration": 6,
    "start_time": "2022-03-23T14:19:32.213Z"
   },
   {
    "duration": 4,
    "start_time": "2022-03-23T14:19:42.223Z"
   },
   {
    "duration": 3,
    "start_time": "2022-03-23T14:23:59.930Z"
   },
   {
    "duration": 20,
    "start_time": "2022-03-23T14:24:21.593Z"
   },
   {
    "duration": 3,
    "start_time": "2022-03-23T14:26:26.162Z"
   },
   {
    "duration": 3,
    "start_time": "2022-03-23T14:26:52.492Z"
   },
   {
    "duration": 10,
    "start_time": "2022-03-23T14:26:57.882Z"
   },
   {
    "duration": 8,
    "start_time": "2022-03-23T14:27:25.392Z"
   },
   {
    "duration": 8,
    "start_time": "2022-03-23T14:27:27.122Z"
   },
   {
    "duration": 3,
    "start_time": "2022-03-23T14:28:24.824Z"
   },
   {
    "duration": 8,
    "start_time": "2022-03-23T14:28:25.053Z"
   },
   {
    "duration": 7,
    "start_time": "2022-03-23T14:28:26.713Z"
   },
   {
    "duration": 7,
    "start_time": "2022-03-23T14:28:27.132Z"
   },
   {
    "duration": 3,
    "start_time": "2022-03-23T14:29:49.772Z"
   },
   {
    "duration": 7,
    "start_time": "2022-03-23T14:29:50.093Z"
   },
   {
    "duration": 8,
    "start_time": "2022-03-23T14:29:50.352Z"
   },
   {
    "duration": 8,
    "start_time": "2022-03-23T14:29:50.722Z"
   },
   {
    "duration": 4,
    "start_time": "2022-03-23T14:31:03.880Z"
   },
   {
    "duration": 8,
    "start_time": "2022-03-23T14:31:04.252Z"
   },
   {
    "duration": 8,
    "start_time": "2022-03-23T14:31:13.523Z"
   },
   {
    "duration": 4,
    "start_time": "2022-03-23T14:31:41.690Z"
   },
   {
    "duration": 3,
    "start_time": "2022-03-23T14:31:44.995Z"
   },
   {
    "duration": 8,
    "start_time": "2022-03-23T14:31:45.182Z"
   },
   {
    "duration": 3,
    "start_time": "2022-03-23T14:32:02.264Z"
   },
   {
    "duration": 3,
    "start_time": "2022-03-23T14:32:12.771Z"
   },
   {
    "duration": 9,
    "start_time": "2022-03-23T14:32:13.072Z"
   },
   {
    "duration": 4,
    "start_time": "2022-03-23T14:32:48.663Z"
   },
   {
    "duration": 7,
    "start_time": "2022-03-23T14:32:48.912Z"
   },
   {
    "duration": 8,
    "start_time": "2022-03-23T14:32:49.392Z"
   },
   {
    "duration": 9,
    "start_time": "2022-03-23T14:32:50.009Z"
   },
   {
    "duration": 1559,
    "start_time": "2022-03-23T14:33:16.955Z"
   },
   {
    "duration": 3,
    "start_time": "2022-03-23T14:33:18.517Z"
   },
   {
    "duration": 10,
    "start_time": "2022-03-23T14:33:18.522Z"
   },
   {
    "duration": 7,
    "start_time": "2022-03-23T14:33:18.534Z"
   },
   {
    "duration": 132,
    "start_time": "2022-03-23T14:33:18.543Z"
   },
   {
    "duration": 128,
    "start_time": "2022-03-23T14:33:18.677Z"
   },
   {
    "duration": 122,
    "start_time": "2022-03-23T14:33:18.806Z"
   },
   {
    "duration": 71,
    "start_time": "2022-03-23T14:33:18.932Z"
   },
   {
    "duration": 464,
    "start_time": "2022-03-23T14:33:19.005Z"
   },
   {
    "duration": 72,
    "start_time": "2022-03-23T14:33:19.471Z"
   },
   {
    "duration": 6,
    "start_time": "2022-03-23T14:33:19.545Z"
   },
   {
    "duration": 448,
    "start_time": "2022-03-23T14:33:19.553Z"
   },
   {
    "duration": 73,
    "start_time": "2022-03-23T14:33:20.004Z"
   },
   {
    "duration": 486,
    "start_time": "2022-03-23T14:33:20.079Z"
   },
   {
    "duration": 4,
    "start_time": "2022-03-23T14:33:20.567Z"
   },
   {
    "duration": 218,
    "start_time": "2022-03-23T14:33:20.573Z"
   },
   {
    "duration": 43,
    "start_time": "2022-03-23T14:33:20.794Z"
   },
   {
    "duration": 93,
    "start_time": "2022-03-23T14:33:20.839Z"
   },
   {
    "duration": 102,
    "start_time": "2022-03-23T14:33:20.936Z"
   },
   {
    "duration": 193,
    "start_time": "2022-03-23T14:33:21.041Z"
   },
   {
    "duration": 3,
    "start_time": "2022-03-23T14:33:21.334Z"
   },
   {
    "duration": 2,
    "start_time": "2022-03-23T14:33:21.518Z"
   },
   {
    "duration": 3,
    "start_time": "2022-03-23T14:33:21.734Z"
   },
   {
    "duration": 3,
    "start_time": "2022-03-23T14:33:22.925Z"
   },
   {
    "duration": 8,
    "start_time": "2022-03-23T14:33:23.526Z"
   },
   {
    "duration": 8,
    "start_time": "2022-03-23T14:33:24.094Z"
   },
   {
    "duration": 7,
    "start_time": "2022-03-23T14:33:25.122Z"
   },
   {
    "duration": 3,
    "start_time": "2022-03-23T14:36:31.026Z"
   },
   {
    "duration": 2,
    "start_time": "2022-03-23T14:36:31.397Z"
   },
   {
    "duration": 4,
    "start_time": "2022-03-23T14:36:31.836Z"
   },
   {
    "duration": 4,
    "start_time": "2022-03-23T14:36:33.251Z"
   },
   {
    "duration": 9,
    "start_time": "2022-03-23T14:36:33.716Z"
   },
   {
    "duration": 9,
    "start_time": "2022-03-23T14:36:34.076Z"
   },
   {
    "duration": 8,
    "start_time": "2022-03-23T14:36:34.565Z"
   },
   {
    "duration": 2,
    "start_time": "2022-03-23T14:38:01.266Z"
   },
   {
    "duration": 4,
    "start_time": "2022-03-23T14:38:02.564Z"
   },
   {
    "duration": 3,
    "start_time": "2022-03-23T14:38:46.774Z"
   },
   {
    "duration": 3,
    "start_time": "2022-03-23T14:38:47.252Z"
   },
   {
    "duration": 5,
    "start_time": "2022-03-23T14:39:59.506Z"
   },
   {
    "duration": 5,
    "start_time": "2022-03-23T14:40:12.997Z"
   },
   {
    "duration": 5,
    "start_time": "2022-03-23T14:40:21.356Z"
   },
   {
    "duration": 5,
    "start_time": "2022-03-23T14:40:26.836Z"
   },
   {
    "duration": 5,
    "start_time": "2022-03-23T14:42:47.204Z"
   },
   {
    "duration": 3,
    "start_time": "2022-03-23T14:42:51.014Z"
   },
   {
    "duration": 5,
    "start_time": "2022-03-23T14:43:05.962Z"
   },
   {
    "duration": 4,
    "start_time": "2022-03-23T14:43:07.094Z"
   },
   {
    "duration": 4,
    "start_time": "2022-03-23T14:43:18.154Z"
   },
   {
    "duration": 4,
    "start_time": "2022-03-23T14:43:24.893Z"
   },
   {
    "duration": 4,
    "start_time": "2022-03-23T14:43:29.194Z"
   },
   {
    "duration": 3,
    "start_time": "2022-03-23T14:43:29.524Z"
   },
   {
    "duration": 4,
    "start_time": "2022-03-23T14:43:37.064Z"
   },
   {
    "duration": 6,
    "start_time": "2022-03-23T14:44:54.933Z"
   },
   {
    "duration": 5,
    "start_time": "2022-03-23T14:44:55.383Z"
   },
   {
    "duration": 5,
    "start_time": "2022-03-23T14:45:07.604Z"
   },
   {
    "duration": 5,
    "start_time": "2022-03-23T14:45:07.934Z"
   },
   {
    "duration": 105,
    "start_time": "2022-03-23T14:45:32.403Z"
   },
   {
    "duration": 4,
    "start_time": "2022-03-23T14:45:32.862Z"
   },
   {
    "duration": 5,
    "start_time": "2022-03-23T14:45:44.213Z"
   },
   {
    "duration": 5,
    "start_time": "2022-03-23T14:45:44.601Z"
   },
   {
    "duration": 4,
    "start_time": "2022-03-23T14:45:52.841Z"
   },
   {
    "duration": 6,
    "start_time": "2022-03-23T14:50:51.431Z"
   },
   {
    "duration": 5,
    "start_time": "2022-03-23T14:50:52.841Z"
   },
   {
    "duration": 5,
    "start_time": "2022-03-23T14:51:01.354Z"
   },
   {
    "duration": 8,
    "start_time": "2022-03-23T14:51:18.159Z"
   },
   {
    "duration": 6,
    "start_time": "2022-03-23T14:51:18.613Z"
   },
   {
    "duration": 6,
    "start_time": "2022-03-23T14:51:43.302Z"
   },
   {
    "duration": 6,
    "start_time": "2022-03-23T14:51:43.424Z"
   },
   {
    "duration": 5,
    "start_time": "2022-03-23T14:52:29.523Z"
   },
   {
    "duration": 5,
    "start_time": "2022-03-23T14:52:29.774Z"
   },
   {
    "duration": 7,
    "start_time": "2022-03-23T14:53:02.770Z"
   },
   {
    "duration": 6,
    "start_time": "2022-03-23T14:53:03.183Z"
   },
   {
    "duration": 9,
    "start_time": "2022-03-23T14:53:10.533Z"
   },
   {
    "duration": 7,
    "start_time": "2022-03-23T14:53:21.664Z"
   },
   {
    "duration": 9,
    "start_time": "2022-03-23T14:53:21.863Z"
   },
   {
    "duration": 7,
    "start_time": "2022-03-23T14:53:43.791Z"
   },
   {
    "duration": 8,
    "start_time": "2022-03-23T14:53:44.003Z"
   },
   {
    "duration": 6,
    "start_time": "2022-03-23T14:53:55.644Z"
   },
   {
    "duration": 8,
    "start_time": "2022-03-23T14:53:56.194Z"
   },
   {
    "duration": 6,
    "start_time": "2022-03-23T14:54:05.582Z"
   },
   {
    "duration": 8,
    "start_time": "2022-03-23T14:54:06.054Z"
   },
   {
    "duration": 11,
    "start_time": "2022-03-23T17:55:05.920Z"
   },
   {
    "duration": 4,
    "start_time": "2022-03-23T17:55:06.273Z"
   },
   {
    "duration": 6,
    "start_time": "2022-03-23T17:55:06.601Z"
   },
   {
    "duration": 104,
    "start_time": "2022-03-23T17:55:07.047Z"
   },
   {
    "duration": 2620,
    "start_time": "2022-03-23T17:55:13.385Z"
   },
   {
    "duration": 5,
    "start_time": "2022-03-23T17:55:16.009Z"
   },
   {
    "duration": 21,
    "start_time": "2022-03-23T17:55:16.016Z"
   },
   {
    "duration": 16,
    "start_time": "2022-03-23T17:55:16.040Z"
   },
   {
    "duration": 253,
    "start_time": "2022-03-23T17:55:16.058Z"
   },
   {
    "duration": 229,
    "start_time": "2022-03-23T17:55:16.314Z"
   },
   {
    "duration": 176,
    "start_time": "2022-03-23T17:55:16.546Z"
   },
   {
    "duration": 126,
    "start_time": "2022-03-23T17:55:16.724Z"
   },
   {
    "duration": 1117,
    "start_time": "2022-03-23T17:55:16.852Z"
   },
   {
    "duration": 140,
    "start_time": "2022-03-23T17:55:17.974Z"
   },
   {
    "duration": 10,
    "start_time": "2022-03-23T17:55:18.118Z"
   },
   {
    "duration": 908,
    "start_time": "2022-03-23T17:55:18.131Z"
   },
   {
    "duration": 111,
    "start_time": "2022-03-23T17:55:19.042Z"
   },
   {
    "duration": 1186,
    "start_time": "2022-03-23T17:55:19.156Z"
   },
   {
    "duration": 8,
    "start_time": "2022-03-23T17:55:20.345Z"
   },
   {
    "duration": 569,
    "start_time": "2022-03-23T17:55:20.355Z"
   },
   {
    "duration": 70,
    "start_time": "2022-03-23T17:55:20.930Z"
   },
   {
    "duration": 92,
    "start_time": "2022-03-23T17:55:21.003Z"
   },
   {
    "duration": 101,
    "start_time": "2022-03-23T17:55:21.097Z"
   },
   {
    "duration": 109,
    "start_time": "2022-03-23T17:55:21.204Z"
   },
   {
    "duration": 106,
    "start_time": "2022-03-23T17:55:21.385Z"
   },
   {
    "duration": 9,
    "start_time": "2022-03-23T17:55:21.493Z"
   },
   {
    "duration": 12,
    "start_time": "2022-03-23T17:55:21.506Z"
   },
   {
    "duration": 13,
    "start_time": "2022-03-23T17:55:21.520Z"
   },
   {
    "duration": 13,
    "start_time": "2022-03-23T17:55:21.536Z"
   },
   {
    "duration": 46,
    "start_time": "2022-03-23T17:55:21.551Z"
   },
   {
    "duration": 22,
    "start_time": "2022-03-23T17:55:21.601Z"
   },
   {
    "duration": 12,
    "start_time": "2022-03-23T17:55:21.626Z"
   },
   {
    "duration": 11,
    "start_time": "2022-03-23T17:55:21.641Z"
   },
   {
    "duration": 166,
    "start_time": "2022-03-23T17:55:21.658Z"
   },
   {
    "duration": 1702,
    "start_time": "2022-03-24T11:17:34.535Z"
   },
   {
    "duration": 4,
    "start_time": "2022-03-24T11:17:36.239Z"
   },
   {
    "duration": 15,
    "start_time": "2022-03-24T11:17:36.246Z"
   },
   {
    "duration": 10,
    "start_time": "2022-03-24T11:17:36.263Z"
   },
   {
    "duration": 700,
    "start_time": "2022-03-24T11:17:36.274Z"
   },
   {
    "duration": 1112,
    "start_time": "2022-03-24T11:17:36.977Z"
   },
   {
    "duration": 283,
    "start_time": "2022-03-24T11:17:38.091Z"
   },
   {
    "duration": 86,
    "start_time": "2022-03-24T11:17:38.376Z"
   },
   {
    "duration": 550,
    "start_time": "2022-03-24T11:17:38.464Z"
   },
   {
    "duration": 78,
    "start_time": "2022-03-24T11:17:39.017Z"
   },
   {
    "duration": 7,
    "start_time": "2022-03-24T11:17:39.097Z"
   },
   {
    "duration": 565,
    "start_time": "2022-03-24T11:17:39.106Z"
   },
   {
    "duration": 74,
    "start_time": "2022-03-24T11:17:39.673Z"
   },
   {
    "duration": 605,
    "start_time": "2022-03-24T11:17:39.749Z"
   },
   {
    "duration": 7,
    "start_time": "2022-03-24T11:17:40.356Z"
   },
   {
    "duration": 257,
    "start_time": "2022-03-24T11:17:40.365Z"
   },
   {
    "duration": 40,
    "start_time": "2022-03-24T11:17:40.623Z"
   },
   {
    "duration": 74,
    "start_time": "2022-03-24T11:17:40.665Z"
   },
   {
    "duration": 131,
    "start_time": "2022-03-24T11:17:40.741Z"
   },
   {
    "duration": 113,
    "start_time": "2022-03-24T11:17:40.938Z"
   },
   {
    "duration": 11,
    "start_time": "2022-03-24T11:17:41.057Z"
   },
   {
    "duration": 5,
    "start_time": "2022-03-24T11:17:41.143Z"
   },
   {
    "duration": 92,
    "start_time": "2022-03-24T11:17:41.155Z"
   },
   {
    "duration": 25,
    "start_time": "2022-03-24T11:17:41.249Z"
   },
   {
    "duration": 11,
    "start_time": "2022-03-24T11:17:41.276Z"
   },
   {
    "duration": 6,
    "start_time": "2022-03-24T11:17:41.288Z"
   },
   {
    "duration": 24,
    "start_time": "2022-03-24T11:17:41.295Z"
   },
   {
    "duration": 10,
    "start_time": "2022-03-24T11:17:41.321Z"
   },
   {
    "duration": 11,
    "start_time": "2022-03-24T11:17:41.333Z"
   },
   {
    "duration": 135,
    "start_time": "2022-03-24T11:17:41.346Z"
   },
   {
    "duration": 4,
    "start_time": "2022-03-24T11:18:25.772Z"
   },
   {
    "duration": 3,
    "start_time": "2022-03-24T11:18:27.983Z"
   },
   {
    "duration": 3,
    "start_time": "2022-03-24T11:18:28.144Z"
   },
   {
    "duration": 4,
    "start_time": "2022-03-24T11:18:28.312Z"
   },
   {
    "duration": 120,
    "start_time": "2022-03-24T11:18:28.483Z"
   },
   {
    "duration": 121,
    "start_time": "2022-03-24T11:18:28.664Z"
   },
   {
    "duration": 128,
    "start_time": "2022-03-24T11:18:28.853Z"
   },
   {
    "duration": 71,
    "start_time": "2022-03-24T11:18:30.964Z"
   },
   {
    "duration": 498,
    "start_time": "2022-03-24T11:18:31.294Z"
   },
   {
    "duration": 79,
    "start_time": "2022-03-24T11:18:31.794Z"
   },
   {
    "duration": 8,
    "start_time": "2022-03-24T11:18:34.253Z"
   },
   {
    "duration": 371,
    "start_time": "2022-03-24T11:18:34.423Z"
   },
   {
    "duration": 72,
    "start_time": "2022-03-24T11:18:34.796Z"
   },
   {
    "duration": 605,
    "start_time": "2022-03-24T11:18:35.184Z"
   },
   {
    "duration": 4,
    "start_time": "2022-03-24T11:18:35.791Z"
   },
   {
    "duration": 210,
    "start_time": "2022-03-24T11:18:39.501Z"
   },
   {
    "duration": 28,
    "start_time": "2022-03-24T11:18:52.081Z"
   },
   {
    "duration": 264,
    "start_time": "2022-03-24T11:18:58.681Z"
   },
   {
    "duration": 317,
    "start_time": "2022-03-24T11:19:04.222Z"
   },
   {
    "duration": 614,
    "start_time": "2022-03-24T11:19:10.431Z"
   },
   {
    "duration": 3,
    "start_time": "2022-03-24T11:19:21.835Z"
   },
   {
    "duration": 3,
    "start_time": "2022-03-24T11:19:23.274Z"
   },
   {
    "duration": 3,
    "start_time": "2022-03-24T11:19:29.744Z"
   },
   {
    "duration": 3,
    "start_time": "2022-03-24T11:19:40.392Z"
   },
   {
    "duration": 12,
    "start_time": "2022-03-24T11:19:48.782Z"
   },
   {
    "duration": 4,
    "start_time": "2022-03-24T11:20:02.561Z"
   },
   {
    "duration": 8,
    "start_time": "2022-03-24T11:20:04.314Z"
   },
   {
    "duration": 8,
    "start_time": "2022-03-24T11:20:04.834Z"
   },
   {
    "duration": 9,
    "start_time": "2022-03-24T11:20:05.383Z"
   },
   {
    "duration": 4,
    "start_time": "2022-03-24T11:20:13.258Z"
   },
   {
    "duration": 920,
    "start_time": "2022-03-24T11:20:20.664Z"
   },
   {
    "duration": 876,
    "start_time": "2022-03-24T11:20:28.064Z"
   },
   {
    "duration": 870,
    "start_time": "2022-03-24T11:20:34.423Z"
   },
   {
    "duration": 4,
    "start_time": "2022-03-24T11:26:22.352Z"
   },
   {
    "duration": 20,
    "start_time": "2022-03-24T11:26:24.433Z"
   },
   {
    "duration": 4,
    "start_time": "2022-03-24T11:26:40.183Z"
   },
   {
    "duration": 3,
    "start_time": "2022-03-24T11:26:40.393Z"
   },
   {
    "duration": 4,
    "start_time": "2022-03-24T11:26:40.593Z"
   },
   {
    "duration": 13,
    "start_time": "2022-03-24T11:26:40.791Z"
   },
   {
    "duration": 4,
    "start_time": "2022-03-24T11:26:41.981Z"
   },
   {
    "duration": 9,
    "start_time": "2022-03-24T11:26:42.653Z"
   },
   {
    "duration": 9,
    "start_time": "2022-03-24T11:26:43.773Z"
   },
   {
    "duration": 7,
    "start_time": "2022-03-24T11:26:44.213Z"
   },
   {
    "duration": 4,
    "start_time": "2022-03-24T11:26:45.741Z"
   },
   {
    "duration": 4,
    "start_time": "2022-03-24T11:27:00.802Z"
   },
   {
    "duration": 18,
    "start_time": "2022-03-24T11:27:06.623Z"
   },
   {
    "duration": 8,
    "start_time": "2022-03-24T11:27:08.801Z"
   },
   {
    "duration": 13,
    "start_time": "2022-03-24T11:27:11.263Z"
   },
   {
    "duration": 5,
    "start_time": "2022-03-24T11:27:59.876Z"
   },
   {
    "duration": 875,
    "start_time": "2022-03-24T11:28:00.143Z"
   },
   {
    "duration": 912,
    "start_time": "2022-03-24T11:28:01.203Z"
   },
   {
    "duration": 890,
    "start_time": "2022-03-24T11:28:02.117Z"
   },
   {
    "duration": 12,
    "start_time": "2022-03-24T11:29:54.521Z"
   },
   {
    "duration": 12,
    "start_time": "2022-03-24T11:30:01.162Z"
   },
   {
    "duration": 13,
    "start_time": "2022-03-24T11:30:04.771Z"
   },
   {
    "duration": 12,
    "start_time": "2022-03-24T11:30:10.992Z"
   },
   {
    "duration": 14,
    "start_time": "2022-03-24T11:30:15.181Z"
   },
   {
    "duration": 6,
    "start_time": "2022-03-24T11:31:15.388Z"
   },
   {
    "duration": 3,
    "start_time": "2022-03-24T11:32:06.100Z"
   },
   {
    "duration": 2,
    "start_time": "2022-03-24T11:32:06.432Z"
   },
   {
    "duration": 4,
    "start_time": "2022-03-24T11:32:06.643Z"
   },
   {
    "duration": 12,
    "start_time": "2022-03-24T11:32:06.866Z"
   },
   {
    "duration": 4,
    "start_time": "2022-03-24T11:32:07.890Z"
   },
   {
    "duration": 8,
    "start_time": "2022-03-24T11:32:08.121Z"
   },
   {
    "duration": 8,
    "start_time": "2022-03-24T11:32:08.292Z"
   },
   {
    "duration": 8,
    "start_time": "2022-03-24T11:32:08.462Z"
   },
   {
    "duration": 4,
    "start_time": "2022-03-24T11:32:08.677Z"
   },
   {
    "duration": 892,
    "start_time": "2022-03-24T11:32:09.362Z"
   },
   {
    "duration": 911,
    "start_time": "2022-03-24T11:32:10.256Z"
   },
   {
    "duration": 893,
    "start_time": "2022-03-24T11:32:11.168Z"
   },
   {
    "duration": 3,
    "start_time": "2022-03-24T11:32:23.872Z"
   },
   {
    "duration": 4,
    "start_time": "2022-03-24T11:32:38.031Z"
   },
   {
    "duration": 5,
    "start_time": "2022-03-24T11:34:33.733Z"
   },
   {
    "duration": 905,
    "start_time": "2022-03-24T11:34:34.296Z"
   },
   {
    "duration": 5,
    "start_time": "2022-03-24T11:34:55.194Z"
   },
   {
    "duration": 917,
    "start_time": "2022-03-24T11:34:55.895Z"
   },
   {
    "duration": 4,
    "start_time": "2022-03-24T11:35:30.443Z"
   },
   {
    "duration": 919,
    "start_time": "2022-03-24T11:35:31.555Z"
   },
   {
    "duration": 974,
    "start_time": "2022-03-24T11:35:32.476Z"
   },
   {
    "duration": 879,
    "start_time": "2022-03-24T11:35:33.452Z"
   },
   {
    "duration": 5,
    "start_time": "2022-03-24T11:35:51.722Z"
   },
   {
    "duration": 906,
    "start_time": "2022-03-24T11:35:52.153Z"
   },
   {
    "duration": 911,
    "start_time": "2022-03-24T11:35:54.716Z"
   },
   {
    "duration": 902,
    "start_time": "2022-03-24T11:35:55.629Z"
   },
   {
    "duration": 4,
    "start_time": "2022-03-24T11:37:40.081Z"
   },
   {
    "duration": 886,
    "start_time": "2022-03-24T11:37:40.361Z"
   },
   {
    "duration": 5,
    "start_time": "2022-03-24T11:37:54.227Z"
   },
   {
    "duration": 916,
    "start_time": "2022-03-24T11:37:54.425Z"
   },
   {
    "duration": 126,
    "start_time": "2022-03-24T11:38:11.982Z"
   },
   {
    "duration": 868,
    "start_time": "2022-03-24T11:38:12.709Z"
   },
   {
    "duration": 116,
    "start_time": "2022-03-24T11:38:34.195Z"
   },
   {
    "duration": 112,
    "start_time": "2022-03-24T11:38:40.465Z"
   },
   {
    "duration": 118,
    "start_time": "2022-03-24T11:38:47.366Z"
   },
   {
    "duration": 5,
    "start_time": "2022-03-24T11:38:49.587Z"
   },
   {
    "duration": 5,
    "start_time": "2022-03-24T11:38:54.969Z"
   },
   {
    "duration": 901,
    "start_time": "2022-03-24T11:38:55.530Z"
   },
   {
    "duration": 6,
    "start_time": "2022-03-24T11:39:05.038Z"
   },
   {
    "duration": 866,
    "start_time": "2022-03-24T11:39:06.058Z"
   },
   {
    "duration": 123,
    "start_time": "2022-03-24T11:40:04.126Z"
   },
   {
    "duration": 132,
    "start_time": "2022-03-24T11:40:08.185Z"
   },
   {
    "duration": 125,
    "start_time": "2022-03-24T11:40:14.369Z"
   },
   {
    "duration": 122,
    "start_time": "2022-03-24T11:40:43.328Z"
   },
   {
    "duration": 0,
    "start_time": "2022-03-24T11:40:43.451Z"
   },
   {
    "duration": 853,
    "start_time": "2022-03-24T11:40:44.440Z"
   },
   {
    "duration": 850,
    "start_time": "2022-03-24T11:40:45.295Z"
   },
   {
    "duration": 5,
    "start_time": "2022-03-24T11:41:04.513Z"
   },
   {
    "duration": 857,
    "start_time": "2022-03-24T11:41:04.718Z"
   },
   {
    "duration": 852,
    "start_time": "2022-03-24T11:41:05.830Z"
   },
   {
    "duration": 846,
    "start_time": "2022-03-24T11:41:06.684Z"
   },
   {
    "duration": 4,
    "start_time": "2022-03-24T11:41:29.970Z"
   },
   {
    "duration": 4,
    "start_time": "2022-03-24T11:41:38.771Z"
   },
   {
    "duration": 149,
    "start_time": "2022-03-24T11:42:27.368Z"
   },
   {
    "duration": 9,
    "start_time": "2022-03-24T11:42:35.969Z"
   },
   {
    "duration": 4,
    "start_time": "2022-03-24T11:42:50.361Z"
   },
   {
    "duration": 118,
    "start_time": "2022-03-24T11:42:50.905Z"
   },
   {
    "duration": 10,
    "start_time": "2022-03-24T11:42:51.110Z"
   },
   {
    "duration": 832,
    "start_time": "2022-03-24T11:42:51.570Z"
   },
   {
    "duration": 3,
    "start_time": "2022-03-24T11:42:58.470Z"
   },
   {
    "duration": 3,
    "start_time": "2022-03-24T11:42:59.969Z"
   },
   {
    "duration": 4,
    "start_time": "2022-03-24T11:43:05.051Z"
   },
   {
    "duration": 6,
    "start_time": "2022-03-24T11:43:40.557Z"
   },
   {
    "duration": 901,
    "start_time": "2022-03-24T11:43:44.863Z"
   },
   {
    "duration": 147,
    "start_time": "2022-03-24T11:43:59.919Z"
   },
   {
    "duration": 5,
    "start_time": "2022-03-24T11:44:08.367Z"
   },
   {
    "duration": 873,
    "start_time": "2022-03-24T11:44:09.031Z"
   },
   {
    "duration": 0,
    "start_time": "2022-03-24T11:44:09.906Z"
   },
   {
    "duration": 0,
    "start_time": "2022-03-24T11:44:09.908Z"
   },
   {
    "duration": 4,
    "start_time": "2022-03-24T11:44:14.546Z"
   },
   {
    "duration": 943,
    "start_time": "2022-03-24T11:44:14.760Z"
   },
   {
    "duration": 4,
    "start_time": "2022-03-24T11:44:15.706Z"
   },
   {
    "duration": 963,
    "start_time": "2022-03-24T11:44:15.711Z"
   },
   {
    "duration": 883,
    "start_time": "2022-03-24T11:44:16.677Z"
   },
   {
    "duration": 5,
    "start_time": "2022-03-24T11:44:26.488Z"
   },
   {
    "duration": 883,
    "start_time": "2022-03-24T11:44:26.870Z"
   },
   {
    "duration": 890,
    "start_time": "2022-03-24T11:44:28.760Z"
   },
   {
    "duration": 911,
    "start_time": "2022-03-24T11:44:29.653Z"
   },
   {
    "duration": 4,
    "start_time": "2022-03-24T11:54:05.687Z"
   },
   {
    "duration": 5,
    "start_time": "2022-03-24T11:54:06.854Z"
   },
   {
    "duration": 492,
    "start_time": "2022-03-24T11:54:09.116Z"
   },
   {
    "duration": 515,
    "start_time": "2022-03-24T11:54:14.862Z"
   },
   {
    "duration": 1525,
    "start_time": "2022-03-24T11:54:23.472Z"
   },
   {
    "duration": 4,
    "start_time": "2022-03-24T11:54:24.999Z"
   },
   {
    "duration": 6,
    "start_time": "2022-03-24T11:54:25.005Z"
   },
   {
    "duration": 8,
    "start_time": "2022-03-24T11:54:25.013Z"
   },
   {
    "duration": 342,
    "start_time": "2022-03-24T11:54:27.805Z"
   },
   {
    "duration": 120,
    "start_time": "2022-03-24T11:54:31.275Z"
   },
   {
    "duration": 4,
    "start_time": "2022-03-24T11:54:37.245Z"
   },
   {
    "duration": 123,
    "start_time": "2022-03-24T11:54:39.995Z"
   },
   {
    "duration": 5,
    "start_time": "2022-03-24T11:54:45.923Z"
   },
   {
    "duration": 4,
    "start_time": "2022-03-24T11:54:46.094Z"
   },
   {
    "duration": 4,
    "start_time": "2022-03-24T11:54:46.245Z"
   },
   {
    "duration": 3,
    "start_time": "2022-03-24T11:54:46.453Z"
   },
   {
    "duration": 122,
    "start_time": "2022-03-24T11:54:46.632Z"
   },
   {
    "duration": 109,
    "start_time": "2022-03-24T11:54:46.793Z"
   },
   {
    "duration": 115,
    "start_time": "2022-03-24T11:54:46.973Z"
   },
   {
    "duration": 69,
    "start_time": "2022-03-24T11:54:48.352Z"
   },
   {
    "duration": 523,
    "start_time": "2022-03-24T11:54:48.921Z"
   },
   {
    "duration": 465,
    "start_time": "2022-03-24T11:54:59.076Z"
   },
   {
    "duration": 1466,
    "start_time": "2022-03-24T11:55:10.017Z"
   },
   {
    "duration": 4,
    "start_time": "2022-03-24T11:55:11.485Z"
   },
   {
    "duration": 19,
    "start_time": "2022-03-24T11:55:11.491Z"
   },
   {
    "duration": 6,
    "start_time": "2022-03-24T11:55:11.512Z"
   },
   {
    "duration": 120,
    "start_time": "2022-03-24T11:55:11.519Z"
   },
   {
    "duration": 111,
    "start_time": "2022-03-24T11:55:11.641Z"
   },
   {
    "duration": 111,
    "start_time": "2022-03-24T11:55:11.754Z"
   },
   {
    "duration": 81,
    "start_time": "2022-03-24T11:55:11.866Z"
   },
   {
    "duration": 456,
    "start_time": "2022-03-24T11:55:11.949Z"
   },
   {
    "duration": 3,
    "start_time": "2022-03-24T11:56:10.300Z"
   },
   {
    "duration": 3,
    "start_time": "2022-03-24T11:56:10.729Z"
   },
   {
    "duration": 4,
    "start_time": "2022-03-24T11:56:11.003Z"
   },
   {
    "duration": 119,
    "start_time": "2022-03-24T11:56:11.361Z"
   },
   {
    "duration": 117,
    "start_time": "2022-03-24T11:56:11.565Z"
   },
   {
    "duration": 116,
    "start_time": "2022-03-24T11:56:11.731Z"
   },
   {
    "duration": 74,
    "start_time": "2022-03-24T11:56:12.361Z"
   },
   {
    "duration": 4,
    "start_time": "2022-03-24T11:56:32.858Z"
   },
   {
    "duration": 4,
    "start_time": "2022-03-24T11:56:33.210Z"
   },
   {
    "duration": 4,
    "start_time": "2022-03-24T11:56:33.402Z"
   },
   {
    "duration": 113,
    "start_time": "2022-03-24T11:56:33.581Z"
   },
   {
    "duration": 112,
    "start_time": "2022-03-24T11:56:33.795Z"
   },
   {
    "duration": 115,
    "start_time": "2022-03-24T11:56:33.964Z"
   },
   {
    "duration": 64,
    "start_time": "2022-03-24T11:56:34.481Z"
   },
   {
    "duration": 3,
    "start_time": "2022-03-24T11:56:46.525Z"
   },
   {
    "duration": 1517,
    "start_time": "2022-03-24T11:56:51.339Z"
   },
   {
    "duration": 3,
    "start_time": "2022-03-24T11:56:52.858Z"
   },
   {
    "duration": 7,
    "start_time": "2022-03-24T11:56:52.863Z"
   },
   {
    "duration": 4,
    "start_time": "2022-03-24T11:56:54.079Z"
   },
   {
    "duration": 131,
    "start_time": "2022-03-24T11:56:54.483Z"
   },
   {
    "duration": 114,
    "start_time": "2022-03-24T11:56:54.682Z"
   },
   {
    "duration": 115,
    "start_time": "2022-03-24T11:56:54.862Z"
   },
   {
    "duration": 77,
    "start_time": "2022-03-24T11:56:55.692Z"
   },
   {
    "duration": 459,
    "start_time": "2022-03-24T11:56:56.453Z"
   },
   {
    "duration": 67,
    "start_time": "2022-03-24T11:57:10.722Z"
   },
   {
    "duration": 6,
    "start_time": "2022-03-24T11:57:11.332Z"
   },
   {
    "duration": 428,
    "start_time": "2022-03-24T11:57:11.798Z"
   },
   {
    "duration": 363,
    "start_time": "2022-03-24T11:57:18.161Z"
   },
   {
    "duration": 68,
    "start_time": "2022-03-24T11:57:18.526Z"
   },
   {
    "duration": 532,
    "start_time": "2022-03-24T11:57:18.982Z"
   },
   {
    "duration": 581,
    "start_time": "2022-03-24T11:57:22.372Z"
   },
   {
    "duration": 282,
    "start_time": "2022-03-24T11:57:59.422Z"
   },
   {
    "duration": 113,
    "start_time": "2022-03-24T11:58:33.778Z"
   },
   {
    "duration": 3,
    "start_time": "2022-03-24T11:58:45.958Z"
   },
   {
    "duration": 118,
    "start_time": "2022-03-24T11:58:51.155Z"
   },
   {
    "duration": 4,
    "start_time": "2022-03-24T11:58:53.972Z"
   },
   {
    "duration": 254,
    "start_time": "2022-03-24T11:58:59.102Z"
   },
   {
    "duration": 3,
    "start_time": "2022-03-24T11:59:09.635Z"
   },
   {
    "duration": 3,
    "start_time": "2022-03-24T11:59:12.149Z"
   },
   {
    "duration": 506,
    "start_time": "2022-03-24T11:59:16.036Z"
   },
   {
    "duration": 4,
    "start_time": "2022-03-24T12:00:38.499Z"
   },
   {
    "duration": 101,
    "start_time": "2022-03-24T12:00:40.922Z"
   },
   {
    "duration": 4,
    "start_time": "2022-03-24T12:00:48.819Z"
   },
   {
    "duration": 4,
    "start_time": "2022-03-24T12:00:49.119Z"
   },
   {
    "duration": 4,
    "start_time": "2022-03-24T12:00:49.324Z"
   },
   {
    "duration": 125,
    "start_time": "2022-03-24T12:00:49.462Z"
   },
   {
    "duration": 118,
    "start_time": "2022-03-24T12:00:49.636Z"
   },
   {
    "duration": 121,
    "start_time": "2022-03-24T12:00:49.820Z"
   },
   {
    "duration": 107,
    "start_time": "2022-03-24T12:00:50.563Z"
   },
   {
    "duration": 129,
    "start_time": "2022-03-24T12:02:05.030Z"
   },
   {
    "duration": 4,
    "start_time": "2022-03-24T12:02:18.749Z"
   },
   {
    "duration": 108,
    "start_time": "2022-03-24T12:02:21.371Z"
   },
   {
    "duration": 131,
    "start_time": "2022-03-24T12:03:34.638Z"
   },
   {
    "duration": 4,
    "start_time": "2022-03-24T12:04:07.371Z"
   },
   {
    "duration": 91,
    "start_time": "2022-03-24T12:04:11.051Z"
   },
   {
    "duration": 3,
    "start_time": "2022-03-24T12:04:50.777Z"
   },
   {
    "duration": 4,
    "start_time": "2022-03-24T12:07:05.687Z"
   },
   {
    "duration": 62,
    "start_time": "2022-03-24T12:07:13.009Z"
   },
   {
    "duration": 4,
    "start_time": "2022-03-24T12:07:34.969Z"
   },
   {
    "duration": 65,
    "start_time": "2022-03-24T12:07:37.039Z"
   },
   {
    "duration": 9,
    "start_time": "2022-03-24T12:07:53.409Z"
   },
   {
    "duration": 138,
    "start_time": "2022-03-24T12:08:21.116Z"
   },
   {
    "duration": 107,
    "start_time": "2022-03-24T12:08:46.536Z"
   },
   {
    "duration": 67,
    "start_time": "2022-03-24T12:08:49.188Z"
   },
   {
    "duration": 5,
    "start_time": "2022-03-24T12:09:03.218Z"
   },
   {
    "duration": 64,
    "start_time": "2022-03-24T12:09:05.678Z"
   },
   {
    "duration": 106,
    "start_time": "2022-03-24T12:09:10.899Z"
   },
   {
    "duration": 132,
    "start_time": "2022-03-24T12:09:16.529Z"
   },
   {
    "duration": 46,
    "start_time": "2022-03-24T12:09:49.910Z"
   },
   {
    "duration": 58,
    "start_time": "2022-03-24T12:09:59.998Z"
   },
   {
    "duration": 46,
    "start_time": "2022-03-24T12:10:15.358Z"
   },
   {
    "duration": 56,
    "start_time": "2022-03-24T12:10:44.938Z"
   },
   {
    "duration": 3,
    "start_time": "2022-03-24T12:11:00.616Z"
   },
   {
    "duration": 112,
    "start_time": "2022-03-24T12:11:05.006Z"
   },
   {
    "duration": 5,
    "start_time": "2022-03-24T12:11:17.227Z"
   },
   {
    "duration": 117,
    "start_time": "2022-03-24T12:11:19.278Z"
   },
   {
    "duration": 4,
    "start_time": "2022-03-24T12:11:35.806Z"
   },
   {
    "duration": 61,
    "start_time": "2022-03-24T12:11:39.609Z"
   },
   {
    "duration": 50,
    "start_time": "2022-03-24T12:12:08.058Z"
   },
   {
    "duration": 51,
    "start_time": "2022-03-24T12:12:13.758Z"
   },
   {
    "duration": 118,
    "start_time": "2022-03-24T12:14:02.016Z"
   },
   {
    "duration": 138,
    "start_time": "2022-03-24T12:14:08.816Z"
   },
   {
    "duration": 4,
    "start_time": "2022-03-24T12:14:38.656Z"
   },
   {
    "duration": 91,
    "start_time": "2022-03-24T12:14:48.536Z"
   },
   {
    "duration": 3,
    "start_time": "2022-03-24T12:15:03.808Z"
   },
   {
    "duration": 48,
    "start_time": "2022-03-24T12:15:08.956Z"
   },
   {
    "duration": 58,
    "start_time": "2022-03-24T12:15:16.517Z"
   },
   {
    "duration": 4,
    "start_time": "2022-03-24T12:15:35.656Z"
   },
   {
    "duration": 6,
    "start_time": "2022-03-24T12:15:52.105Z"
   },
   {
    "duration": 3,
    "start_time": "2022-03-24T12:15:52.279Z"
   },
   {
    "duration": 3,
    "start_time": "2022-03-24T12:15:52.428Z"
   },
   {
    "duration": 4,
    "start_time": "2022-03-24T12:15:52.595Z"
   },
   {
    "duration": 3,
    "start_time": "2022-03-24T12:15:55.738Z"
   },
   {
    "duration": 4,
    "start_time": "2022-03-24T12:15:56.015Z"
   },
   {
    "duration": 3,
    "start_time": "2022-03-24T12:15:56.227Z"
   },
   {
    "duration": 4,
    "start_time": "2022-03-24T12:15:56.395Z"
   },
   {
    "duration": 123,
    "start_time": "2022-03-24T12:15:56.548Z"
   },
   {
    "duration": 117,
    "start_time": "2022-03-24T12:15:57.008Z"
   },
   {
    "duration": 115,
    "start_time": "2022-03-24T12:15:57.218Z"
   },
   {
    "duration": 62,
    "start_time": "2022-03-24T12:15:58.087Z"
   },
   {
    "duration": 47,
    "start_time": "2022-03-24T12:15:58.867Z"
   },
   {
    "duration": 479,
    "start_time": "2022-03-24T12:15:59.447Z"
   },
   {
    "duration": 65,
    "start_time": "2022-03-24T12:16:00.088Z"
   },
   {
    "duration": 11,
    "start_time": "2022-03-24T12:21:42.038Z"
   },
   {
    "duration": 4,
    "start_time": "2022-03-24T12:22:14.059Z"
   },
   {
    "duration": 4,
    "start_time": "2022-03-24T12:22:32.051Z"
   },
   {
    "duration": 3,
    "start_time": "2022-03-24T12:22:50.231Z"
   },
   {
    "duration": 60,
    "start_time": "2022-03-24T12:23:49.761Z"
   },
   {
    "duration": 53,
    "start_time": "2022-03-24T12:24:05.671Z"
   },
   {
    "duration": 6,
    "start_time": "2022-03-24T12:27:43.614Z"
   },
   {
    "duration": 56,
    "start_time": "2022-03-24T12:29:12.755Z"
   },
   {
    "duration": 2,
    "start_time": "2022-03-24T12:29:23.604Z"
   },
   {
    "duration": 46,
    "start_time": "2022-03-24T12:29:57.534Z"
   },
   {
    "duration": 49,
    "start_time": "2022-03-24T12:30:03.112Z"
   },
   {
    "duration": 122,
    "start_time": "2022-03-24T12:32:51.721Z"
   },
   {
    "duration": 164,
    "start_time": "2022-03-24T12:32:58.281Z"
   },
   {
    "duration": 125,
    "start_time": "2022-03-24T12:33:30.811Z"
   },
   {
    "duration": 132,
    "start_time": "2022-03-24T12:33:47.360Z"
   },
   {
    "duration": 123,
    "start_time": "2022-03-24T12:34:23.431Z"
   },
   {
    "duration": 4,
    "start_time": "2022-03-24T12:34:26.239Z"
   },
   {
    "duration": 209,
    "start_time": "2022-03-24T12:34:26.641Z"
   },
   {
    "duration": 50,
    "start_time": "2022-03-24T12:35:50.226Z"
   },
   {
    "duration": 1595,
    "start_time": "2022-03-24T12:36:02.634Z"
   },
   {
    "duration": 4,
    "start_time": "2022-03-24T12:36:04.231Z"
   },
   {
    "duration": 13,
    "start_time": "2022-03-24T12:36:04.237Z"
   },
   {
    "duration": 18,
    "start_time": "2022-03-24T12:36:04.252Z"
   },
   {
    "duration": 25,
    "start_time": "2022-03-24T12:36:04.272Z"
   },
   {
    "duration": 145,
    "start_time": "2022-03-24T12:36:04.299Z"
   },
   {
    "duration": 118,
    "start_time": "2022-03-24T12:36:04.446Z"
   },
   {
    "duration": 125,
    "start_time": "2022-03-24T12:36:04.566Z"
   },
   {
    "duration": 91,
    "start_time": "2022-03-24T12:36:04.693Z"
   },
   {
    "duration": 51,
    "start_time": "2022-03-24T12:36:04.786Z"
   },
   {
    "duration": 463,
    "start_time": "2022-03-24T12:36:05.096Z"
   },
   {
    "duration": 3,
    "start_time": "2022-03-24T12:36:05.561Z"
   },
   {
    "duration": 65,
    "start_time": "2022-03-24T12:36:05.775Z"
   },
   {
    "duration": 47,
    "start_time": "2022-03-24T12:36:05.945Z"
   },
   {
    "duration": 7,
    "start_time": "2022-03-24T12:36:06.736Z"
   },
   {
    "duration": 468,
    "start_time": "2022-03-24T12:36:07.116Z"
   },
   {
    "duration": 3,
    "start_time": "2022-03-24T12:36:07.586Z"
   },
   {
    "duration": 64,
    "start_time": "2022-03-24T12:36:10.665Z"
   },
   {
    "duration": 45,
    "start_time": "2022-03-24T12:36:11.194Z"
   },
   {
    "duration": 508,
    "start_time": "2022-03-24T12:36:12.191Z"
   },
   {
    "duration": 115,
    "start_time": "2022-03-24T12:36:14.906Z"
   },
   {
    "duration": 3,
    "start_time": "2022-03-24T12:36:15.986Z"
   },
   {
    "duration": 3,
    "start_time": "2022-03-24T12:36:30.575Z"
   },
   {
    "duration": 3,
    "start_time": "2022-03-24T12:36:50.244Z"
   },
   {
    "duration": 3,
    "start_time": "2022-03-24T12:37:02.455Z"
   },
   {
    "duration": 3,
    "start_time": "2022-03-24T12:37:21.226Z"
   },
   {
    "duration": 4,
    "start_time": "2022-03-24T12:37:22.914Z"
   },
   {
    "duration": 150,
    "start_time": "2022-03-24T12:37:49.713Z"
   },
   {
    "duration": 3,
    "start_time": "2022-03-24T12:38:10.754Z"
   },
   {
    "duration": 4,
    "start_time": "2022-03-24T12:38:14.991Z"
   },
   {
    "duration": 6,
    "start_time": "2022-03-24T12:38:15.403Z"
   },
   {
    "duration": 133,
    "start_time": "2022-03-24T12:38:15.834Z"
   },
   {
    "duration": 3,
    "start_time": "2022-03-24T12:38:29.505Z"
   },
   {
    "duration": 5,
    "start_time": "2022-03-24T12:38:29.964Z"
   },
   {
    "duration": 98,
    "start_time": "2022-03-24T12:38:30.281Z"
   },
   {
    "duration": 1427,
    "start_time": "2022-03-24T12:38:36.787Z"
   },
   {
    "duration": 3,
    "start_time": "2022-03-24T12:38:38.216Z"
   },
   {
    "duration": 12,
    "start_time": "2022-03-24T12:38:38.221Z"
   },
   {
    "duration": 4,
    "start_time": "2022-03-24T12:38:38.235Z"
   },
   {
    "duration": 5,
    "start_time": "2022-03-24T12:38:38.241Z"
   },
   {
    "duration": 148,
    "start_time": "2022-03-24T12:38:38.248Z"
   },
   {
    "duration": 112,
    "start_time": "2022-03-24T12:38:38.398Z"
   },
   {
    "duration": 114,
    "start_time": "2022-03-24T12:38:38.512Z"
   },
   {
    "duration": 78,
    "start_time": "2022-03-24T12:38:38.628Z"
   },
   {
    "duration": 46,
    "start_time": "2022-03-24T12:38:38.746Z"
   },
   {
    "duration": 458,
    "start_time": "2022-03-24T12:38:46.099Z"
   },
   {
    "duration": 3,
    "start_time": "2022-03-24T12:38:46.559Z"
   },
   {
    "duration": 68,
    "start_time": "2022-03-24T12:38:46.770Z"
   },
   {
    "duration": 50,
    "start_time": "2022-03-24T12:38:47.270Z"
   },
   {
    "duration": 9,
    "start_time": "2022-03-24T12:38:47.929Z"
   },
   {
    "duration": 493,
    "start_time": "2022-03-24T12:38:48.390Z"
   },
   {
    "duration": 3,
    "start_time": "2022-03-24T12:38:49.059Z"
   },
   {
    "duration": 78,
    "start_time": "2022-03-24T12:38:49.509Z"
   },
   {
    "duration": 60,
    "start_time": "2022-03-24T12:38:50.129Z"
   },
   {
    "duration": 575,
    "start_time": "2022-03-24T12:38:51.369Z"
   },
   {
    "duration": 3,
    "start_time": "2022-03-24T12:39:44.050Z"
   },
   {
    "duration": 5,
    "start_time": "2022-03-24T12:39:44.707Z"
   },
   {
    "duration": 238,
    "start_time": "2022-03-24T12:39:45.267Z"
   },
   {
    "duration": 1527,
    "start_time": "2022-03-24T12:39:50.830Z"
   },
   {
    "duration": 3,
    "start_time": "2022-03-24T12:39:52.359Z"
   },
   {
    "duration": 14,
    "start_time": "2022-03-24T12:39:52.364Z"
   },
   {
    "duration": 10,
    "start_time": "2022-03-24T12:39:52.380Z"
   },
   {
    "duration": 8,
    "start_time": "2022-03-24T12:39:52.391Z"
   },
   {
    "duration": 123,
    "start_time": "2022-03-24T12:39:52.401Z"
   },
   {
    "duration": 112,
    "start_time": "2022-03-24T12:39:52.526Z"
   },
   {
    "duration": 116,
    "start_time": "2022-03-24T12:39:52.640Z"
   },
   {
    "duration": 83,
    "start_time": "2022-03-24T12:39:52.758Z"
   },
   {
    "duration": 61,
    "start_time": "2022-03-24T12:39:52.842Z"
   },
   {
    "duration": 463,
    "start_time": "2022-03-24T12:39:53.182Z"
   },
   {
    "duration": 2,
    "start_time": "2022-03-24T12:39:53.647Z"
   },
   {
    "duration": 65,
    "start_time": "2022-03-24T12:39:53.882Z"
   },
   {
    "duration": 48,
    "start_time": "2022-03-24T12:39:54.041Z"
   },
   {
    "duration": 8,
    "start_time": "2022-03-24T12:39:54.392Z"
   },
   {
    "duration": 454,
    "start_time": "2022-03-24T12:39:54.733Z"
   },
   {
    "duration": 3,
    "start_time": "2022-03-24T12:39:57.581Z"
   },
   {
    "duration": 80,
    "start_time": "2022-03-24T12:39:57.944Z"
   },
   {
    "duration": 50,
    "start_time": "2022-03-24T12:40:00.145Z"
   },
   {
    "duration": 517,
    "start_time": "2022-03-24T12:40:02.982Z"
   },
   {
    "duration": 3,
    "start_time": "2022-03-24T12:40:12.102Z"
   },
   {
    "duration": 4,
    "start_time": "2022-03-24T12:40:12.430Z"
   },
   {
    "duration": 2,
    "start_time": "2022-03-24T12:40:38.662Z"
   },
   {
    "duration": 23,
    "start_time": "2022-03-24T12:40:43.062Z"
   },
   {
    "duration": 3,
    "start_time": "2022-03-24T12:41:10.630Z"
   },
   {
    "duration": 3,
    "start_time": "2022-03-24T12:41:13.411Z"
   },
   {
    "duration": 23,
    "start_time": "2022-03-24T12:41:13.912Z"
   },
   {
    "duration": 4,
    "start_time": "2022-03-24T12:41:47.950Z"
   },
   {
    "duration": 9,
    "start_time": "2022-03-24T12:43:01.962Z"
   },
   {
    "duration": 9,
    "start_time": "2022-03-24T12:43:10.592Z"
   },
   {
    "duration": 9,
    "start_time": "2022-03-24T12:43:14.211Z"
   },
   {
    "duration": 108,
    "start_time": "2022-03-24T12:44:42.219Z"
   },
   {
    "duration": 42,
    "start_time": "2022-03-24T12:44:54.230Z"
   },
   {
    "duration": 4,
    "start_time": "2022-03-24T12:44:55.949Z"
   },
   {
    "duration": 43,
    "start_time": "2022-03-24T12:45:03.509Z"
   },
   {
    "duration": 207,
    "start_time": "2022-03-24T12:45:10.857Z"
   },
   {
    "duration": 4,
    "start_time": "2022-03-24T12:46:02.130Z"
   },
   {
    "duration": 253,
    "start_time": "2022-03-24T12:46:02.868Z"
   },
   {
    "duration": 5,
    "start_time": "2022-03-24T12:46:08.589Z"
   },
   {
    "duration": 218,
    "start_time": "2022-03-24T12:46:09.469Z"
   },
   {
    "duration": 1511,
    "start_time": "2022-03-24T12:46:15.727Z"
   },
   {
    "duration": 4,
    "start_time": "2022-03-24T12:46:17.240Z"
   },
   {
    "duration": 9,
    "start_time": "2022-03-24T12:46:17.246Z"
   },
   {
    "duration": 6,
    "start_time": "2022-03-24T12:46:17.257Z"
   },
   {
    "duration": 32,
    "start_time": "2022-03-24T12:46:17.265Z"
   },
   {
    "duration": 145,
    "start_time": "2022-03-24T12:46:17.298Z"
   },
   {
    "duration": 116,
    "start_time": "2022-03-24T12:46:17.445Z"
   },
   {
    "duration": 126,
    "start_time": "2022-03-24T12:46:17.563Z"
   },
   {
    "duration": 101,
    "start_time": "2022-03-24T12:46:17.692Z"
   },
   {
    "duration": 59,
    "start_time": "2022-03-24T12:46:17.795Z"
   },
   {
    "duration": 488,
    "start_time": "2022-03-24T12:46:18.100Z"
   },
   {
    "duration": 87,
    "start_time": "2022-03-24T12:46:18.590Z"
   },
   {
    "duration": 52,
    "start_time": "2022-03-24T12:46:18.749Z"
   },
   {
    "duration": 7,
    "start_time": "2022-03-24T12:46:19.079Z"
   },
   {
    "duration": 449,
    "start_time": "2022-03-24T12:46:19.429Z"
   },
   {
    "duration": 69,
    "start_time": "2022-03-24T12:46:19.948Z"
   },
   {
    "duration": 48,
    "start_time": "2022-03-24T12:46:20.169Z"
   },
   {
    "duration": 536,
    "start_time": "2022-03-24T12:46:20.968Z"
   },
   {
    "duration": 6,
    "start_time": "2022-03-24T12:46:21.507Z"
   },
   {
    "duration": 229,
    "start_time": "2022-03-24T12:46:21.867Z"
   },
   {
    "duration": 5,
    "start_time": "2022-03-24T12:48:07.347Z"
   },
   {
    "duration": 238,
    "start_time": "2022-03-24T12:48:07.869Z"
   },
   {
    "duration": 121,
    "start_time": "2022-03-24T12:48:56.231Z"
   },
   {
    "duration": 220,
    "start_time": "2022-03-24T12:48:56.661Z"
   },
   {
    "duration": 5,
    "start_time": "2022-03-24T12:49:15.040Z"
   },
   {
    "duration": 249,
    "start_time": "2022-03-24T12:49:17.181Z"
   },
   {
    "duration": 1505,
    "start_time": "2022-03-24T12:49:25.624Z"
   },
   {
    "duration": 3,
    "start_time": "2022-03-24T12:49:27.132Z"
   },
   {
    "duration": 14,
    "start_time": "2022-03-24T12:49:27.137Z"
   },
   {
    "duration": 8,
    "start_time": "2022-03-24T12:49:27.154Z"
   },
   {
    "duration": 8,
    "start_time": "2022-03-24T12:49:27.163Z"
   },
   {
    "duration": 136,
    "start_time": "2022-03-24T12:49:27.173Z"
   },
   {
    "duration": 108,
    "start_time": "2022-03-24T12:49:27.311Z"
   },
   {
    "duration": 110,
    "start_time": "2022-03-24T12:49:27.421Z"
   },
   {
    "duration": 75,
    "start_time": "2022-03-24T12:49:27.533Z"
   },
   {
    "duration": 62,
    "start_time": "2022-03-24T12:49:27.610Z"
   },
   {
    "duration": 455,
    "start_time": "2022-03-24T12:49:28.026Z"
   },
   {
    "duration": 67,
    "start_time": "2022-03-24T12:49:28.533Z"
   },
   {
    "duration": 53,
    "start_time": "2022-03-24T12:49:28.695Z"
   },
   {
    "duration": 7,
    "start_time": "2022-03-24T12:49:29.066Z"
   },
   {
    "duration": 449,
    "start_time": "2022-03-24T12:49:29.416Z"
   },
   {
    "duration": 66,
    "start_time": "2022-03-24T12:49:29.933Z"
   },
   {
    "duration": 45,
    "start_time": "2022-03-24T12:49:30.124Z"
   },
   {
    "duration": 507,
    "start_time": "2022-03-24T12:49:30.884Z"
   },
   {
    "duration": 5,
    "start_time": "2022-03-24T12:49:32.817Z"
   },
   {
    "duration": 221,
    "start_time": "2022-03-24T12:49:32.824Z"
   },
   {
    "duration": 31,
    "start_time": "2022-03-24T12:49:33.047Z"
   },
   {
    "duration": 5,
    "start_time": "2022-03-24T12:49:44.692Z"
   },
   {
    "duration": 227,
    "start_time": "2022-03-24T12:49:45.274Z"
   },
   {
    "duration": 4,
    "start_time": "2022-03-24T12:50:07.706Z"
   },
   {
    "duration": 1616,
    "start_time": "2022-03-24T12:50:14.345Z"
   },
   {
    "duration": 3,
    "start_time": "2022-03-24T12:50:15.963Z"
   },
   {
    "duration": 7,
    "start_time": "2022-03-24T12:50:15.968Z"
   },
   {
    "duration": 6,
    "start_time": "2022-03-24T12:50:15.977Z"
   },
   {
    "duration": 5,
    "start_time": "2022-03-24T12:50:15.986Z"
   },
   {
    "duration": 147,
    "start_time": "2022-03-24T12:50:15.993Z"
   },
   {
    "duration": 134,
    "start_time": "2022-03-24T12:50:16.142Z"
   },
   {
    "duration": 123,
    "start_time": "2022-03-24T12:50:16.278Z"
   },
   {
    "duration": 87,
    "start_time": "2022-03-24T12:50:16.404Z"
   },
   {
    "duration": 62,
    "start_time": "2022-03-24T12:50:16.492Z"
   },
   {
    "duration": 485,
    "start_time": "2022-03-24T12:50:16.637Z"
   },
   {
    "duration": 70,
    "start_time": "2022-03-24T12:50:17.165Z"
   },
   {
    "duration": 59,
    "start_time": "2022-03-24T12:50:17.326Z"
   },
   {
    "duration": 8,
    "start_time": "2022-03-24T12:50:17.677Z"
   },
   {
    "duration": 486,
    "start_time": "2022-03-24T12:50:18.018Z"
   },
   {
    "duration": 99,
    "start_time": "2022-03-24T12:50:18.507Z"
   },
   {
    "duration": 51,
    "start_time": "2022-03-24T12:50:18.667Z"
   },
   {
    "duration": 540,
    "start_time": "2022-03-24T12:50:19.218Z"
   },
   {
    "duration": 5,
    "start_time": "2022-03-24T12:50:22.346Z"
   },
   {
    "duration": 218,
    "start_time": "2022-03-24T12:50:22.774Z"
   },
   {
    "duration": 4,
    "start_time": "2022-03-24T12:50:28.178Z"
   },
   {
    "duration": 5,
    "start_time": "2022-03-24T12:50:39.588Z"
   },
   {
    "duration": 153,
    "start_time": "2022-03-24T12:51:07.906Z"
   },
   {
    "duration": 231,
    "start_time": "2022-03-24T12:51:08.386Z"
   },
   {
    "duration": 120,
    "start_time": "2022-03-24T12:51:29.356Z"
   },
   {
    "duration": 226,
    "start_time": "2022-03-24T12:51:31.218Z"
   },
   {
    "duration": 112,
    "start_time": "2022-03-24T12:51:36.126Z"
   },
   {
    "duration": 1483,
    "start_time": "2022-03-24T12:51:45.354Z"
   },
   {
    "duration": 4,
    "start_time": "2022-03-24T12:51:46.839Z"
   },
   {
    "duration": 7,
    "start_time": "2022-03-24T12:51:46.844Z"
   },
   {
    "duration": 8,
    "start_time": "2022-03-24T12:51:46.853Z"
   },
   {
    "duration": 7,
    "start_time": "2022-03-24T12:51:46.862Z"
   },
   {
    "duration": 129,
    "start_time": "2022-03-24T12:51:46.871Z"
   },
   {
    "duration": 118,
    "start_time": "2022-03-24T12:51:47.002Z"
   },
   {
    "duration": 1783,
    "start_time": "2022-03-24T12:51:47.122Z"
   },
   {
    "duration": 79,
    "start_time": "2022-03-24T12:51:48.906Z"
   },
   {
    "duration": 60,
    "start_time": "2022-03-24T12:51:48.987Z"
   },
   {
    "duration": 468,
    "start_time": "2022-03-24T12:51:49.049Z"
   },
   {
    "duration": 72,
    "start_time": "2022-03-24T12:51:49.518Z"
   },
   {
    "duration": 73,
    "start_time": "2022-03-24T12:51:49.592Z"
   },
   {
    "duration": 8,
    "start_time": "2022-03-24T12:51:49.667Z"
   },
   {
    "duration": 455,
    "start_time": "2022-03-24T12:51:49.677Z"
   },
   {
    "duration": 66,
    "start_time": "2022-03-24T12:51:50.137Z"
   },
   {
    "duration": 64,
    "start_time": "2022-03-24T12:51:50.205Z"
   },
   {
    "duration": 530,
    "start_time": "2022-03-24T12:51:50.271Z"
   },
   {
    "duration": 127,
    "start_time": "2022-03-24T12:51:50.803Z"
   },
   {
    "duration": 6,
    "start_time": "2022-03-24T12:52:13.856Z"
   },
   {
    "duration": 230,
    "start_time": "2022-03-24T12:52:14.865Z"
   },
   {
    "duration": 111,
    "start_time": "2022-03-24T13:01:05.370Z"
   },
   {
    "duration": 11,
    "start_time": "2022-03-24T13:02:13.138Z"
   },
   {
    "duration": 35,
    "start_time": "2022-03-24T13:02:47.626Z"
   },
   {
    "duration": 391,
    "start_time": "2022-03-24T13:02:48.352Z"
   },
   {
    "duration": 307,
    "start_time": "2022-03-24T13:02:48.839Z"
   },
   {
    "duration": 161,
    "start_time": "2022-03-24T13:02:50.391Z"
   },
   {
    "duration": 3,
    "start_time": "2022-03-24T13:13:59.616Z"
   },
   {
    "duration": 13,
    "start_time": "2022-03-24T13:14:26.889Z"
   },
   {
    "duration": 3,
    "start_time": "2022-03-24T13:14:29.082Z"
   },
   {
    "duration": 10,
    "start_time": "2022-03-24T13:14:29.649Z"
   },
   {
    "duration": 3,
    "start_time": "2022-03-24T13:14:37.698Z"
   },
   {
    "duration": 3,
    "start_time": "2022-03-24T13:14:40.459Z"
   },
   {
    "duration": 121,
    "start_time": "2022-03-24T13:14:58.068Z"
   },
   {
    "duration": 6,
    "start_time": "2022-03-24T13:15:29.363Z"
   },
   {
    "duration": 4,
    "start_time": "2022-03-24T13:15:30.716Z"
   },
   {
    "duration": 965,
    "start_time": "2022-03-24T13:18:02.079Z"
   },
   {
    "duration": 932,
    "start_time": "2022-03-24T13:20:00.238Z"
   },
   {
    "duration": 912,
    "start_time": "2022-03-24T13:20:06.368Z"
   },
   {
    "duration": 7,
    "start_time": "2022-03-24T13:23:35.202Z"
   },
   {
    "duration": 12,
    "start_time": "2022-03-24T13:23:36.083Z"
   },
   {
    "duration": 897,
    "start_time": "2022-03-24T13:23:36.502Z"
   },
   {
    "duration": 8,
    "start_time": "2022-03-24T13:23:37.402Z"
   },
   {
    "duration": 908,
    "start_time": "2022-03-24T13:23:37.412Z"
   },
   {
    "duration": 17,
    "start_time": "2022-03-24T13:23:38.322Z"
   },
   {
    "duration": 4,
    "start_time": "2022-03-24T13:24:42.558Z"
   },
   {
    "duration": 6,
    "start_time": "2022-03-24T13:24:43.537Z"
   },
   {
    "duration": 7,
    "start_time": "2022-03-24T13:24:44.300Z"
   },
   {
    "duration": 1506,
    "start_time": "2022-03-24T13:24:47.079Z"
   },
   {
    "duration": 5,
    "start_time": "2022-03-24T13:25:11.898Z"
   },
   {
    "duration": 8,
    "start_time": "2022-03-24T13:25:12.720Z"
   },
   {
    "duration": 1383,
    "start_time": "2022-03-24T13:25:13.161Z"
   },
   {
    "duration": 8,
    "start_time": "2022-03-24T13:25:15.848Z"
   },
   {
    "duration": 4,
    "start_time": "2022-03-24T13:26:13.890Z"
   },
   {
    "duration": 6,
    "start_time": "2022-03-24T13:26:14.415Z"
   },
   {
    "duration": 8,
    "start_time": "2022-03-24T13:26:14.760Z"
   },
   {
    "duration": 934,
    "start_time": "2022-03-24T13:26:15.450Z"
   },
   {
    "duration": 8,
    "start_time": "2022-03-24T13:26:18.409Z"
   },
   {
    "duration": 893,
    "start_time": "2022-03-24T13:26:18.580Z"
   },
   {
    "duration": 8,
    "start_time": "2022-03-24T13:26:19.600Z"
   },
   {
    "duration": 899,
    "start_time": "2022-03-24T13:26:19.770Z"
   },
   {
    "duration": 9,
    "start_time": "2022-03-24T13:27:03.110Z"
   },
   {
    "duration": 8,
    "start_time": "2022-03-24T13:27:10.001Z"
   },
   {
    "duration": 156,
    "start_time": "2022-03-24T13:27:26.340Z"
   },
   {
    "duration": 9,
    "start_time": "2022-03-24T13:27:31.827Z"
   },
   {
    "duration": 1724,
    "start_time": "2022-03-24T13:35:03.464Z"
   },
   {
    "duration": 4,
    "start_time": "2022-03-24T13:35:05.190Z"
   },
   {
    "duration": 9,
    "start_time": "2022-03-24T13:35:05.196Z"
   },
   {
    "duration": 5,
    "start_time": "2022-03-24T13:35:05.207Z"
   },
   {
    "duration": 8,
    "start_time": "2022-03-24T13:35:05.215Z"
   },
   {
    "duration": 138,
    "start_time": "2022-03-24T13:35:05.224Z"
   },
   {
    "duration": 116,
    "start_time": "2022-03-24T13:35:05.364Z"
   },
   {
    "duration": 117,
    "start_time": "2022-03-24T13:35:05.482Z"
   },
   {
    "duration": 85,
    "start_time": "2022-03-24T13:35:05.601Z"
   },
   {
    "duration": 54,
    "start_time": "2022-03-24T13:35:05.687Z"
   },
   {
    "duration": 472,
    "start_time": "2022-03-24T13:35:05.743Z"
   },
   {
    "duration": 78,
    "start_time": "2022-03-24T13:35:06.217Z"
   },
   {
    "duration": 72,
    "start_time": "2022-03-24T13:35:06.297Z"
   },
   {
    "duration": 8,
    "start_time": "2022-03-24T13:35:06.372Z"
   },
   {
    "duration": 464,
    "start_time": "2022-03-24T13:35:06.381Z"
   },
   {
    "duration": 69,
    "start_time": "2022-03-24T13:35:06.847Z"
   },
   {
    "duration": 61,
    "start_time": "2022-03-24T13:35:06.918Z"
   },
   {
    "duration": 552,
    "start_time": "2022-03-24T13:35:06.981Z"
   },
   {
    "duration": 5,
    "start_time": "2022-03-24T13:35:07.535Z"
   },
   {
    "duration": 238,
    "start_time": "2022-03-24T13:35:07.542Z"
   },
   {
    "duration": 32,
    "start_time": "2022-03-24T13:35:07.781Z"
   },
   {
    "duration": 326,
    "start_time": "2022-03-24T13:35:07.815Z"
   },
   {
    "duration": 402,
    "start_time": "2022-03-24T13:35:08.144Z"
   },
   {
    "duration": 690,
    "start_time": "2022-03-24T13:35:08.551Z"
   },
   {
    "duration": 92,
    "start_time": "2022-03-24T13:35:09.248Z"
   },
   {
    "duration": 8,
    "start_time": "2022-03-24T13:35:09.342Z"
   },
   {
    "duration": 6,
    "start_time": "2022-03-24T13:35:09.352Z"
   },
   {
    "duration": 20,
    "start_time": "2022-03-24T13:35:09.359Z"
   },
   {
    "duration": 7,
    "start_time": "2022-03-24T13:35:09.380Z"
   },
   {
    "duration": 7,
    "start_time": "2022-03-24T13:35:09.389Z"
   },
   {
    "duration": 15,
    "start_time": "2022-03-24T13:35:09.398Z"
   },
   {
    "duration": 940,
    "start_time": "2022-03-24T13:35:09.414Z"
   },
   {
    "duration": 8,
    "start_time": "2022-03-24T13:35:10.357Z"
   },
   {
    "duration": 910,
    "start_time": "2022-03-24T13:35:10.366Z"
   },
   {
    "duration": 9,
    "start_time": "2022-03-24T13:35:11.277Z"
   },
   {
    "duration": 914,
    "start_time": "2022-03-24T13:35:11.287Z"
   },
   {
    "duration": 168,
    "start_time": "2022-03-24T13:41:59.018Z"
   },
   {
    "duration": 119,
    "start_time": "2022-03-24T13:42:17.279Z"
   },
   {
    "duration": 140,
    "start_time": "2022-03-24T13:42:23.713Z"
   },
   {
    "duration": 128,
    "start_time": "2022-03-24T13:42:48.291Z"
   },
   {
    "duration": 6,
    "start_time": "2022-03-24T13:43:05.674Z"
   },
   {
    "duration": 5,
    "start_time": "2022-03-24T13:44:46.252Z"
   },
   {
    "duration": 7,
    "start_time": "2022-03-24T13:44:47.390Z"
   },
   {
    "duration": 989,
    "start_time": "2022-03-24T13:44:49.347Z"
   },
   {
    "duration": 5,
    "start_time": "2022-03-24T13:45:12.909Z"
   },
   {
    "duration": 8,
    "start_time": "2022-03-24T13:45:13.495Z"
   },
   {
    "duration": 901,
    "start_time": "2022-03-24T13:45:13.665Z"
   },
   {
    "duration": 5,
    "start_time": "2022-03-24T13:46:18.691Z"
   },
   {
    "duration": 8,
    "start_time": "2022-03-24T13:46:19.276Z"
   },
   {
    "duration": 918,
    "start_time": "2022-03-24T13:46:19.457Z"
   },
   {
    "duration": 7,
    "start_time": "2022-03-24T13:46:20.377Z"
   },
   {
    "duration": 929,
    "start_time": "2022-03-24T13:46:20.385Z"
   },
   {
    "duration": 8,
    "start_time": "2022-03-24T13:46:23.936Z"
   },
   {
    "duration": 900,
    "start_time": "2022-03-24T13:46:24.115Z"
   },
   {
    "duration": 135,
    "start_time": "2022-03-24T13:49:06.988Z"
   },
   {
    "duration": 141,
    "start_time": "2022-03-24T13:49:19.574Z"
   },
   {
    "duration": 118,
    "start_time": "2022-03-24T13:49:25.806Z"
   },
   {
    "duration": 119,
    "start_time": "2022-03-24T13:49:42.411Z"
   },
   {
    "duration": 5,
    "start_time": "2022-03-24T13:49:54.455Z"
   },
   {
    "duration": 131,
    "start_time": "2022-03-24T13:50:01.531Z"
   },
   {
    "duration": 4,
    "start_time": "2022-03-24T13:50:12.751Z"
   },
   {
    "duration": 129,
    "start_time": "2022-03-24T13:50:13.381Z"
   },
   {
    "duration": 9,
    "start_time": "2022-03-24T13:50:14.433Z"
   },
   {
    "duration": 959,
    "start_time": "2022-03-24T13:50:14.743Z"
   },
   {
    "duration": 1475,
    "start_time": "2022-03-24T13:50:24.146Z"
   },
   {
    "duration": 4,
    "start_time": "2022-03-24T13:50:25.623Z"
   },
   {
    "duration": 13,
    "start_time": "2022-03-24T13:50:25.628Z"
   },
   {
    "duration": 11,
    "start_time": "2022-03-24T13:50:25.642Z"
   },
   {
    "duration": 10,
    "start_time": "2022-03-24T13:50:25.655Z"
   },
   {
    "duration": 152,
    "start_time": "2022-03-24T13:50:25.667Z"
   },
   {
    "duration": 113,
    "start_time": "2022-03-24T13:50:25.821Z"
   },
   {
    "duration": 121,
    "start_time": "2022-03-24T13:50:25.936Z"
   },
   {
    "duration": 86,
    "start_time": "2022-03-24T13:50:26.059Z"
   },
   {
    "duration": 48,
    "start_time": "2022-03-24T13:50:26.146Z"
   },
   {
    "duration": 460,
    "start_time": "2022-03-24T13:50:26.196Z"
   },
   {
    "duration": 62,
    "start_time": "2022-03-24T13:50:26.658Z"
   },
   {
    "duration": 48,
    "start_time": "2022-03-24T13:50:26.737Z"
   },
   {
    "duration": 7,
    "start_time": "2022-03-24T13:50:26.788Z"
   },
   {
    "duration": 458,
    "start_time": "2022-03-24T13:50:26.796Z"
   },
   {
    "duration": 67,
    "start_time": "2022-03-24T13:50:27.255Z"
   },
   {
    "duration": 43,
    "start_time": "2022-03-24T13:50:27.338Z"
   },
   {
    "duration": 499,
    "start_time": "2022-03-24T13:50:27.383Z"
   },
   {
    "duration": 4,
    "start_time": "2022-03-24T13:50:27.884Z"
   },
   {
    "duration": 220,
    "start_time": "2022-03-24T13:50:27.890Z"
   },
   {
    "duration": 39,
    "start_time": "2022-03-24T13:50:28.112Z"
   },
   {
    "duration": 392,
    "start_time": "2022-03-24T13:50:28.153Z"
   },
   {
    "duration": 605,
    "start_time": "2022-03-24T13:50:28.637Z"
   },
   {
    "duration": 597,
    "start_time": "2022-03-24T13:50:29.244Z"
   },
   {
    "duration": 3,
    "start_time": "2022-03-24T13:50:29.843Z"
   },
   {
    "duration": 113,
    "start_time": "2022-03-24T13:50:29.849Z"
   },
   {
    "duration": 4,
    "start_time": "2022-03-24T13:50:30.037Z"
   },
   {
    "duration": 26,
    "start_time": "2022-03-24T13:50:30.043Z"
   },
   {
    "duration": 3,
    "start_time": "2022-03-24T13:50:30.071Z"
   },
   {
    "duration": 356,
    "start_time": "2022-03-24T13:50:30.076Z"
   },
   {
    "duration": 0,
    "start_time": "2022-03-24T13:50:30.434Z"
   },
   {
    "duration": 0,
    "start_time": "2022-03-24T13:50:30.435Z"
   },
   {
    "duration": 0,
    "start_time": "2022-03-24T13:50:30.436Z"
   },
   {
    "duration": 0,
    "start_time": "2022-03-24T13:50:30.437Z"
   },
   {
    "duration": 0,
    "start_time": "2022-03-24T13:50:30.438Z"
   },
   {
    "duration": 0,
    "start_time": "2022-03-24T13:50:30.439Z"
   },
   {
    "duration": 153,
    "start_time": "2022-03-24T13:50:54.876Z"
   },
   {
    "duration": 260,
    "start_time": "2022-03-24T13:51:00.317Z"
   },
   {
    "duration": 121,
    "start_time": "2022-03-24T13:51:07.095Z"
   },
   {
    "duration": 5,
    "start_time": "2022-03-24T13:51:24.280Z"
   },
   {
    "duration": 8,
    "start_time": "2022-03-24T13:51:26.207Z"
   },
   {
    "duration": 893,
    "start_time": "2022-03-24T13:51:26.507Z"
   },
   {
    "duration": 113,
    "start_time": "2022-03-24T13:51:31.328Z"
   },
   {
    "duration": 5,
    "start_time": "2022-03-24T13:51:48.183Z"
   },
   {
    "duration": 5,
    "start_time": "2022-03-24T13:51:57.503Z"
   },
   {
    "duration": 8,
    "start_time": "2022-03-24T13:51:58.466Z"
   },
   {
    "duration": 909,
    "start_time": "2022-03-24T13:51:58.857Z"
   },
   {
    "duration": 7,
    "start_time": "2022-03-24T13:52:05.907Z"
   },
   {
    "duration": 903,
    "start_time": "2022-03-24T13:52:06.107Z"
   },
   {
    "duration": 9,
    "start_time": "2022-03-24T13:52:09.135Z"
   },
   {
    "duration": 925,
    "start_time": "2022-03-24T13:52:09.337Z"
   },
   {
    "duration": 6,
    "start_time": "2022-03-24T13:52:26.232Z"
   },
   {
    "duration": 8,
    "start_time": "2022-03-24T13:52:26.840Z"
   },
   {
    "duration": 890,
    "start_time": "2022-03-24T13:52:27.027Z"
   },
   {
    "duration": 7,
    "start_time": "2022-03-24T13:52:29.607Z"
   },
   {
    "duration": 905,
    "start_time": "2022-03-24T13:52:29.817Z"
   },
   {
    "duration": 8,
    "start_time": "2022-03-24T13:52:30.937Z"
   },
   {
    "duration": 899,
    "start_time": "2022-03-24T13:52:33.377Z"
   },
   {
    "duration": 6,
    "start_time": "2022-03-24T13:52:48.076Z"
   },
   {
    "duration": 8,
    "start_time": "2022-03-24T13:52:48.867Z"
   },
   {
    "duration": 874,
    "start_time": "2022-03-24T13:52:49.047Z"
   },
   {
    "duration": 15,
    "start_time": "2022-03-24T13:52:49.924Z"
   },
   {
    "duration": 878,
    "start_time": "2022-03-24T13:52:50.048Z"
   },
   {
    "duration": 12,
    "start_time": "2022-03-24T13:52:50.928Z"
   },
   {
    "duration": 878,
    "start_time": "2022-03-24T13:52:53.707Z"
   },
   {
    "duration": 5,
    "start_time": "2022-03-24T13:53:08.717Z"
   },
   {
    "duration": 8,
    "start_time": "2022-03-24T13:53:09.457Z"
   },
   {
    "duration": 889,
    "start_time": "2022-03-24T13:53:09.646Z"
   },
   {
    "duration": 8,
    "start_time": "2022-03-24T13:53:11.627Z"
   },
   {
    "duration": 940,
    "start_time": "2022-03-24T13:53:11.867Z"
   },
   {
    "duration": 8,
    "start_time": "2022-03-24T13:53:12.810Z"
   },
   {
    "duration": 5,
    "start_time": "2022-03-24T13:53:41.412Z"
   },
   {
    "duration": 8,
    "start_time": "2022-03-24T13:53:42.233Z"
   },
   {
    "duration": 880,
    "start_time": "2022-03-24T13:53:42.473Z"
   },
   {
    "duration": 7,
    "start_time": "2022-03-24T13:53:44.752Z"
   },
   {
    "duration": 885,
    "start_time": "2022-03-24T13:53:44.920Z"
   },
   {
    "duration": 7,
    "start_time": "2022-03-24T13:53:45.807Z"
   },
   {
    "duration": 881,
    "start_time": "2022-03-24T13:53:46.251Z"
   },
   {
    "duration": 3,
    "start_time": "2022-03-24T13:53:55.303Z"
   },
   {
    "duration": 3,
    "start_time": "2022-03-24T13:53:55.792Z"
   },
   {
    "duration": 3,
    "start_time": "2022-03-24T13:53:55.971Z"
   },
   {
    "duration": 11,
    "start_time": "2022-03-24T13:53:56.332Z"
   },
   {
    "duration": 4,
    "start_time": "2022-03-24T13:53:57.017Z"
   },
   {
    "duration": 5,
    "start_time": "2022-03-24T13:53:57.421Z"
   },
   {
    "duration": 7,
    "start_time": "2022-03-24T13:53:57.793Z"
   },
   {
    "duration": 901,
    "start_time": "2022-03-24T13:53:58.313Z"
   },
   {
    "duration": 8,
    "start_time": "2022-03-24T13:53:59.216Z"
   },
   {
    "duration": 942,
    "start_time": "2022-03-24T13:53:59.225Z"
   },
   {
    "duration": 9,
    "start_time": "2022-03-24T13:54:00.170Z"
   },
   {
    "duration": 904,
    "start_time": "2022-03-24T13:54:00.180Z"
   },
   {
    "duration": 5,
    "start_time": "2022-03-24T13:54:55.690Z"
   },
   {
    "duration": 5,
    "start_time": "2022-03-24T13:55:11.547Z"
   },
   {
    "duration": 8,
    "start_time": "2022-03-24T13:55:12.543Z"
   },
   {
    "duration": 904,
    "start_time": "2022-03-24T13:55:13.623Z"
   },
   {
    "duration": 1550,
    "start_time": "2022-03-24T13:55:30.863Z"
   },
   {
    "duration": 3,
    "start_time": "2022-03-24T13:55:32.415Z"
   },
   {
    "duration": 8,
    "start_time": "2022-03-24T13:55:32.420Z"
   },
   {
    "duration": 10,
    "start_time": "2022-03-24T13:55:32.429Z"
   },
   {
    "duration": 7,
    "start_time": "2022-03-24T13:55:32.441Z"
   },
   {
    "duration": 145,
    "start_time": "2022-03-24T13:55:32.449Z"
   },
   {
    "duration": 145,
    "start_time": "2022-03-24T13:55:32.596Z"
   },
   {
    "duration": 118,
    "start_time": "2022-03-24T13:55:32.743Z"
   },
   {
    "duration": 84,
    "start_time": "2022-03-24T13:55:32.862Z"
   },
   {
    "duration": 44,
    "start_time": "2022-03-24T13:55:32.948Z"
   },
   {
    "duration": 469,
    "start_time": "2022-03-24T13:55:32.994Z"
   },
   {
    "duration": 76,
    "start_time": "2022-03-24T13:55:33.465Z"
   },
   {
    "duration": 45,
    "start_time": "2022-03-24T13:55:33.542Z"
   },
   {
    "duration": 6,
    "start_time": "2022-03-24T13:55:33.590Z"
   },
   {
    "duration": 459,
    "start_time": "2022-03-24T13:55:33.598Z"
   },
   {
    "duration": 80,
    "start_time": "2022-03-24T13:55:34.059Z"
   },
   {
    "duration": 43,
    "start_time": "2022-03-24T13:55:34.140Z"
   },
   {
    "duration": 504,
    "start_time": "2022-03-24T13:55:34.184Z"
   },
   {
    "duration": 4,
    "start_time": "2022-03-24T13:55:34.690Z"
   },
   {
    "duration": 219,
    "start_time": "2022-03-24T13:55:34.696Z"
   },
   {
    "duration": 46,
    "start_time": "2022-03-24T13:55:34.917Z"
   },
   {
    "duration": 474,
    "start_time": "2022-03-24T13:55:34.964Z"
   },
   {
    "duration": 502,
    "start_time": "2022-03-24T13:55:35.440Z"
   },
   {
    "duration": 598,
    "start_time": "2022-03-24T13:55:35.944Z"
   },
   {
    "duration": 94,
    "start_time": "2022-03-24T13:55:36.544Z"
   },
   {
    "duration": 12,
    "start_time": "2022-03-24T13:55:36.640Z"
   },
   {
    "duration": 86,
    "start_time": "2022-03-24T13:55:36.654Z"
   },
   {
    "duration": 14,
    "start_time": "2022-03-24T13:55:36.741Z"
   },
   {
    "duration": 3,
    "start_time": "2022-03-24T13:55:36.756Z"
   },
   {
    "duration": 6,
    "start_time": "2022-03-24T13:55:36.761Z"
   },
   {
    "duration": 5,
    "start_time": "2022-03-24T13:55:36.769Z"
   },
   {
    "duration": 13,
    "start_time": "2022-03-24T13:55:36.776Z"
   },
   {
    "duration": 912,
    "start_time": "2022-03-24T13:55:36.790Z"
   },
   {
    "duration": 6,
    "start_time": "2022-03-24T13:55:37.704Z"
   },
   {
    "duration": 887,
    "start_time": "2022-03-24T13:55:37.712Z"
   },
   {
    "duration": 7,
    "start_time": "2022-03-24T13:55:38.600Z"
   },
   {
    "duration": 869,
    "start_time": "2022-03-24T13:55:38.609Z"
   },
   {
    "duration": 3,
    "start_time": "2022-03-24T13:56:43.311Z"
   },
   {
    "duration": 2,
    "start_time": "2022-03-24T13:56:43.931Z"
   },
   {
    "duration": 4,
    "start_time": "2022-03-24T13:56:44.111Z"
   },
   {
    "duration": 12,
    "start_time": "2022-03-24T13:56:44.788Z"
   },
   {
    "duration": 3,
    "start_time": "2022-03-24T13:56:45.911Z"
   },
   {
    "duration": 5,
    "start_time": "2022-03-24T13:56:46.412Z"
   },
   {
    "duration": 7,
    "start_time": "2022-03-24T13:56:47.416Z"
   },
   {
    "duration": 897,
    "start_time": "2022-03-24T13:56:47.624Z"
   },
   {
    "duration": 8,
    "start_time": "2022-03-24T13:56:48.523Z"
   },
   {
    "duration": 900,
    "start_time": "2022-03-24T13:56:48.537Z"
   },
   {
    "duration": 7,
    "start_time": "2022-03-24T13:56:49.439Z"
   },
   {
    "duration": 885,
    "start_time": "2022-03-24T13:56:49.448Z"
   },
   {
    "duration": 5,
    "start_time": "2022-03-24T13:57:41.151Z"
   },
   {
    "duration": 8,
    "start_time": "2022-03-24T13:57:42.112Z"
   },
   {
    "duration": 886,
    "start_time": "2022-03-24T13:57:42.473Z"
   },
   {
    "duration": 9,
    "start_time": "2022-03-24T13:57:45.224Z"
   },
   {
    "duration": 970,
    "start_time": "2022-03-24T13:57:45.632Z"
   },
   {
    "duration": 8,
    "start_time": "2022-03-24T13:57:52.553Z"
   },
   {
    "duration": 871,
    "start_time": "2022-03-24T13:57:52.744Z"
   },
   {
    "duration": 6,
    "start_time": "2022-03-24T13:59:19.451Z"
   },
   {
    "duration": 8,
    "start_time": "2022-03-24T13:59:19.873Z"
   },
   {
    "duration": 879,
    "start_time": "2022-03-24T13:59:20.033Z"
   },
   {
    "duration": 4,
    "start_time": "2022-03-24T13:59:51.993Z"
   },
   {
    "duration": 5,
    "start_time": "2022-03-24T14:01:21.610Z"
   },
   {
    "duration": 4,
    "start_time": "2022-03-24T14:01:22.368Z"
   },
   {
    "duration": 7,
    "start_time": "2022-03-24T14:01:23.242Z"
   },
   {
    "duration": 858,
    "start_time": "2022-03-24T14:01:23.408Z"
   },
   {
    "duration": 5,
    "start_time": "2022-03-24T14:01:56.408Z"
   },
   {
    "duration": 4,
    "start_time": "2022-03-24T14:01:57.418Z"
   },
   {
    "duration": 8,
    "start_time": "2022-03-24T14:01:57.788Z"
   },
   {
    "duration": 865,
    "start_time": "2022-03-24T14:01:57.959Z"
   },
   {
    "duration": 6,
    "start_time": "2022-03-24T14:02:29.147Z"
   },
   {
    "duration": 5,
    "start_time": "2022-03-24T14:02:33.048Z"
   },
   {
    "duration": 4,
    "start_time": "2022-03-24T14:02:33.869Z"
   },
   {
    "duration": 7,
    "start_time": "2022-03-24T14:02:34.247Z"
   },
   {
    "duration": 862,
    "start_time": "2022-03-24T14:02:35.046Z"
   },
   {
    "duration": 6,
    "start_time": "2022-03-24T14:03:05.317Z"
   },
   {
    "duration": 4,
    "start_time": "2022-03-24T14:03:06.314Z"
   },
   {
    "duration": 7,
    "start_time": "2022-03-24T14:03:06.739Z"
   },
   {
    "duration": 876,
    "start_time": "2022-03-24T14:03:06.974Z"
   },
   {
    "duration": 7,
    "start_time": "2022-03-24T14:03:10.229Z"
   },
   {
    "duration": 870,
    "start_time": "2022-03-24T14:03:10.439Z"
   },
   {
    "duration": 8,
    "start_time": "2022-03-24T14:03:12.148Z"
   },
   {
    "duration": 874,
    "start_time": "2022-03-24T14:03:12.379Z"
   },
   {
    "duration": 3,
    "start_time": "2022-03-24T14:03:51.858Z"
   },
   {
    "duration": 3,
    "start_time": "2022-03-24T14:03:52.758Z"
   },
   {
    "duration": 4,
    "start_time": "2022-03-24T14:03:52.946Z"
   },
   {
    "duration": 13,
    "start_time": "2022-03-24T14:03:53.286Z"
   },
   {
    "duration": 4,
    "start_time": "2022-03-24T14:03:53.806Z"
   },
   {
    "duration": 6,
    "start_time": "2022-03-24T14:03:54.186Z"
   },
   {
    "duration": 8,
    "start_time": "2022-03-24T14:03:54.548Z"
   },
   {
    "duration": 894,
    "start_time": "2022-03-24T14:03:55.138Z"
   },
   {
    "duration": 9,
    "start_time": "2022-03-24T14:03:56.037Z"
   },
   {
    "duration": 906,
    "start_time": "2022-03-24T14:03:56.669Z"
   },
   {
    "duration": 8,
    "start_time": "2022-03-24T14:03:57.578Z"
   },
   {
    "duration": 885,
    "start_time": "2022-03-24T14:03:57.588Z"
   },
   {
    "duration": 6,
    "start_time": "2022-03-24T14:04:16.346Z"
   },
   {
    "duration": 7,
    "start_time": "2022-03-24T14:04:17.239Z"
   },
   {
    "duration": 877,
    "start_time": "2022-03-24T14:04:17.418Z"
   },
   {
    "duration": 7,
    "start_time": "2022-03-24T14:04:19.687Z"
   },
   {
    "duration": 867,
    "start_time": "2022-03-24T14:04:19.927Z"
   },
   {
    "duration": 8,
    "start_time": "2022-03-24T14:04:20.818Z"
   },
   {
    "duration": 893,
    "start_time": "2022-03-24T14:04:25.298Z"
   },
   {
    "duration": 5,
    "start_time": "2022-03-24T14:05:09.267Z"
   },
   {
    "duration": 8,
    "start_time": "2022-03-24T14:05:09.829Z"
   },
   {
    "duration": 890,
    "start_time": "2022-03-24T14:05:09.967Z"
   },
   {
    "duration": 6,
    "start_time": "2022-03-24T14:05:10.859Z"
   },
   {
    "duration": 878,
    "start_time": "2022-03-24T14:05:10.867Z"
   },
   {
    "duration": 7,
    "start_time": "2022-03-24T14:05:11.747Z"
   },
   {
    "duration": 882,
    "start_time": "2022-03-24T14:05:11.755Z"
   },
   {
    "duration": 6,
    "start_time": "2022-03-24T14:05:31.146Z"
   },
   {
    "duration": 8,
    "start_time": "2022-03-24T14:05:31.829Z"
   },
   {
    "duration": 990,
    "start_time": "2022-03-24T14:05:32.002Z"
   },
   {
    "duration": 7,
    "start_time": "2022-03-24T14:05:33.660Z"
   },
   {
    "duration": 886,
    "start_time": "2022-03-24T14:05:33.669Z"
   },
   {
    "duration": 6,
    "start_time": "2022-03-24T14:05:34.557Z"
   },
   {
    "duration": 887,
    "start_time": "2022-03-24T14:05:34.564Z"
   },
   {
    "duration": 1480,
    "start_time": "2022-03-24T14:07:05.633Z"
   },
   {
    "duration": 3,
    "start_time": "2022-03-24T14:07:07.115Z"
   },
   {
    "duration": 12,
    "start_time": "2022-03-24T14:07:07.119Z"
   },
   {
    "duration": 8,
    "start_time": "2022-03-24T14:07:07.132Z"
   },
   {
    "duration": 4,
    "start_time": "2022-03-24T14:07:07.143Z"
   },
   {
    "duration": 129,
    "start_time": "2022-03-24T14:07:07.149Z"
   },
   {
    "duration": 110,
    "start_time": "2022-03-24T14:07:07.280Z"
   },
   {
    "duration": 118,
    "start_time": "2022-03-24T14:07:07.392Z"
   },
   {
    "duration": 78,
    "start_time": "2022-03-24T14:07:07.512Z"
   },
   {
    "duration": 64,
    "start_time": "2022-03-24T14:07:07.593Z"
   },
   {
    "duration": 467,
    "start_time": "2022-03-24T14:07:07.659Z"
   },
   {
    "duration": 74,
    "start_time": "2022-03-24T14:07:08.128Z"
   },
   {
    "duration": 64,
    "start_time": "2022-03-24T14:07:08.204Z"
   },
   {
    "duration": 9,
    "start_time": "2022-03-24T14:07:08.272Z"
   },
   {
    "duration": 447,
    "start_time": "2022-03-24T14:07:08.282Z"
   },
   {
    "duration": 66,
    "start_time": "2022-03-24T14:07:08.730Z"
   },
   {
    "duration": 62,
    "start_time": "2022-03-24T14:07:08.798Z"
   },
   {
    "duration": 513,
    "start_time": "2022-03-24T14:07:08.862Z"
   },
   {
    "duration": 4,
    "start_time": "2022-03-24T14:07:09.377Z"
   },
   {
    "duration": 219,
    "start_time": "2022-03-24T14:07:09.383Z"
   },
   {
    "duration": 42,
    "start_time": "2022-03-24T14:07:09.603Z"
   },
   {
    "duration": 495,
    "start_time": "2022-03-24T14:07:09.647Z"
   },
   {
    "duration": 595,
    "start_time": "2022-03-24T14:07:10.144Z"
   },
   {
    "duration": 500,
    "start_time": "2022-03-24T14:07:10.742Z"
   },
   {
    "duration": 93,
    "start_time": "2022-03-24T14:07:11.244Z"
   },
   {
    "duration": 4,
    "start_time": "2022-03-24T14:07:11.339Z"
   },
   {
    "duration": 6,
    "start_time": "2022-03-24T14:07:11.344Z"
   },
   {
    "duration": 87,
    "start_time": "2022-03-24T14:07:11.352Z"
   },
   {
    "duration": 4,
    "start_time": "2022-03-24T14:07:11.440Z"
   },
   {
    "duration": 9,
    "start_time": "2022-03-24T14:07:11.445Z"
   },
   {
    "duration": 17,
    "start_time": "2022-03-24T14:07:11.455Z"
   },
   {
    "duration": 921,
    "start_time": "2022-03-24T14:07:11.474Z"
   },
   {
    "duration": 7,
    "start_time": "2022-03-24T14:07:12.396Z"
   },
   {
    "duration": 885,
    "start_time": "2022-03-24T14:07:12.405Z"
   },
   {
    "duration": 8,
    "start_time": "2022-03-24T14:07:13.291Z"
   },
   {
    "duration": 910,
    "start_time": "2022-03-24T14:07:13.300Z"
   },
   {
    "duration": 15,
    "start_time": "2022-03-24T14:11:29.866Z"
   },
   {
    "duration": 1403,
    "start_time": "2022-03-24T14:13:37.401Z"
   },
   {
    "duration": 4,
    "start_time": "2022-03-24T14:13:38.806Z"
   },
   {
    "duration": 9,
    "start_time": "2022-03-24T14:13:38.812Z"
   },
   {
    "duration": 5,
    "start_time": "2022-03-24T14:13:38.822Z"
   },
   {
    "duration": 9,
    "start_time": "2022-03-24T14:13:38.830Z"
   },
   {
    "duration": 130,
    "start_time": "2022-03-24T14:13:38.840Z"
   },
   {
    "duration": 112,
    "start_time": "2022-03-24T14:13:38.972Z"
   },
   {
    "duration": 114,
    "start_time": "2022-03-24T14:13:39.087Z"
   },
   {
    "duration": 78,
    "start_time": "2022-03-24T14:13:39.203Z"
   },
   {
    "duration": 61,
    "start_time": "2022-03-24T14:13:39.283Z"
   },
   {
    "duration": 465,
    "start_time": "2022-03-24T14:13:39.345Z"
   },
   {
    "duration": 77,
    "start_time": "2022-03-24T14:13:39.812Z"
   },
   {
    "duration": 69,
    "start_time": "2022-03-24T14:13:39.891Z"
   },
   {
    "duration": 7,
    "start_time": "2022-03-24T14:13:39.963Z"
   },
   {
    "duration": 444,
    "start_time": "2022-03-24T14:13:39.971Z"
   },
   {
    "duration": 67,
    "start_time": "2022-03-24T14:13:40.417Z"
   },
   {
    "duration": 61,
    "start_time": "2022-03-24T14:13:40.486Z"
   },
   {
    "duration": 501,
    "start_time": "2022-03-24T14:13:40.549Z"
   },
   {
    "duration": 5,
    "start_time": "2022-03-24T14:13:41.053Z"
   },
   {
    "duration": 224,
    "start_time": "2022-03-24T14:13:41.059Z"
   },
   {
    "duration": 32,
    "start_time": "2022-03-24T14:13:41.285Z"
   },
   {
    "duration": 329,
    "start_time": "2022-03-24T14:13:41.318Z"
   },
   {
    "duration": 596,
    "start_time": "2022-03-24T14:13:41.649Z"
   },
   {
    "duration": 594,
    "start_time": "2022-03-24T14:13:42.248Z"
   },
   {
    "duration": 93,
    "start_time": "2022-03-24T14:13:42.845Z"
   },
   {
    "duration": 7,
    "start_time": "2022-03-24T14:13:42.940Z"
   },
   {
    "duration": 7,
    "start_time": "2022-03-24T14:13:42.948Z"
   },
   {
    "duration": 89,
    "start_time": "2022-03-24T14:13:42.957Z"
   },
   {
    "duration": 5,
    "start_time": "2022-03-24T14:13:43.048Z"
   },
   {
    "duration": 6,
    "start_time": "2022-03-24T14:13:43.054Z"
   },
   {
    "duration": 9,
    "start_time": "2022-03-24T14:13:43.062Z"
   },
   {
    "duration": 905,
    "start_time": "2022-03-24T14:13:43.073Z"
   },
   {
    "duration": 7,
    "start_time": "2022-03-24T14:13:43.979Z"
   },
   {
    "duration": 897,
    "start_time": "2022-03-24T14:13:43.988Z"
   },
   {
    "duration": 8,
    "start_time": "2022-03-24T14:13:44.886Z"
   },
   {
    "duration": 897,
    "start_time": "2022-03-24T14:13:44.895Z"
   },
   {
    "duration": 1397,
    "start_time": "2022-03-24T14:13:55.490Z"
   },
   {
    "duration": 4,
    "start_time": "2022-03-24T14:13:56.889Z"
   },
   {
    "duration": 7,
    "start_time": "2022-03-24T14:13:56.895Z"
   },
   {
    "duration": 5,
    "start_time": "2022-03-24T14:13:56.904Z"
   },
   {
    "duration": 6,
    "start_time": "2022-03-24T14:13:56.910Z"
   },
   {
    "duration": 132,
    "start_time": "2022-03-24T14:13:56.917Z"
   },
   {
    "duration": 113,
    "start_time": "2022-03-24T14:13:57.051Z"
   },
   {
    "duration": 113,
    "start_time": "2022-03-24T14:13:57.166Z"
   },
   {
    "duration": 71,
    "start_time": "2022-03-24T14:13:57.915Z"
   },
   {
    "duration": 47,
    "start_time": "2022-03-24T14:13:58.914Z"
   },
   {
    "duration": 451,
    "start_time": "2022-03-24T14:14:00.353Z"
   },
   {
    "duration": 73,
    "start_time": "2022-03-24T14:14:03.063Z"
   },
   {
    "duration": 45,
    "start_time": "2022-03-24T14:14:06.053Z"
   },
   {
    "duration": 443,
    "start_time": "2022-03-24T14:14:08.594Z"
   },
   {
    "duration": 63,
    "start_time": "2022-03-24T14:14:10.734Z"
   },
   {
    "duration": 46,
    "start_time": "2022-03-24T14:14:12.664Z"
   },
   {
    "duration": 499,
    "start_time": "2022-03-24T14:14:17.423Z"
   },
   {
    "duration": 35,
    "start_time": "2022-03-24T14:14:22.662Z"
   },
   {
    "duration": 502,
    "start_time": "2022-03-24T14:14:24.040Z"
   },
   {
    "duration": 336,
    "start_time": "2022-03-24T14:14:28.406Z"
   },
   {
    "duration": 450,
    "start_time": "2022-03-24T14:14:33.092Z"
   },
   {
    "duration": 3,
    "start_time": "2022-03-24T14:14:42.634Z"
   },
   {
    "duration": 4,
    "start_time": "2022-03-24T14:14:43.463Z"
   },
   {
    "duration": 4,
    "start_time": "2022-03-24T14:14:43.713Z"
   },
   {
    "duration": 11,
    "start_time": "2022-03-24T14:14:45.286Z"
   },
   {
    "duration": 4,
    "start_time": "2022-03-24T14:14:51.322Z"
   },
   {
    "duration": 5,
    "start_time": "2022-03-24T14:14:52.920Z"
   },
   {
    "duration": 8,
    "start_time": "2022-03-24T14:14:54.255Z"
   },
   {
    "duration": 880,
    "start_time": "2022-03-24T14:14:54.433Z"
   },
   {
    "duration": 7,
    "start_time": "2022-03-24T14:14:58.254Z"
   },
   {
    "duration": 863,
    "start_time": "2022-03-24T14:14:58.433Z"
   },
   {
    "duration": 10,
    "start_time": "2022-03-24T14:15:00.902Z"
   },
   {
    "duration": 911,
    "start_time": "2022-03-24T14:15:01.063Z"
   },
   {
    "duration": 8,
    "start_time": "2022-03-24T14:15:29.454Z"
   },
   {
    "duration": 31,
    "start_time": "2022-03-24T14:15:58.742Z"
   },
   {
    "duration": 411,
    "start_time": "2022-03-24T14:15:59.927Z"
   },
   {
    "duration": 344,
    "start_time": "2022-03-24T14:16:02.898Z"
   },
   {
    "duration": 440,
    "start_time": "2022-03-24T14:16:05.402Z"
   },
   {
    "duration": 4,
    "start_time": "2022-03-24T14:16:07.993Z"
   },
   {
    "duration": 3,
    "start_time": "2022-03-24T14:16:08.743Z"
   },
   {
    "duration": 3,
    "start_time": "2022-03-24T14:16:08.922Z"
   },
   {
    "duration": 11,
    "start_time": "2022-03-24T14:16:09.969Z"
   },
   {
    "duration": 4,
    "start_time": "2022-03-24T14:16:13.311Z"
   },
   {
    "duration": 6,
    "start_time": "2022-03-24T14:16:13.641Z"
   },
   {
    "duration": 7,
    "start_time": "2022-03-24T14:16:13.974Z"
   },
   {
    "duration": 880,
    "start_time": "2022-03-24T14:16:14.125Z"
   },
   {
    "duration": 9,
    "start_time": "2022-03-24T14:16:15.007Z"
   },
   {
    "duration": 913,
    "start_time": "2022-03-24T14:16:15.018Z"
   },
   {
    "duration": 8,
    "start_time": "2022-03-24T14:16:15.938Z"
   },
   {
    "duration": 915,
    "start_time": "2022-03-24T14:16:15.947Z"
   },
   {
    "duration": 1453,
    "start_time": "2022-03-24T14:16:40.742Z"
   },
   {
    "duration": 3,
    "start_time": "2022-03-24T14:16:42.197Z"
   },
   {
    "duration": 7,
    "start_time": "2022-03-24T14:16:42.202Z"
   },
   {
    "duration": 6,
    "start_time": "2022-03-24T14:16:42.210Z"
   },
   {
    "duration": 6,
    "start_time": "2022-03-24T14:16:42.218Z"
   },
   {
    "duration": 128,
    "start_time": "2022-03-24T14:16:42.225Z"
   },
   {
    "duration": 111,
    "start_time": "2022-03-24T14:16:42.355Z"
   },
   {
    "duration": 115,
    "start_time": "2022-03-24T14:16:42.468Z"
   },
   {
    "duration": 82,
    "start_time": "2022-03-24T14:16:42.585Z"
   },
   {
    "duration": 48,
    "start_time": "2022-03-24T14:16:42.668Z"
   },
   {
    "duration": 472,
    "start_time": "2022-03-24T14:16:42.717Z"
   },
   {
    "duration": 78,
    "start_time": "2022-03-24T14:16:43.191Z"
   },
   {
    "duration": 46,
    "start_time": "2022-03-24T14:16:43.270Z"
   },
   {
    "duration": 24,
    "start_time": "2022-03-24T14:16:43.319Z"
   },
   {
    "duration": 442,
    "start_time": "2022-03-24T14:16:43.345Z"
   },
   {
    "duration": 78,
    "start_time": "2022-03-24T14:16:43.788Z"
   },
   {
    "duration": 43,
    "start_time": "2022-03-24T14:16:43.868Z"
   },
   {
    "duration": 514,
    "start_time": "2022-03-24T14:16:43.913Z"
   },
   {
    "duration": 5,
    "start_time": "2022-03-24T14:16:44.437Z"
   },
   {
    "duration": 210,
    "start_time": "2022-03-24T14:16:44.443Z"
   },
   {
    "duration": 32,
    "start_time": "2022-03-24T14:16:44.655Z"
   },
   {
    "duration": 453,
    "start_time": "2022-03-24T14:16:44.689Z"
   },
   {
    "duration": 597,
    "start_time": "2022-03-24T14:16:45.144Z"
   },
   {
    "duration": 599,
    "start_time": "2022-03-24T14:16:45.743Z"
   },
   {
    "duration": 93,
    "start_time": "2022-03-24T14:16:46.344Z"
   },
   {
    "duration": 6,
    "start_time": "2022-03-24T14:16:46.439Z"
   },
   {
    "duration": 15,
    "start_time": "2022-03-24T14:16:46.447Z"
   },
   {
    "duration": 78,
    "start_time": "2022-03-24T14:16:46.463Z"
   },
   {
    "duration": 4,
    "start_time": "2022-03-24T14:16:46.544Z"
   },
   {
    "duration": 6,
    "start_time": "2022-03-24T14:16:46.550Z"
   },
   {
    "duration": 13,
    "start_time": "2022-03-24T14:16:46.558Z"
   },
   {
    "duration": 916,
    "start_time": "2022-03-24T14:16:46.573Z"
   },
   {
    "duration": 8,
    "start_time": "2022-03-24T14:16:47.491Z"
   },
   {
    "duration": 892,
    "start_time": "2022-03-24T14:16:47.500Z"
   },
   {
    "duration": 7,
    "start_time": "2022-03-24T14:16:48.394Z"
   },
   {
    "duration": 879,
    "start_time": "2022-03-24T14:16:48.403Z"
   },
   {
    "duration": 52,
    "start_time": "2022-03-24T14:19:33.932Z"
   },
   {
    "duration": 409,
    "start_time": "2022-03-24T14:20:00.738Z"
   },
   {
    "duration": 114,
    "start_time": "2022-03-24T14:20:59.159Z"
   },
   {
    "duration": 18,
    "start_time": "2022-03-24T14:21:00.425Z"
   },
   {
    "duration": 454,
    "start_time": "2022-03-24T14:21:06.184Z"
   },
   {
    "duration": 387,
    "start_time": "2022-03-24T14:21:11.255Z"
   },
   {
    "duration": 5,
    "start_time": "2022-03-24T14:21:33.327Z"
   },
   {
    "duration": 1473,
    "start_time": "2022-03-24T14:21:37.235Z"
   },
   {
    "duration": 4,
    "start_time": "2022-03-24T14:21:38.710Z"
   },
   {
    "duration": 8,
    "start_time": "2022-03-24T14:21:38.715Z"
   },
   {
    "duration": 11,
    "start_time": "2022-03-24T14:21:38.725Z"
   },
   {
    "duration": 5,
    "start_time": "2022-03-24T14:21:38.738Z"
   },
   {
    "duration": 122,
    "start_time": "2022-03-24T14:21:38.745Z"
   },
   {
    "duration": 112,
    "start_time": "2022-03-24T14:21:38.869Z"
   },
   {
    "duration": 121,
    "start_time": "2022-03-24T14:21:38.983Z"
   },
   {
    "duration": 73,
    "start_time": "2022-03-24T14:21:39.266Z"
   },
   {
    "duration": 46,
    "start_time": "2022-03-24T14:21:39.495Z"
   },
   {
    "duration": 449,
    "start_time": "2022-03-24T14:21:40.098Z"
   },
   {
    "duration": 64,
    "start_time": "2022-03-24T14:21:40.666Z"
   },
   {
    "duration": 48,
    "start_time": "2022-03-24T14:21:40.845Z"
   },
   {
    "duration": 8,
    "start_time": "2022-03-24T14:21:41.204Z"
   },
   {
    "duration": 449,
    "start_time": "2022-03-24T14:21:41.555Z"
   },
   {
    "duration": 65,
    "start_time": "2022-03-24T14:21:42.115Z"
   },
   {
    "duration": 47,
    "start_time": "2022-03-24T14:21:42.315Z"
   },
   {
    "duration": 498,
    "start_time": "2022-03-24T14:21:42.899Z"
   },
   {
    "duration": 4,
    "start_time": "2022-03-24T14:21:43.463Z"
   },
   {
    "duration": 203,
    "start_time": "2022-03-24T14:21:43.673Z"
   },
   {
    "duration": 234,
    "start_time": "2022-03-24T14:22:02.259Z"
   },
   {
    "duration": 1480,
    "start_time": "2022-03-24T14:22:09.947Z"
   },
   {
    "duration": 4,
    "start_time": "2022-03-24T14:22:11.428Z"
   },
   {
    "duration": 33,
    "start_time": "2022-03-24T14:22:11.434Z"
   },
   {
    "duration": 25,
    "start_time": "2022-03-24T14:22:11.469Z"
   },
   {
    "duration": 51,
    "start_time": "2022-03-24T14:22:11.496Z"
   },
   {
    "duration": 140,
    "start_time": "2022-03-24T14:22:11.550Z"
   },
   {
    "duration": 111,
    "start_time": "2022-03-24T14:22:11.691Z"
   },
   {
    "duration": 114,
    "start_time": "2022-03-24T14:22:11.804Z"
   },
   {
    "duration": 77,
    "start_time": "2022-03-24T14:22:11.920Z"
   },
   {
    "duration": 64,
    "start_time": "2022-03-24T14:22:12.000Z"
   },
   {
    "duration": 479,
    "start_time": "2022-03-24T14:22:12.065Z"
   },
   {
    "duration": 66,
    "start_time": "2022-03-24T14:22:12.546Z"
   },
   {
    "duration": 60,
    "start_time": "2022-03-24T14:22:12.614Z"
   },
   {
    "duration": 7,
    "start_time": "2022-03-24T14:22:12.676Z"
   },
   {
    "duration": 470,
    "start_time": "2022-03-24T14:22:12.685Z"
   },
   {
    "duration": 87,
    "start_time": "2022-03-24T14:22:13.157Z"
   },
   {
    "duration": 46,
    "start_time": "2022-03-24T14:22:13.246Z"
   },
   {
    "duration": 544,
    "start_time": "2022-03-24T14:22:13.293Z"
   },
   {
    "duration": 5,
    "start_time": "2022-03-24T14:22:13.839Z"
   },
   {
    "duration": 254,
    "start_time": "2022-03-24T14:22:13.845Z"
   },
   {
    "duration": 55,
    "start_time": "2022-03-24T14:22:14.101Z"
   },
   {
    "duration": 785,
    "start_time": "2022-03-24T14:22:14.159Z"
   },
   {
    "duration": 795,
    "start_time": "2022-03-24T14:22:14.947Z"
   },
   {
    "duration": 501,
    "start_time": "2022-03-24T14:22:15.744Z"
   },
   {
    "duration": 96,
    "start_time": "2022-03-24T14:22:16.247Z"
   },
   {
    "duration": 11,
    "start_time": "2022-03-24T14:22:16.437Z"
   },
   {
    "duration": 23,
    "start_time": "2022-03-24T14:22:16.450Z"
   },
   {
    "duration": 11,
    "start_time": "2022-03-24T14:22:16.477Z"
   },
   {
    "duration": 4,
    "start_time": "2022-03-24T14:22:16.490Z"
   },
   {
    "duration": 9,
    "start_time": "2022-03-24T14:22:16.496Z"
   },
   {
    "duration": 17,
    "start_time": "2022-03-24T14:22:16.506Z"
   },
   {
    "duration": 950,
    "start_time": "2022-03-24T14:22:16.524Z"
   },
   {
    "duration": 8,
    "start_time": "2022-03-24T14:22:17.475Z"
   },
   {
    "duration": 933,
    "start_time": "2022-03-24T14:22:17.485Z"
   },
   {
    "duration": 8,
    "start_time": "2022-03-24T14:22:18.419Z"
   },
   {
    "duration": 902,
    "start_time": "2022-03-24T14:22:18.437Z"
   },
   {
    "duration": 4,
    "start_time": "2022-03-24T14:44:29.639Z"
   },
   {
    "duration": 4,
    "start_time": "2022-03-24T14:44:38.288Z"
   },
   {
    "duration": 1437,
    "start_time": "2022-03-24T14:45:40.771Z"
   },
   {
    "duration": 4,
    "start_time": "2022-03-24T14:45:42.210Z"
   },
   {
    "duration": 7,
    "start_time": "2022-03-24T14:45:42.216Z"
   },
   {
    "duration": 6,
    "start_time": "2022-03-24T14:45:42.225Z"
   },
   {
    "duration": 6,
    "start_time": "2022-03-24T14:45:42.233Z"
   },
   {
    "duration": 131,
    "start_time": "2022-03-24T14:45:42.240Z"
   },
   {
    "duration": 114,
    "start_time": "2022-03-24T14:45:42.373Z"
   },
   {
    "duration": 117,
    "start_time": "2022-03-24T14:45:42.489Z"
   },
   {
    "duration": 90,
    "start_time": "2022-03-24T14:45:42.608Z"
   },
   {
    "duration": 59,
    "start_time": "2022-03-24T14:45:42.700Z"
   },
   {
    "duration": 474,
    "start_time": "2022-03-24T14:45:46.819Z"
   },
   {
    "duration": 63,
    "start_time": "2022-03-24T14:45:50.114Z"
   },
   {
    "duration": 45,
    "start_time": "2022-03-24T14:45:51.780Z"
   },
   {
    "duration": 441,
    "start_time": "2022-03-24T14:45:53.012Z"
   },
   {
    "duration": 73,
    "start_time": "2022-03-24T14:45:55.923Z"
   },
   {
    "duration": 514,
    "start_time": "2022-03-24T14:45:58.633Z"
   },
   {
    "duration": 37,
    "start_time": "2022-03-24T14:46:03.059Z"
   },
   {
    "duration": 480,
    "start_time": "2022-03-24T14:46:04.361Z"
   },
   {
    "duration": 6,
    "start_time": "2022-03-24T14:47:25.859Z"
   },
   {
    "duration": 10,
    "start_time": "2022-03-24T14:47:33.062Z"
   },
   {
    "duration": 409,
    "start_time": "2022-03-24T14:48:49.031Z"
   },
   {
    "duration": 404,
    "start_time": "2022-03-24T14:48:51.635Z"
   },
   {
    "duration": 338,
    "start_time": "2022-03-24T14:48:54.200Z"
   },
   {
    "duration": 2,
    "start_time": "2022-03-24T14:48:58.019Z"
   },
   {
    "duration": 3,
    "start_time": "2022-03-24T14:48:59.001Z"
   },
   {
    "duration": 4,
    "start_time": "2022-03-24T14:48:59.225Z"
   },
   {
    "duration": 11,
    "start_time": "2022-03-24T14:49:00.112Z"
   },
   {
    "duration": 3,
    "start_time": "2022-03-24T14:49:40.321Z"
   },
   {
    "duration": 28,
    "start_time": "2022-03-24T14:49:48.951Z"
   },
   {
    "duration": 647,
    "start_time": "2022-03-24T14:49:49.801Z"
   },
   {
    "duration": 359,
    "start_time": "2022-03-24T14:49:52.083Z"
   },
   {
    "duration": 494,
    "start_time": "2022-03-24T14:49:52.448Z"
   },
   {
    "duration": 1507,
    "start_time": "2022-03-24T14:50:09.952Z"
   },
   {
    "duration": 3,
    "start_time": "2022-03-24T14:50:11.462Z"
   },
   {
    "duration": 63,
    "start_time": "2022-03-24T14:50:11.467Z"
   },
   {
    "duration": 26,
    "start_time": "2022-03-24T14:50:11.533Z"
   },
   {
    "duration": 41,
    "start_time": "2022-03-24T14:50:11.560Z"
   },
   {
    "duration": 156,
    "start_time": "2022-03-24T14:50:11.603Z"
   },
   {
    "duration": 115,
    "start_time": "2022-03-24T14:50:11.761Z"
   },
   {
    "duration": 120,
    "start_time": "2022-03-24T14:50:11.877Z"
   },
   {
    "duration": 83,
    "start_time": "2022-03-24T14:50:11.999Z"
   },
   {
    "duration": 65,
    "start_time": "2022-03-24T14:50:12.084Z"
   },
   {
    "duration": 488,
    "start_time": "2022-03-24T14:50:12.351Z"
   },
   {
    "duration": 70,
    "start_time": "2022-03-24T14:50:12.891Z"
   },
   {
    "duration": 46,
    "start_time": "2022-03-24T14:50:13.062Z"
   },
   {
    "duration": 7,
    "start_time": "2022-03-24T14:50:13.421Z"
   },
   {
    "duration": 460,
    "start_time": "2022-03-24T14:50:13.791Z"
   },
   {
    "duration": 67,
    "start_time": "2022-03-24T14:50:14.313Z"
   },
   {
    "duration": 45,
    "start_time": "2022-03-24T14:50:14.520Z"
   },
   {
    "duration": 514,
    "start_time": "2022-03-24T14:50:15.050Z"
   },
   {
    "duration": 4,
    "start_time": "2022-03-24T14:50:15.590Z"
   },
   {
    "duration": 224,
    "start_time": "2022-03-24T14:50:15.780Z"
   },
   {
    "duration": 32,
    "start_time": "2022-03-24T14:50:16.690Z"
   },
   {
    "duration": 455,
    "start_time": "2022-03-24T14:50:17.088Z"
   },
   {
    "duration": 494,
    "start_time": "2022-03-24T14:50:17.546Z"
   },
   {
    "duration": 497,
    "start_time": "2022-03-24T14:50:18.042Z"
   },
   {
    "duration": 107,
    "start_time": "2022-03-24T14:51:29.641Z"
   },
   {
    "duration": 11,
    "start_time": "2022-03-24T14:52:19.491Z"
   },
   {
    "duration": 11,
    "start_time": "2022-03-24T14:52:25.312Z"
   },
   {
    "duration": 5,
    "start_time": "2022-03-24T14:53:14.371Z"
   },
   {
    "duration": 6,
    "start_time": "2022-03-24T14:53:19.921Z"
   },
   {
    "duration": 6,
    "start_time": "2022-03-24T14:54:00.992Z"
   },
   {
    "duration": 6,
    "start_time": "2022-03-24T14:54:08.801Z"
   },
   {
    "duration": 1495,
    "start_time": "2022-03-24T14:57:49.008Z"
   },
   {
    "duration": 4,
    "start_time": "2022-03-24T14:57:50.505Z"
   },
   {
    "duration": 22,
    "start_time": "2022-03-24T14:57:50.510Z"
   },
   {
    "duration": 4,
    "start_time": "2022-03-24T14:57:52.349Z"
   },
   {
    "duration": 5,
    "start_time": "2022-03-24T14:57:59.188Z"
   },
   {
    "duration": 1486,
    "start_time": "2022-03-24T14:58:03.766Z"
   },
   {
    "duration": 4,
    "start_time": "2022-03-24T14:58:05.254Z"
   },
   {
    "duration": 16,
    "start_time": "2022-03-24T14:58:05.259Z"
   },
   {
    "duration": 32,
    "start_time": "2022-03-24T14:58:05.278Z"
   },
   {
    "duration": 124,
    "start_time": "2022-03-24T14:58:06.429Z"
   },
   {
    "duration": 124,
    "start_time": "2022-03-24T14:58:06.619Z"
   },
   {
    "duration": 121,
    "start_time": "2022-03-24T14:58:06.788Z"
   },
   {
    "duration": 75,
    "start_time": "2022-03-24T14:58:07.279Z"
   },
   {
    "duration": 47,
    "start_time": "2022-03-24T14:58:07.438Z"
   },
   {
    "duration": 452,
    "start_time": "2022-03-24T14:58:07.919Z"
   },
   {
    "duration": 67,
    "start_time": "2022-03-24T14:58:08.449Z"
   },
   {
    "duration": 47,
    "start_time": "2022-03-24T14:58:08.639Z"
   },
   {
    "duration": 8,
    "start_time": "2022-03-24T14:58:08.978Z"
   },
   {
    "duration": 449,
    "start_time": "2022-03-24T14:58:09.350Z"
   },
   {
    "duration": 66,
    "start_time": "2022-03-24T14:58:09.876Z"
   },
   {
    "duration": 48,
    "start_time": "2022-03-24T14:58:10.031Z"
   },
   {
    "duration": 497,
    "start_time": "2022-03-24T14:58:10.608Z"
   },
   {
    "duration": 4,
    "start_time": "2022-03-24T14:58:11.797Z"
   },
   {
    "duration": 224,
    "start_time": "2022-03-24T14:58:13.317Z"
   },
   {
    "duration": 115,
    "start_time": "2022-03-24T14:58:15.827Z"
   },
   {
    "duration": 10,
    "start_time": "2022-03-24T14:59:19.517Z"
   },
   {
    "duration": 5,
    "start_time": "2022-03-24T15:00:22.457Z"
   },
   {
    "duration": 12,
    "start_time": "2022-03-24T15:00:23.417Z"
   },
   {
    "duration": 16,
    "start_time": "2022-03-24T15:00:31.496Z"
   },
   {
    "duration": 4,
    "start_time": "2022-03-24T15:00:41.800Z"
   },
   {
    "duration": 13,
    "start_time": "2022-03-24T15:00:42.365Z"
   },
   {
    "duration": 13,
    "start_time": "2022-03-24T15:01:02.437Z"
   },
   {
    "duration": 4,
    "start_time": "2022-03-24T15:02:03.667Z"
   },
   {
    "duration": 6,
    "start_time": "2022-03-24T15:02:11.696Z"
   },
   {
    "duration": 13,
    "start_time": "2022-03-24T15:02:12.287Z"
   },
   {
    "duration": 7,
    "start_time": "2022-03-24T15:02:41.388Z"
   },
   {
    "duration": 18,
    "start_time": "2022-03-24T15:02:46.938Z"
   },
   {
    "duration": 6,
    "start_time": "2022-03-24T15:03:02.904Z"
   },
   {
    "duration": 14,
    "start_time": "2022-03-24T15:03:03.477Z"
   },
   {
    "duration": 696,
    "start_time": "2022-03-24T15:03:05.646Z"
   },
   {
    "duration": 1522,
    "start_time": "2022-03-24T15:05:16.808Z"
   },
   {
    "duration": 3,
    "start_time": "2022-03-24T15:05:18.332Z"
   },
   {
    "duration": 20,
    "start_time": "2022-03-24T15:05:18.336Z"
   },
   {
    "duration": 14,
    "start_time": "2022-03-24T15:05:18.359Z"
   },
   {
    "duration": 7,
    "start_time": "2022-03-24T15:05:18.375Z"
   },
   {
    "duration": 127,
    "start_time": "2022-03-24T15:05:18.606Z"
   },
   {
    "duration": 126,
    "start_time": "2022-03-24T15:05:18.799Z"
   },
   {
    "duration": 120,
    "start_time": "2022-03-24T15:05:18.950Z"
   },
   {
    "duration": 73,
    "start_time": "2022-03-24T15:05:19.518Z"
   },
   {
    "duration": 45,
    "start_time": "2022-03-24T15:05:19.707Z"
   },
   {
    "duration": 467,
    "start_time": "2022-03-24T15:05:20.227Z"
   },
   {
    "duration": 67,
    "start_time": "2022-03-24T15:05:20.758Z"
   },
   {
    "duration": 46,
    "start_time": "2022-03-24T15:05:20.912Z"
   },
   {
    "duration": 7,
    "start_time": "2022-03-24T15:05:21.272Z"
   },
   {
    "duration": 441,
    "start_time": "2022-03-24T15:05:21.628Z"
   },
   {
    "duration": 66,
    "start_time": "2022-03-24T15:05:22.910Z"
   },
   {
    "duration": 58,
    "start_time": "2022-03-24T15:05:23.441Z"
   },
   {
    "duration": 500,
    "start_time": "2022-03-24T15:05:24.330Z"
   },
   {
    "duration": 4,
    "start_time": "2022-03-24T15:05:25.458Z"
   },
   {
    "duration": 241,
    "start_time": "2022-03-24T15:05:25.648Z"
   },
   {
    "duration": 5,
    "start_time": "2022-03-24T15:05:30.790Z"
   },
   {
    "duration": 11,
    "start_time": "2022-03-24T15:05:31.138Z"
   },
   {
    "duration": 8,
    "start_time": "2022-03-24T15:05:31.550Z"
   },
   {
    "duration": 14,
    "start_time": "2022-03-24T15:05:31.848Z"
   },
   {
    "duration": 6,
    "start_time": "2022-03-24T15:05:32.192Z"
   },
   {
    "duration": 15,
    "start_time": "2022-03-24T15:05:32.508Z"
   },
   {
    "duration": 788,
    "start_time": "2022-03-24T15:05:35.458Z"
   },
   {
    "duration": 490,
    "start_time": "2022-03-24T15:05:37.149Z"
   },
   {
    "duration": 403,
    "start_time": "2022-03-24T15:05:38.839Z"
   },
   {
    "duration": 4,
    "start_time": "2022-03-24T15:06:17.652Z"
   },
   {
    "duration": 3,
    "start_time": "2022-03-24T15:06:18.710Z"
   },
   {
    "duration": 4,
    "start_time": "2022-03-24T15:06:19.098Z"
   },
   {
    "duration": 3,
    "start_time": "2022-03-24T15:06:20.640Z"
   },
   {
    "duration": 4,
    "start_time": "2022-03-24T15:06:21.878Z"
   },
   {
    "duration": 123,
    "start_time": "2022-03-24T15:06:22.130Z"
   },
   {
    "duration": 125,
    "start_time": "2022-03-24T15:06:22.632Z"
   },
   {
    "duration": 121,
    "start_time": "2022-03-24T15:06:23.230Z"
   },
   {
    "duration": 64,
    "start_time": "2022-03-24T15:06:23.890Z"
   },
   {
    "duration": 50,
    "start_time": "2022-03-24T15:06:24.110Z"
   },
   {
    "duration": 501,
    "start_time": "2022-03-24T15:06:32.230Z"
   },
   {
    "duration": 66,
    "start_time": "2022-03-24T15:06:32.738Z"
   },
   {
    "duration": 47,
    "start_time": "2022-03-24T15:06:32.886Z"
   },
   {
    "duration": 7,
    "start_time": "2022-03-24T15:06:33.270Z"
   },
   {
    "duration": 374,
    "start_time": "2022-03-24T15:06:33.630Z"
   },
   {
    "duration": 67,
    "start_time": "2022-03-24T15:06:34.170Z"
   },
   {
    "duration": 45,
    "start_time": "2022-03-24T15:06:34.345Z"
   },
   {
    "duration": 599,
    "start_time": "2022-03-24T15:06:34.951Z"
   },
   {
    "duration": 4,
    "start_time": "2022-03-24T15:06:35.552Z"
   },
   {
    "duration": 208,
    "start_time": "2022-03-24T15:06:35.720Z"
   },
   {
    "duration": 28,
    "start_time": "2022-03-24T15:06:37.568Z"
   },
   {
    "duration": 4,
    "start_time": "2022-03-24T15:06:37.770Z"
   },
   {
    "duration": 396,
    "start_time": "2022-03-24T15:06:43.842Z"
   },
   {
    "duration": 327,
    "start_time": "2022-03-24T15:07:01.218Z"
   },
   {
    "duration": 364,
    "start_time": "2022-03-24T15:07:04.178Z"
   },
   {
    "duration": 141,
    "start_time": "2022-03-24T15:07:06.008Z"
   },
   {
    "duration": 2,
    "start_time": "2022-03-24T15:07:14.501Z"
   },
   {
    "duration": 3,
    "start_time": "2022-03-24T15:07:14.991Z"
   },
   {
    "duration": 4,
    "start_time": "2022-03-24T15:07:15.209Z"
   },
   {
    "duration": 16,
    "start_time": "2022-03-24T15:07:16.717Z"
   },
   {
    "duration": 5,
    "start_time": "2022-03-24T15:07:23.875Z"
   },
   {
    "duration": 8,
    "start_time": "2022-03-24T15:07:24.318Z"
   },
   {
    "duration": 10,
    "start_time": "2022-03-24T15:07:24.711Z"
   },
   {
    "duration": 954,
    "start_time": "2022-03-24T15:07:24.870Z"
   },
   {
    "duration": 15,
    "start_time": "2022-03-24T15:07:25.827Z"
   },
   {
    "duration": 907,
    "start_time": "2022-03-24T15:07:25.845Z"
   },
   {
    "duration": 9,
    "start_time": "2022-03-24T15:07:26.754Z"
   },
   {
    "duration": 923,
    "start_time": "2022-03-24T15:07:26.765Z"
   },
   {
    "duration": 2288,
    "start_time": "2022-03-24T18:58:32.624Z"
   },
   {
    "duration": 5,
    "start_time": "2022-03-24T18:59:23.029Z"
   },
   {
    "duration": 4,
    "start_time": "2022-03-24T18:59:23.276Z"
   },
   {
    "duration": 4,
    "start_time": "2022-03-24T18:59:23.457Z"
   },
   {
    "duration": 5,
    "start_time": "2022-03-24T18:59:23.671Z"
   },
   {
    "duration": 161,
    "start_time": "2022-03-24T18:59:24.777Z"
   },
   {
    "duration": 143,
    "start_time": "2022-03-24T18:59:25.050Z"
   },
   {
    "duration": 145,
    "start_time": "2022-03-24T18:59:25.283Z"
   },
   {
    "duration": 100,
    "start_time": "2022-03-24T18:59:28.410Z"
   },
   {
    "duration": 70,
    "start_time": "2022-03-24T18:59:28.929Z"
   },
   {
    "duration": 780,
    "start_time": "2022-03-24T18:59:31.140Z"
   },
   {
    "duration": 99,
    "start_time": "2022-03-24T18:59:32.876Z"
   },
   {
    "duration": 72,
    "start_time": "2022-03-24T18:59:33.613Z"
   },
   {
    "duration": 8,
    "start_time": "2022-03-24T18:59:34.176Z"
   },
   {
    "duration": 683,
    "start_time": "2022-03-24T18:59:35.112Z"
   },
   {
    "duration": 88,
    "start_time": "2022-03-24T18:59:36.385Z"
   },
   {
    "duration": 75,
    "start_time": "2022-03-24T18:59:37.053Z"
   },
   {
    "duration": 823,
    "start_time": "2022-03-24T18:59:38.213Z"
   },
   {
    "duration": 7,
    "start_time": "2022-03-24T18:59:39.566Z"
   },
   {
    "duration": 333,
    "start_time": "2022-03-24T18:59:41.328Z"
   },
   {
    "duration": 39,
    "start_time": "2022-03-24T19:00:12.800Z"
   },
   {
    "duration": 690,
    "start_time": "2022-03-24T19:00:23.892Z"
   },
   {
    "duration": 450,
    "start_time": "2022-03-24T19:00:29.829Z"
   },
   {
    "duration": 613,
    "start_time": "2022-03-24T19:00:41.866Z"
   },
   {
    "duration": 435,
    "start_time": "2022-03-24T19:00:48.146Z"
   },
   {
    "duration": 473,
    "start_time": "2022-03-24T19:00:56.011Z"
   },
   {
    "duration": 4,
    "start_time": "2022-03-24T19:01:34.145Z"
   },
   {
    "duration": 4,
    "start_time": "2022-03-24T19:01:42.719Z"
   },
   {
    "duration": 5,
    "start_time": "2022-03-24T19:01:43.427Z"
   },
   {
    "duration": 16,
    "start_time": "2022-03-24T19:01:45.059Z"
   },
   {
    "duration": 6,
    "start_time": "2022-03-24T19:02:09.137Z"
   },
   {
    "duration": 7,
    "start_time": "2022-03-24T19:02:14.551Z"
   },
   {
    "duration": 10,
    "start_time": "2022-03-24T19:02:22.561Z"
   },
   {
    "duration": 1304,
    "start_time": "2022-03-24T19:02:29.840Z"
   },
   {
    "duration": 11,
    "start_time": "2022-03-24T19:02:34.890Z"
   },
   {
    "duration": 1352,
    "start_time": "2022-03-24T19:02:35.296Z"
   },
   {
    "duration": 10,
    "start_time": "2022-03-24T19:02:37.725Z"
   },
   {
    "duration": 1371,
    "start_time": "2022-03-24T19:02:38.006Z"
   },
   {
    "duration": 7,
    "start_time": "2022-03-24T19:13:13.136Z"
   },
   {
    "duration": 11,
    "start_time": "2022-03-24T19:13:28.395Z"
   },
   {
    "duration": 10,
    "start_time": "2022-03-24T19:13:45.690Z"
   },
   {
    "duration": 13,
    "start_time": "2022-03-24T19:14:04.130Z"
   },
   {
    "duration": 7,
    "start_time": "2022-03-24T19:15:30.867Z"
   },
   {
    "duration": 1259,
    "start_time": "2022-03-24T19:15:40.263Z"
   },
   {
    "duration": 1393,
    "start_time": "2022-03-24T19:15:48.118Z"
   },
   {
    "duration": 9,
    "start_time": "2022-03-24T19:15:51.115Z"
   },
   {
    "duration": 1406,
    "start_time": "2022-03-24T19:15:51.395Z"
   },
   {
    "duration": 8,
    "start_time": "2022-03-24T19:16:56.517Z"
   },
   {
    "duration": 1337,
    "start_time": "2022-03-24T19:16:56.984Z"
   },
   {
    "duration": 1462,
    "start_time": "2022-03-24T19:16:58.324Z"
   },
   {
    "duration": 1432,
    "start_time": "2022-03-24T19:16:59.789Z"
   },
   {
    "duration": 1923,
    "start_time": "2022-03-24T19:18:39.020Z"
   },
   {
    "duration": 5,
    "start_time": "2022-03-24T19:18:40.946Z"
   },
   {
    "duration": 7,
    "start_time": "2022-03-24T19:18:40.953Z"
   },
   {
    "duration": 12,
    "start_time": "2022-03-24T19:18:40.963Z"
   },
   {
    "duration": 6,
    "start_time": "2022-03-24T19:18:40.977Z"
   },
   {
    "duration": 166,
    "start_time": "2022-03-24T19:18:40.985Z"
   },
   {
    "duration": 144,
    "start_time": "2022-03-24T19:18:41.153Z"
   },
   {
    "duration": 145,
    "start_time": "2022-03-24T19:18:41.299Z"
   },
   {
    "duration": 137,
    "start_time": "2022-03-24T19:18:41.447Z"
   },
   {
    "duration": 90,
    "start_time": "2022-03-24T19:18:41.590Z"
   },
   {
    "duration": 767,
    "start_time": "2022-03-24T19:18:41.683Z"
   },
   {
    "duration": 99,
    "start_time": "2022-03-24T19:18:42.453Z"
   },
   {
    "duration": 83,
    "start_time": "2022-03-24T19:18:42.554Z"
   },
   {
    "duration": 8,
    "start_time": "2022-03-24T19:18:42.640Z"
   },
   {
    "duration": 729,
    "start_time": "2022-03-24T19:18:42.650Z"
   },
   {
    "duration": 101,
    "start_time": "2022-03-24T19:18:43.382Z"
   },
   {
    "duration": 68,
    "start_time": "2022-03-24T19:18:43.485Z"
   },
   {
    "duration": 1065,
    "start_time": "2022-03-24T19:18:43.555Z"
   },
   {
    "duration": 10,
    "start_time": "2022-03-24T19:18:44.622Z"
   },
   {
    "duration": 351,
    "start_time": "2022-03-24T19:18:44.635Z"
   },
   {
    "duration": 39,
    "start_time": "2022-03-24T19:18:44.989Z"
   },
   {
    "duration": 454,
    "start_time": "2022-03-24T19:18:45.031Z"
   },
   {
    "duration": 691,
    "start_time": "2022-03-24T19:18:45.488Z"
   },
   {
    "duration": 697,
    "start_time": "2022-03-24T19:18:46.182Z"
   },
   {
    "duration": 92,
    "start_time": "2022-03-24T19:18:46.883Z"
   },
   {
    "duration": 95,
    "start_time": "2022-03-24T19:18:46.979Z"
   },
   {
    "duration": 9,
    "start_time": "2022-03-24T19:18:47.077Z"
   },
   {
    "duration": 16,
    "start_time": "2022-03-24T19:18:47.091Z"
   },
   {
    "duration": 4,
    "start_time": "2022-03-24T19:18:47.110Z"
   },
   {
    "duration": 11,
    "start_time": "2022-03-24T19:18:47.118Z"
   },
   {
    "duration": 49,
    "start_time": "2022-03-24T19:18:47.132Z"
   },
   {
    "duration": 12,
    "start_time": "2022-03-24T19:18:47.183Z"
   },
   {
    "duration": 8,
    "start_time": "2022-03-24T19:18:47.197Z"
   },
   {
    "duration": 1352,
    "start_time": "2022-03-24T19:18:47.207Z"
   },
   {
    "duration": 1423,
    "start_time": "2022-03-24T19:18:48.562Z"
   },
   {
    "duration": 1900,
    "start_time": "2022-03-24T19:18:49.987Z"
   },
   {
    "duration": 2468,
    "start_time": "2022-03-25T07:14:37.020Z"
   },
   {
    "duration": 6,
    "start_time": "2022-03-25T07:14:46.420Z"
   },
   {
    "duration": 4,
    "start_time": "2022-03-25T07:14:46.614Z"
   },
   {
    "duration": 5,
    "start_time": "2022-03-25T07:14:46.839Z"
   },
   {
    "duration": 5,
    "start_time": "2022-03-25T07:14:47.070Z"
   },
   {
    "duration": 155,
    "start_time": "2022-03-25T07:14:48.499Z"
   },
   {
    "duration": 138,
    "start_time": "2022-03-25T07:14:48.669Z"
   },
   {
    "duration": 143,
    "start_time": "2022-03-25T07:14:48.821Z"
   },
   {
    "duration": 95,
    "start_time": "2022-03-25T07:14:50.772Z"
   },
   {
    "duration": 72,
    "start_time": "2022-03-25T07:14:52.972Z"
   },
   {
    "duration": 747,
    "start_time": "2022-03-25T07:14:53.502Z"
   },
   {
    "duration": 87,
    "start_time": "2022-03-25T07:14:55.972Z"
   },
   {
    "duration": 69,
    "start_time": "2022-03-25T07:14:56.142Z"
   },
   {
    "duration": 9,
    "start_time": "2022-03-25T07:14:56.502Z"
   },
   {
    "duration": 694,
    "start_time": "2022-03-25T07:14:56.862Z"
   },
   {
    "duration": 87,
    "start_time": "2022-03-25T07:14:57.712Z"
   },
   {
    "duration": 79,
    "start_time": "2022-03-25T07:14:57.912Z"
   },
   {
    "duration": 862,
    "start_time": "2022-03-25T07:14:58.483Z"
   },
   {
    "duration": 9,
    "start_time": "2022-03-25T07:14:59.580Z"
   },
   {
    "duration": 2045,
    "start_time": "2022-03-25T07:16:00.019Z"
   },
   {
    "duration": 5,
    "start_time": "2022-03-25T07:16:02.067Z"
   },
   {
    "duration": 28,
    "start_time": "2022-03-25T07:16:02.074Z"
   },
   {
    "duration": 17,
    "start_time": "2022-03-25T07:16:02.105Z"
   },
   {
    "duration": 14,
    "start_time": "2022-03-25T07:16:02.126Z"
   },
   {
    "duration": 175,
    "start_time": "2022-03-25T07:16:02.142Z"
   },
   {
    "duration": 164,
    "start_time": "2022-03-25T07:16:02.320Z"
   },
   {
    "duration": 148,
    "start_time": "2022-03-25T07:16:02.486Z"
   },
   {
    "duration": 146,
    "start_time": "2022-03-25T07:16:02.637Z"
   },
   {
    "duration": 74,
    "start_time": "2022-03-25T07:16:02.789Z"
   },
   {
    "duration": 737,
    "start_time": "2022-03-25T07:16:02.884Z"
   },
   {
    "duration": 91,
    "start_time": "2022-03-25T07:16:05.225Z"
   },
   {
    "duration": 72,
    "start_time": "2022-03-25T07:16:08.746Z"
   },
   {
    "duration": 850,
    "start_time": "2022-03-25T07:16:33.805Z"
   },
   {
    "duration": 86,
    "start_time": "2022-03-25T07:16:45.865Z"
   },
   {
    "duration": 68,
    "start_time": "2022-03-25T07:16:46.215Z"
   },
   {
    "duration": 809,
    "start_time": "2022-03-25T07:16:47.565Z"
   },
   {
    "duration": 44,
    "start_time": "2022-03-25T07:16:57.865Z"
   },
   {
    "duration": 925,
    "start_time": "2022-03-25T07:16:59.064Z"
   },
   {
    "duration": 619,
    "start_time": "2022-03-25T07:17:24.171Z"
   },
   {
    "duration": 697,
    "start_time": "2022-03-25T07:17:24.794Z"
   },
   {
    "duration": 695,
    "start_time": "2022-03-25T07:17:25.494Z"
   },
   {
    "duration": 336,
    "start_time": "2022-03-25T07:17:34.752Z"
   },
   {
    "duration": 595,
    "start_time": "2022-03-25T07:17:35.093Z"
   },
   {
    "duration": 4,
    "start_time": "2022-03-25T07:17:58.406Z"
   },
   {
    "duration": 3,
    "start_time": "2022-03-25T07:18:53.616Z"
   },
   {
    "duration": 7,
    "start_time": "2022-03-25T07:19:03.975Z"
   },
   {
    "duration": 5,
    "start_time": "2022-03-25T07:19:06.625Z"
   },
   {
    "duration": 16,
    "start_time": "2022-03-25T07:19:09.655Z"
   },
   {
    "duration": 5,
    "start_time": "2022-03-25T07:19:35.104Z"
   },
   {
    "duration": 12,
    "start_time": "2022-03-25T07:19:37.176Z"
   },
   {
    "duration": 10,
    "start_time": "2022-03-25T07:19:40.756Z"
   },
   {
    "duration": 10,
    "start_time": "2022-03-25T07:20:01.556Z"
   },
   {
    "duration": 11,
    "start_time": "2022-03-25T07:20:07.415Z"
   },
   {
    "duration": 8,
    "start_time": "2022-03-25T07:20:16.489Z"
   },
   {
    "duration": 1269,
    "start_time": "2022-03-25T07:20:18.313Z"
   },
   {
    "duration": 1452,
    "start_time": "2022-03-25T07:20:22.325Z"
   },
   {
    "duration": 1946,
    "start_time": "2022-03-25T07:20:25.255Z"
   },
   {
    "duration": 826,
    "start_time": "2022-03-25T07:24:29.895Z"
   },
   {
    "duration": 89,
    "start_time": "2022-03-25T07:24:38.403Z"
   },
   {
    "duration": 69,
    "start_time": "2022-03-25T07:24:38.906Z"
   },
   {
    "duration": 925,
    "start_time": "2022-03-25T07:24:52.924Z"
   },
   {
    "duration": 3,
    "start_time": "2022-03-25T07:25:36.991Z"
   },
   {
    "duration": 4,
    "start_time": "2022-03-25T07:25:37.163Z"
   },
   {
    "duration": 35,
    "start_time": "2022-03-25T07:35:53.080Z"
   },
   {
    "duration": 409,
    "start_time": "2022-03-25T07:35:53.974Z"
   },
   {
    "duration": 9,
    "start_time": "2022-03-25T07:43:07.875Z"
   },
   {
    "duration": 9,
    "start_time": "2022-03-25T07:43:14.793Z"
   },
   {
    "duration": 472,
    "start_time": "2022-03-25T07:43:43.816Z"
   },
   {
    "duration": 471,
    "start_time": "2022-03-25T07:45:02.016Z"
   },
   {
    "duration": 497,
    "start_time": "2022-03-25T07:45:02.490Z"
   },
   {
    "duration": 573,
    "start_time": "2022-03-25T07:45:11.816Z"
   },
   {
    "duration": 978,
    "start_time": "2022-03-25T07:46:32.106Z"
   },
   {
    "duration": 5,
    "start_time": "2022-03-25T07:46:34.975Z"
   },
   {
    "duration": 4,
    "start_time": "2022-03-25T07:46:37.426Z"
   },
   {
    "duration": 4,
    "start_time": "2022-03-25T07:46:38.416Z"
   },
   {
    "duration": 5,
    "start_time": "2022-03-25T07:46:38.724Z"
   },
   {
    "duration": 17,
    "start_time": "2022-03-25T07:46:39.481Z"
   },
   {
    "duration": 5,
    "start_time": "2022-03-25T07:46:42.313Z"
   },
   {
    "duration": 10,
    "start_time": "2022-03-25T07:46:45.536Z"
   },
   {
    "duration": 11,
    "start_time": "2022-03-25T07:46:46.236Z"
   },
   {
    "duration": 10,
    "start_time": "2022-03-25T07:46:46.635Z"
   },
   {
    "duration": 1249,
    "start_time": "2022-03-25T07:47:22.744Z"
   },
   {
    "duration": 1378,
    "start_time": "2022-03-25T07:47:23.996Z"
   },
   {
    "duration": 1382,
    "start_time": "2022-03-25T07:47:25.377Z"
   },
   {
    "duration": 258,
    "start_time": "2022-03-25T07:47:26.761Z"
   },
   {
    "duration": 7,
    "start_time": "2022-03-25T07:48:17.584Z"
   },
   {
    "duration": 657,
    "start_time": "2022-03-25T07:48:25.433Z"
   },
   {
    "duration": 6,
    "start_time": "2022-03-25T07:48:48.134Z"
   },
   {
    "duration": 720,
    "start_time": "2022-03-25T07:49:03.964Z"
   },
   {
    "duration": 490,
    "start_time": "2022-03-25T07:49:05.097Z"
   },
   {
    "duration": 598,
    "start_time": "2022-03-25T07:49:05.590Z"
   },
   {
    "duration": 8,
    "start_time": "2022-03-25T08:23:24.024Z"
   },
   {
    "duration": 7,
    "start_time": "2022-03-25T08:23:34.643Z"
   },
   {
    "duration": 5,
    "start_time": "2022-03-25T08:23:35.001Z"
   },
   {
    "duration": 6,
    "start_time": "2022-03-25T08:23:35.163Z"
   },
   {
    "duration": 4,
    "start_time": "2022-03-25T08:23:35.305Z"
   },
   {
    "duration": 5,
    "start_time": "2022-03-25T08:23:35.494Z"
   },
   {
    "duration": 6,
    "start_time": "2022-03-25T08:23:35.644Z"
   },
   {
    "duration": 140,
    "start_time": "2022-03-25T08:23:35.896Z"
   },
   {
    "duration": 143,
    "start_time": "2022-03-25T08:23:36.325Z"
   },
   {
    "duration": 146,
    "start_time": "2022-03-25T08:23:36.485Z"
   },
   {
    "duration": 90,
    "start_time": "2022-03-25T08:23:37.056Z"
   },
   {
    "duration": 77,
    "start_time": "2022-03-25T08:23:37.216Z"
   },
   {
    "duration": 798,
    "start_time": "2022-03-25T08:23:37.775Z"
   },
   {
    "duration": 113,
    "start_time": "2022-03-25T08:23:38.576Z"
   },
   {
    "duration": 70,
    "start_time": "2022-03-25T08:23:38.692Z"
   },
   {
    "duration": 7,
    "start_time": "2022-03-25T08:23:39.105Z"
   },
   {
    "duration": 3046,
    "start_time": "2022-03-25T08:23:39.486Z"
   },
   {
    "duration": 0,
    "start_time": "2022-03-25T08:23:42.535Z"
   },
   {
    "duration": 0,
    "start_time": "2022-03-25T08:23:42.537Z"
   },
   {
    "duration": 0,
    "start_time": "2022-03-25T08:23:42.540Z"
   },
   {
    "duration": 10,
    "start_time": "2022-03-25T08:23:51.601Z"
   },
   {
    "duration": 5,
    "start_time": "2022-03-25T08:23:52.086Z"
   },
   {
    "duration": 5,
    "start_time": "2022-03-25T08:23:52.264Z"
   },
   {
    "duration": 5,
    "start_time": "2022-03-25T08:23:52.703Z"
   },
   {
    "duration": 5,
    "start_time": "2022-03-25T08:23:53.174Z"
   },
   {
    "duration": 7,
    "start_time": "2022-03-25T08:23:53.554Z"
   },
   {
    "duration": 142,
    "start_time": "2022-03-25T08:23:53.796Z"
   },
   {
    "duration": 134,
    "start_time": "2022-03-25T08:23:54.057Z"
   },
   {
    "duration": 154,
    "start_time": "2022-03-25T08:23:54.286Z"
   },
   {
    "duration": 90,
    "start_time": "2022-03-25T08:23:54.955Z"
   },
   {
    "duration": 82,
    "start_time": "2022-03-25T08:23:55.184Z"
   },
   {
    "duration": 1143,
    "start_time": "2022-03-25T08:23:55.897Z"
   },
   {
    "duration": 143,
    "start_time": "2022-03-25T08:23:57.043Z"
   },
   {
    "duration": 109,
    "start_time": "2022-03-25T08:23:57.189Z"
   },
   {
    "duration": 11,
    "start_time": "2022-03-25T08:23:57.486Z"
   },
   {
    "duration": 2053,
    "start_time": "2022-03-25T08:24:10.017Z"
   },
   {
    "duration": 5,
    "start_time": "2022-03-25T08:24:12.072Z"
   },
   {
    "duration": 12,
    "start_time": "2022-03-25T08:24:12.083Z"
   },
   {
    "duration": 17,
    "start_time": "2022-03-25T08:24:12.098Z"
   },
   {
    "duration": 21,
    "start_time": "2022-03-25T08:24:12.118Z"
   },
   {
    "duration": 29,
    "start_time": "2022-03-25T08:24:12.141Z"
   },
   {
    "duration": 180,
    "start_time": "2022-03-25T08:24:12.172Z"
   },
   {
    "duration": 146,
    "start_time": "2022-03-25T08:24:12.355Z"
   },
   {
    "duration": 156,
    "start_time": "2022-03-25T08:24:12.504Z"
   },
   {
    "duration": 107,
    "start_time": "2022-03-25T08:24:12.663Z"
   },
   {
    "duration": 76,
    "start_time": "2022-03-25T08:24:12.782Z"
   },
   {
    "duration": 7,
    "start_time": "2022-03-25T08:28:46.076Z"
   },
   {
    "duration": 4,
    "start_time": "2022-03-25T08:28:46.417Z"
   },
   {
    "duration": 6,
    "start_time": "2022-03-25T08:28:46.584Z"
   },
   {
    "duration": 4,
    "start_time": "2022-03-25T08:28:46.748Z"
   },
   {
    "duration": 7,
    "start_time": "2022-03-25T08:28:47.067Z"
   },
   {
    "duration": 7,
    "start_time": "2022-03-25T08:28:47.224Z"
   },
   {
    "duration": 164,
    "start_time": "2022-03-25T08:28:47.406Z"
   },
   {
    "duration": 153,
    "start_time": "2022-03-25T08:28:47.581Z"
   },
   {
    "duration": 147,
    "start_time": "2022-03-25T08:28:47.778Z"
   },
   {
    "duration": 89,
    "start_time": "2022-03-25T08:28:48.309Z"
   },
   {
    "duration": 73,
    "start_time": "2022-03-25T08:28:48.489Z"
   },
   {
    "duration": 1095,
    "start_time": "2022-03-25T08:28:49.100Z"
   },
   {
    "duration": 106,
    "start_time": "2022-03-25T08:28:50.198Z"
   },
   {
    "duration": 146,
    "start_time": "2022-03-25T08:28:50.307Z"
   },
   {
    "duration": 8,
    "start_time": "2022-03-25T08:28:50.579Z"
   },
   {
    "duration": 3272,
    "start_time": "2022-03-25T08:28:51.019Z"
   },
   {
    "duration": 0,
    "start_time": "2022-03-25T08:28:54.294Z"
   },
   {
    "duration": 0,
    "start_time": "2022-03-25T08:28:54.295Z"
   },
   {
    "duration": 0,
    "start_time": "2022-03-25T08:28:54.297Z"
   },
   {
    "duration": 55,
    "start_time": "2022-03-25T08:29:01.757Z"
   },
   {
    "duration": 6,
    "start_time": "2022-03-25T08:29:15.227Z"
   },
   {
    "duration": 9,
    "start_time": "2022-03-25T08:29:15.607Z"
   },
   {
    "duration": 156,
    "start_time": "2022-03-25T08:29:15.819Z"
   },
   {
    "duration": 152,
    "start_time": "2022-03-25T08:29:16.019Z"
   },
   {
    "duration": 53,
    "start_time": "2022-03-25T08:29:58.746Z"
   },
   {
    "duration": 752,
    "start_time": "2022-03-25T08:30:06.637Z"
   },
   {
    "duration": 471,
    "start_time": "2022-03-25T08:30:14.919Z"
   },
   {
    "duration": 700,
    "start_time": "2022-03-25T08:30:15.394Z"
   },
   {
    "duration": 1956,
    "start_time": "2022-03-25T08:38:14.166Z"
   },
   {
    "duration": 5,
    "start_time": "2022-03-25T08:38:16.126Z"
   },
   {
    "duration": 31,
    "start_time": "2022-03-25T08:38:16.134Z"
   },
   {
    "duration": 9,
    "start_time": "2022-03-25T08:38:16.170Z"
   },
   {
    "duration": 24,
    "start_time": "2022-03-25T08:38:16.181Z"
   },
   {
    "duration": 23,
    "start_time": "2022-03-25T08:38:16.208Z"
   },
   {
    "duration": 181,
    "start_time": "2022-03-25T08:38:16.233Z"
   },
   {
    "duration": 144,
    "start_time": "2022-03-25T08:38:16.416Z"
   },
   {
    "duration": 145,
    "start_time": "2022-03-25T08:38:16.563Z"
   },
   {
    "duration": 107,
    "start_time": "2022-03-25T08:38:16.711Z"
   },
   {
    "duration": 87,
    "start_time": "2022-03-25T08:38:16.821Z"
   },
   {
    "duration": 778,
    "start_time": "2022-03-25T08:38:17.020Z"
   },
   {
    "duration": 103,
    "start_time": "2022-03-25T08:38:17.801Z"
   },
   {
    "duration": 111,
    "start_time": "2022-03-25T08:38:17.907Z"
   },
   {
    "duration": 1161,
    "start_time": "2022-03-25T08:38:18.580Z"
   },
   {
    "duration": 120,
    "start_time": "2022-03-25T08:38:20.699Z"
   },
   {
    "duration": 78,
    "start_time": "2022-03-25T08:38:20.900Z"
   },
   {
    "duration": 875,
    "start_time": "2022-03-25T08:38:21.988Z"
   },
   {
    "duration": 192,
    "start_time": "2022-03-25T08:42:45.278Z"
   },
   {
    "duration": 6,
    "start_time": "2022-03-25T08:42:55.029Z"
   },
   {
    "duration": 373,
    "start_time": "2022-03-25T08:43:04.967Z"
   },
   {
    "duration": 2217,
    "start_time": "2022-03-25T08:43:42.942Z"
   },
   {
    "duration": 5,
    "start_time": "2022-03-25T08:43:45.162Z"
   },
   {
    "duration": 14,
    "start_time": "2022-03-25T08:43:45.171Z"
   },
   {
    "duration": 5,
    "start_time": "2022-03-25T08:43:46.253Z"
   },
   {
    "duration": 6,
    "start_time": "2022-03-25T08:43:46.471Z"
   },
   {
    "duration": 11,
    "start_time": "2022-03-25T08:43:46.660Z"
   },
   {
    "duration": 160,
    "start_time": "2022-03-25T08:43:46.802Z"
   },
   {
    "duration": 218,
    "start_time": "2022-03-25T08:43:46.982Z"
   },
   {
    "duration": 228,
    "start_time": "2022-03-25T08:43:47.204Z"
   },
   {
    "duration": 131,
    "start_time": "2022-03-25T08:43:47.703Z"
   },
   {
    "duration": 86,
    "start_time": "2022-03-25T08:43:47.894Z"
   },
   {
    "duration": 833,
    "start_time": "2022-03-25T08:43:48.462Z"
   },
   {
    "duration": 120,
    "start_time": "2022-03-25T08:43:49.300Z"
   },
   {
    "duration": 122,
    "start_time": "2022-03-25T08:43:49.423Z"
   },
   {
    "duration": 1485,
    "start_time": "2022-03-25T08:51:00.180Z"
   },
   {
    "duration": 134,
    "start_time": "2022-03-25T08:51:04.531Z"
   },
   {
    "duration": 84,
    "start_time": "2022-03-25T08:51:06.819Z"
   },
   {
    "duration": 1280,
    "start_time": "2022-03-25T08:51:08.440Z"
   },
   {
    "duration": 156,
    "start_time": "2022-03-25T09:16:16.371Z"
   },
   {
    "duration": 6,
    "start_time": "2022-03-25T09:16:18.852Z"
   },
   {
    "duration": 6,
    "start_time": "2022-03-25T09:16:22.651Z"
   },
   {
    "duration": 7,
    "start_time": "2022-03-25T09:16:37.611Z"
   },
   {
    "duration": 49,
    "start_time": "2022-03-25T09:26:05.110Z"
   },
   {
    "duration": 1014,
    "start_time": "2022-03-25T09:26:06.879Z"
   },
   {
    "duration": 1185,
    "start_time": "2022-03-25T09:26:07.898Z"
   },
   {
    "duration": 899,
    "start_time": "2022-03-25T09:26:09.086Z"
   },
   {
    "duration": 4,
    "start_time": "2022-03-25T09:27:30.292Z"
   },
   {
    "duration": 5,
    "start_time": "2022-03-25T09:27:58.671Z"
   },
   {
    "duration": 4,
    "start_time": "2022-03-25T09:28:01.772Z"
   },
   {
    "duration": 5,
    "start_time": "2022-03-25T09:28:02.119Z"
   },
   {
    "duration": 248,
    "start_time": "2022-03-25T09:28:03.950Z"
   },
   {
    "duration": 1117,
    "start_time": "2022-03-25T09:28:15.472Z"
   },
   {
    "duration": 596,
    "start_time": "2022-03-25T09:28:16.592Z"
   },
   {
    "duration": 696,
    "start_time": "2022-03-25T09:28:17.191Z"
   },
   {
    "duration": 7,
    "start_time": "2022-03-25T09:28:55.050Z"
   },
   {
    "duration": 15,
    "start_time": "2022-03-25T09:29:30.000Z"
   },
   {
    "duration": 18,
    "start_time": "2022-03-25T09:29:40.260Z"
   },
   {
    "duration": 19,
    "start_time": "2022-03-25T09:30:08.040Z"
   },
   {
    "duration": 16,
    "start_time": "2022-03-25T09:30:32.061Z"
   },
   {
    "duration": 17,
    "start_time": "2022-03-25T09:31:02.860Z"
   },
   {
    "duration": 21,
    "start_time": "2022-03-25T09:31:16.889Z"
   },
   {
    "duration": 6,
    "start_time": "2022-03-25T09:31:34.029Z"
   },
   {
    "duration": 5,
    "start_time": "2022-03-25T09:31:51.369Z"
   },
   {
    "duration": 13,
    "start_time": "2022-03-25T09:31:52.170Z"
   },
   {
    "duration": 16,
    "start_time": "2022-03-25T09:31:52.533Z"
   },
   {
    "duration": 4,
    "start_time": "2022-03-25T09:35:00.622Z"
   },
   {
    "duration": 13,
    "start_time": "2022-03-25T09:40:14.332Z"
   },
   {
    "duration": 6,
    "start_time": "2022-03-25T09:41:50.171Z"
   },
   {
    "duration": 1162,
    "start_time": "2022-03-25T09:41:56.722Z"
   },
   {
    "duration": 794,
    "start_time": "2022-03-25T09:42:03.592Z"
   },
   {
    "duration": 496,
    "start_time": "2022-03-25T09:42:04.390Z"
   },
   {
    "duration": 28,
    "start_time": "2022-03-25T09:43:05.953Z"
   },
   {
    "duration": 15,
    "start_time": "2022-03-25T09:43:34.970Z"
   },
   {
    "duration": 19,
    "start_time": "2022-03-25T09:43:37.212Z"
   },
   {
    "duration": 16,
    "start_time": "2022-03-25T09:43:38.922Z"
   },
   {
    "duration": 24,
    "start_time": "2022-03-25T09:43:39.112Z"
   },
   {
    "duration": 23,
    "start_time": "2022-03-25T09:43:39.303Z"
   },
   {
    "duration": 4,
    "start_time": "2022-03-25T09:43:44.482Z"
   },
   {
    "duration": 4,
    "start_time": "2022-03-25T09:43:45.230Z"
   },
   {
    "duration": 7,
    "start_time": "2022-03-25T09:43:45.412Z"
   },
   {
    "duration": 17,
    "start_time": "2022-03-25T09:43:45.822Z"
   },
   {
    "duration": 14,
    "start_time": "2022-03-25T09:44:11.464Z"
   },
   {
    "duration": 6,
    "start_time": "2022-03-25T09:44:15.148Z"
   },
   {
    "duration": 37,
    "start_time": "2022-03-25T09:44:16.222Z"
   },
   {
    "duration": 31,
    "start_time": "2022-03-25T09:44:16.713Z"
   },
   {
    "duration": 9,
    "start_time": "2022-03-25T09:44:36.721Z"
   },
   {
    "duration": 45,
    "start_time": "2022-03-25T09:44:37.532Z"
   },
   {
    "duration": 39,
    "start_time": "2022-03-25T09:44:38.071Z"
   },
   {
    "duration": 5,
    "start_time": "2022-03-25T09:45:24.510Z"
   },
   {
    "duration": 39,
    "start_time": "2022-03-25T09:45:25.733Z"
   },
   {
    "duration": 39,
    "start_time": "2022-03-25T09:45:55.703Z"
   },
   {
    "duration": 52,
    "start_time": "2022-03-25T09:46:35.341Z"
   },
   {
    "duration": 5,
    "start_time": "2022-03-25T09:47:50.860Z"
   },
   {
    "duration": 53,
    "start_time": "2022-03-25T09:47:51.934Z"
   },
   {
    "duration": 16,
    "start_time": "2022-03-25T09:48:18.622Z"
   },
   {
    "duration": 102,
    "start_time": "2022-03-25T09:48:39.580Z"
   },
   {
    "duration": 140,
    "start_time": "2022-03-25T09:48:39.686Z"
   },
   {
    "duration": 72,
    "start_time": "2022-03-25T09:48:39.829Z"
   },
   {
    "duration": 21,
    "start_time": "2022-03-25T09:48:44.150Z"
   },
   {
    "duration": 7,
    "start_time": "2022-03-25T09:48:46.660Z"
   },
   {
    "duration": 52,
    "start_time": "2022-03-25T09:48:47.382Z"
   },
   {
    "duration": 5,
    "start_time": "2022-03-25T09:49:10.440Z"
   },
   {
    "duration": 38,
    "start_time": "2022-03-25T09:49:11.172Z"
   },
   {
    "duration": 46,
    "start_time": "2022-03-25T09:49:13.612Z"
   },
   {
    "duration": 38,
    "start_time": "2022-03-25T09:49:14.222Z"
   },
   {
    "duration": 41,
    "start_time": "2022-03-25T09:49:16.059Z"
   },
   {
    "duration": 1067,
    "start_time": "2022-03-25T09:50:05.132Z"
   },
   {
    "duration": 314,
    "start_time": "2022-03-25T09:50:06.285Z"
   },
   {
    "duration": 484,
    "start_time": "2022-03-25T09:50:06.601Z"
   },
   {
    "duration": 101,
    "start_time": "2022-03-25T09:50:07.089Z"
   },
   {
    "duration": 6,
    "start_time": "2022-03-25T09:50:21.270Z"
   },
   {
    "duration": 2808,
    "start_time": "2022-03-25T09:50:26.958Z"
   },
   {
    "duration": 5,
    "start_time": "2022-03-25T09:50:29.770Z"
   },
   {
    "duration": 6,
    "start_time": "2022-03-25T09:50:29.784Z"
   },
   {
    "duration": 6,
    "start_time": "2022-03-25T09:50:29.796Z"
   },
   {
    "duration": 8,
    "start_time": "2022-03-25T09:50:29.806Z"
   },
   {
    "duration": 7,
    "start_time": "2022-03-25T09:50:29.817Z"
   },
   {
    "duration": 274,
    "start_time": "2022-03-25T09:50:29.828Z"
   },
   {
    "duration": 191,
    "start_time": "2022-03-25T09:50:30.105Z"
   },
   {
    "duration": 222,
    "start_time": "2022-03-25T09:50:30.299Z"
   },
   {
    "duration": 158,
    "start_time": "2022-03-25T09:50:30.526Z"
   },
   {
    "duration": 118,
    "start_time": "2022-03-25T09:50:30.687Z"
   },
   {
    "duration": 892,
    "start_time": "2022-03-25T09:50:30.808Z"
   },
   {
    "duration": 114,
    "start_time": "2022-03-25T09:50:31.702Z"
   },
   {
    "duration": 108,
    "start_time": "2022-03-25T09:50:31.819Z"
   },
   {
    "duration": 1313,
    "start_time": "2022-03-25T09:50:31.932Z"
   },
   {
    "duration": 114,
    "start_time": "2022-03-25T09:50:33.248Z"
   },
   {
    "duration": 152,
    "start_time": "2022-03-25T09:50:33.384Z"
   },
   {
    "duration": 1288,
    "start_time": "2022-03-25T09:50:33.540Z"
   },
   {
    "duration": 76,
    "start_time": "2022-03-25T09:50:34.832Z"
   },
   {
    "duration": 270,
    "start_time": "2022-03-25T09:50:35.022Z"
   },
   {
    "duration": 399,
    "start_time": "2022-03-25T09:50:35.296Z"
   },
   {
    "duration": 715,
    "start_time": "2022-03-25T09:50:35.785Z"
   },
   {
    "duration": 113,
    "start_time": "2022-03-25T09:50:36.593Z"
   },
   {
    "duration": 175,
    "start_time": "2022-03-25T09:50:37.931Z"
   },
   {
    "duration": 0,
    "start_time": "2022-03-25T09:50:38.109Z"
   },
   {
    "duration": 128,
    "start_time": "2022-03-25T09:50:59.769Z"
   },
   {
    "duration": 27,
    "start_time": "2022-03-25T09:51:00.500Z"
   },
   {
    "duration": 20,
    "start_time": "2022-03-25T09:51:02.941Z"
   },
   {
    "duration": 5,
    "start_time": "2022-03-25T09:51:05.591Z"
   },
   {
    "duration": 4,
    "start_time": "2022-03-25T09:51:06.521Z"
   },
   {
    "duration": 5,
    "start_time": "2022-03-25T09:51:06.711Z"
   },
   {
    "duration": 21,
    "start_time": "2022-03-25T09:51:07.426Z"
   },
   {
    "duration": 5,
    "start_time": "2022-03-25T09:51:11.507Z"
   },
   {
    "duration": 42,
    "start_time": "2022-03-25T09:51:12.051Z"
   },
   {
    "duration": 6,
    "start_time": "2022-03-25T09:51:15.779Z"
   },
   {
    "duration": 38,
    "start_time": "2022-03-25T09:51:16.031Z"
   },
   {
    "duration": 4,
    "start_time": "2022-03-25T09:53:19.490Z"
   },
   {
    "duration": 20,
    "start_time": "2022-03-25T09:53:20.122Z"
   },
   {
    "duration": 31,
    "start_time": "2022-03-25T09:54:04.332Z"
   },
   {
    "duration": 6,
    "start_time": "2022-03-25T09:54:11.468Z"
   },
   {
    "duration": 57,
    "start_time": "2022-03-25T09:54:11.821Z"
   },
   {
    "duration": 21,
    "start_time": "2022-03-25T09:54:24.211Z"
   },
   {
    "duration": 22,
    "start_time": "2022-03-25T09:54:28.939Z"
   },
   {
    "duration": 20,
    "start_time": "2022-03-25T09:54:32.381Z"
   },
   {
    "duration": 6,
    "start_time": "2022-03-25T09:56:49.958Z"
   },
   {
    "duration": 14,
    "start_time": "2022-03-25T09:56:52.290Z"
   },
   {
    "duration": 19,
    "start_time": "2022-03-25T09:56:57.551Z"
   },
   {
    "duration": 22,
    "start_time": "2022-03-25T09:57:10.530Z"
   },
   {
    "duration": 31,
    "start_time": "2022-03-25T09:57:14.172Z"
   },
   {
    "duration": 8,
    "start_time": "2022-03-25T09:57:37.739Z"
   },
   {
    "duration": 13,
    "start_time": "2022-03-25T09:57:38.021Z"
   },
   {
    "duration": 17,
    "start_time": "2022-03-25T09:57:43.902Z"
   },
   {
    "duration": 7,
    "start_time": "2022-03-25T09:58:37.420Z"
   },
   {
    "duration": 5,
    "start_time": "2022-03-25T09:58:47.700Z"
   },
   {
    "duration": 5,
    "start_time": "2022-03-25T09:58:48.439Z"
   },
   {
    "duration": 4,
    "start_time": "2022-03-25T09:58:49.269Z"
   },
   {
    "duration": 5,
    "start_time": "2022-03-25T09:58:49.459Z"
   },
   {
    "duration": 6,
    "start_time": "2022-03-25T09:58:49.631Z"
   },
   {
    "duration": 144,
    "start_time": "2022-03-25T09:58:49.801Z"
   },
   {
    "duration": 150,
    "start_time": "2022-03-25T09:58:49.972Z"
   },
   {
    "duration": 145,
    "start_time": "2022-03-25T09:58:50.140Z"
   },
   {
    "duration": 88,
    "start_time": "2022-03-25T09:58:51.112Z"
   },
   {
    "duration": 4,
    "start_time": "2022-03-25T09:59:09.531Z"
   },
   {
    "duration": 6,
    "start_time": "2022-03-25T09:59:10.830Z"
   },
   {
    "duration": 5,
    "start_time": "2022-03-25T09:59:14.309Z"
   },
   {
    "duration": 6,
    "start_time": "2022-03-25T09:59:20.719Z"
   },
   {
    "duration": 145,
    "start_time": "2022-03-25T09:59:23.470Z"
   },
   {
    "duration": 141,
    "start_time": "2022-03-25T09:59:23.641Z"
   },
   {
    "duration": 144,
    "start_time": "2022-03-25T09:59:23.801Z"
   },
   {
    "duration": 122,
    "start_time": "2022-03-25T09:59:24.322Z"
   },
   {
    "duration": 69,
    "start_time": "2022-03-25T09:59:24.480Z"
   },
   {
    "duration": 823,
    "start_time": "2022-03-25T09:59:25.022Z"
   },
   {
    "duration": 97,
    "start_time": "2022-03-25T09:59:25.848Z"
   },
   {
    "duration": 97,
    "start_time": "2022-03-25T09:59:25.947Z"
   },
   {
    "duration": 1004,
    "start_time": "2022-03-25T09:59:26.412Z"
   },
   {
    "duration": 100,
    "start_time": "2022-03-25T09:59:27.419Z"
   },
   {
    "duration": 89,
    "start_time": "2022-03-25T09:59:27.522Z"
   },
   {
    "duration": 897,
    "start_time": "2022-03-25T09:59:27.614Z"
   },
   {
    "duration": 34,
    "start_time": "2022-03-25T09:59:32.219Z"
   },
   {
    "duration": 536,
    "start_time": "2022-03-25T09:59:32.949Z"
   },
   {
    "duration": 598,
    "start_time": "2022-03-25T09:59:33.490Z"
   },
   {
    "duration": 691,
    "start_time": "2022-03-25T09:59:34.091Z"
   },
   {
    "duration": 5,
    "start_time": "2022-03-25T09:59:51.691Z"
   },
   {
    "duration": 15,
    "start_time": "2022-03-25T09:59:52.102Z"
   },
   {
    "duration": 15,
    "start_time": "2022-03-25T09:59:55.142Z"
   },
   {
    "duration": 15,
    "start_time": "2022-03-25T09:59:58.419Z"
   },
   {
    "duration": 21,
    "start_time": "2022-03-25T10:00:47.359Z"
   },
   {
    "duration": 19,
    "start_time": "2022-03-25T10:00:55.630Z"
   },
   {
    "duration": 19,
    "start_time": "2022-03-25T10:01:04.932Z"
   },
   {
    "duration": 5,
    "start_time": "2022-03-25T10:01:09.653Z"
   },
   {
    "duration": 5,
    "start_time": "2022-03-25T10:01:10.822Z"
   },
   {
    "duration": 5,
    "start_time": "2022-03-25T10:01:10.992Z"
   },
   {
    "duration": 17,
    "start_time": "2022-03-25T10:01:11.320Z"
   },
   {
    "duration": 5,
    "start_time": "2022-03-25T10:01:20.210Z"
   },
   {
    "duration": 42,
    "start_time": "2022-03-25T10:01:21.691Z"
   },
   {
    "duration": 6,
    "start_time": "2022-03-25T10:02:16.383Z"
   },
   {
    "duration": 46,
    "start_time": "2022-03-25T10:02:17.633Z"
   },
   {
    "duration": 5,
    "start_time": "2022-03-25T10:03:07.480Z"
   },
   {
    "duration": 40,
    "start_time": "2022-03-25T10:03:08.591Z"
   },
   {
    "duration": 5,
    "start_time": "2022-03-25T10:03:39.951Z"
   },
   {
    "duration": 32,
    "start_time": "2022-03-25T10:03:40.983Z"
   },
   {
    "duration": 8,
    "start_time": "2022-03-25T10:05:30.940Z"
   },
   {
    "duration": 59,
    "start_time": "2022-03-25T10:05:32.342Z"
   },
   {
    "duration": 112,
    "start_time": "2022-03-25T10:06:16.983Z"
   },
   {
    "duration": 36,
    "start_time": "2022-03-25T10:06:17.187Z"
   },
   {
    "duration": 23,
    "start_time": "2022-03-25T10:06:17.384Z"
   },
   {
    "duration": 6,
    "start_time": "2022-03-25T10:06:22.600Z"
   },
   {
    "duration": 8,
    "start_time": "2022-03-25T10:07:05.074Z"
   },
   {
    "duration": 7,
    "start_time": "2022-03-25T10:07:16.401Z"
   },
   {
    "duration": 39,
    "start_time": "2022-03-25T10:07:19.013Z"
   },
   {
    "duration": 0,
    "start_time": "2022-03-25T10:07:35.793Z"
   },
   {
    "duration": 0,
    "start_time": "2022-03-25T10:07:35.794Z"
   },
   {
    "duration": 1,
    "start_time": "2022-03-25T10:07:35.795Z"
   },
   {
    "duration": 0,
    "start_time": "2022-03-25T10:07:35.797Z"
   },
   {
    "duration": 0,
    "start_time": "2022-03-25T10:07:35.798Z"
   },
   {
    "duration": 0,
    "start_time": "2022-03-25T10:07:35.800Z"
   },
   {
    "duration": 0,
    "start_time": "2022-03-25T10:07:35.801Z"
   },
   {
    "duration": 0,
    "start_time": "2022-03-25T10:07:35.802Z"
   },
   {
    "duration": 0,
    "start_time": "2022-03-25T10:07:35.804Z"
   },
   {
    "duration": 0,
    "start_time": "2022-03-25T10:07:35.805Z"
   },
   {
    "duration": 0,
    "start_time": "2022-03-25T10:07:35.807Z"
   },
   {
    "duration": 0,
    "start_time": "2022-03-25T10:07:35.808Z"
   },
   {
    "duration": 0,
    "start_time": "2022-03-25T10:07:35.809Z"
   },
   {
    "duration": 0,
    "start_time": "2022-03-25T10:07:35.810Z"
   },
   {
    "duration": 0,
    "start_time": "2022-03-25T10:07:35.812Z"
   },
   {
    "duration": 0,
    "start_time": "2022-03-25T10:07:35.814Z"
   },
   {
    "duration": 0,
    "start_time": "2022-03-25T10:07:35.815Z"
   },
   {
    "duration": 0,
    "start_time": "2022-03-25T10:07:35.820Z"
   },
   {
    "duration": 0,
    "start_time": "2022-03-25T10:07:35.821Z"
   },
   {
    "duration": 0,
    "start_time": "2022-03-25T10:07:35.823Z"
   },
   {
    "duration": 0,
    "start_time": "2022-03-25T10:07:35.883Z"
   },
   {
    "duration": 0,
    "start_time": "2022-03-25T10:07:35.885Z"
   },
   {
    "duration": 0,
    "start_time": "2022-03-25T10:07:35.888Z"
   },
   {
    "duration": 0,
    "start_time": "2022-03-25T10:07:35.890Z"
   },
   {
    "duration": 0,
    "start_time": "2022-03-25T10:07:35.893Z"
   },
   {
    "duration": 0,
    "start_time": "2022-03-25T10:07:35.895Z"
   },
   {
    "duration": 0,
    "start_time": "2022-03-25T10:07:35.897Z"
   },
   {
    "duration": 0,
    "start_time": "2022-03-25T10:07:35.898Z"
   },
   {
    "duration": 0,
    "start_time": "2022-03-25T10:07:35.900Z"
   },
   {
    "duration": 0,
    "start_time": "2022-03-25T10:07:35.901Z"
   },
   {
    "duration": 0,
    "start_time": "2022-03-25T10:07:35.903Z"
   },
   {
    "duration": 0,
    "start_time": "2022-03-25T10:07:35.904Z"
   },
   {
    "duration": 0,
    "start_time": "2022-03-25T10:07:35.906Z"
   },
   {
    "duration": 0,
    "start_time": "2022-03-25T10:07:35.907Z"
   },
   {
    "duration": 0,
    "start_time": "2022-03-25T10:07:35.909Z"
   },
   {
    "duration": 0,
    "start_time": "2022-03-25T10:07:35.910Z"
   },
   {
    "duration": 0,
    "start_time": "2022-03-25T10:07:35.911Z"
   },
   {
    "duration": 0,
    "start_time": "2022-03-25T10:07:35.913Z"
   },
   {
    "duration": 2137,
    "start_time": "2022-03-25T10:07:46.188Z"
   },
   {
    "duration": 5,
    "start_time": "2022-03-25T10:07:48.328Z"
   },
   {
    "duration": 37,
    "start_time": "2022-03-25T10:07:48.335Z"
   },
   {
    "duration": 23,
    "start_time": "2022-03-25T10:07:48.375Z"
   },
   {
    "duration": 19,
    "start_time": "2022-03-25T10:07:48.402Z"
   },
   {
    "duration": 13,
    "start_time": "2022-03-25T10:07:48.423Z"
   },
   {
    "duration": 192,
    "start_time": "2022-03-25T10:07:48.438Z"
   },
   {
    "duration": 146,
    "start_time": "2022-03-25T10:07:48.632Z"
   },
   {
    "duration": 150,
    "start_time": "2022-03-25T10:07:48.783Z"
   },
   {
    "duration": 114,
    "start_time": "2022-03-25T10:07:48.936Z"
   },
   {
    "duration": 99,
    "start_time": "2022-03-25T10:07:49.052Z"
   },
   {
    "duration": 814,
    "start_time": "2022-03-25T10:07:49.154Z"
   },
   {
    "duration": 113,
    "start_time": "2022-03-25T10:07:49.970Z"
   },
   {
    "duration": 94,
    "start_time": "2022-03-25T10:07:50.090Z"
   },
   {
    "duration": 945,
    "start_time": "2022-03-25T10:07:50.186Z"
   },
   {
    "duration": 110,
    "start_time": "2022-03-25T10:07:51.133Z"
   },
   {
    "duration": 96,
    "start_time": "2022-03-25T10:07:51.246Z"
   },
   {
    "duration": 893,
    "start_time": "2022-03-25T10:07:51.345Z"
   },
   {
    "duration": 58,
    "start_time": "2022-03-25T10:07:52.240Z"
   },
   {
    "duration": 382,
    "start_time": "2022-03-25T10:07:52.301Z"
   },
   {
    "duration": 597,
    "start_time": "2022-03-25T10:07:52.687Z"
   },
   {
    "duration": 697,
    "start_time": "2022-03-25T10:07:53.287Z"
   },
   {
    "duration": 94,
    "start_time": "2022-03-25T10:07:53.989Z"
   },
   {
    "duration": 98,
    "start_time": "2022-03-25T10:07:54.085Z"
   },
   {
    "duration": 103,
    "start_time": "2022-03-25T10:07:54.187Z"
   },
   {
    "duration": 202,
    "start_time": "2022-03-25T10:07:54.294Z"
   },
   {
    "duration": 85,
    "start_time": "2022-03-25T10:07:54.500Z"
   },
   {
    "duration": 99,
    "start_time": "2022-03-25T10:07:54.591Z"
   },
   {
    "duration": 11,
    "start_time": "2022-03-25T10:07:54.692Z"
   },
   {
    "duration": 21,
    "start_time": "2022-03-25T10:07:54.706Z"
   },
   {
    "duration": 6,
    "start_time": "2022-03-25T10:07:54.731Z"
   },
   {
    "duration": 220,
    "start_time": "2022-03-25T10:07:54.740Z"
   },
   {
    "duration": 0,
    "start_time": "2022-03-25T10:07:54.964Z"
   },
   {
    "duration": 0,
    "start_time": "2022-03-25T10:07:54.967Z"
   },
   {
    "duration": 0,
    "start_time": "2022-03-25T10:07:54.969Z"
   },
   {
    "duration": 0,
    "start_time": "2022-03-25T10:07:54.971Z"
   },
   {
    "duration": 0,
    "start_time": "2022-03-25T10:07:54.972Z"
   },
   {
    "duration": 0,
    "start_time": "2022-03-25T10:07:54.983Z"
   },
   {
    "duration": 6,
    "start_time": "2022-03-25T10:11:13.646Z"
   },
   {
    "duration": 4,
    "start_time": "2022-03-25T10:11:14.538Z"
   },
   {
    "duration": 5,
    "start_time": "2022-03-25T10:11:14.726Z"
   },
   {
    "duration": 17,
    "start_time": "2022-03-25T10:11:15.145Z"
   },
   {
    "duration": 4,
    "start_time": "2022-03-25T10:11:18.738Z"
   },
   {
    "duration": 4,
    "start_time": "2022-03-25T10:11:19.027Z"
   },
   {
    "duration": 2355,
    "start_time": "2022-03-25T10:11:38.673Z"
   },
   {
    "duration": 6,
    "start_time": "2022-03-25T10:11:41.033Z"
   },
   {
    "duration": 28,
    "start_time": "2022-03-25T10:11:41.043Z"
   },
   {
    "duration": 23,
    "start_time": "2022-03-25T10:11:41.074Z"
   },
   {
    "duration": 26,
    "start_time": "2022-03-25T10:11:41.102Z"
   },
   {
    "duration": 39,
    "start_time": "2022-03-25T10:11:41.131Z"
   },
   {
    "duration": 280,
    "start_time": "2022-03-25T10:11:41.173Z"
   },
   {
    "duration": 223,
    "start_time": "2022-03-25T10:11:41.457Z"
   },
   {
    "duration": 190,
    "start_time": "2022-03-25T10:11:41.684Z"
   },
   {
    "duration": 117,
    "start_time": "2022-03-25T10:11:41.876Z"
   },
   {
    "duration": 113,
    "start_time": "2022-03-25T10:11:41.996Z"
   },
   {
    "duration": 1047,
    "start_time": "2022-03-25T10:11:42.112Z"
   },
   {
    "duration": 99,
    "start_time": "2022-03-25T10:11:43.163Z"
   },
   {
    "duration": 77,
    "start_time": "2022-03-25T10:11:43.285Z"
   },
   {
    "duration": 1055,
    "start_time": "2022-03-25T10:11:43.381Z"
   },
   {
    "duration": 119,
    "start_time": "2022-03-25T10:11:44.439Z"
   },
   {
    "duration": 89,
    "start_time": "2022-03-25T10:11:44.560Z"
   },
   {
    "duration": 1272,
    "start_time": "2022-03-25T10:11:44.652Z"
   },
   {
    "duration": 66,
    "start_time": "2022-03-25T10:11:45.927Z"
   },
   {
    "duration": 495,
    "start_time": "2022-03-25T10:11:45.995Z"
   },
   {
    "duration": 594,
    "start_time": "2022-03-25T10:11:46.493Z"
   },
   {
    "duration": 592,
    "start_time": "2022-03-25T10:11:47.091Z"
   },
   {
    "duration": 4,
    "start_time": "2022-03-25T10:11:47.687Z"
   },
   {
    "duration": 133,
    "start_time": "2022-03-25T10:11:47.694Z"
   },
   {
    "duration": 161,
    "start_time": "2022-03-25T10:11:47.830Z"
   },
   {
    "duration": 211,
    "start_time": "2022-03-25T10:11:47.994Z"
   },
   {
    "duration": 185,
    "start_time": "2022-03-25T10:11:48.209Z"
   },
   {
    "duration": 38,
    "start_time": "2022-03-25T10:11:48.396Z"
   },
   {
    "duration": 31,
    "start_time": "2022-03-25T10:11:48.438Z"
   },
   {
    "duration": 44,
    "start_time": "2022-03-25T10:11:48.472Z"
   },
   {
    "duration": 30,
    "start_time": "2022-03-25T10:11:48.519Z"
   },
   {
    "duration": 35,
    "start_time": "2022-03-25T10:11:48.553Z"
   },
   {
    "duration": 324,
    "start_time": "2022-03-25T10:11:48.594Z"
   },
   {
    "duration": 0,
    "start_time": "2022-03-25T10:11:48.922Z"
   },
   {
    "duration": 0,
    "start_time": "2022-03-25T10:11:48.924Z"
   },
   {
    "duration": 0,
    "start_time": "2022-03-25T10:11:48.926Z"
   },
   {
    "duration": 0,
    "start_time": "2022-03-25T10:11:48.928Z"
   },
   {
    "duration": 0,
    "start_time": "2022-03-25T10:11:48.930Z"
   },
   {
    "duration": 0,
    "start_time": "2022-03-25T10:11:48.932Z"
   },
   {
    "duration": 7,
    "start_time": "2022-03-25T10:12:01.075Z"
   },
   {
    "duration": 30,
    "start_time": "2022-03-25T10:12:02.096Z"
   },
   {
    "duration": 2106,
    "start_time": "2022-03-25T10:12:13.019Z"
   },
   {
    "duration": 5,
    "start_time": "2022-03-25T10:12:15.128Z"
   },
   {
    "duration": 10,
    "start_time": "2022-03-25T10:12:15.135Z"
   },
   {
    "duration": 6,
    "start_time": "2022-03-25T10:12:15.149Z"
   },
   {
    "duration": 25,
    "start_time": "2022-03-25T10:12:15.158Z"
   },
   {
    "duration": 11,
    "start_time": "2022-03-25T10:12:15.186Z"
   },
   {
    "duration": 260,
    "start_time": "2022-03-25T10:12:15.200Z"
   },
   {
    "duration": 152,
    "start_time": "2022-03-25T10:12:15.463Z"
   },
   {
    "duration": 160,
    "start_time": "2022-03-25T10:12:15.618Z"
   },
   {
    "duration": 116,
    "start_time": "2022-03-25T10:12:15.786Z"
   },
   {
    "duration": 106,
    "start_time": "2022-03-25T10:12:15.905Z"
   },
   {
    "duration": 836,
    "start_time": "2022-03-25T10:12:16.014Z"
   },
   {
    "duration": 133,
    "start_time": "2022-03-25T10:12:16.852Z"
   },
   {
    "duration": 116,
    "start_time": "2022-03-25T10:12:16.988Z"
   },
   {
    "duration": 1330,
    "start_time": "2022-03-25T10:12:17.107Z"
   },
   {
    "duration": 149,
    "start_time": "2022-03-25T10:12:18.440Z"
   },
   {
    "duration": 101,
    "start_time": "2022-03-25T10:12:18.592Z"
   },
   {
    "duration": 896,
    "start_time": "2022-03-25T10:12:18.696Z"
   },
   {
    "duration": 57,
    "start_time": "2022-03-25T10:12:19.595Z"
   },
   {
    "duration": 1138,
    "start_time": "2022-03-25T10:12:19.654Z"
   },
   {
    "duration": 603,
    "start_time": "2022-03-25T10:12:20.881Z"
   },
   {
    "duration": 600,
    "start_time": "2022-03-25T10:12:21.487Z"
   },
   {
    "duration": 5,
    "start_time": "2022-03-25T10:12:22.090Z"
   },
   {
    "duration": 188,
    "start_time": "2022-03-25T10:12:22.097Z"
   },
   {
    "duration": 208,
    "start_time": "2022-03-25T10:12:22.288Z"
   },
   {
    "duration": 188,
    "start_time": "2022-03-25T10:12:22.500Z"
   },
   {
    "duration": 94,
    "start_time": "2022-03-25T10:12:22.692Z"
   },
   {
    "duration": 90,
    "start_time": "2022-03-25T10:12:22.794Z"
   },
   {
    "duration": 14,
    "start_time": "2022-03-25T10:12:22.887Z"
   },
   {
    "duration": 52,
    "start_time": "2022-03-25T10:12:22.904Z"
   },
   {
    "duration": 10,
    "start_time": "2022-03-25T10:12:22.958Z"
   },
   {
    "duration": 177,
    "start_time": "2022-03-25T10:12:22.971Z"
   },
   {
    "duration": 0,
    "start_time": "2022-03-25T10:12:23.151Z"
   },
   {
    "duration": 0,
    "start_time": "2022-03-25T10:12:23.154Z"
   },
   {
    "duration": 0,
    "start_time": "2022-03-25T10:12:23.155Z"
   },
   {
    "duration": 0,
    "start_time": "2022-03-25T10:12:23.157Z"
   },
   {
    "duration": 0,
    "start_time": "2022-03-25T10:12:23.158Z"
   },
   {
    "duration": 0,
    "start_time": "2022-03-25T10:12:23.160Z"
   },
   {
    "duration": 5,
    "start_time": "2022-03-25T10:12:41.806Z"
   },
   {
    "duration": 42,
    "start_time": "2022-03-25T10:12:43.096Z"
   },
   {
    "duration": 1933,
    "start_time": "2022-03-25T10:13:47.516Z"
   },
   {
    "duration": 6,
    "start_time": "2022-03-25T10:13:49.452Z"
   },
   {
    "duration": 22,
    "start_time": "2022-03-25T10:13:49.460Z"
   },
   {
    "duration": 4,
    "start_time": "2022-03-25T10:13:49.485Z"
   },
   {
    "duration": 13,
    "start_time": "2022-03-25T10:13:49.491Z"
   },
   {
    "duration": 155,
    "start_time": "2022-03-25T10:13:49.507Z"
   },
   {
    "duration": 149,
    "start_time": "2022-03-25T10:13:49.664Z"
   },
   {
    "duration": 144,
    "start_time": "2022-03-25T10:13:49.815Z"
   },
   {
    "duration": 99,
    "start_time": "2022-03-25T10:13:49.962Z"
   },
   {
    "duration": 86,
    "start_time": "2022-03-25T10:13:50.063Z"
   },
   {
    "duration": 760,
    "start_time": "2022-03-25T10:13:50.294Z"
   },
   {
    "duration": 96,
    "start_time": "2022-03-25T10:13:51.057Z"
   },
   {
    "duration": 90,
    "start_time": "2022-03-25T10:13:51.156Z"
   },
   {
    "duration": 843,
    "start_time": "2022-03-25T10:13:51.816Z"
   },
   {
    "duration": 95,
    "start_time": "2022-03-25T10:13:52.663Z"
   },
   {
    "duration": 73,
    "start_time": "2022-03-25T10:13:52.783Z"
   },
   {
    "duration": 835,
    "start_time": "2022-03-25T10:13:53.695Z"
   },
   {
    "duration": 44,
    "start_time": "2022-03-25T10:13:59.216Z"
   },
   {
    "duration": 685,
    "start_time": "2022-03-25T10:14:18.702Z"
   },
   {
    "duration": 693,
    "start_time": "2022-03-25T10:14:19.391Z"
   },
   {
    "duration": 980,
    "start_time": "2022-03-25T10:14:27.403Z"
   },
   {
    "duration": 475,
    "start_time": "2022-03-25T10:14:46.312Z"
   },
   {
    "duration": 526,
    "start_time": "2022-03-25T10:14:54.062Z"
   },
   {
    "duration": 596,
    "start_time": "2022-03-25T10:14:54.592Z"
   },
   {
    "duration": 564,
    "start_time": "2022-03-25T10:15:12.418Z"
   },
   {
    "duration": 360,
    "start_time": "2022-03-25T10:15:16.424Z"
   },
   {
    "duration": 526,
    "start_time": "2022-03-25T10:15:19.862Z"
   },
   {
    "duration": 670,
    "start_time": "2022-03-25T10:15:41.430Z"
   },
   {
    "duration": 906,
    "start_time": "2022-03-25T10:15:42.186Z"
   },
   {
    "duration": 5,
    "start_time": "2022-03-25T10:15:56.572Z"
   },
   {
    "duration": 4,
    "start_time": "2022-03-25T10:16:16.855Z"
   },
   {
    "duration": 4,
    "start_time": "2022-03-25T10:16:24.173Z"
   },
   {
    "duration": 5,
    "start_time": "2022-03-25T10:16:26.543Z"
   },
   {
    "duration": 14,
    "start_time": "2022-03-25T10:16:28.261Z"
   },
   {
    "duration": 7,
    "start_time": "2022-03-25T10:16:59.183Z"
   },
   {
    "duration": 8,
    "start_time": "2022-03-25T10:17:04.031Z"
   },
   {
    "duration": 13,
    "start_time": "2022-03-25T10:17:07.134Z"
   },
   {
    "duration": 10,
    "start_time": "2022-03-25T10:17:10.554Z"
   },
   {
    "duration": 11,
    "start_time": "2022-03-25T10:17:11.383Z"
   },
   {
    "duration": 10,
    "start_time": "2022-03-25T10:17:23.844Z"
   },
   {
    "duration": 165,
    "start_time": "2022-03-25T10:18:05.375Z"
   },
   {
    "duration": 11,
    "start_time": "2022-03-25T10:18:14.451Z"
   },
   {
    "duration": 10,
    "start_time": "2022-03-25T10:18:16.741Z"
   },
   {
    "duration": 10,
    "start_time": "2022-03-25T10:18:17.292Z"
   },
   {
    "duration": 10,
    "start_time": "2022-03-25T10:18:38.861Z"
   },
   {
    "duration": 1809,
    "start_time": "2022-03-25T10:18:41.002Z"
   },
   {
    "duration": 1383,
    "start_time": "2022-03-25T10:18:43.890Z"
   },
   {
    "duration": 1431,
    "start_time": "2022-03-25T10:18:45.276Z"
   },
   {
    "duration": 2198,
    "start_time": "2022-03-25T10:26:03.129Z"
   },
   {
    "duration": 4,
    "start_time": "2022-03-25T10:26:05.330Z"
   },
   {
    "duration": 42,
    "start_time": "2022-03-25T10:26:05.337Z"
   },
   {
    "duration": 35,
    "start_time": "2022-03-25T10:26:05.381Z"
   },
   {
    "duration": 23,
    "start_time": "2022-03-25T10:26:05.419Z"
   },
   {
    "duration": 172,
    "start_time": "2022-03-25T10:26:05.444Z"
   },
   {
    "duration": 145,
    "start_time": "2022-03-25T10:26:05.619Z"
   },
   {
    "duration": 147,
    "start_time": "2022-03-25T10:26:05.766Z"
   },
   {
    "duration": 141,
    "start_time": "2022-03-25T10:26:05.916Z"
   },
   {
    "duration": 87,
    "start_time": "2022-03-25T10:26:06.060Z"
   },
   {
    "duration": 765,
    "start_time": "2022-03-25T10:26:06.150Z"
   },
   {
    "duration": 137,
    "start_time": "2022-03-25T10:26:06.919Z"
   },
   {
    "duration": 106,
    "start_time": "2022-03-25T10:26:07.059Z"
   },
   {
    "duration": 873,
    "start_time": "2022-03-25T10:26:07.181Z"
   },
   {
    "duration": 98,
    "start_time": "2022-03-25T10:26:08.056Z"
   },
   {
    "duration": 88,
    "start_time": "2022-03-25T10:26:08.156Z"
   },
   {
    "duration": 844,
    "start_time": "2022-03-25T10:26:08.246Z"
   },
   {
    "duration": 44,
    "start_time": "2022-03-25T10:26:09.092Z"
   },
   {
    "duration": 551,
    "start_time": "2022-03-25T10:26:09.138Z"
   },
   {
    "duration": 798,
    "start_time": "2022-03-25T10:26:09.692Z"
   },
   {
    "duration": 698,
    "start_time": "2022-03-25T10:26:10.494Z"
   },
   {
    "duration": 5,
    "start_time": "2022-03-25T10:26:11.285Z"
   },
   {
    "duration": 33,
    "start_time": "2022-03-25T10:26:11.382Z"
   },
   {
    "duration": 28,
    "start_time": "2022-03-25T10:26:11.418Z"
   },
   {
    "duration": 51,
    "start_time": "2022-03-25T10:26:11.449Z"
   },
   {
    "duration": 20,
    "start_time": "2022-03-25T10:26:11.503Z"
   },
   {
    "duration": 17,
    "start_time": "2022-03-25T10:26:11.526Z"
   },
   {
    "duration": 12,
    "start_time": "2022-03-25T10:26:11.546Z"
   },
   {
    "duration": 24,
    "start_time": "2022-03-25T10:26:11.560Z"
   },
   {
    "duration": 7,
    "start_time": "2022-03-25T10:26:11.588Z"
   },
   {
    "duration": 1264,
    "start_time": "2022-03-25T10:26:11.598Z"
   },
   {
    "duration": 1381,
    "start_time": "2022-03-25T10:26:12.865Z"
   },
   {
    "duration": 1393,
    "start_time": "2022-03-25T10:26:14.249Z"
   },
   {
    "duration": 7,
    "start_time": "2022-03-25T10:28:52.898Z"
   },
   {
    "duration": 1245,
    "start_time": "2022-03-25T10:28:53.618Z"
   },
   {
    "duration": 1372,
    "start_time": "2022-03-25T10:28:55.650Z"
   },
   {
    "duration": 1450,
    "start_time": "2022-03-25T10:28:57.025Z"
   },
   {
    "duration": 5,
    "start_time": "2022-03-25T10:28:58.483Z"
   },
   {
    "duration": 174,
    "start_time": "2022-03-25T10:28:58.491Z"
   },
   {
    "duration": 4,
    "start_time": "2022-03-25T10:31:46.578Z"
   },
   {
    "duration": 6,
    "start_time": "2022-03-25T10:31:51.987Z"
   },
   {
    "duration": 28,
    "start_time": "2022-03-25T10:32:17.698Z"
   },
   {
    "duration": 6,
    "start_time": "2022-03-25T10:32:22.859Z"
   },
   {
    "duration": 5,
    "start_time": "2022-03-25T10:32:40.949Z"
   },
   {
    "duration": 77,
    "start_time": "2022-03-25T10:32:55.809Z"
   },
   {
    "duration": 5,
    "start_time": "2022-03-25T10:33:25.428Z"
   },
   {
    "duration": 54,
    "start_time": "2022-03-25T10:33:33.330Z"
   },
   {
    "duration": 18,
    "start_time": "2022-03-25T10:33:47.916Z"
   },
   {
    "duration": 27,
    "start_time": "2022-03-25T10:34:16.209Z"
   },
   {
    "duration": 2081,
    "start_time": "2022-03-25T10:34:25.839Z"
   },
   {
    "duration": 5,
    "start_time": "2022-03-25T10:34:27.923Z"
   },
   {
    "duration": 8,
    "start_time": "2022-03-25T10:34:27.931Z"
   },
   {
    "duration": 15,
    "start_time": "2022-03-25T10:34:27.942Z"
   },
   {
    "duration": 5,
    "start_time": "2022-03-25T10:34:28.960Z"
   },
   {
    "duration": 5,
    "start_time": "2022-03-25T10:34:43.780Z"
   },
   {
    "duration": 150,
    "start_time": "2022-03-25T10:34:44.501Z"
   },
   {
    "duration": 145,
    "start_time": "2022-03-25T10:34:44.972Z"
   },
   {
    "duration": 142,
    "start_time": "2022-03-25T10:34:45.151Z"
   },
   {
    "duration": 98,
    "start_time": "2022-03-25T10:34:45.641Z"
   },
   {
    "duration": 76,
    "start_time": "2022-03-25T10:34:45.809Z"
   },
   {
    "duration": 763,
    "start_time": "2022-03-25T10:34:46.292Z"
   },
   {
    "duration": 144,
    "start_time": "2022-03-25T10:34:47.059Z"
   },
   {
    "duration": 95,
    "start_time": "2022-03-25T10:34:47.206Z"
   },
   {
    "duration": 1415,
    "start_time": "2022-03-25T10:34:47.582Z"
   },
   {
    "duration": 146,
    "start_time": "2022-03-25T10:34:49.001Z"
   },
   {
    "duration": 113,
    "start_time": "2022-03-25T10:34:49.150Z"
   },
   {
    "duration": 911,
    "start_time": "2022-03-25T10:34:49.266Z"
   },
   {
    "duration": 6,
    "start_time": "2022-03-25T10:34:50.210Z"
   },
   {
    "duration": 47,
    "start_time": "2022-03-25T10:34:51.520Z"
   },
   {
    "duration": 166,
    "start_time": "2022-03-25T10:34:52.291Z"
   },
   {
    "duration": 8,
    "start_time": "2022-03-25T10:35:00.821Z"
   },
   {
    "duration": 59,
    "start_time": "2022-03-25T10:35:04.639Z"
   },
   {
    "duration": 372,
    "start_time": "2022-03-25T10:35:04.711Z"
   },
   {
    "duration": 16,
    "start_time": "2022-03-25T10:35:06.161Z"
   },
   {
    "duration": 373,
    "start_time": "2022-03-25T10:35:06.511Z"
   },
   {
    "duration": 101,
    "start_time": "2022-03-25T10:35:06.888Z"
   },
   {
    "duration": 599,
    "start_time": "2022-03-25T10:35:06.993Z"
   },
   {
    "duration": 187,
    "start_time": "2022-03-25T10:35:07.596Z"
   },
   {
    "duration": 4,
    "start_time": "2022-03-25T10:35:13.831Z"
   },
   {
    "duration": 4,
    "start_time": "2022-03-25T10:35:15.549Z"
   },
   {
    "duration": 5,
    "start_time": "2022-03-25T10:35:16.371Z"
   },
   {
    "duration": 17,
    "start_time": "2022-03-25T10:35:26.140Z"
   },
   {
    "duration": 18,
    "start_time": "2022-03-25T10:35:38.100Z"
   },
   {
    "duration": 18,
    "start_time": "2022-03-25T10:35:48.899Z"
   },
   {
    "duration": 6,
    "start_time": "2022-03-25T10:36:15.600Z"
   },
   {
    "duration": 5,
    "start_time": "2022-03-25T10:36:23.620Z"
   },
   {
    "duration": 11,
    "start_time": "2022-03-25T10:36:24.651Z"
   },
   {
    "duration": 11,
    "start_time": "2022-03-25T10:36:36.901Z"
   },
   {
    "duration": 12,
    "start_time": "2022-03-25T10:36:37.700Z"
   },
   {
    "duration": 8,
    "start_time": "2022-03-25T10:36:41.547Z"
   },
   {
    "duration": 1986,
    "start_time": "2022-03-25T10:36:47.662Z"
   },
   {
    "duration": 1262,
    "start_time": "2022-03-25T10:36:55.221Z"
   },
   {
    "duration": 1389,
    "start_time": "2022-03-25T10:36:59.938Z"
   },
   {
    "duration": 1969,
    "start_time": "2022-03-25T10:37:11.043Z"
   },
   {
    "duration": 4,
    "start_time": "2022-03-25T10:37:13.015Z"
   },
   {
    "duration": 32,
    "start_time": "2022-03-25T10:37:13.021Z"
   },
   {
    "duration": 34,
    "start_time": "2022-03-25T10:37:13.055Z"
   },
   {
    "duration": 23,
    "start_time": "2022-03-25T10:37:13.093Z"
   },
   {
    "duration": 12,
    "start_time": "2022-03-25T10:37:13.118Z"
   },
   {
    "duration": 18,
    "start_time": "2022-03-25T10:37:13.132Z"
   },
   {
    "duration": 177,
    "start_time": "2022-03-25T10:37:13.153Z"
   },
   {
    "duration": 143,
    "start_time": "2022-03-25T10:37:13.333Z"
   },
   {
    "duration": 151,
    "start_time": "2022-03-25T10:37:13.478Z"
   },
   {
    "duration": 111,
    "start_time": "2022-03-25T10:37:13.631Z"
   },
   {
    "duration": 94,
    "start_time": "2022-03-25T10:37:13.745Z"
   },
   {
    "duration": 778,
    "start_time": "2022-03-25T10:37:13.841Z"
   },
   {
    "duration": 111,
    "start_time": "2022-03-25T10:37:14.626Z"
   },
   {
    "duration": 93,
    "start_time": "2022-03-25T10:37:14.739Z"
   },
   {
    "duration": 906,
    "start_time": "2022-03-25T10:37:14.835Z"
   },
   {
    "duration": 103,
    "start_time": "2022-03-25T10:37:15.743Z"
   },
   {
    "duration": 95,
    "start_time": "2022-03-25T10:37:15.848Z"
   },
   {
    "duration": 856,
    "start_time": "2022-03-25T10:37:15.946Z"
   },
   {
    "duration": 6,
    "start_time": "2022-03-25T10:37:16.805Z"
   },
   {
    "duration": 68,
    "start_time": "2022-03-25T10:37:16.814Z"
   },
   {
    "duration": 915,
    "start_time": "2022-03-25T10:37:16.885Z"
   },
   {
    "duration": 116,
    "start_time": "2022-03-25T10:37:17.884Z"
   },
   {
    "duration": 1089,
    "start_time": "2022-03-25T10:37:18.004Z"
   },
   {
    "duration": 203,
    "start_time": "2022-03-25T10:37:19.098Z"
   },
   {
    "duration": 896,
    "start_time": "2022-03-25T10:37:19.386Z"
   },
   {
    "duration": 110,
    "start_time": "2022-03-25T10:37:20.287Z"
   },
   {
    "duration": 189,
    "start_time": "2022-03-25T10:37:20.400Z"
   },
   {
    "duration": 11,
    "start_time": "2022-03-25T10:37:20.592Z"
   },
   {
    "duration": 13,
    "start_time": "2022-03-25T10:37:20.605Z"
   },
   {
    "duration": 20,
    "start_time": "2022-03-25T10:37:20.622Z"
   },
   {
    "duration": 6,
    "start_time": "2022-03-25T10:37:20.645Z"
   },
   {
    "duration": 35,
    "start_time": "2022-03-25T10:37:20.654Z"
   },
   {
    "duration": 12,
    "start_time": "2022-03-25T10:37:20.691Z"
   },
   {
    "duration": 25,
    "start_time": "2022-03-25T10:37:20.705Z"
   },
   {
    "duration": 11,
    "start_time": "2022-03-25T10:37:20.733Z"
   },
   {
    "duration": 1337,
    "start_time": "2022-03-25T10:37:20.747Z"
   },
   {
    "duration": 1280,
    "start_time": "2022-03-25T10:37:22.087Z"
   },
   {
    "duration": 1273,
    "start_time": "2022-03-25T10:37:23.370Z"
   },
   {
    "duration": 758,
    "start_time": "2022-03-25T10:38:27.837Z"
   },
   {
    "duration": 811,
    "start_time": "2022-03-25T10:38:28.683Z"
   },
   {
    "duration": 991,
    "start_time": "2022-03-25T10:38:29.498Z"
   },
   {
    "duration": 21,
    "start_time": "2022-03-25T10:38:36.348Z"
   },
   {
    "duration": 23,
    "start_time": "2022-03-25T10:38:36.617Z"
   },
   {
    "duration": 17,
    "start_time": "2022-03-25T10:38:36.837Z"
   },
   {
    "duration": 4,
    "start_time": "2022-03-25T10:39:05.767Z"
   },
   {
    "duration": 6,
    "start_time": "2022-03-25T10:47:51.395Z"
   },
   {
    "duration": 2125,
    "start_time": "2022-03-25T10:50:10.441Z"
   },
   {
    "duration": 158,
    "start_time": "2022-03-25T10:50:12.570Z"
   },
   {
    "duration": 145,
    "start_time": "2022-03-25T10:50:12.731Z"
   },
   {
    "duration": 151,
    "start_time": "2022-03-25T10:50:12.882Z"
   },
   {
    "duration": 6,
    "start_time": "2022-03-25T10:50:13.036Z"
   },
   {
    "duration": 7,
    "start_time": "2022-03-25T10:50:13.045Z"
   },
   {
    "duration": 34,
    "start_time": "2022-03-25T10:50:13.054Z"
   },
   {
    "duration": 115,
    "start_time": "2022-03-25T10:50:13.092Z"
   },
   {
    "duration": 94,
    "start_time": "2022-03-25T10:50:13.209Z"
   },
   {
    "duration": 804,
    "start_time": "2022-03-25T10:50:13.307Z"
   },
   {
    "duration": 107,
    "start_time": "2022-03-25T10:50:14.115Z"
   },
   {
    "duration": 92,
    "start_time": "2022-03-25T10:50:14.224Z"
   },
   {
    "duration": 890,
    "start_time": "2022-03-25T10:50:14.568Z"
   },
   {
    "duration": 95,
    "start_time": "2022-03-25T10:50:15.461Z"
   },
   {
    "duration": 94,
    "start_time": "2022-03-25T10:50:15.559Z"
   },
   {
    "duration": 863,
    "start_time": "2022-03-25T10:50:15.881Z"
   },
   {
    "duration": 5,
    "start_time": "2022-03-25T10:50:26.121Z"
   },
   {
    "duration": 6,
    "start_time": "2022-03-25T10:50:26.739Z"
   },
   {
    "duration": 5,
    "start_time": "2022-03-25T10:50:27.160Z"
   },
   {
    "duration": 48,
    "start_time": "2022-03-25T10:50:28.076Z"
   },
   {
    "duration": 814,
    "start_time": "2022-03-25T10:50:30.188Z"
   },
   {
    "duration": 699,
    "start_time": "2022-03-25T10:50:31.085Z"
   },
   {
    "duration": 824,
    "start_time": "2022-03-25T10:50:31.865Z"
   },
   {
    "duration": 191,
    "start_time": "2022-03-25T10:50:32.694Z"
   },
   {
    "duration": 210,
    "start_time": "2022-03-25T10:50:32.888Z"
   },
   {
    "duration": 16,
    "start_time": "2022-03-25T10:50:34.496Z"
   },
   {
    "duration": 4,
    "start_time": "2022-03-25T10:50:37.728Z"
   },
   {
    "duration": 4,
    "start_time": "2022-03-25T10:50:38.578Z"
   },
   {
    "duration": 4,
    "start_time": "2022-03-25T10:50:38.796Z"
   },
   {
    "duration": 15,
    "start_time": "2022-03-25T10:50:39.195Z"
   },
   {
    "duration": 5,
    "start_time": "2022-03-25T10:50:41.109Z"
   },
   {
    "duration": 10,
    "start_time": "2022-03-25T10:50:41.194Z"
   },
   {
    "duration": 10,
    "start_time": "2022-03-25T10:50:41.578Z"
   },
   {
    "duration": 11,
    "start_time": "2022-03-25T10:50:41.949Z"
   },
   {
    "duration": 7,
    "start_time": "2022-03-25T10:50:43.867Z"
   },
   {
    "duration": 1330,
    "start_time": "2022-03-25T10:50:44.449Z"
   },
   {
    "duration": 1290,
    "start_time": "2022-03-25T10:50:45.784Z"
   },
   {
    "duration": 1319,
    "start_time": "2022-03-25T10:50:47.084Z"
   }
  ],
  "kernelspec": {
   "display_name": "Python 3 (ipykernel)",
   "language": "python",
   "name": "python3"
  },
  "language_info": {
   "codemirror_mode": {
    "name": "ipython",
    "version": 3
   },
   "file_extension": ".py",
   "mimetype": "text/x-python",
   "name": "python",
   "nbconvert_exporter": "python",
   "pygments_lexer": "ipython3",
   "version": "3.8.12"
  },
  "toc": {
   "base_numbering": 1,
   "nav_menu": {},
   "number_sections": true,
   "sideBar": true,
   "skip_h1_title": true,
   "title_cell": "Table of Contents",
   "title_sidebar": "Contents",
   "toc_cell": false,
   "toc_position": {},
   "toc_section_display": true,
   "toc_window_display": true
  }
 },
 "nbformat": 4,
 "nbformat_minor": 2
}
